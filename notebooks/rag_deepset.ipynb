{
 "cells": [
  {
   "cell_type": "code",
   "execution_count": 1,
   "metadata": {},
   "outputs": [],
   "source": [
    "import os\n",
    "import re\n",
    "import json"
   ]
  },
  {
   "cell_type": "code",
   "execution_count": 72,
   "metadata": {},
   "outputs": [],
   "source": [
    "import logging\n",
    "\n",
    "logging.basicConfig(format=\"%(levelname)s - %(name)s -  %(message)s\", level=logging.WARNING)\n",
    "logging.getLogger(\"haystack\").setLevel(logging.INFO)"
   ]
  },
  {
   "cell_type": "markdown",
   "metadata": {},
   "source": [
    "## Data Loading"
   ]
  },
  {
   "cell_type": "code",
   "execution_count": 2,
   "metadata": {},
   "outputs": [],
   "source": [
    "import pandas as pd"
   ]
  },
  {
   "cell_type": "code",
   "execution_count": 3,
   "metadata": {},
   "outputs": [
    {
     "name": "stdout",
     "output_type": "stream",
     "text": [
      "<class 'pandas.core.frame.DataFrame'>\n",
      "RangeIndex: 10 entries, 0 to 9\n",
      "Data columns (total 30 columns):\n",
      " #   Column                Non-Null Count  Dtype  \n",
      "---  ------                --------------  -----  \n",
      " 0   id                    10 non-null     object \n",
      " 1   district              10 non-null     object \n",
      " 2   city                  10 non-null     object \n",
      " 3   description           10 non-null     object \n",
      " 4   url                   10 non-null     object \n",
      " 5   price                 10 non-null     float64\n",
      " 6   carport               10 non-null     int32  \n",
      " 7   dapur                 10 non-null     int32  \n",
      " 8   daya_listrik          10 non-null     float32\n",
      " 9   facility_ac           10 non-null     float64\n",
      " 10  facility_keamanan     10 non-null     float64\n",
      " 11  facility_laundry      10 non-null     float64\n",
      " 12  facility_masjid       10 non-null     float64\n",
      " 13  house_mat_bata_hebel  10 non-null     float64\n",
      " 14  house_mat_bata_merah  10 non-null     float64\n",
      " 15  jumlah_lantai         10 non-null     int32  \n",
      " 16  kamar_mandi           10 non-null     int32  \n",
      " 17  kamar_mandi_pembantu  10 non-null     int32  \n",
      " 18  kamar_pembantu        10 non-null     int32  \n",
      " 19  kamar_tidur           10 non-null     int32  \n",
      " 20  lebar_jalan           10 non-null     float32\n",
      " 21  luas_bangunan         10 non-null     float32\n",
      " 22  luas_tanah            10 non-null     float32\n",
      " 23  ruang_makan           10 non-null     int32  \n",
      " 24  ruang_tamu            10 non-null     int32  \n",
      " 25  tag_cash_bertahap     10 non-null     float64\n",
      " 26  tag_komplek           10 non-null     float64\n",
      " 27  tag_kpr               10 non-null     float64\n",
      " 28  tag_perumahan         10 non-null     float64\n",
      " 29  tahun_dibangun        10 non-null     int32  \n",
      "dtypes: float32(4), float64(11), int32(10), object(5)\n",
      "memory usage: 1.9+ KB\n"
     ]
    }
   ],
   "source": [
    "df = pd.read_parquet(\"../dataset/curated/marts_llm_houses.parquet\")\n",
    "df.info()"
   ]
  },
  {
   "cell_type": "code",
   "execution_count": 4,
   "metadata": {},
   "outputs": [
    {
     "data": {
      "text/html": [
       "<div>\n",
       "<style scoped>\n",
       "    .dataframe tbody tr th:only-of-type {\n",
       "        vertical-align: middle;\n",
       "    }\n",
       "\n",
       "    .dataframe tbody tr th {\n",
       "        vertical-align: top;\n",
       "    }\n",
       "\n",
       "    .dataframe thead th {\n",
       "        text-align: right;\n",
       "    }\n",
       "</style>\n",
       "<table border=\"1\" class=\"dataframe\">\n",
       "  <thead>\n",
       "    <tr style=\"text-align: right;\">\n",
       "      <th></th>\n",
       "      <th>id</th>\n",
       "      <th>district</th>\n",
       "      <th>city</th>\n",
       "      <th>description</th>\n",
       "      <th>url</th>\n",
       "      <th>price</th>\n",
       "      <th>carport</th>\n",
       "      <th>dapur</th>\n",
       "      <th>daya_listrik</th>\n",
       "      <th>facility_ac</th>\n",
       "      <th>...</th>\n",
       "      <th>lebar_jalan</th>\n",
       "      <th>luas_bangunan</th>\n",
       "      <th>luas_tanah</th>\n",
       "      <th>ruang_makan</th>\n",
       "      <th>ruang_tamu</th>\n",
       "      <th>tag_cash_bertahap</th>\n",
       "      <th>tag_komplek</th>\n",
       "      <th>tag_kpr</th>\n",
       "      <th>tag_perumahan</th>\n",
       "      <th>tahun_dibangun</th>\n",
       "    </tr>\n",
       "  </thead>\n",
       "  <tbody>\n",
       "    <tr>\n",
       "      <th>0</th>\n",
       "      <td>hos15767028</td>\n",
       "      <td>Sentul City</td>\n",
       "      <td>Bogor</td>\n",
       "      <td>Dekat Fasilitas Bisnis dan Hutan Hijau Sejuk M...</td>\n",
       "      <td>https://www.rumah123.com/properti/bogor/hos157...</td>\n",
       "      <td>850.0</td>\n",
       "      <td>1</td>\n",
       "      <td>1</td>\n",
       "      <td>2200.0</td>\n",
       "      <td>2.0</td>\n",
       "      <td>...</td>\n",
       "      <td>3.0</td>\n",
       "      <td>60.0</td>\n",
       "      <td>90.0</td>\n",
       "      <td>1</td>\n",
       "      <td>1</td>\n",
       "      <td>0.0</td>\n",
       "      <td>1.0</td>\n",
       "      <td>1.0</td>\n",
       "      <td>1.0</td>\n",
       "      <td>0</td>\n",
       "    </tr>\n",
       "    <tr>\n",
       "      <th>1</th>\n",
       "      <td>hos16035504</td>\n",
       "      <td>Bojong Gede</td>\n",
       "      <td>Bogor</td>\n",
       "      <td>Luas Tanah : 72\\nLuas Bangunan : 40\\nKamar Tid...</td>\n",
       "      <td>https://www.rumah123.com/properti/bogor/hos160...</td>\n",
       "      <td>563.0</td>\n",
       "      <td>1</td>\n",
       "      <td>1</td>\n",
       "      <td>1300.0</td>\n",
       "      <td>2.0</td>\n",
       "      <td>...</td>\n",
       "      <td>3.0</td>\n",
       "      <td>40.0</td>\n",
       "      <td>72.0</td>\n",
       "      <td>0</td>\n",
       "      <td>0</td>\n",
       "      <td>1.0</td>\n",
       "      <td>0.0</td>\n",
       "      <td>1.0</td>\n",
       "      <td>0.0</td>\n",
       "      <td>2023</td>\n",
       "    </tr>\n",
       "  </tbody>\n",
       "</table>\n",
       "<p>2 rows × 30 columns</p>\n",
       "</div>"
      ],
      "text/plain": [
       "            id     district   city  \\\n",
       "0  hos15767028  Sentul City  Bogor   \n",
       "1  hos16035504  Bojong Gede  Bogor   \n",
       "\n",
       "                                         description  \\\n",
       "0  Dekat Fasilitas Bisnis dan Hutan Hijau Sejuk M...   \n",
       "1  Luas Tanah : 72\\nLuas Bangunan : 40\\nKamar Tid...   \n",
       "\n",
       "                                                 url  price  carport  dapur  \\\n",
       "0  https://www.rumah123.com/properti/bogor/hos157...  850.0        1      1   \n",
       "1  https://www.rumah123.com/properti/bogor/hos160...  563.0        1      1   \n",
       "\n",
       "   daya_listrik  facility_ac  ...  lebar_jalan  luas_bangunan  luas_tanah  \\\n",
       "0        2200.0          2.0  ...          3.0           60.0        90.0   \n",
       "1        1300.0          2.0  ...          3.0           40.0        72.0   \n",
       "\n",
       "   ruang_makan  ruang_tamu  tag_cash_bertahap  tag_komplek  tag_kpr  \\\n",
       "0            1           1                0.0          1.0      1.0   \n",
       "1            0           0                1.0          0.0      1.0   \n",
       "\n",
       "   tag_perumahan  tahun_dibangun  \n",
       "0            1.0               0  \n",
       "1            0.0            2023  \n",
       "\n",
       "[2 rows x 30 columns]"
      ]
     },
     "execution_count": 4,
     "metadata": {},
     "output_type": "execute_result"
    }
   ],
   "source": [
    "df.head(2)"
   ]
  },
  {
   "cell_type": "markdown",
   "metadata": {},
   "source": [
    "## Preprocessor"
   ]
  },
  {
   "cell_type": "code",
   "execution_count": 5,
   "metadata": {},
   "outputs": [],
   "source": [
    "from jinja2 import Environment, FileSystemLoader, select_autoescape"
   ]
  },
  {
   "cell_type": "code",
   "execution_count": 6,
   "metadata": {},
   "outputs": [],
   "source": [
    "def norm_description(s: str) -> str:\n",
    "      # remove emojis\n",
    "    s = s.encode('ascii', 'ignore').decode('ascii')\n",
    "    \n",
    "    # remove non-ascii characters\n",
    "    s = re.sub(r'[^\\x00-\\x7F]+', '', s)\n",
    "\n",
    "    # convert newlines to full stops\n",
    "    s = s.replace('\\n', '. ')\n",
    "\n",
    "    # remove multiple spaces\n",
    "    s = re.sub(r'\\s+', ' ', s)\n",
    "\n",
    "    # remove space before punctuation\n",
    "    s = re.sub(r'\\s([?.!:\"](?:\\s|$))', r'\\1', s)\n",
    "\n",
    "    # remove double punctuation\n",
    "    s = re.sub(r'([?.!\"])([?.!\"])+', r'\\1', s)\n",
    "    \n",
    "    return s\n",
    "\n",
    "def norm_facilities(tp) -> str:\n",
    "    s = \"\"\n",
    "\n",
    "    if tp.facility_ac > 0:\n",
    "        s += \"AC, \"\n",
    "    if tp.facility_keamanan > 0:\n",
    "        s += \"keamanan/satpam, \"\n",
    "    if tp.facility_laundry > 0:\n",
    "        s += \"laundry, \"\n",
    "    if tp.facility_masjid > 0:\n",
    "        s += \"masjid, \"\n",
    "    if tp.ruang_makan > 0:\n",
    "        s += \"ruang makan, \"\n",
    "    if tp.ruang_tamu > 0:\n",
    "        s += \"ruang tamu, \"\n",
    "\n",
    "    if s == \"\":\n",
    "        return \"tidak disebutkan\"\n",
    "\n",
    "    return s[:-2]\n",
    "\n",
    "def norm_house_mat(tp) -> str:\n",
    "    s = \"\"\n",
    "\n",
    "    if tp.house_mat_bata_hebel > 0:\n",
    "        s += \"bata hebel, \"\n",
    "    if tp.house_mat_bata_merah > 0:\n",
    "        s += \"bata merah, \"\n",
    "\n",
    "    if s == \"\":\n",
    "        return \"tidak disebutkan\"\n",
    "    \n",
    "    return s[:-2]\n",
    "\n",
    "def norm_tag(tp) -> str:\n",
    "    s = \"\"\n",
    "\n",
    "    if tp.tag_cash_bertahap > 0:\n",
    "        s += \"cash bertahap, \"\n",
    "    if tp.tag_komplek > 0:\n",
    "        s += \"komplek, \"\n",
    "    if tp.tag_kpr > 0:\n",
    "        s += \"KPR, \"\n",
    "    if tp.tag_perumahan > 0:\n",
    "        s += \"perumahan, \"\n",
    "\n",
    "    if s == \"\":\n",
    "        return \"tidak disebutkan\"\n",
    "    \n",
    "    return s[:-2]\n",
    "\n",
    "def norm_scalar(s: float | int, suffix: str = '', default_value: str = 'tidak disebutkan') -> str:\n",
    "    if s == 0:\n",
    "        return default_value\n",
    "    \n",
    "    return f\"{s}{suffix}\"\n",
    "\n",
    "def num_max(x, y):\n",
    "    if x > y:\n",
    "        return x\n",
    "    return y"
   ]
  },
  {
   "cell_type": "code",
   "execution_count": 7,
   "metadata": {},
   "outputs": [],
   "source": [
    "fs_loader = FileSystemLoader(\"../templates\")\n",
    "env = Environment(loader=fs_loader, autoescape=select_autoescape())\n",
    "\n",
    "env.filters['norm_description'] = norm_description\n",
    "env.filters['norm_facilities'] = norm_facilities\n",
    "env.filters['norm_house_mat'] = norm_house_mat\n",
    "env.filters['norm_tag'] = norm_tag\n",
    "env.filters['norm_scalar'] = norm_scalar\n",
    "env.filters['num_max'] = num_max"
   ]
  },
  {
   "cell_type": "code",
   "execution_count": 8,
   "metadata": {},
   "outputs": [
    {
     "data": {
      "text/plain": [
       "'Harga: Rp850.000.000.0\\nAlamat: Sentul City, Bogor, Indonesia\\nCarport: 1\\nDapur: 1\\nDaya listrik: 2200 watt\\nJumlah lantai: 1\\nKamar mandi: 1\\nKamar tidur: 2\\nKamar pembantu: 1\\nLebar jalan: 3 cars\\nLuas tanah: 90.0 m^2\\nLuas bangunan: 60.0 m^2\\nTahun dibangun: tidak disebutkan\\nFasilitas: AC, keamanan/satpam, laundry, ruang makan, ruang tamu\\nBahan bangunan: bata merah\\nTag: komplek, KPR, perumahan\\nDeskripsi: Dekat Fasilitas Bisnis dan Hutan Hijau Sejuk Menjadi Kelebihan Dari Rumah Ini'"
      ]
     },
     "execution_count": 8,
     "metadata": {},
     "output_type": "execute_result"
    }
   ],
   "source": [
    "row_sample = next(df.itertuples())\n",
    "env.get_template(\"document.jinja2\").render(row=row_sample)"
   ]
  },
  {
   "cell_type": "code",
   "execution_count": 9,
   "metadata": {},
   "outputs": [
    {
     "data": {
      "text/plain": [
       "'-----\\nKode rumah: hos15767028\\nDijual rumah dengan harga Rp850.000.000 yang beralamat di Sentul City, Bogor, Indonesia.\\nLuas tanah 90.0 meter persegi dengan luas bangunan 60.0 meter persegi.\\nRumah terdiri atas 1 lantai dengan 2 kamar tidur, 1 kamar mandi, dan 1 kamar pembantu.\\nFasilitas yang tersedia adalah 1 carport, jalan muat 3 mobil, 1 dapur, listrik 2200 VA.\\n\\nBahan bangunan: bata merah\\nFasilitas: AC, keamanan/satpam, laundry, ruang makan, ruang tamu\\nTag: komplek, KPR, perumahan\\n\\n\\nDeskripsi tambahan:\\nDekat Fasilitas Bisnis dan Hutan Hijau Sejuk Menjadi Kelebihan Dari Rumah Ini\\n\\n-----'"
      ]
     },
     "execution_count": 9,
     "metadata": {},
     "output_type": "execute_result"
    }
   ],
   "source": [
    "row_sample = next(df.itertuples())\n",
    "env.get_template(\"document_v2.jinja2\").render(row=row_sample)"
   ]
  },
  {
   "cell_type": "markdown",
   "metadata": {},
   "source": [
    "## Embedding"
   ]
  },
  {
   "cell_type": "code",
   "execution_count": 24,
   "metadata": {},
   "outputs": [],
   "source": [
    "from haystack import Pipeline, Document\n",
    "from haystack.components.preprocessors import DocumentSplitter\n",
    "from haystack.components.embedders import OpenAIDocumentEmbedder\n",
    "from haystack.components.writers import DocumentWriter\n",
    "from haystack_integrations.document_stores.qdrant import QdrantDocumentStore\n"
   ]
  },
  {
   "cell_type": "code",
   "execution_count": 25,
   "metadata": {},
   "outputs": [],
   "source": [
    "documents_raw = []\n",
    "document_template = env.get_template(\"document_v2.jinja2\")\n",
    "for row in df.itertuples():\n",
    "\tcontents = document_template.render(row=row)\n",
    "\tmetadata = dict(id=row.id,price=row.price,district=row.district,city=row.city,url=row.url)\n",
    "\tdocuments_raw.append(Document(id=row.id, content=contents, meta=metadata))"
   ]
  },
  {
   "cell_type": "code",
   "execution_count": 27,
   "metadata": {},
   "outputs": [
    {
     "name": "stderr",
     "output_type": "stream",
     "text": [
      "Calculating embeddings:   0%|          | 0/1 [00:00<?, ?it/s]"
     ]
    },
    {
     "name": "stderr",
     "output_type": "stream",
     "text": [
      "Calculating embeddings: 100%|██████████| 1/1 [00:00<00:00,  1.07it/s]\n",
      "100it [00:00, 1952.61it/s]            \n"
     ]
    },
    {
     "data": {
      "text/plain": [
       "{'embed': {'meta': {'model': 'text-embedding-ada-002',\n",
       "   'usage': {'prompt_tokens': 3581, 'total_tokens': 3581}}},\n",
       " 'store': {'documents_written': 10}}"
      ]
     },
     "execution_count": 27,
     "metadata": {},
     "output_type": "execute_result"
    }
   ],
   "source": [
    "document_store = QdrantDocumentStore(url=\"localhost:6333\", index=\"houses_haystack\", embedding_dim=1536, hnsw_config={\"m\": 16, \"ef_construct\": 100}, return_embedding=True, wait_result_from_api=True)\n",
    "\n",
    "indexing_pipeline = Pipeline()\n",
    "indexing_pipeline.add_component(\"split\", DocumentSplitter(split_by=\"passage\", split_length=5, split_overlap=1))\n",
    "indexing_pipeline.add_component(\"embedder\", OpenAIDocumentEmbedder())\n",
    "indexing_pipeline.add_component(\"store\", DocumentWriter(document_store=document_store))\n",
    "\n",
    "indexing_pipeline.connect(\"split\", \"embedder\")\n",
    "indexing_pipeline.connect(\"embedder\", \"store\")\n",
    "\n",
    "indexing_pipeline.run({\"split\": {\"documents\": documents_raw}})"
   ]
  },
  {
   "cell_type": "code",
   "execution_count": 76,
   "metadata": {},
   "outputs": [],
   "source": [
    "indexing_pipeline.draw(\"index_pipeline.txt\", engine=\"mermaid-text\")"
   ]
  },
  {
   "cell_type": "markdown",
   "metadata": {},
   "source": [
    "## RAG"
   ]
  },
  {
   "cell_type": "code",
   "execution_count": 29,
   "metadata": {},
   "outputs": [],
   "source": [
    "from haystack.components.embedders import OpenAITextEmbedder\n",
    "from haystack.components.generators import OpenAIGenerator\n",
    "from haystack.components.builders.prompt_builder import PromptBuilder\n",
    "from haystack_integrations.components.retrievers.qdrant import QdrantEmbeddingRetriever"
   ]
  },
  {
   "cell_type": "code",
   "execution_count": 77,
   "metadata": {},
   "outputs": [],
   "source": [
    "from haystack import component\n",
    "\n",
    "@component\n",
    "class ReturnDocumentsFromRetriever:\n",
    "    @component.output_types(documents=list[dict])\n",
    "    def run(self, docs: list[Document]):\n",
    "        return {\"documents\": [{\"id\": doc.id, **doc.meta} for doc in docs]}"
   ]
  },
  {
   "cell_type": "code",
   "execution_count": 78,
   "metadata": {},
   "outputs": [
    {
     "data": {
      "text/plain": [
       "<haystack.pipeline.Pipeline at 0x7f28a8a95fd0>"
      ]
     },
     "execution_count": 78,
     "metadata": {},
     "output_type": "execute_result"
    }
   ],
   "source": [
    "rag_prompt_template = (\n",
    "    \"You are an assistant for house recommendation/suggestion tasks. \"\n",
    "    \"You will be given a few documents about property listing along with it's price, address, and specifications. \"\n",
    "    \"Give a summary about the house specs and address if you have a match. \"\n",
    "    \"Do not return the result as lists, but as a paragraph. \"\n",
    "    \"You can suggest more than one house based on the context. \"\n",
    "    \"If you don't know the answer, just say that you don't know. \"\n",
    "    \"Answer using the same language as the question.\"\n",
    "    \"Use five sentences maximum and keep the answer concise.\\n\\n\"\n",
    "    \"Context:\\n\"\n",
    "    \"###\\n\"\n",
    "    \"{% for doc in documents %}\"\n",
    "    \"{{ doc.content }}\"\n",
    "    \"{% endfor %}\"\n",
    "    \"###\\n\\n\"\n",
    "    \"Question: {{question}}\\n\"\n",
    "    \"Answer:\"\n",
    ")\n",
    "\n",
    "rag_pipeline = Pipeline()\n",
    "rag_pipeline.add_component(\"embedder\", OpenAITextEmbedder())\n",
    "rag_pipeline.add_component(\"retriever\", QdrantEmbeddingRetriever(document_store=document_store))\n",
    "rag_pipeline.add_component(\"rag_prompt\", PromptBuilder(template=rag_prompt_template))\n",
    "rag_pipeline.add_component(\"llm\", OpenAIGenerator(model=\"gpt-3.5-turbo\"))\n",
    "rag_pipeline.add_component(\"return_docs\", ReturnDocumentsFromRetriever())\n",
    "\n",
    "rag_pipeline.connect(\"embedder.embedding\", \"retriever.query_embedding\")\n",
    "rag_pipeline.connect(\"retriever\", \"rag_prompt.documents\")\n",
    "rag_pipeline.connect(\"retriever\", \"return_docs\")\n",
    "rag_pipeline.connect(\"rag_prompt\", \"llm\")"
   ]
  },
  {
   "cell_type": "code",
   "execution_count": 79,
   "metadata": {},
   "outputs": [],
   "source": [
    "rag_pipeline.draw(\"rag_pipeline.txt\", engine=\"mermaid-text\")"
   ]
  },
  {
   "cell_type": "code",
   "execution_count": 80,
   "metadata": {},
   "outputs": [
    {
     "name": "stdout",
     "output_type": "stream",
     "text": [
      "{\n",
      "  \"embedder\": {\n",
      "    \"meta\": {\n",
      "      \"model\": \"text-embedding-ada-002\",\n",
      "      \"usage\": {\n",
      "        \"prompt_tokens\": 13,\n",
      "        \"total_tokens\": 13\n",
      "      }\n",
      "    }\n",
      "  },\n",
      "  \"return_docs\": {\n",
      "    \"document_ids\": [\n",
      "      {\n",
      "        \"id\": \"hos12335745\",\n",
      "        \"city\": \"Bogor\",\n",
      "        \"district\": \"Bojongsari\",\n",
      "        \"price\": 2900.0,\n",
      "        \"source_id\": \"hos12335745\",\n",
      "        \"url\": \"https://www.rumah123.com/properti/bogor/hos12335745/\"\n",
      "      },\n",
      "      {\n",
      "        \"id\": \"hos15952986\",\n",
      "        \"city\": \"Bogor\",\n",
      "        \"district\": \"Parung\",\n",
      "        \"price\": 1950.0,\n",
      "        \"source_id\": \"hos15952986\",\n",
      "        \"url\": \"https://www.rumah123.com/properti/bogor/hos15952986/\"\n",
      "      },\n",
      "      {\n",
      "        \"id\": \"hos15767028\",\n",
      "        \"city\": \"Bogor\",\n",
      "        \"district\": \"Sentul City\",\n",
      "        \"price\": 850.0,\n",
      "        \"source_id\": \"hos15767028\",\n",
      "        \"url\": \"https://www.rumah123.com/properti/bogor/hos15767028/\"\n",
      "      },\n",
      "      {\n",
      "        \"id\": \"hos15530924\",\n",
      "        \"city\": \"Bogor\",\n",
      "        \"district\": \"Semplak\",\n",
      "        \"price\": 777.0,\n",
      "        \"source_id\": \"hos15530924\",\n",
      "        \"url\": \"https://www.rumah123.com/properti/bogor/hos15530924/\"\n",
      "      },\n",
      "      {\n",
      "        \"id\": \"hos16044965\",\n",
      "        \"city\": \"Bogor\",\n",
      "        \"district\": \"Bogor Selatan\",\n",
      "        \"price\": 3550.0,\n",
      "        \"source_id\": \"hos16044965\",\n",
      "        \"url\": \"https://www.rumah123.com/properti/bogor/hos16044965/\"\n",
      "      },\n",
      "      {\n",
      "        \"id\": \"hos16032315\",\n",
      "        \"city\": \"Bogor\",\n",
      "        \"district\": \"Cilebut\",\n",
      "        \"price\": 326.0,\n",
      "        \"source_id\": \"hos16032315\",\n",
      "        \"url\": \"https://www.rumah123.com/properti/bogor/hos16032315/\"\n",
      "      },\n",
      "      {\n",
      "        \"id\": \"hos15912905\",\n",
      "        \"city\": \"Bogor\",\n",
      "        \"district\": \"Cileungsi\",\n",
      "        \"price\": 240.0,\n",
      "        \"source_id\": \"hos15912905\",\n",
      "        \"url\": \"https://www.rumah123.com/properti/bogor/hos15912905/\"\n",
      "      },\n",
      "      {\n",
      "        \"id\": \"hos16035504\",\n",
      "        \"city\": \"Bogor\",\n",
      "        \"district\": \"Bojong Gede\",\n",
      "        \"price\": 563.0,\n",
      "        \"source_id\": \"hos16035504\",\n",
      "        \"url\": \"https://www.rumah123.com/properti/bogor/hos16035504/\"\n",
      "      },\n",
      "      {\n",
      "        \"id\": \"hos15934530\",\n",
      "        \"city\": \"Bogor\",\n",
      "        \"district\": \"Cikeas\",\n",
      "        \"price\": 735.0,\n",
      "        \"source_id\": \"hos15934530\",\n",
      "        \"url\": \"https://www.rumah123.com/properti/bogor/hos15934530/\"\n",
      "      },\n",
      "      {\n",
      "        \"id\": \"hos16066812\",\n",
      "        \"city\": \"Bogor\",\n",
      "        \"district\": \"Bojong Gede\",\n",
      "        \"price\": 600.0,\n",
      "        \"source_id\": \"hos16066812\",\n",
      "        \"url\": \"https://www.rumah123.com/properti/bogor/hos16066812/\"\n",
      "      }\n",
      "    ]\n",
      "  },\n",
      "  \"llm\": {\n",
      "    \"replies\": [\n",
      "      \"Ada beberapa rumah dengan setidaknya 2 kamar tidur yang dijual di Bogor. Salah satunya adalah rumah di Bojong Gede dengan harga Rp600.000.000, luas tanah 86 meter persegi, pembangunan tahun 2020, dan memiliki 2 kamar tidur, 1 kamar mandi. Fasilitas yang disediakan termasuk AC, keamanan/satpam, laundry, masjid, ruang makan, ruang tamu. Adapun rumah lain yang sesuai adalah di Bojong Gede pula, dengan harga Rp563.000.000, luas tanah 72 meter persegi, luas bangunan 40 meter persegi, dan memiliki 2 kamar tidur, 1 kamar mandi. Fasilitas rumah ini mencakup AC, keamanan/satpam, masjid, dan listrik 1300 VA. Semua rumah berlokasi di komplek dan perumahan.\"\n",
      "    ],\n",
      "    \"meta\": [\n",
      "      {\n",
      "        \"model\": \"gpt-3.5-turbo-0125\",\n",
      "        \"index\": 0,\n",
      "        \"finish_reason\": \"stop\",\n",
      "        \"usage\": {\n",
      "          \"completion_tokens\": 220,\n",
      "          \"prompt_tokens\": 3850,\n",
      "          \"total_tokens\": 4070\n",
      "        }\n",
      "      }\n",
      "    ]\n",
      "  }\n",
      "}\n"
     ]
    }
   ],
   "source": [
    "question = \"Rumah dengan setidaknya 2 kamar tidur\"\n",
    "results = rag_pipeline.run(\n",
    "    {\n",
    "        \"embedder\": {\"text\": question},\n",
    "        \"rag_prompt\": {\"question\": question},\n",
    "    },\n",
    "    debug=True\n",
    ")\n",
    "\n",
    "print(json.dumps(results, indent=2))\n",
    "# results"
   ]
  },
  {
   "cell_type": "code",
   "execution_count": 71,
   "metadata": {},
   "outputs": [
    {
     "name": "stdout",
     "output_type": "stream",
     "text": [
      "components:\n",
      "  embedder:\n",
      "    init_parameters:\n",
      "      api_key:\n",
      "        env_vars:\n",
      "        - OPENAI_API_KEY\n",
      "        strict: true\n",
      "        type: env_var\n",
      "      dimensions: null\n",
      "      model: text-embedding-ada-002\n",
      "      organization: null\n",
      "      prefix: ''\n",
      "      suffix: ''\n",
      "    type: haystack.components.embedders.openai_text_embedder.OpenAITextEmbedder\n",
      "  llm:\n",
      "    init_parameters:\n",
      "      api_base_url: null\n",
      "      api_key:\n",
      "        env_vars:\n",
      "        - OPENAI_API_KEY\n",
      "        strict: true\n",
      "        type: env_var\n",
      "      generation_kwargs: {}\n",
      "      model: gpt-3.5-turbo\n",
      "      streaming_callback: null\n",
      "      system_prompt: null\n",
      "    type: haystack.components.generators.openai.OpenAIGenerator\n",
      "  rag_prompt:\n",
      "    init_parameters:\n",
      "      template: 'You are an assistant for house recommendation/suggestion tasks. You\n",
      "        will be given a few documents about property listing along with it''s price,\n",
      "        address, and specifications. Give a summary about the house specs and address\n",
      "        if you have a match. Do not return the result as lists, but as a paragraph.\n",
      "        You can suggest more than one house based on the context. If you don''t know\n",
      "        the answer, just say that you don''t know. Answer using the same language\n",
      "        as the question.Use five sentences maximum and keep the answer concise.\n",
      "\n",
      "\n",
      "        Context:\n",
      "\n",
      "        ###\n",
      "\n",
      "        {% for doc in documents %}{{ doc.content }}{% endfor %}###\n",
      "\n",
      "\n",
      "        Question: {{question}}\n",
      "\n",
      "        Answer:'\n",
      "    type: haystack.components.builders.prompt_builder.PromptBuilder\n",
      "  retriever:\n",
      "    init_parameters:\n",
      "      document_store:\n",
      "        init_parameters:\n",
      "          api_key: null\n",
      "          content_field: content\n",
      "          duplicate_documents: overwrite\n",
      "          embedding_dim: 1536\n",
      "          embedding_field: embedding\n",
      "          grpc_port: 6334\n",
      "          hnsw_config:\n",
      "            ef_construct: 100\n",
      "            m: 16\n",
      "          host: null\n",
      "          https: null\n",
      "          index: houses_haystack\n",
      "          init_from: null\n",
      "          location: null\n",
      "          metadata: {}\n",
      "          name_field: name\n",
      "          on_disk_payload: null\n",
      "          optimizers_config: null\n",
      "          path: null\n",
      "          port: 6333\n",
      "          prefer_grpc: false\n",
      "          prefix: null\n",
      "          progress_bar: true\n",
      "          quantization_config: null\n",
      "          recreate_index: false\n",
      "          replication_factor: null\n",
      "          return_embedding: false\n",
      "          scroll_size: 10000\n",
      "          shard_number: null\n",
      "          similarity: cosine\n",
      "          timeout: null\n",
      "          url: localhost:6333\n",
      "          wait_result_from_api: true\n",
      "          wal_config: null\n",
      "          write_batch_size: 100\n",
      "          write_consistency_factor: null\n",
      "        type: haystack_integrations.document_stores.qdrant.document_store.QdrantDocumentStore\n",
      "      filters: null\n",
      "      return_embedding: false\n",
      "      scale_score: true\n",
      "      top_k: 10\n",
      "    type: haystack_integrations.components.retrievers.qdrant.retriever.QdrantEmbeddingRetriever\n",
      "  return_docs:\n",
      "    init_parameters: {}\n",
      "    type: __main__.ReturnDocumentsFromRetriever\n",
      "connections:\n",
      "- receiver: retriever.query_embedding\n",
      "  sender: embedder.embedding\n",
      "- receiver: rag_prompt.documents\n",
      "  sender: retriever.documents\n",
      "- receiver: return_docs.docs\n",
      "  sender: retriever.documents\n",
      "- receiver: llm.prompt\n",
      "  sender: rag_prompt.prompt\n",
      "max_loops_allowed: 100\n",
      "metadata: {}\n",
      "\n"
     ]
    }
   ],
   "source": [
    "# save pipeline\n",
    "print(rag_pipeline.dumps())"
   ]
  },
  {
   "cell_type": "code",
   "execution_count": null,
   "metadata": {},
   "outputs": [],
   "source": []
  }
 ],
 "metadata": {
  "kernelspec": {
   "display_name": "rumah",
   "language": "python",
   "name": "python3"
  },
  "language_info": {
   "codemirror_mode": {
    "name": "ipython",
    "version": 3
   },
   "file_extension": ".py",
   "mimetype": "text/x-python",
   "name": "python",
   "nbconvert_exporter": "python",
   "pygments_lexer": "ipython3",
   "version": "3.11.7"
  }
 },
 "nbformat": 4,
 "nbformat_minor": 2
}
