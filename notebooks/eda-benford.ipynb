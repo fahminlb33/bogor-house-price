{
 "cells": [
  {
   "cell_type": "code",
   "execution_count": 16,
   "metadata": {},
   "outputs": [],
   "source": [
    "import scipy.stats\n",
    "import numpy as np\n",
    "import pandas as pd\n",
    "import seaborn as sns\n",
    "import matplotlib.pyplot as plt"
   ]
  },
  {
   "cell_type": "code",
   "execution_count": 2,
   "metadata": {},
   "outputs": [
    {
     "data": {
      "application/vnd.microsoft.datawrangler.viewer.v0+json": {
       "columns": [
        {
         "name": "index",
         "rawType": "int64",
         "type": "integer"
        },
        {
         "name": "id",
         "rawType": "object",
         "type": "string"
        },
        {
         "name": "price",
         "rawType": "float64",
         "type": "float"
        },
        {
         "name": "installment",
         "rawType": "float64",
         "type": "float"
        },
        {
         "name": "subdistrict",
         "rawType": "object",
         "type": "string"
        },
        {
         "name": "city",
         "rawType": "object",
         "type": "string"
        },
        {
         "name": "description",
         "rawType": "object",
         "type": "string"
        },
        {
         "name": "url",
         "rawType": "object",
         "type": "string"
        },
        {
         "name": "kamar_tidur",
         "rawType": "int32",
         "type": "integer"
        },
        {
         "name": "kamar_mandi",
         "rawType": "int32",
         "type": "integer"
        },
        {
         "name": "kamar_pembantu",
         "rawType": "int32",
         "type": "integer"
        },
        {
         "name": "kamar_mandi_pembantu",
         "rawType": "int32",
         "type": "integer"
        },
        {
         "name": "dapur",
         "rawType": "int32",
         "type": "integer"
        },
        {
         "name": "luas_tanah",
         "rawType": "float32",
         "type": "float"
        },
        {
         "name": "luas_bangunan",
         "rawType": "float32",
         "type": "float"
        },
        {
         "name": "jumlah_lantai",
         "rawType": "int32",
         "type": "integer"
        },
        {
         "name": "garasi",
         "rawType": "int32",
         "type": "integer"
        },
        {
         "name": "carport",
         "rawType": "int32",
         "type": "integer"
        },
        {
         "name": "lebar_jalan",
         "rawType": "float32",
         "type": "float"
        },
        {
         "name": "tahun_dibangun",
         "rawType": "int32",
         "type": "integer"
        },
        {
         "name": "tahun_di_renovasi",
         "rawType": "int32",
         "type": "integer"
        },
        {
         "name": "daya_listrik",
         "rawType": "float32",
         "type": "float"
        },
        {
         "name": "hadap",
         "rawType": "object",
         "type": "unknown"
        },
        {
         "name": "sertifikat",
         "rawType": "object",
         "type": "string"
        },
        {
         "name": "sumber_air",
         "rawType": "object",
         "type": "string"
        },
        {
         "name": "pemandangan",
         "rawType": "object",
         "type": "string"
        },
        {
         "name": "tipe_properti",
         "rawType": "object",
         "type": "string"
        },
        {
         "name": "konsep_dan_gaya_rumah",
         "rawType": "object",
         "type": "unknown"
        },
        {
         "name": "kondisi_properti",
         "rawType": "object",
         "type": "string"
        },
        {
         "name": "kondisi_perabotan",
         "rawType": "object",
         "type": "string"
        },
        {
         "name": "hook",
         "rawType": "int32",
         "type": "integer"
        },
        {
         "name": "ruang_tamu",
         "rawType": "int32",
         "type": "integer"
        },
        {
         "name": "ruang_makan",
         "rawType": "int32",
         "type": "integer"
        },
        {
         "name": "terjangkau_internet",
         "rawType": "int32",
         "type": "integer"
        },
        {
         "name": "tags",
         "rawType": "object",
         "type": "unknown"
        },
        {
         "name": "facilities",
         "rawType": "object",
         "type": "unknown"
        },
        {
         "name": "house_materials",
         "rawType": "object",
         "type": "unknown"
        },
        {
         "name": "floor_materials",
         "rawType": "object",
         "type": "unknown"
        },
        {
         "name": "image_urls",
         "rawType": "object",
         "type": "unknown"
        }
       ],
       "conversionMethod": "pd.DataFrame",
       "ref": "38c2c895-f31f-4392-9dce-347f84255d84",
       "rows": [
        [
         "0",
         "hos14911515",
         "1200000000.0",
         "5000000.0",
         "Parungpanjang",
         "Bogor",
         "Kondisi :\nType 7 X 10\nLuas Tanah 70-84 m2 \nLuas Bangunan 101 m2.\nSertifikat HGB\nHadap Utara/ Selatan\nRooftop\nHarga Jual Mulai Rp 1.200.000.xxx,- (Nego)\nJumlah Ruangan :\n1 Ruang Tamu\n1 Ruang Makan\n1 Kamar Tidur Utama\n1 Kamar Mandi Utama\n2 Kamar Tidur\n2 Kamar Mandi\n1 Dapur\n1 Kamar Pembantu\n1 Kamar Mandi Pembantu\nFasilitas Lainnya :\nCarport 2 mobil\nListrik 2.200 watt\nType 8 X 10\nLuas Tanah 80-144 m2 \nLuas Bangunan 114 m2.\nSertifikat HGB\nHadap Utara/ Selatan\nRooftop\nHarga Jual Mulai Rp 1.200.000.xxx,- (Nego)\nJumlah Ruangan :\n1 Ruang Tamu\n1 Ruang Makan\n1 Kamar Tidur Utama\n1 Kamar Mandi Utama\n3 Kamar Tidur\n2 Kamar Mandi\n1 Dapur\n1 Kamar Pembantu\n1 Kamar Mandi Pembantu\nFasilitas Lainnya :\nCarport 2 mobil\nListrik 2.200 watt",
         "https://www.rumah123.com/properti/bogor/hos14911515/",
         "4",
         "4",
         "0",
         "0",
         "1",
         "70.0",
         "101.0",
         "2",
         "0",
         "2",
         "2.0",
         "0",
         "0",
         "2200.0",
         "Utara",
         "HGB - Hak Guna Bangunan",
         "PAM atau PDAM",
         "Pemukiman Warga",
         "Rumah",
         null,
         "furnished",
         "unfurnished",
         "0",
         "1",
         "1",
         "1",
         "['one_gate_system' 'perumahan' 'komplek']",
         "['taman' 'laundry' 'keamanan' 'one_gate_system' 'playground' 'ac']",
         "['beton']",
         "['keramik']",
         "['https://picture.rumah123.com/r123-images/720x420-crop/customer/61322/2023-09-26-02-48-57-b2350aad-dbbb-4e18-9a70-d715cffac3a7.jpg'\n 'https://picture.rumah123.com/r123-images/360x401-inside/customer/61322/2023-09-26-02-48-58-da5f93f3-31a6-4722-b832-45ac4cf246bd.jpg'\n 'https://picture.rumah123.com/r123-images/360x401-inside/customer/61322/2023-09-26-02-48-58-d7c6b5c1-962c-4614-9620-af368f689136.jpg'\n 'https://picture.rumah123.com/r123-images/360x401-inside/customer/61322/2023-09-26-02-48-59-3142b589-f527-4b36-8487-82b8d3f856e9.jpg'\n 'https://picture.rumah123.com/r123-images/360x401-inside/customer/61322/2023-09-26-02-48-59-bd30f9ed-eeb5-476a-8003-bc0b7cb392ed.jpg']"
        ],
        [
         "1",
         "hos15806383",
         "3940000000.0",
         "17000000.0",
         "Babakanmadang",
         "Bogor",
         "Beberapa alasan mengapa membeli property di kawasan Sentul City ini :\n- Investasi menjanjikan pertahun 20%-30%.\n- Sertifikat terjamin.\n- Exit tol Sentul City langsung menuju area kawasan perumahan.\n- Aman (one gate, one cluster security 24 jam).\n- Udara bersih, sejuk, segar.\n- Kontur tanah berbukit (upslope, level, downslope).\n- Bebas banjir areal luas 3100 hektar.\n- View indah (golf, danau, sungai pegunungan).\n- Nilai investasi rumah Bellanova, IKEA, RS EMC Sentul, Wisata Jungle Land, Pasar Ah poong Sentul, Eco Park, Sentul Highlands Golf Club, Taman Budaya Edutainment Centre, SICC Sentul, Hotel Harris, Wattana Hotel, Savana Hotel, Sampoerna Academy, Sekolah Pelita Harapan, BPK Penabur Fajar Hidayah, Universitas Trisakti, Universitas Tazkia\nKita juga melayani untuk pembangunan, renovasi, perencanaan pembangunan, dan lain-lain di kawasan Sentul City dan sekitarnya.",
         "https://www.rumah123.com/properti/bogor/hos15806383/",
         "2",
         "2",
         "1",
         "1",
         "1",
         "535.0",
         "300.0",
         "1",
         "2",
         "2",
         "2.0",
         "0",
         "0",
         "5500.0",
         "Barat",
         "HGB - Hak Guna Bangunan",
         "PAM atau PDAM",
         "Pegunungan",
         "Rumah",
         "Minimalis",
         "furnished",
         "unfurnished",
         "0",
         "1",
         "1",
         "1",
         "['bisa_nego' 'cash_keras' 'one_gate_system' 'perumahan' 'komplek']",
         "['taman' 'laundry' 'keamanan' 'one_gate_system' 'dapur' 'wastafel' 'ac']",
         "['bata_hebel']",
         "['keramik' 'ubin']",
         "['https://picture.rumah123.com/r123-images/720x420-crop/customer/23652/2023-12-17-02-35-45-65c399d1-11f2-42ce-a090-c8bed3972180.jpg'\n 'https://picture.rumah123.com/r123-images/360x401-inside/customer/23652/2023-12-17-02-35-33-ee4c8cbf-236d-42ad-a296-4461487201d6.jpg'\n 'https://picture.rumah123.com/r123-images/360x401-inside/customer/23652/2023-12-17-02-35-43-e74cc015-c282-441a-a5e0-400e75ca703e.jpg'\n 'https://picture.rumah123.com/r123-images/360x401-inside/customer/23652/2023-12-17-02-35-31-636fc392-2969-430d-93b4-5be8a810bd47.jpg'\n 'https://picture.rumah123.com/r123-images/360x401-inside/customer/23652/2023-12-17-02-35-31-1892e523-ff19-4059-90a6-c1a4e106d177.jpg']"
        ],
        [
         "2",
         "hos16012513",
         "460000000.0",
         "2000000.0",
         "Cibinong",
         "Bogor",
         "Dekat dengan pemda cibinong\nDekat dengan pakansari\nDekat dengan Cibinong City Mall\nDekat dengan Lotte Mart cibinong\nDekat dengan pintu tol sirkuit sentul",
         "https://www.rumah123.com/properti/bogor/hos16012513/",
         "2",
         "1",
         "0",
         "0",
         "1",
         "65.0",
         "45.0",
         "1",
         "0",
         "1",
         "2.0",
         "2023",
         "0",
         "1300.0",
         null,
         "SHM - Sertifikat Hak Milik",
         "Sumur Bor",
         "Pedesaan",
         "Rumah",
         "Minimalis",
         "furnished",
         "unfurnished",
         "0",
         "1",
         "1",
         "1",
         "['bisa_nego' 'cash_keras' 'kpr' 'one_gate_system' 'perumahan' 'komplek']",
         "['keamanan' 'laundry' 'keamanan' 'one_gate_system' 'wastafel']",
         "['bata_hebel']",
         "['keramik']",
         "['https://picture.rumah123.com/r123-images/720x420-crop/customer/1639850/2024-01-11-03-33-22-2c1aadaa-85e8-43e0-99e9-815f02172cfd.jpg'\n 'https://picture.rumah123.com/r123-images/360x401-inside/customer/1639850/2024-01-11-03-33-24-b4b613c1-baf2-489f-853f-ae99bf0d1331.jpg'\n 'https://picture.rumah123.com/r123-images/360x401-inside/customer/1639850/2024-01-11-03-33-25-651f7d02-1f1d-4d6b-9487-4c04258dd6b2.jpg'\n 'https://picture.rumah123.com/r123-images/360x401-inside/customer/1639850/2024-01-11-03-33-26-267e1b7b-660d-4051-8f8c-0cc0492f2751.jpg'\n 'https://picture.rumah123.com/r123-images/360x401-inside/customer/1639850/2024-01-11-03-33-27-c9cd9e92-08ef-450f-82a5-9b4dfeb7686c.jpg']"
        ],
        [
         "3",
         "hos15730660",
         "7000000000.0",
         "31000000.0",
         "Tanahsareal",
         "Bogor",
         "Rumah Tempo Doeloe yang di Desain oleh Arsitek Masjid Istiqlal.\nSPESIFIKASI :\n> Luas Tanah 800 M2\n> Luas Bangunan 300 M2\n> Kamar Tidur 4 + 1\n> Kamar Mandi 3 + 1\n> PDAM\n> Listrik 4400\n> SHM\n> Halaman Luas\n> Terdapat Taman Depan dan Belakang\n - Rumah dekat dengan Taman Heulang (Taman Kota)\n - Dekat dengan Cafe-Cafe\n - Bisa dijadikan Tempat Usaha dan Hunian\n - Halaman Luas\n - Terdapat Taman Depan dan Belakang\n - Dekat dengan Sekolah",
         "https://www.rumah123.com/properti/bogor/hos15730660/",
         "4",
         "3",
         "1",
         "1",
         "1",
         "800.0",
         "300.0",
         "1",
         "0",
         "2",
         "2.0",
         "0",
         "0",
         "4400.0",
         null,
         "SHM - Sertifikat Hak Milik",
         "PAM atau PDAM",
         "Taman Kota",
         "Rumah",
         "Minimalis",
         "furnished",
         "unfurnished",
         "0",
         "1",
         "1",
         "1",
         "['bisa_nego' 'cash_keras' 'one_gate_system' 'perumahan' 'komplek']",
         "['taman' 'laundry' 'keamanan' 'one_gate_system' 'dapur' 'wastafel' 'ac']",
         "['bata_hebel']",
         "['keramik']",
         "['https://picture.rumah123.com/r123-images/720x420-crop/customer/23652/2023-12-08-08-11-50-fd14360d-882f-400e-90bf-25a90d174bea.jpg'\n 'https://picture.rumah123.com/r123-images/360x401-inside/customer/23652/2023-12-08-08-11-38-47c85051-8fd5-46e8-a154-b038c7178954.jpg'\n 'https://picture.rumah123.com/r123-images/360x401-inside/customer/23652/2023-12-08-08-11-39-dc595fca-4baf-4f6e-8b63-197fae27b720.jpg'\n 'https://picture.rumah123.com/r123-images/360x401-inside/customer/23652/2023-12-08-08-11-39-634c6307-437e-4c1d-a2b9-82b0ddc89ac7.jpg'\n 'https://picture.rumah123.com/r123-images/360x401-inside/customer/23652/2023-12-08-08-11-40-4ba9fbd7-13dc-450f-881c-2cb1ee3b3ca0.jpg']"
        ],
        [
         "4",
         "hos13861378",
         "2400000000.0",
         "10000000.0",
         "Babakanmadang",
         "Bogor",
         "Beberapa alasan Why to choose property in sentul city areas :\n- Investasi menjanjikan pertahun 20%-30%.\n- Sertifikat terjamin.\n- Exit tol Sentul City langsung menuju area kawasan perumahan.\n- Aman (one gate, one cluster security 24 jam).\n- Udara bersih, sejuk, segar.\n- Kontur tanah berbukit (upslope, level, downslope).\n- Bebas banjir areal luas 3100 hektar.\n- View indah (golf, danau, sungai pegunungan).\n- Nilai investasi rumah Bellanova, IKEA, RS EMC Sentul, Wisata Jungle Land, Pasar Ah poong Sentul, Eco Park, Sentul Highlands Golf Club, Taman Budaya Edutainment Centre, SICC Sentul, Hotel Harris, Wattana Hotel, Savana Hotel, Sampoerna Academy, Sekolah Pelita Harapan, BPK Penabur Fajar Hidayah, Universitas Trisakti, Universitas Tazkia\nKita juga melayani untuk pembangunan, renovasi, perencanaan pembangunan, dan lain-lain di kawasan Sentul City dan sekitarnya.",
         "https://www.rumah123.com/properti/bogor/hos13861378/",
         "5",
         "4",
         "0",
         "0",
         "1",
         "180.0",
         "200.0",
         "1",
         "1",
         "1",
         "1.0",
         "0",
         "0",
         "3500.0",
         null,
         "SHM - Sertifikat Hak Milik",
         "PAM atau PDAM",
         "Pemukiman Warga",
         "Rumah",
         "Minimalis Modern",
         "furnished",
         "semi furnished",
         "0",
         "1",
         "0",
         "1",
         "['bisa_nego' 'cash_keras' 'perumahan' 'komplek']",
         "['taman' 'laundry' 'keamanan' 'masjid' 'dapur' 'wastafel']",
         "['bata_merah']",
         "['keramik']",
         "['https://picture.rumah123.com/r123-images/720x420-crop/customer/23652/2023-05-29-04-59-43-21761b75-9091-4928-90e4-2e218a175047.jpg'\n 'https://picture.rumah123.com/r123-images/360x401-inside/customer/23652/2023-05-29-04-59-39-e4ae04e1-6e62-4953-b162-e96c8841b594.jpg'\n 'https://picture.rumah123.com/r123-images/360x401-inside/customer/23652/2023-05-29-04-59-34-313e827c-eadc-4bfd-9aae-bfa646c90040.jpg'\n 'https://picture.rumah123.com/r123-images/360x401-inside/customer/23652/2023-05-29-04-59-35-e83b66bb-3db3-454e-914f-af476f02fa6c.jpg'\n 'https://picture.rumah123.com/r123-images/360x401-inside/customer/23652/2023-05-29-04-59-35-556d855d-f208-4a65-a44a-bf61dfcfa37d.jpg']"
        ]
       ],
       "shape": {
        "columns": 38,
        "rows": 5
       }
      },
      "text/html": [
       "<div>\n",
       "<style scoped>\n",
       "    .dataframe tbody tr th:only-of-type {\n",
       "        vertical-align: middle;\n",
       "    }\n",
       "\n",
       "    .dataframe tbody tr th {\n",
       "        vertical-align: top;\n",
       "    }\n",
       "\n",
       "    .dataframe thead th {\n",
       "        text-align: right;\n",
       "    }\n",
       "</style>\n",
       "<table border=\"1\" class=\"dataframe\">\n",
       "  <thead>\n",
       "    <tr style=\"text-align: right;\">\n",
       "      <th></th>\n",
       "      <th>id</th>\n",
       "      <th>price</th>\n",
       "      <th>installment</th>\n",
       "      <th>subdistrict</th>\n",
       "      <th>city</th>\n",
       "      <th>description</th>\n",
       "      <th>url</th>\n",
       "      <th>kamar_tidur</th>\n",
       "      <th>kamar_mandi</th>\n",
       "      <th>kamar_pembantu</th>\n",
       "      <th>...</th>\n",
       "      <th>kondisi_perabotan</th>\n",
       "      <th>hook</th>\n",
       "      <th>ruang_tamu</th>\n",
       "      <th>ruang_makan</th>\n",
       "      <th>terjangkau_internet</th>\n",
       "      <th>tags</th>\n",
       "      <th>facilities</th>\n",
       "      <th>house_materials</th>\n",
       "      <th>floor_materials</th>\n",
       "      <th>image_urls</th>\n",
       "    </tr>\n",
       "  </thead>\n",
       "  <tbody>\n",
       "    <tr>\n",
       "      <th>0</th>\n",
       "      <td>hos14911515</td>\n",
       "      <td>1.200000e+09</td>\n",
       "      <td>5000000.0</td>\n",
       "      <td>Parungpanjang</td>\n",
       "      <td>Bogor</td>\n",
       "      <td>Kondisi :\\nType 7 X 10\\nLuas Tanah 70-84 m2 \\n...</td>\n",
       "      <td>https://www.rumah123.com/properti/bogor/hos149...</td>\n",
       "      <td>4</td>\n",
       "      <td>4</td>\n",
       "      <td>0</td>\n",
       "      <td>...</td>\n",
       "      <td>unfurnished</td>\n",
       "      <td>0</td>\n",
       "      <td>1</td>\n",
       "      <td>1</td>\n",
       "      <td>1</td>\n",
       "      <td>[one_gate_system, perumahan, komplek]</td>\n",
       "      <td>[taman, laundry, keamanan, one_gate_system, pl...</td>\n",
       "      <td>[beton]</td>\n",
       "      <td>[keramik]</td>\n",
       "      <td>[https://picture.rumah123.com/r123-images/720x...</td>\n",
       "    </tr>\n",
       "    <tr>\n",
       "      <th>1</th>\n",
       "      <td>hos15806383</td>\n",
       "      <td>3.940000e+09</td>\n",
       "      <td>17000000.0</td>\n",
       "      <td>Babakanmadang</td>\n",
       "      <td>Bogor</td>\n",
       "      <td>Beberapa alasan mengapa membeli property di ka...</td>\n",
       "      <td>https://www.rumah123.com/properti/bogor/hos158...</td>\n",
       "      <td>2</td>\n",
       "      <td>2</td>\n",
       "      <td>1</td>\n",
       "      <td>...</td>\n",
       "      <td>unfurnished</td>\n",
       "      <td>0</td>\n",
       "      <td>1</td>\n",
       "      <td>1</td>\n",
       "      <td>1</td>\n",
       "      <td>[bisa_nego, cash_keras, one_gate_system, perum...</td>\n",
       "      <td>[taman, laundry, keamanan, one_gate_system, da...</td>\n",
       "      <td>[bata_hebel]</td>\n",
       "      <td>[keramik, ubin]</td>\n",
       "      <td>[https://picture.rumah123.com/r123-images/720x...</td>\n",
       "    </tr>\n",
       "    <tr>\n",
       "      <th>2</th>\n",
       "      <td>hos16012513</td>\n",
       "      <td>4.600000e+08</td>\n",
       "      <td>2000000.0</td>\n",
       "      <td>Cibinong</td>\n",
       "      <td>Bogor</td>\n",
       "      <td>Dekat dengan pemda cibinong\\nDekat dengan paka...</td>\n",
       "      <td>https://www.rumah123.com/properti/bogor/hos160...</td>\n",
       "      <td>2</td>\n",
       "      <td>1</td>\n",
       "      <td>0</td>\n",
       "      <td>...</td>\n",
       "      <td>unfurnished</td>\n",
       "      <td>0</td>\n",
       "      <td>1</td>\n",
       "      <td>1</td>\n",
       "      <td>1</td>\n",
       "      <td>[bisa_nego, cash_keras, kpr, one_gate_system, ...</td>\n",
       "      <td>[keamanan, laundry, keamanan, one_gate_system,...</td>\n",
       "      <td>[bata_hebel]</td>\n",
       "      <td>[keramik]</td>\n",
       "      <td>[https://picture.rumah123.com/r123-images/720x...</td>\n",
       "    </tr>\n",
       "    <tr>\n",
       "      <th>3</th>\n",
       "      <td>hos15730660</td>\n",
       "      <td>7.000000e+09</td>\n",
       "      <td>31000000.0</td>\n",
       "      <td>Tanahsareal</td>\n",
       "      <td>Bogor</td>\n",
       "      <td>Rumah Tempo Doeloe yang di Desain oleh Arsitek...</td>\n",
       "      <td>https://www.rumah123.com/properti/bogor/hos157...</td>\n",
       "      <td>4</td>\n",
       "      <td>3</td>\n",
       "      <td>1</td>\n",
       "      <td>...</td>\n",
       "      <td>unfurnished</td>\n",
       "      <td>0</td>\n",
       "      <td>1</td>\n",
       "      <td>1</td>\n",
       "      <td>1</td>\n",
       "      <td>[bisa_nego, cash_keras, one_gate_system, perum...</td>\n",
       "      <td>[taman, laundry, keamanan, one_gate_system, da...</td>\n",
       "      <td>[bata_hebel]</td>\n",
       "      <td>[keramik]</td>\n",
       "      <td>[https://picture.rumah123.com/r123-images/720x...</td>\n",
       "    </tr>\n",
       "    <tr>\n",
       "      <th>4</th>\n",
       "      <td>hos13861378</td>\n",
       "      <td>2.400000e+09</td>\n",
       "      <td>10000000.0</td>\n",
       "      <td>Babakanmadang</td>\n",
       "      <td>Bogor</td>\n",
       "      <td>Beberapa alasan Why to choose property in sent...</td>\n",
       "      <td>https://www.rumah123.com/properti/bogor/hos138...</td>\n",
       "      <td>5</td>\n",
       "      <td>4</td>\n",
       "      <td>0</td>\n",
       "      <td>...</td>\n",
       "      <td>semi furnished</td>\n",
       "      <td>0</td>\n",
       "      <td>1</td>\n",
       "      <td>0</td>\n",
       "      <td>1</td>\n",
       "      <td>[bisa_nego, cash_keras, perumahan, komplek]</td>\n",
       "      <td>[taman, laundry, keamanan, masjid, dapur, wast...</td>\n",
       "      <td>[bata_merah]</td>\n",
       "      <td>[keramik]</td>\n",
       "      <td>[https://picture.rumah123.com/r123-images/720x...</td>\n",
       "    </tr>\n",
       "  </tbody>\n",
       "</table>\n",
       "<p>5 rows × 38 columns</p>\n",
       "</div>"
      ],
      "text/plain": [
       "            id         price  installment    subdistrict   city  \\\n",
       "0  hos14911515  1.200000e+09    5000000.0  Parungpanjang  Bogor   \n",
       "1  hos15806383  3.940000e+09   17000000.0  Babakanmadang  Bogor   \n",
       "2  hos16012513  4.600000e+08    2000000.0       Cibinong  Bogor   \n",
       "3  hos15730660  7.000000e+09   31000000.0    Tanahsareal  Bogor   \n",
       "4  hos13861378  2.400000e+09   10000000.0  Babakanmadang  Bogor   \n",
       "\n",
       "                                         description  \\\n",
       "0  Kondisi :\\nType 7 X 10\\nLuas Tanah 70-84 m2 \\n...   \n",
       "1  Beberapa alasan mengapa membeli property di ka...   \n",
       "2  Dekat dengan pemda cibinong\\nDekat dengan paka...   \n",
       "3  Rumah Tempo Doeloe yang di Desain oleh Arsitek...   \n",
       "4  Beberapa alasan Why to choose property in sent...   \n",
       "\n",
       "                                                 url  kamar_tidur  \\\n",
       "0  https://www.rumah123.com/properti/bogor/hos149...            4   \n",
       "1  https://www.rumah123.com/properti/bogor/hos158...            2   \n",
       "2  https://www.rumah123.com/properti/bogor/hos160...            2   \n",
       "3  https://www.rumah123.com/properti/bogor/hos157...            4   \n",
       "4  https://www.rumah123.com/properti/bogor/hos138...            5   \n",
       "\n",
       "   kamar_mandi  kamar_pembantu  ...  kondisi_perabotan  hook  ruang_tamu  \\\n",
       "0            4               0  ...        unfurnished     0           1   \n",
       "1            2               1  ...        unfurnished     0           1   \n",
       "2            1               0  ...        unfurnished     0           1   \n",
       "3            3               1  ...        unfurnished     0           1   \n",
       "4            4               0  ...     semi furnished     0           1   \n",
       "\n",
       "   ruang_makan  terjangkau_internet  \\\n",
       "0            1                    1   \n",
       "1            1                    1   \n",
       "2            1                    1   \n",
       "3            1                    1   \n",
       "4            0                    1   \n",
       "\n",
       "                                                tags  \\\n",
       "0              [one_gate_system, perumahan, komplek]   \n",
       "1  [bisa_nego, cash_keras, one_gate_system, perum...   \n",
       "2  [bisa_nego, cash_keras, kpr, one_gate_system, ...   \n",
       "3  [bisa_nego, cash_keras, one_gate_system, perum...   \n",
       "4        [bisa_nego, cash_keras, perumahan, komplek]   \n",
       "\n",
       "                                          facilities  house_materials  \\\n",
       "0  [taman, laundry, keamanan, one_gate_system, pl...          [beton]   \n",
       "1  [taman, laundry, keamanan, one_gate_system, da...     [bata_hebel]   \n",
       "2  [keamanan, laundry, keamanan, one_gate_system,...     [bata_hebel]   \n",
       "3  [taman, laundry, keamanan, one_gate_system, da...     [bata_hebel]   \n",
       "4  [taman, laundry, keamanan, masjid, dapur, wast...     [bata_merah]   \n",
       "\n",
       "   floor_materials                                         image_urls  \n",
       "0        [keramik]  [https://picture.rumah123.com/r123-images/720x...  \n",
       "1  [keramik, ubin]  [https://picture.rumah123.com/r123-images/720x...  \n",
       "2        [keramik]  [https://picture.rumah123.com/r123-images/720x...  \n",
       "3        [keramik]  [https://picture.rumah123.com/r123-images/720x...  \n",
       "4        [keramik]  [https://picture.rumah123.com/r123-images/720x...  \n",
       "\n",
       "[5 rows x 38 columns]"
      ]
     },
     "execution_count": 2,
     "metadata": {},
     "output_type": "execute_result"
    }
   ],
   "source": [
    "df = pd.read_parquet(\"../data/curated/marts_downstream_houses.parquet\")\n",
    "df.head()"
   ]
  },
  {
   "cell_type": "code",
   "execution_count": 15,
   "metadata": {},
   "outputs": [
    {
     "data": {
      "application/vnd.microsoft.datawrangler.viewer.v0+json": {
       "columns": [
        {
         "name": "index",
         "rawType": "int64",
         "type": "integer"
        },
        {
         "name": "first_digit",
         "rawType": "int64",
         "type": "integer"
        },
        {
         "name": "count",
         "rawType": "int64",
         "type": "integer"
        },
        {
         "name": "real_proportion",
         "rawType": "float64",
         "type": "float"
        },
        {
         "name": "benford_proportion",
         "rawType": "float64",
         "type": "float"
        }
       ],
       "conversionMethod": "pd.DataFrame",
       "ref": "d17a222b-bec5-44cb-b6f6-bea04dd52c02",
       "rows": [
        [
         "0",
         "1",
         "5830",
         "0.28941620333598095",
         "0.3010299956639812"
        ],
        [
         "1",
         "2",
         "3150",
         "0.15637410643367752",
         "0.17609125905568124"
        ],
        [
         "2",
         "3",
         "2573",
         "0.12773034154090548",
         "0.12493873660829992"
        ],
        [
         "3",
         "4",
         "2027",
         "0.1006254964257347",
         "0.09691001300805642"
        ],
        [
         "4",
         "5",
         "1643",
         "0.08156274821286735",
         "0.07918124604762482"
        ],
        [
         "5",
         "6",
         "1533",
         "0.0761020651310564",
         "0.06694678963061322"
        ],
        [
         "6",
         "7",
         "1266",
         "0.06284749801429707",
         "0.05799194697768673"
        ],
        [
         "7",
         "8",
         "1150",
         "0.05708895949166005",
         "0.05115252244738129"
        ],
        [
         "8",
         "9",
         "972",
         "0.048252581413820494",
         "0.04575749056067514"
        ]
       ],
       "shape": {
        "columns": 4,
        "rows": 9
       }
      },
      "text/html": [
       "<div>\n",
       "<style scoped>\n",
       "    .dataframe tbody tr th:only-of-type {\n",
       "        vertical-align: middle;\n",
       "    }\n",
       "\n",
       "    .dataframe tbody tr th {\n",
       "        vertical-align: top;\n",
       "    }\n",
       "\n",
       "    .dataframe thead th {\n",
       "        text-align: right;\n",
       "    }\n",
       "</style>\n",
       "<table border=\"1\" class=\"dataframe\">\n",
       "  <thead>\n",
       "    <tr style=\"text-align: right;\">\n",
       "      <th></th>\n",
       "      <th>first_digit</th>\n",
       "      <th>count</th>\n",
       "      <th>real_proportion</th>\n",
       "      <th>benford_proportion</th>\n",
       "    </tr>\n",
       "  </thead>\n",
       "  <tbody>\n",
       "    <tr>\n",
       "      <th>0</th>\n",
       "      <td>1</td>\n",
       "      <td>5830</td>\n",
       "      <td>0.289416</td>\n",
       "      <td>0.301030</td>\n",
       "    </tr>\n",
       "    <tr>\n",
       "      <th>1</th>\n",
       "      <td>2</td>\n",
       "      <td>3150</td>\n",
       "      <td>0.156374</td>\n",
       "      <td>0.176091</td>\n",
       "    </tr>\n",
       "    <tr>\n",
       "      <th>2</th>\n",
       "      <td>3</td>\n",
       "      <td>2573</td>\n",
       "      <td>0.127730</td>\n",
       "      <td>0.124939</td>\n",
       "    </tr>\n",
       "    <tr>\n",
       "      <th>3</th>\n",
       "      <td>4</td>\n",
       "      <td>2027</td>\n",
       "      <td>0.100625</td>\n",
       "      <td>0.096910</td>\n",
       "    </tr>\n",
       "    <tr>\n",
       "      <th>4</th>\n",
       "      <td>5</td>\n",
       "      <td>1643</td>\n",
       "      <td>0.081563</td>\n",
       "      <td>0.079181</td>\n",
       "    </tr>\n",
       "    <tr>\n",
       "      <th>5</th>\n",
       "      <td>6</td>\n",
       "      <td>1533</td>\n",
       "      <td>0.076102</td>\n",
       "      <td>0.066947</td>\n",
       "    </tr>\n",
       "    <tr>\n",
       "      <th>6</th>\n",
       "      <td>7</td>\n",
       "      <td>1266</td>\n",
       "      <td>0.062847</td>\n",
       "      <td>0.057992</td>\n",
       "    </tr>\n",
       "    <tr>\n",
       "      <th>7</th>\n",
       "      <td>8</td>\n",
       "      <td>1150</td>\n",
       "      <td>0.057089</td>\n",
       "      <td>0.051153</td>\n",
       "    </tr>\n",
       "    <tr>\n",
       "      <th>8</th>\n",
       "      <td>9</td>\n",
       "      <td>972</td>\n",
       "      <td>0.048253</td>\n",
       "      <td>0.045757</td>\n",
       "    </tr>\n",
       "  </tbody>\n",
       "</table>\n",
       "</div>"
      ],
      "text/plain": [
       "   first_digit  count  real_proportion  benford_proportion\n",
       "0            1   5830         0.289416            0.301030\n",
       "1            2   3150         0.156374            0.176091\n",
       "2            3   2573         0.127730            0.124939\n",
       "3            4   2027         0.100625            0.096910\n",
       "4            5   1643         0.081563            0.079181\n",
       "5            6   1533         0.076102            0.066947\n",
       "6            7   1266         0.062847            0.057992\n",
       "7            8   1150         0.057089            0.051153\n",
       "8            9    972         0.048253            0.045757"
      ]
     },
     "execution_count": 15,
     "metadata": {},
     "output_type": "execute_result"
    }
   ],
   "source": [
    "df_benford = df[\"price\"].astype(str).str[0].value_counts().reset_index().rename(columns={\"price\": \"first_digit\"})\n",
    "df_benford[\"first_digit\"] = df_benford[\"first_digit\"].astype(int)\n",
    "df_benford[\"real_proportion\"] = df_benford[\"count\"] / df_benford[\"count\"].sum()\n",
    "df_benford[\"benford_proportion\"] = df_benford[\"first_digit\"].apply(lambda first_digit: np.log10(1 + 1 / first_digit))\n",
    "df_benford"
   ]
  },
  {
   "cell_type": "code",
   "execution_count": 14,
   "metadata": {},
   "outputs": [
    {
     "data": {
      "image/png": "[encoded data removed]",
      "text/plain": [
       "<Figure size 640x480 with 1 Axes>"
      ]
     },
     "metadata": {},
     "output_type": "display_data"
    }
   ],
   "source": [
    "fig, ax = plt.subplots(sharey=True)\n",
    "\n",
    "ax.bar(df_benford[\"first_digit\"], df_benford[\"real_proportion\"], label=\"Actual proportion\")\n",
    "ax.plot(df_benford[\"first_digit\"], df_benford[\"benford_proportion\"], label=\"Expected proportion by Benford's Law\", color=\"red\", marker=\"o\")\n",
    "ax.set_xlabel(\"First digit\")\n",
    "ax.set_ylabel(\"Proportion\")\n",
    "\n",
    "ax.legend()\n",
    "plt.show()"
   ]
  },
  {
   "cell_type": "code",
   "execution_count": null,
   "metadata": {},
   "outputs": [
    {
     "data": {
      "text/plain": [
       "Power_divergenceResult(statistic=0.00541583804023895, pvalue=0.9999999999977645)"
      ]
     },
     "execution_count": 17,
     "metadata": {},
     "output_type": "execute_result"
    }
   ],
   "source": [
    "# H0 = the observed distribution follows Benford's Law\n",
    "# H1 = the observed distribution does not follow Benford's Law\n",
    "\n",
    "scipy.stats.chisquare(df_benford[\"real_proportion\"], df_benford[\"benford_proportion\"])"
   ]
  },
  {
   "cell_type": "code",
   "execution_count": null,
   "metadata": {},
   "outputs": [],
   "source": []
  }
 ],
 "metadata": {
  "kernelspec": {
   "display_name": ".venv",
   "language": "python",
   "name": "python3"
  },
  "language_info": {
   "codemirror_mode": {
    "name": "ipython",
    "version": 3
   },
   "file_extension": ".py",
   "mimetype": "text/x-python",
   "name": "python",
   "nbconvert_exporter": "python",
   "pygments_lexer": "ipython3",
   "version": "3.11.9"
  }
 },
 "nbformat": 4,
 "nbformat_minor": 2
}
