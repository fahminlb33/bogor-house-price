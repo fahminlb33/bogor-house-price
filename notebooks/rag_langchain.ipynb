{
 "cells": [
  {
   "cell_type": "code",
   "execution_count": 50,
   "metadata": {},
   "outputs": [],
   "source": [
    "import os\n",
    "import re\n",
    "import json"
   ]
  },
  {
   "cell_type": "markdown",
   "metadata": {},
   "source": [
    "## Data Loading"
   ]
  },
  {
   "cell_type": "code",
   "execution_count": 2,
   "metadata": {},
   "outputs": [],
   "source": [
    "import pandas as pd"
   ]
  },
  {
   "cell_type": "code",
   "execution_count": 3,
   "metadata": {},
   "outputs": [
    {
     "name": "stdout",
     "output_type": "stream",
     "text": [
      "<class 'pandas.core.frame.DataFrame'>\n",
      "RangeIndex: 10 entries, 0 to 9\n",
      "Data columns (total 30 columns):\n",
      " #   Column                Non-Null Count  Dtype  \n",
      "---  ------                --------------  -----  \n",
      " 0   id                    10 non-null     object \n",
      " 1   district              10 non-null     object \n",
      " 2   city                  10 non-null     object \n",
      " 3   description           10 non-null     object \n",
      " 4   url                   10 non-null     object \n",
      " 5   price                 10 non-null     float64\n",
      " 6   carport               10 non-null     int32  \n",
      " 7   dapur                 10 non-null     int32  \n",
      " 8   daya_listrik          10 non-null     float32\n",
      " 9   facility_ac           10 non-null     float64\n",
      " 10  facility_keamanan     10 non-null     float64\n",
      " 11  facility_laundry      10 non-null     float64\n",
      " 12  facility_masjid       10 non-null     float64\n",
      " 13  house_mat_bata_hebel  10 non-null     float64\n",
      " 14  house_mat_bata_merah  10 non-null     float64\n",
      " 15  jumlah_lantai         10 non-null     int32  \n",
      " 16  kamar_mandi           10 non-null     int32  \n",
      " 17  kamar_mandi_pembantu  10 non-null     int32  \n",
      " 18  kamar_pembantu        10 non-null     int32  \n",
      " 19  kamar_tidur           10 non-null     int32  \n",
      " 20  lebar_jalan           10 non-null     float32\n",
      " 21  luas_bangunan         10 non-null     float32\n",
      " 22  luas_tanah            10 non-null     float32\n",
      " 23  ruang_makan           10 non-null     int32  \n",
      " 24  ruang_tamu            10 non-null     int32  \n",
      " 25  tag_cash_bertahap     10 non-null     float64\n",
      " 26  tag_komplek           10 non-null     float64\n",
      " 27  tag_kpr               10 non-null     float64\n",
      " 28  tag_perumahan         10 non-null     float64\n",
      " 29  tahun_dibangun        10 non-null     int32  \n",
      "dtypes: float32(4), float64(11), int32(10), object(5)\n",
      "memory usage: 1.9+ KB\n"
     ]
    }
   ],
   "source": [
    "df = pd.read_parquet(\"../dataset/curated/marts_llm_houses.parquet\")\n",
    "df.info()"
   ]
  },
  {
   "cell_type": "code",
   "execution_count": 4,
   "metadata": {},
   "outputs": [
    {
     "data": {
      "text/html": [
       "<div>\n",
       "<style scoped>\n",
       "    .dataframe tbody tr th:only-of-type {\n",
       "        vertical-align: middle;\n",
       "    }\n",
       "\n",
       "    .dataframe tbody tr th {\n",
       "        vertical-align: top;\n",
       "    }\n",
       "\n",
       "    .dataframe thead th {\n",
       "        text-align: right;\n",
       "    }\n",
       "</style>\n",
       "<table border=\"1\" class=\"dataframe\">\n",
       "  <thead>\n",
       "    <tr style=\"text-align: right;\">\n",
       "      <th></th>\n",
       "      <th>id</th>\n",
       "      <th>district</th>\n",
       "      <th>city</th>\n",
       "      <th>description</th>\n",
       "      <th>url</th>\n",
       "      <th>price</th>\n",
       "      <th>carport</th>\n",
       "      <th>dapur</th>\n",
       "      <th>daya_listrik</th>\n",
       "      <th>facility_ac</th>\n",
       "      <th>...</th>\n",
       "      <th>lebar_jalan</th>\n",
       "      <th>luas_bangunan</th>\n",
       "      <th>luas_tanah</th>\n",
       "      <th>ruang_makan</th>\n",
       "      <th>ruang_tamu</th>\n",
       "      <th>tag_cash_bertahap</th>\n",
       "      <th>tag_komplek</th>\n",
       "      <th>tag_kpr</th>\n",
       "      <th>tag_perumahan</th>\n",
       "      <th>tahun_dibangun</th>\n",
       "    </tr>\n",
       "  </thead>\n",
       "  <tbody>\n",
       "    <tr>\n",
       "      <th>0</th>\n",
       "      <td>hos15767028</td>\n",
       "      <td>Sentul City</td>\n",
       "      <td>Bogor</td>\n",
       "      <td>Dekat Fasilitas Bisnis dan Hutan Hijau Sejuk M...</td>\n",
       "      <td>https://www.rumah123.com/properti/bogor/hos157...</td>\n",
       "      <td>850.0</td>\n",
       "      <td>1</td>\n",
       "      <td>1</td>\n",
       "      <td>2200.0</td>\n",
       "      <td>2.0</td>\n",
       "      <td>...</td>\n",
       "      <td>3.0</td>\n",
       "      <td>60.0</td>\n",
       "      <td>90.0</td>\n",
       "      <td>1</td>\n",
       "      <td>1</td>\n",
       "      <td>0.0</td>\n",
       "      <td>1.0</td>\n",
       "      <td>1.0</td>\n",
       "      <td>1.0</td>\n",
       "      <td>0</td>\n",
       "    </tr>\n",
       "    <tr>\n",
       "      <th>1</th>\n",
       "      <td>hos16035504</td>\n",
       "      <td>Bojong Gede</td>\n",
       "      <td>Bogor</td>\n",
       "      <td>Luas Tanah : 72\\nLuas Bangunan : 40\\nKamar Tid...</td>\n",
       "      <td>https://www.rumah123.com/properti/bogor/hos160...</td>\n",
       "      <td>563.0</td>\n",
       "      <td>1</td>\n",
       "      <td>1</td>\n",
       "      <td>1300.0</td>\n",
       "      <td>2.0</td>\n",
       "      <td>...</td>\n",
       "      <td>3.0</td>\n",
       "      <td>40.0</td>\n",
       "      <td>72.0</td>\n",
       "      <td>0</td>\n",
       "      <td>0</td>\n",
       "      <td>1.0</td>\n",
       "      <td>0.0</td>\n",
       "      <td>1.0</td>\n",
       "      <td>0.0</td>\n",
       "      <td>2023</td>\n",
       "    </tr>\n",
       "  </tbody>\n",
       "</table>\n",
       "<p>2 rows × 30 columns</p>\n",
       "</div>"
      ],
      "text/plain": [
       "            id     district   city  \\\n",
       "0  hos15767028  Sentul City  Bogor   \n",
       "1  hos16035504  Bojong Gede  Bogor   \n",
       "\n",
       "                                         description  \\\n",
       "0  Dekat Fasilitas Bisnis dan Hutan Hijau Sejuk M...   \n",
       "1  Luas Tanah : 72\\nLuas Bangunan : 40\\nKamar Tid...   \n",
       "\n",
       "                                                 url  price  carport  dapur  \\\n",
       "0  https://www.rumah123.com/properti/bogor/hos157...  850.0        1      1   \n",
       "1  https://www.rumah123.com/properti/bogor/hos160...  563.0        1      1   \n",
       "\n",
       "   daya_listrik  facility_ac  ...  lebar_jalan  luas_bangunan  luas_tanah  \\\n",
       "0        2200.0          2.0  ...          3.0           60.0        90.0   \n",
       "1        1300.0          2.0  ...          3.0           40.0        72.0   \n",
       "\n",
       "   ruang_makan  ruang_tamu  tag_cash_bertahap  tag_komplek  tag_kpr  \\\n",
       "0            1           1                0.0          1.0      1.0   \n",
       "1            0           0                1.0          0.0      1.0   \n",
       "\n",
       "   tag_perumahan  tahun_dibangun  \n",
       "0            1.0               0  \n",
       "1            0.0            2023  \n",
       "\n",
       "[2 rows x 30 columns]"
      ]
     },
     "execution_count": 4,
     "metadata": {},
     "output_type": "execute_result"
    }
   ],
   "source": [
    "df.head(2)"
   ]
  },
  {
   "cell_type": "markdown",
   "metadata": {},
   "source": [
    "## Preprocessor"
   ]
  },
  {
   "cell_type": "code",
   "execution_count": 5,
   "metadata": {},
   "outputs": [],
   "source": [
    "from jinja2 import Environment, FileSystemLoader, select_autoescape"
   ]
  },
  {
   "cell_type": "code",
   "execution_count": 63,
   "metadata": {},
   "outputs": [],
   "source": [
    "def norm_description(s: str) -> str:\n",
    "      # remove emojis\n",
    "    s = s.encode('ascii', 'ignore').decode('ascii')\n",
    "    \n",
    "    # remove non-ascii characters\n",
    "    s = re.sub(r'[^\\x00-\\x7F]+', '', s)\n",
    "\n",
    "    # convert newlines to full stops\n",
    "    s = s.replace('\\n', '. ')\n",
    "\n",
    "    # remove multiple spaces\n",
    "    s = re.sub(r'\\s+', ' ', s)\n",
    "\n",
    "    # remove space before punctuation\n",
    "    s = re.sub(r'\\s([?.!:\"](?:\\s|$))', r'\\1', s)\n",
    "\n",
    "    # remove double punctuation\n",
    "    s = re.sub(r'([?.!\"])([?.!\"])+', r'\\1', s)\n",
    "    \n",
    "    return s\n",
    "\n",
    "def norm_facilities(tp) -> str:\n",
    "    s = \"\"\n",
    "\n",
    "    if tp.facility_ac > 0:\n",
    "        s += \"AC, \"\n",
    "    if tp.facility_keamanan > 0:\n",
    "        s += \"keamanan/satpam, \"\n",
    "    if tp.facility_laundry > 0:\n",
    "        s += \"laundry, \"\n",
    "    if tp.facility_masjid > 0:\n",
    "        s += \"masjid, \"\n",
    "    if tp.ruang_makan > 0:\n",
    "        s += \"ruang makan, \"\n",
    "    if tp.ruang_tamu > 0:\n",
    "        s += \"ruang tamu, \"\n",
    "\n",
    "    if s == \"\":\n",
    "        return \"tidak disebutkan\"\n",
    "\n",
    "    return s[:-2]\n",
    "\n",
    "def norm_house_mat(tp) -> str:\n",
    "    s = \"\"\n",
    "\n",
    "    if tp.house_mat_bata_hebel > 0:\n",
    "        s += \"bata hebel, \"\n",
    "    if tp.house_mat_bata_merah > 0:\n",
    "        s += \"bata merah, \"\n",
    "\n",
    "    if s == \"\":\n",
    "        return \"tidak disebutkan\"\n",
    "    \n",
    "    return s[:-2]\n",
    "\n",
    "def norm_tag(tp) -> str:\n",
    "    s = \"\"\n",
    "\n",
    "    if tp.tag_cash_bertahap > 0:\n",
    "        s += \"cash bertahap, \"\n",
    "    if tp.tag_komplek > 0:\n",
    "        s += \"komplek, \"\n",
    "    if tp.tag_kpr > 0:\n",
    "        s += \"KPR, \"\n",
    "    if tp.tag_perumahan > 0:\n",
    "        s += \"perumahan, \"\n",
    "\n",
    "    if s == \"\":\n",
    "        return \"tidak disebutkan\"\n",
    "    \n",
    "    return s[:-2]\n",
    "\n",
    "def norm_scalar(s: float | int, suffix: str = '', default_value: str = 'tidak disebutkan') -> str:\n",
    "    if s == 0:\n",
    "        return default_value\n",
    "    \n",
    "    return f\"{s}{suffix}\"\n",
    "\n",
    "def num_max(x, y):\n",
    "    if x > y:\n",
    "        return x\n",
    "    return y"
   ]
  },
  {
   "cell_type": "code",
   "execution_count": 66,
   "metadata": {},
   "outputs": [],
   "source": [
    "fs_loader = FileSystemLoader(\"../templates\")\n",
    "env = Environment(loader=fs_loader, autoescape=select_autoescape())\n",
    "\n",
    "env.filters['norm_description'] = norm_description\n",
    "env.filters['norm_facilities'] = norm_facilities\n",
    "env.filters['norm_house_mat'] = norm_house_mat\n",
    "env.filters['norm_tag'] = norm_tag\n",
    "env.filters['norm_scalar'] = norm_scalar\n",
    "env.filters['num_max'] = num_max"
   ]
  },
  {
   "cell_type": "code",
   "execution_count": 67,
   "metadata": {},
   "outputs": [
    {
     "data": {
      "text/plain": [
       "'Harga: Rp850.000.000.0\\nAlamat: Sentul City, Bogor, Indonesia\\nCarport: 1\\nDapur: 1\\nDaya listrik: 2200 watt\\nJumlah lantai: 1\\nKamar mandi: 1\\nKamar tidur: 2\\nKamar pembantu: 1\\nLebar jalan: 3 cars\\nLuas tanah: 90.0 m^2\\nLuas bangunan: 60.0 m^2\\nTahun dibangun: tidak disebutkan\\nFasilitas: AC, keamanan/satpam, laundry, ruang makan, ruang tamu\\nBahan bangunan: bata merah\\nTag: complex, mortgage, housing estate\\nDeskripsi: Dekat Fasilitas Bisnis dan Hutan Hijau Sejuk Menjadi Kelebihan Dari Rumah Ini'"
      ]
     },
     "execution_count": 67,
     "metadata": {},
     "output_type": "execute_result"
    }
   ],
   "source": [
    "row_sample = next(df.itertuples())\n",
    "env.get_template(\"document.jinja2\").render(row=row_sample)"
   ]
  },
  {
   "cell_type": "code",
   "execution_count": 73,
   "metadata": {},
   "outputs": [
    {
     "data": {
      "text/plain": [
       "'Dijual rumah dengan harga Rp850.000.000 yang beralamat di Sentul City, Bogor, Indonesia.\\nLuas tanah 90.0 meter persegi dengan luas bangunan 60.0 meter persegi .\\nRumah terdiri atas 1 lantai dengan 2 kamar tidur, 1 kamar mandi, dan 1 kamar pembantu.\\nFasilitas yang tersedia adalah 1 carport, jalan muat 3 mobil, 1 dapur, listrik 2200 VA.\\n\\nFasilitas: AC, keamanan/satpam, laundry, ruang makan, ruang tamu\\n\\nBahan bangunan: bata merah\\n\\nTag: complex, mortgage, housing estate\\n\\nDeskripsi tambahan:\\nDekat Fasilitas Bisnis dan Hutan Hijau Sejuk Menjadi Kelebihan Dari Rumah Ini'"
      ]
     },
     "execution_count": 73,
     "metadata": {},
     "output_type": "execute_result"
    }
   ],
   "source": [
    "row_sample = next(df.itertuples())\n",
    "env.get_template(\"document_v2.jinja2\").render(row=row_sample)"
   ]
  },
  {
   "cell_type": "markdown",
   "metadata": {},
   "source": [
    "## Embedding"
   ]
  },
  {
   "cell_type": "code",
   "execution_count": 74,
   "metadata": {},
   "outputs": [],
   "source": [
    "from langchain.globals import set_debug\n",
    "set_debug(True)"
   ]
  },
  {
   "cell_type": "code",
   "execution_count": 75,
   "metadata": {},
   "outputs": [],
   "source": [
    "from langchain_community.callbacks.manager import get_openai_callback\n",
    "\n",
    "from langchain.text_splitter import RecursiveCharacterTextSplitter\n",
    "from langchain_core.documents import Document\n",
    "from langchain_openai import OpenAIEmbeddings\n",
    "from langchain_community.vectorstores.qdrant import Qdrant"
   ]
  },
  {
   "cell_type": "code",
   "execution_count": 100,
   "metadata": {},
   "outputs": [],
   "source": [
    "documents_raw = []\n",
    "document_template = env.get_template(\"document_v2.jinja2\")\n",
    "for row in df.itertuples():\n",
    "\tcontents = document_template.render(row=row)\n",
    "\tmetadata = dict(id=row.id,price=row.price,district=row.district,city=row.city,url=row.url)\n",
    "\tdocuments_raw.append(Document(contents,metadata=metadata))"
   ]
  },
  {
   "cell_type": "code",
   "execution_count": 89,
   "metadata": {},
   "outputs": [],
   "source": [
    "text_splitter = RecursiveCharacterTextSplitter(chunk_size=800, chunk_overlap=100)\n",
    "documents = text_splitter.split_documents(documents_raw)"
   ]
  },
  {
   "cell_type": "code",
   "execution_count": 90,
   "metadata": {},
   "outputs": [
    {
     "data": {
      "text/plain": [
       "[Document(page_content='-----\\nKode rumah: hos15767028\\nDijual rumah dengan harga Rp850.000.000 yang beralamat di Sentul City, Bogor, Indonesia.\\nLuas tanah 90.0 meter persegi dengan luas bangunan 60.0 meter persegi .\\nRumah terdiri atas 1 lantai dengan 2 kamar tidur, 1 kamar mandi, dan 1 kamar pembantu.\\nFasilitas yang tersedia adalah 1 carport, jalan muat 3 mobil, 1 dapur, listrik 2200 VA.\\n\\nFasilitas: AC, keamanan/satpam, laundry, ruang makan, ruang tamu\\n\\nBahan bangunan: bata merah\\n\\nTag: complex, mortgage, housing estate\\n\\nDeskripsi tambahan:\\nDekat Fasilitas Bisnis dan Hutan Hijau Sejuk Menjadi Kelebihan Dari Rumah Ini\\n-----', metadata={'id': 'hos15767028', 'price': 850.0, 'district': 'Sentul City', 'city': 'Bogor', 'url': 'https://www.rumah123.com/properti/bogor/hos15767028/'}),\n",
       " Document(page_content='-----\\nKode rumah: hos16035504\\nDijual rumah dengan harga Rp563.000.000 yang beralamat di Bojong Gede, Bogor, Indonesia.\\nLuas tanah 72.0 meter persegi dengan luas bangunan 40.0 meter persegi dan dibangun pada tahun 2023 .\\nRumah terdiri atas 1 lantai dengan 2 kamar tidur, 1 kamar mandi.\\nFasilitas yang tersedia adalah 1 carport, jalan muat 3 mobil, 1 dapur, listrik 1300 VA.\\n\\nFasilitas: AC, keamanan/satpam, masjid\\n\\nBahan bangunan: bata hebel\\n\\nTag: installments, mortgage', metadata={'id': 'hos16035504', 'price': 563.0, 'district': 'Bojong Gede', 'city': 'Bogor', 'url': 'https://www.rumah123.com/properti/bogor/hos16035504/'}),\n",
       " Document(page_content='Deskripsi tambahan:\\nLuas Tanah : 72\\nLuas Bangunan : 40\\nKamar Tidur : 1\\nKamar Mandi : 2\\nRuang Tamu\\nCarport : 1 Mobil\\nLantai : 1 Lantai\\nAir : Sumur Bor\\nListrik : 1.300\\nTipe : Perumahan\\nAkses : 3 Mobil\\nSurat : SHM, IMB, PBB, Lengkap dan sudah pecah.\\nFasilitas Rumah : Free Pompa Air, Toren dan Wastafel, Canopy\\nFasilitas Cluster : Security + CCTV 24 Jam, One Gate System, Ruang Terbuka Hijau, Musholla, Joging Track, Playground, Taman Bermain Aktif dan Lampu Penerangan Umum\\nRow Jalan : 8 meter\\nAkses Rumah:\\nTol Sawangan: 30 Menit\\nStasiun Citayam: 12 Menit\\nRS Citama: 15 Menit\\nPuskesmas: 1 Menit\\nMinimarket: 2 Menit\\nCibinong City Mall: 25 Menit\\nPasar: 16 Menit\\nStadion Pakansari: 28 Menit\\nBerbagai SD-SMA: 2-15 Menit\\nSurvey mohon janjian H-1\\nSiap Membantu Sampai Akad\\nProses KPR kami bantu!', metadata={'id': 'hos16035504', 'price': 563.0, 'district': 'Bojong Gede', 'city': 'Bogor', 'url': 'https://www.rumah123.com/properti/bogor/hos16035504/'}),\n",
       " Document(page_content='Survey mohon janjian H-1\\nSiap Membantu Sampai Akad\\nProses KPR kami bantu!\\nTunggu apalagi? Hubungi kami untuk konsultasi dan survei rumah impianmu!\\n-----', metadata={'id': 'hos16035504', 'price': 563.0, 'district': 'Bojong Gede', 'city': 'Bogor', 'url': 'https://www.rumah123.com/properti/bogor/hos16035504/'}),\n",
       " Document(page_content='-----\\nKode rumah: hos15530924\\nDijual rumah dengan harga Rp777.000.000 yang beralamat di Semplak, Bogor, Indonesia.\\nLuas tanah 70.0 meter persegi dengan luas bangunan 60.0 meter persegi dan dibangun pada tahun 2022 .\\nRumah terdiri atas 1 lantai dengan 2 kamar tidur, 2 kamar mandi.\\nFasilitas yang tersedia adalah 1 carport, jalan muat 3 mobil, 1 dapur, listrik 2200 VA.\\n\\nFasilitas: AC, keamanan/satpam, laundry, masjid, ruang makan, ruang tamu\\n\\nBahan bangunan: bata hebel\\n\\nTag: installments, complex, mortgage, housing estate', metadata={'id': 'hos15530924', 'price': 777.0, 'district': 'Semplak', 'city': 'Bogor', 'url': 'https://www.rumah123.com/properti/bogor/hos15530924/'}),\n",
       " Document(page_content='Deskripsi tambahan:\\nKawasan Islami Premium di Pusat Kota Bogor\\nMiliki Hunian Islami 2 Lantai di Kawasan Terbaik untuk Keluarga Anda, hanya 8 Menit ke Tol BORR Yasmin\\nKeunggulan\\n1. Islamic Green Living dengan Fasilitas Islami Terlengkap\\n2. Akses Super Strategis di Kota Bogor (O Km Jalan Raya Cifor Kota Bogor)\\n4. Desain Scandinavia Modern ( Bisa Custome Design )\\n5. Hanya 3 Km ke Tol BORR Yasmin Dekat Stasiun Bogor\\n6. Beautiful View dengan Udara yang cukup Sejuk\\n7. Lingkungan yang baik untuk meujudkan Peradaban Islami\\n8. Investasi Pasti Untung dengan Kenaikan Harga yang Stabil\\n9. Mengusung skema sesuai dengan standar Islam \\nFasilitas Kawasan :\\n- Masjid Daqwah Imam Al Mahdi\\n- Row Jalan Luas\\n- Rumah Tahfidz\\n- Panahan (Dikelola Muslim Bogor Archery)\\n- Coffe Shop Forrest Coffe', metadata={'id': 'hos15530924', 'price': 777.0, 'district': 'Semplak', 'city': 'Bogor', 'url': 'https://www.rumah123.com/properti/bogor/hos15530924/'}),\n",
       " Document(page_content='- Rumah Tahfidz\\n- Panahan (Dikelola Muslim Bogor Archery)\\n- Coffe Shop Forrest Coffe\\n- Area Hijau Bermain Anak\\n- Spot Instagamable\\nLokasi Super Strategis :\\n- 0 km Jalan Raya \\n- 3 km ke Tol BORR \\n- 3 km ke TransMart \\n- 5 Km Bintang Pelajar Islamic School\\n- 5 Km Sekolah At Taufik\\n-----', metadata={'id': 'hos15530924', 'price': 777.0, 'district': 'Semplak', 'city': 'Bogor', 'url': 'https://www.rumah123.com/properti/bogor/hos15530924/'}),\n",
       " Document(page_content='-----\\nKode rumah: hos15952986\\nDijual rumah dengan harga Rp1.950.000.000 yang beralamat di Parung, Bogor, Indonesia.\\nLuas tanah 200.0 meter persegi dengan luas bangunan 170.0 meter persegi .\\nRumah terdiri atas 2 lantai dengan 4 kamar tidur, 3 kamar mandi, dan 1 kamar pembantu.\\nFasilitas yang tersedia adalah 2 carport, jalan muat 3 mobil, 1 dapur, listrik 2200 VA.\\n\\nFasilitas: AC, keamanan/satpam, laundry, ruang makan, ruang tamu\\n\\nBahan bangunan: tidak disebutkan\\n\\nTag: complex, housing estate\\n\\nDeskripsi tambahan:\\nDi jual murah\\nRumah dua lantai siap huni\\nDi Telaga Kahuripan\\nParung Bogor\\nLokasi sangat strategis\\nView Lapangan Golf\\nRumah rapih dan terawat\\nLuas tanah 200 m2\\nLuas bangunan 170 m2\\nKamar tidur 4+1\\nKamar mandi 3+1\\nRuang keluarga lantai 1 dan 2 luas\\nHarga 1.950 M Nego\\n-----', metadata={'id': 'hos15952986', 'price': 1950.0, 'district': 'Parung', 'city': 'Bogor', 'url': 'https://www.rumah123.com/properti/bogor/hos15952986/'}),\n",
       " Document(page_content='-----\\nKode rumah: hos15912905\\nDijual rumah dengan harga Rp240.000.000 yang beralamat di Cileungsi, Bogor, Indonesia.\\nLuas tanah 90.0 meter persegi dengan luas bangunan 45.0 meter persegi dan dibangun pada tahun 2014 .\\nRumah terdiri atas 1 lantai dengan 2 kamar tidur, 1 kamar mandi.\\nFasilitas yang tersedia adalah 1 carport, jalan muat 2 mobil, 1 dapur, listrik 1300 VA.\\n\\nFasilitas: keamanan/satpam, ruang makan, ruang tamu\\n\\nBahan bangunan: bata hebel\\n\\nTag: mortgage\\n\\nDeskripsi tambahan:\\nRumah di Citra Indah City Cileungsi\\nLT: 90 m2, LB: 45 m2 (sudah diperluas dari 36 m2)\\nSHM di tangan\\nKT: 2, KM: 1\\nRuang keluarga\\nDapur + ruang makan indoor\\nCarport 1 mobil\\n-----', metadata={'id': 'hos15912905', 'price': 240.0, 'district': 'Cileungsi', 'city': 'Bogor', 'url': 'https://www.rumah123.com/properti/bogor/hos15912905/'}),\n",
       " Document(page_content='-----\\nKode rumah: hos15934530\\nDijual rumah dengan harga Rp735.000.000 yang beralamat di Cikeas, Bogor, Indonesia.\\nLuas tanah 60.0 meter persegi dengan luas bangunan 30.0 meter persegi dan dibangun pada tahun 2023 .\\nRumah terdiri atas 1 lantai dengan 2 kamar tidur, 1 kamar mandi.\\nFasilitas yang tersedia adalah 1 carport, jalan muat 2 mobil, 1 dapur, listrik 2200 VA.\\n\\nFasilitas: AC, keamanan/satpam, ruang makan, ruang tamu\\n\\nBahan bangunan: bata hebel\\n\\nTag: complex, mortgage, housing estate', metadata={'id': 'hos15934530', 'price': 735.0, 'district': 'Cikeas', 'city': 'Bogor', 'url': 'https://www.rumah123.com/properti/bogor/hos15934530/'}),\n",
       " Document(page_content='Bahan bangunan: bata hebel\\n\\nTag: complex, mortgage, housing estate\\n\\nDeskripsi tambahan:\\nRumah siap huni di dalam cluster elite cikeas\\nLt 60 lb 30 \\nKt 2 km 1\\nDengan konsep villa, suasana cluster Sangat Asri, udara masi sangat segar.\\nSangat cocok buat pasangan baru.\\nKemanan 24 jam ( Ona gate system)\\nLokasi super strategis \\n15 menit ke pintu Tol cikeas\\n15 menit ke transcibubur.\\nDekat dengan pusat pendidikan\\nDekat dengan pusat kesehatan\\nDekat dengan pusat perbelanjaan.\\nPokoknya dekat kenana mana.\\nPunya Rumah pribadi Rasa tinggal di villa.\\nInfo visit : \\nNURLAELA HIKARI\\n-----', metadata={'id': 'hos15934530', 'price': 735.0, 'district': 'Cikeas', 'city': 'Bogor', 'url': 'https://www.rumah123.com/properti/bogor/hos15934530/'}),\n",
       " Document(page_content='-----\\nKode rumah: hos16066812\\nDijual rumah dengan harga Rp600.000.000 yang beralamat di Bojong Gede, Bogor, Indonesia.\\nLuas tanah 86.0 meter persegi dengan luas bangunan 50.0 meter persegi dan dibangun pada tahun 2020 .\\nRumah terdiri atas 1 lantai dengan 2 kamar tidur, 1 kamar mandi.\\nFasilitas yang tersedia adalah 1 carport, jalan muat 2 mobil, 1 dapur, listrik 1300 VA.\\n\\nFasilitas: AC, keamanan/satpam, laundry, masjid, ruang makan, ruang tamu\\n\\nBahan bangunan: bata merah\\n\\nTag: complex, housing estate', metadata={'id': 'hos16066812', 'price': 600.0, 'district': 'Bojong Gede', 'city': 'Bogor', 'url': 'https://www.rumah123.com/properti/bogor/hos16066812/'}),\n",
       " Document(page_content='Bahan bangunan: bata merah\\n\\nTag: complex, housing estate\\n\\nDeskripsi tambahan:\\nRUMAH MURAH SHM & STRATEGIS\\nLuas Tanah 86 m2\\nAkses strategis DEKAT STASIUN BOJONGGEDE BOGOR\\nRumah Sudah Renovasi Furnished SHM di Komplek Tranboge Village Blok Srikaya No. 2 Kec. Bojong Gede, Kab. Bogor, Bogor\\nRumah di komplek terbesar di Bojong Gede BOGOR.\\nDengan Fasilitas:\\nLapangan Basket, Lapangan Voli, Lapangan Bulutangkis, Fasilitas Umum Bermain Anak, Masjid.\\nLINGKUNGAN RAMAH PENDUDUK\\nCocok untuk lingkungan keluarga ramah anak.\\nHubungi WA Frederik Tambunan (081280397xxx)\\n-----', metadata={'id': 'hos16066812', 'price': 600.0, 'district': 'Bojong Gede', 'city': 'Bogor', 'url': 'https://www.rumah123.com/properti/bogor/hos16066812/'}),\n",
       " Document(page_content='-----\\nKode rumah: hos16032315\\nDijual rumah dengan harga Rp326.000.000 yang beralamat di Cilebut, Bogor, Indonesia.\\nLuas tanah 60.0 meter persegi dengan luas bangunan 40.0 meter persegi dan dibangun pada tahun 2023 .\\nRumah terdiri atas 1 lantai dengan 2 kamar tidur, 1 kamar mandi.\\nFasilitas yang tersedia adalah 1 carport, jalan muat 2 mobil, 1 dapur, listrik 1300 VA.\\n\\nFasilitas: keamanan/satpam, laundry, masjid, ruang makan, ruang tamu\\n\\nBahan bangunan: bata hebel\\n\\nTag: complex, mortgage, housing estate', metadata={'id': 'hos16032315', 'price': 326.0, 'district': 'Cilebut', 'city': 'Bogor', 'url': 'https://www.rumah123.com/properti/bogor/hos16032315/'}),\n",
       " Document(page_content='Deskripsi tambahan:\\nDijual Rumah Full Renov\\nDi Vila Mutiara Bogor 2 Blok C2 No. 43 Cilebut Bogor\\n- Type 40/60 \\n- Bisa KPR Cicilan mulai 3 jutaan \\nSpesifikasi:\\n- Pondasi Batu Kali\\n- Struktur beton bertulang \\n- Lantai keramik \\n- Meja dapur full granit\\n- WC Kloset duduk dan shower\\n- Dinding Hebel plester aci finishing cat eksterior luar dalam\\n- Kusen jendela aluminium \\n- Pintu kayu\\n- Plafon Gypsum\\n- Rangka Atap Baja Ringan\\n- Genteng Keramik Berglazur lapis aluminium sheet \\n- Carport untuk 1 mobil dan 1 motor\\n- Sumur bor bonus mesin air dan toren\\n- Listrik 1300 W \\n- Pagar\\n- Desain minimalis \\n \\nAkses:\\n- 3,7 Km ke Stasiun Cilebut (10 menit)\\n- 4,6 Km ke Tol BORR (17 menit)\\n- 8 Km ke RS Hermina Bogor (25 menit)\\n- 16 Km ke AEON Mall Sentul via Tol BORR (30 menit)\\n- Jalan row 5 m (2 mobil)\\n-----', metadata={'id': 'hos16032315', 'price': 326.0, 'district': 'Cilebut', 'city': 'Bogor', 'url': 'https://www.rumah123.com/properti/bogor/hos16032315/'}),\n",
       " Document(page_content='-----\\nKode rumah: hos16044965\\nDijual rumah dengan harga Rp3.550.000.000 yang beralamat di Bogor Selatan, Bogor, Indonesia.\\nLuas tanah 270.0 meter persegi dengan luas bangunan 208.0 meter persegi dan dibangun pada tahun 2020 .\\nRumah terdiri atas 2 lantai dengan 3 kamar tidur, 3 kamar mandi, dan 1 kamar pembantu.\\nFasilitas yang tersedia adalah 2 carport, jalan muat 4 mobil, 2 dapur, listrik 5500 VA.\\n\\nFasilitas: AC, keamanan/satpam, laundry, masjid, ruang makan, ruang tamu\\n\\nBahan bangunan: bata hebel, bata merah\\n\\nTag: installments, complex, mortgage, housing estate', metadata={'id': 'hos16044965', 'price': 3550.0, 'district': 'Bogor Selatan', 'city': 'Bogor', 'url': 'https://www.rumah123.com/properti/bogor/hos16044965/'}),\n",
       " Document(page_content='Bahan bangunan: bata hebel, bata merah\\n\\nTag: installments, complex, mortgage, housing estate\\n\\nDeskripsi tambahan:\\nRUMAH MEWAH 2 LANTAI RANCAMAYA GOLF ESTATE FULL FURNISHED\\n- Bangunan Mewah dan Terawat\\n- Layout Lapang dan Nyaman\\n- Halaman Belakang & Samping Luas\\n- Keamanan 24 Jam\\n- Suasana Asri & Sejuk\\n- Dalam Cluster Eksklusif\\n- Posisi Rumah Hook & Utama\\n- CCTV & FULL FURNISHED\\nDekat Akses Tol Bocimi (Bogor Ciawi Sukabumi), Cahaya Rancamaya Islamic Boarding School, Area Wisata\\nLuas Tanah 270 mÃ\\x82Â²\\nLuas Bangunan 208 mÃ\\x82Â²\\nKamar Tidur 3\\nKamar Mandi 3\\nKamar Tidur ART 1\\nKamar Mandi ART 1\\nGudang \\nHalaman Belakang & Samping\\nTerdapat Space Kolam Renang\\nDapur Bersih & Kotor\\nListrik 5.500 watt\\nAir PDAM + Filter Hydro\\nCarport 2 Mobil\\nSHM IMB PBB LENGKAP\\nHarga Rp. 3,55 Milyar NEGO !!\\n-----', metadata={'id': 'hos16044965', 'price': 3550.0, 'district': 'Bogor Selatan', 'city': 'Bogor', 'url': 'https://www.rumah123.com/properti/bogor/hos16044965/'}),\n",
       " Document(page_content='-----\\nKode rumah: hos12335745\\nDijual rumah dengan harga Rp2.900.000.000 yang beralamat di Bojongsari, Bogor, Indonesia.\\nLuas tanah 144.0 meter persegi dengan luas bangunan 180.0 meter persegi .\\nRumah terdiri atas 1 lantai dengan 4 kamar tidur, 4 kamar mandi.\\nFasilitas yang tersedia adalah 2 carport, jalan muat 2 mobil, 1 dapur, listrik 3300 VA.\\n\\nFasilitas: AC, keamanan/satpam\\n\\nBahan bangunan: bata merah\\n\\nTag: installments, mortgage\\n\\nDeskripsi tambahan:\\nExclusive house \\nRumah mewah 3 lantai seperti di resort dengan view anak danau dan memiliki 30 fasilitas dalam cluster.\\nLuas tanah : 144 sqm\\nLuas banguna : 180,4sqm\\nKamar tidur : 4\\nKamar mandi : 4\\nCarport : 2\\nBalcony\\nSmartdoor\\n-----', metadata={'id': 'hos12335745', 'price': 2900.0, 'district': 'Bojongsari', 'city': 'Bogor', 'url': 'https://www.rumah123.com/properti/bogor/hos12335745/'})]"
      ]
     },
     "execution_count": 90,
     "metadata": {},
     "output_type": "execute_result"
    }
   ],
   "source": [
    "documents"
   ]
  },
  {
   "cell_type": "code",
   "execution_count": 91,
   "metadata": {},
   "outputs": [
    {
     "name": "stdout",
     "output_type": "stream",
     "text": [
      "Tokens Used: 0\n",
      "\tPrompt Tokens: 0\n",
      "\tCompletion Tokens: 0\n",
      "Successful Requests: 0\n",
      "Total Cost (USD): $0.0\n"
     ]
    }
   ],
   "source": [
    "with get_openai_callback() as cb:\n",
    "    embeddings = OpenAIEmbeddings(model=\"text-embedding-ada-002\")\n",
    "    qdrant = Qdrant.from_documents(documents, embeddings, url=\"localhost:6334\", prefer_grpc=True, collection_name=\"houses\")\n",
    "\n",
    "    print(cb)"
   ]
  },
  {
   "cell_type": "markdown",
   "metadata": {},
   "source": [
    "## RAG"
   ]
  },
  {
   "cell_type": "code",
   "execution_count": 81,
   "metadata": {},
   "outputs": [],
   "source": [
    "from langchain_openai import ChatOpenAI\n",
    "from langchain_core.output_parsers import StrOutputParser\n",
    "from langchain_core.runnables import RunnablePassthrough, RunnableParallel\n",
    "from langchain_core.prompts import PromptTemplate"
   ]
  },
  {
   "cell_type": "code",
   "execution_count": 82,
   "metadata": {},
   "outputs": [
    {
     "data": {
      "text/plain": [
       "[Document(page_content='Dijual rumah dengan harga Rp2.900.000.000 yang beralamat di Bojongsari, Bogor, Indonesia.\\nLuas tanah 144.0 meter persegi dengan luas bangunan 180.0 meter persegi .\\nRumah terdiri atas 1 lantai dengan 4 kamar tidur, 4 kamar mandi.\\nFasilitas yang tersedia adalah 2 carport, jalan muat 2 mobil, 1 dapur, listrik 3300 VA.\\n\\nFasilitas: AC, keamanan/satpam\\n\\nBahan bangunan: bata merah\\n\\nTag: installments, mortgage\\n\\nDeskripsi tambahan:\\nExclusive house \\nRumah mewah 3 lantai seperti di resort dengan view anak danau dan memiliki 30 fasilitas dalam cluster.\\nLuas tanah : 144 sqm\\nLuas banguna : 180,4sqm\\nKamar tidur : 4\\nKamar mandi : 4\\nCarport : 2\\nBalcony\\nSmartdoor', metadata={'district': 'Bojongsari', 'id': 'hos12335745', 'price': 2900.0, 'url': 'https://www.rumah123.com/properti/bogor/hos12335745/', 'city': 'Bogor', '_id': '036316a7-cd42-4343-8f32-7d8030a8a5c2', '_collection_name': 'houses'}),\n",
       " Document(page_content='Dijual rumah dengan harga Rp563.000.000 yang beralamat di Bojong Gede, Bogor, Indonesia.\\nLuas tanah 72.0 meter persegi dengan luas bangunan 40.0 meter persegi dan dibangun pada tahun 2023 .\\nRumah terdiri atas 1 lantai dengan 2 kamar tidur, 1 kamar mandi.\\nFasilitas yang tersedia adalah 1 carport, jalan muat 3 mobil, 1 dapur, listrik 1300 VA.\\n\\nFasilitas: AC, keamanan/satpam, masjid\\n\\nBahan bangunan: bata hebel\\n\\nTag: installments, mortgage', metadata={'url': 'https://www.rumah123.com/properti/bogor/hos16035504/', 'city': 'Bogor', 'district': 'Bojong Gede', 'price': 563.0, 'id': 'hos16035504', '_id': '65f7834d-8d11-41d3-8416-0ee05f7d76ad', '_collection_name': 'houses'}),\n",
       " Document(page_content='Dijual rumah dengan harga Rp600.000.000 yang beralamat di Bojong Gede, Bogor, Indonesia.\\nLuas tanah 86.0 meter persegi dengan luas bangunan 50.0 meter persegi dan dibangun pada tahun 2020 .\\nRumah terdiri atas 1 lantai dengan 2 kamar tidur, 1 kamar mandi.\\nFasilitas yang tersedia adalah 1 carport, jalan muat 2 mobil, 1 dapur, listrik 1300 VA.\\n\\nFasilitas: AC, keamanan/satpam, laundry, masjid, ruang makan, ruang tamu\\n\\nBahan bangunan: bata merah\\n\\nTag: complex, housing estate', metadata={'url': 'https://www.rumah123.com/properti/bogor/hos16066812/', 'district': 'Bojong Gede', 'price': 600.0, 'city': 'Bogor', 'id': 'hos16066812', '_id': '62b5e5c7-d59c-45ba-acf6-05d02464e965', '_collection_name': 'houses'}),\n",
       " Document(page_content='Dijual rumah dengan harga Rp3.550.000.000 yang beralamat di Bogor Selatan, Bogor, Indonesia.\\nLuas tanah 270.0 meter persegi dengan luas bangunan 208.0 meter persegi dan dibangun pada tahun 2020 .\\nRumah terdiri atas 2 lantai dengan 3 kamar tidur, 3 kamar mandi, dan 1 kamar pembantu.\\nFasilitas yang tersedia adalah 2 carport, jalan muat 4 mobil, 2 dapur, listrik 5500 VA.\\n\\nFasilitas: AC, keamanan/satpam, laundry, masjid, ruang makan, ruang tamu\\n\\nBahan bangunan: bata hebel, bata merah\\n\\nTag: installments, complex, mortgage, housing estate', metadata={'url': 'https://www.rumah123.com/properti/bogor/hos16044965/', 'id': 'hos16044965', 'district': 'Bogor Selatan', 'price': 3550.0, 'city': 'Bogor', '_id': '3ce6b30f-8f48-4827-b8b8-3b9a05dc7e9c', '_collection_name': 'houses'})]"
      ]
     },
     "execution_count": 82,
     "metadata": {},
     "output_type": "execute_result"
    }
   ],
   "source": [
    "qdrant.similarity_search(\"House with price below 100 million IDR\")"
   ]
  },
  {
   "cell_type": "code",
   "execution_count": 92,
   "metadata": {},
   "outputs": [],
   "source": [
    "llm = ChatOpenAI(model=\"gpt-3.5-turbo\")\n",
    "retriever = qdrant.as_retriever()"
   ]
  },
  {
   "cell_type": "code",
   "execution_count": 93,
   "metadata": {},
   "outputs": [],
   "source": [
    "tmpl = (\n",
    "    \"You are an assistant for house recommendation/suggestion tasks. \"\n",
    "    \"You will be given a few documents about property listing along with it's price, address, and specifications. \"\n",
    "    \"Give a summary about the house specs and address if you have a match. \"\n",
    "    \"Do not return the result as lists, but as a paragraph. \"\n",
    "    \"You can suggest more than one house based on the context. \"\n",
    "    \"If you don't know the answer, just say that you don't know. \"\n",
    "    \"Use five sentences maximum and keep the answer concise.\\n\\n\"\n",
    "    \"Context:\\n\"\n",
    "    \"###\\n\"\n",
    "    \"{context}\\n\"\n",
    "    \"###\\n\\n\"\n",
    "    \"Question: {question}\\n\"\n",
    "    \"Answer:\"\n",
    ")\n",
    "\n",
    "prompt = PromptTemplate.from_template(tmpl)"
   ]
  },
  {
   "cell_type": "code",
   "execution_count": 94,
   "metadata": {},
   "outputs": [],
   "source": [
    "def format_docs(docs):\n",
    "    return \"\\n\\n\".join(doc.page_content for doc in docs)\n",
    "\n",
    "rag_chain_from_docs = (\n",
    "  RunnablePassthrough.assign(context=(lambda x: format_docs(x[\"context\"])))\n",
    "  | prompt\n",
    "  | llm\n",
    "  | StrOutputParser()\n",
    ")\n",
    "\n",
    "rag_chain_with_source = RunnableParallel({\"context\": retriever, \"question\": RunnablePassthrough() }) \\\n",
    "    .assign(answer=rag_chain_from_docs)"
   ]
  },
  {
   "cell_type": "code",
   "execution_count": 95,
   "metadata": {},
   "outputs": [
    {
     "name": "stdout",
     "output_type": "stream",
     "text": [
      "\u001b[32;1m\u001b[1;3m[chain/start]\u001b[0m \u001b[1m[1:chain:RunnableSequence] Entering Chain run with input:\n",
      "\u001b[0m{\n",
      "  \"input\": \"Rumah dengan setidaknya 2 kamar tidur\"\n",
      "}\n",
      "\u001b[32;1m\u001b[1;3m[chain/start]\u001b[0m \u001b[1m[1:chain:RunnableSequence > 2:chain:RunnableParallel<context,question>] Entering Chain run with input:\n",
      "\u001b[0m{\n",
      "  \"input\": \"Rumah dengan setidaknya 2 kamar tidur\"\n",
      "}\n",
      "\u001b[32;1m\u001b[1;3m[chain/start]\u001b[0m \u001b[1m[1:chain:RunnableSequence > 2:chain:RunnableParallel<context,question> > 4:chain:RunnablePassthrough] Entering Chain run with input:\n",
      "\u001b[0m{\n",
      "  \"input\": \"Rumah dengan setidaknya 2 kamar tidur\"\n",
      "}\n",
      "\u001b[36;1m\u001b[1;3m[chain/end]\u001b[0m \u001b[1m[1:chain:RunnableSequence > 2:chain:RunnableParallel<context,question> > 4:chain:RunnablePassthrough] [1ms] Exiting Chain run with output:\n",
      "\u001b[0m{\n",
      "  \"output\": \"Rumah dengan setidaknya 2 kamar tidur\"\n",
      "}\n",
      "\u001b[36;1m\u001b[1;3m[chain/end]\u001b[0m \u001b[1m[1:chain:RunnableSequence > 2:chain:RunnableParallel<context,question>] [418ms] Exiting Chain run with output:\n",
      "\u001b[0m[outputs]\n",
      "\u001b[32;1m\u001b[1;3m[chain/start]\u001b[0m \u001b[1m[1:chain:RunnableSequence > 5:chain:RunnableAssign<answer>] Entering Chain run with input:\n",
      "\u001b[0m[inputs]\n",
      "\u001b[32;1m\u001b[1;3m[chain/start]\u001b[0m \u001b[1m[1:chain:RunnableSequence > 5:chain:RunnableAssign<answer> > 6:chain:RunnableParallel<answer>] Entering Chain run with input:\n",
      "\u001b[0m[inputs]\n",
      "\u001b[32;1m\u001b[1;3m[chain/start]\u001b[0m \u001b[1m[1:chain:RunnableSequence > 5:chain:RunnableAssign<answer> > 6:chain:RunnableParallel<answer> > 7:chain:RunnableSequence] Entering Chain run with input:\n",
      "\u001b[0m[inputs]\n",
      "\u001b[32;1m\u001b[1;3m[chain/start]\u001b[0m \u001b[1m[1:chain:RunnableSequence > 5:chain:RunnableAssign<answer> > 6:chain:RunnableParallel<answer> > 7:chain:RunnableSequence > 8:chain:RunnableAssign<context>] Entering Chain run with input:\n",
      "\u001b[0m[inputs]\n",
      "\u001b[32;1m\u001b[1;3m[chain/start]\u001b[0m \u001b[1m[1:chain:RunnableSequence > 5:chain:RunnableAssign<answer> > 6:chain:RunnableParallel<answer> > 7:chain:RunnableSequence > 8:chain:RunnableAssign<context> > 9:chain:RunnableParallel<context>] Entering Chain run with input:\n",
      "\u001b[0m[inputs]\n",
      "\u001b[32;1m\u001b[1;3m[chain/start]\u001b[0m \u001b[1m[1:chain:RunnableSequence > 5:chain:RunnableAssign<answer> > 6:chain:RunnableParallel<answer> > 7:chain:RunnableSequence > 8:chain:RunnableAssign<context> > 9:chain:RunnableParallel<context> > 10:chain:RunnableLambda] Entering Chain run with input:\n",
      "\u001b[0m[inputs]\n",
      "\u001b[36;1m\u001b[1;3m[chain/end]\u001b[0m \u001b[1m[1:chain:RunnableSequence > 5:chain:RunnableAssign<answer> > 6:chain:RunnableParallel<answer> > 7:chain:RunnableSequence > 8:chain:RunnableAssign<context> > 9:chain:RunnableParallel<context> > 10:chain:RunnableLambda] [1ms] Exiting Chain run with output:\n",
      "\u001b[0m{\n",
      "  \"output\": \"-----\\nKode rumah: hos16044965\\nDijual rumah dengan harga Rp3.550.000.000 yang beralamat di Bogor Selatan, Bogor, Indonesia.\\nLuas tanah 270.0 meter persegi dengan luas bangunan 208.0 meter persegi dan dibangun pada tahun 2020 .\\nRumah terdiri atas 2 lantai dengan 3 kamar tidur, 3 kamar mandi, dan 1 kamar pembantu.\\nFasilitas yang tersedia adalah 2 carport, jalan muat 4 mobil, 2 dapur, listrik 5500 VA.\\n\\nFasilitas: AC, keamanan/satpam, laundry, masjid, ruang makan, ruang tamu\\n\\nBahan bangunan: bata hebel, bata merah\\n\\nTag: installments, complex, mortgage, housing estate\\n\\n-----\\nKode rumah: hos12335745\\nDijual rumah dengan harga Rp2.900.000.000 yang beralamat di Bojongsari, Bogor, Indonesia.\\nLuas tanah 144.0 meter persegi dengan luas bangunan 180.0 meter persegi .\\nRumah terdiri atas 1 lantai dengan 4 kamar tidur, 4 kamar mandi.\\nFasilitas yang tersedia adalah 2 carport, jalan muat 2 mobil, 1 dapur, listrik 3300 VA.\\n\\nFasilitas: AC, keamanan/satpam\\n\\nBahan bangunan: bata merah\\n\\nTag: installments, mortgage\\n\\nDeskripsi tambahan:\\nExclusive house \\nRumah mewah 3 lantai seperti di resort dengan view anak danau dan memiliki 30 fasilitas dalam cluster.\\nLuas tanah : 144 sqm\\nLuas banguna : 180,4sqm\\nKamar tidur : 4\\nKamar mandi : 4\\nCarport : 2\\nBalcony\\nSmartdoor\\n-----\\n\\nDeskripsi tambahan:\\nDijual Rumah Full Renov\\nDi Vila Mutiara Bogor 2 Blok C2 No. 43 Cilebut Bogor\\n- Type 40/60 \\n- Bisa KPR Cicilan mulai 3 jutaan \\nSpesifikasi:\\n- Pondasi Batu Kali\\n- Struktur beton bertulang \\n- Lantai keramik \\n- Meja dapur full granit\\n- WC Kloset duduk dan shower\\n- Dinding Hebel plester aci finishing cat eksterior luar dalam\\n- Kusen jendela aluminium \\n- Pintu kayu\\n- Plafon Gypsum\\n- Rangka Atap Baja Ringan\\n- Genteng Keramik Berglazur lapis aluminium sheet \\n- Carport untuk 1 mobil dan 1 motor\\n- Sumur bor bonus mesin air dan toren\\n- Listrik 1300 W \\n- Pagar\\n- Desain minimalis \\n \\nAkses:\\n- 3,7 Km ke Stasiun Cilebut (10 menit)\\n- 4,6 Km ke Tol BORR (17 menit)\\n- 8 Km ke RS Hermina Bogor (25 menit)\\n- 16 Km ke AEON Mall Sentul via Tol BORR (30 menit)\\n- Jalan row 5 m (2 mobil)\\n-----\\n\\n-----\\nKode rumah: hos15952986\\nDijual rumah dengan harga Rp1.950.000.000 yang beralamat di Parung, Bogor, Indonesia.\\nLuas tanah 200.0 meter persegi dengan luas bangunan 170.0 meter persegi .\\nRumah terdiri atas 2 lantai dengan 4 kamar tidur, 3 kamar mandi, dan 1 kamar pembantu.\\nFasilitas yang tersedia adalah 2 carport, jalan muat 3 mobil, 1 dapur, listrik 2200 VA.\\n\\nFasilitas: AC, keamanan/satpam, laundry, ruang makan, ruang tamu\\n\\nBahan bangunan: tidak disebutkan\\n\\nTag: complex, housing estate\\n\\nDeskripsi tambahan:\\nDi jual murah\\nRumah dua lantai siap huni\\nDi Telaga Kahuripan\\nParung Bogor\\nLokasi sangat strategis\\nView Lapangan Golf\\nRumah rapih dan terawat\\nLuas tanah 200 m2\\nLuas bangunan 170 m2\\nKamar tidur 4+1\\nKamar mandi 3+1\\nRuang keluarga lantai 1 dan 2 luas\\nHarga 1.950 M Nego\\n-----\"\n",
      "}\n",
      "\u001b[36;1m\u001b[1;3m[chain/end]\u001b[0m \u001b[1m[1:chain:RunnableSequence > 5:chain:RunnableAssign<answer> > 6:chain:RunnableParallel<answer> > 7:chain:RunnableSequence > 8:chain:RunnableAssign<context> > 9:chain:RunnableParallel<context>] [3ms] Exiting Chain run with output:\n",
      "\u001b[0m{\n",
      "  \"context\": \"-----\\nKode rumah: hos16044965\\nDijual rumah dengan harga Rp3.550.000.000 yang beralamat di Bogor Selatan, Bogor, Indonesia.\\nLuas tanah 270.0 meter persegi dengan luas bangunan 208.0 meter persegi dan dibangun pada tahun 2020 .\\nRumah terdiri atas 2 lantai dengan 3 kamar tidur, 3 kamar mandi, dan 1 kamar pembantu.\\nFasilitas yang tersedia adalah 2 carport, jalan muat 4 mobil, 2 dapur, listrik 5500 VA.\\n\\nFasilitas: AC, keamanan/satpam, laundry, masjid, ruang makan, ruang tamu\\n\\nBahan bangunan: bata hebel, bata merah\\n\\nTag: installments, complex, mortgage, housing estate\\n\\n-----\\nKode rumah: hos12335745\\nDijual rumah dengan harga Rp2.900.000.000 yang beralamat di Bojongsari, Bogor, Indonesia.\\nLuas tanah 144.0 meter persegi dengan luas bangunan 180.0 meter persegi .\\nRumah terdiri atas 1 lantai dengan 4 kamar tidur, 4 kamar mandi.\\nFasilitas yang tersedia adalah 2 carport, jalan muat 2 mobil, 1 dapur, listrik 3300 VA.\\n\\nFasilitas: AC, keamanan/satpam\\n\\nBahan bangunan: bata merah\\n\\nTag: installments, mortgage\\n\\nDeskripsi tambahan:\\nExclusive house \\nRumah mewah 3 lantai seperti di resort dengan view anak danau dan memiliki 30 fasilitas dalam cluster.\\nLuas tanah : 144 sqm\\nLuas banguna : 180,4sqm\\nKamar tidur : 4\\nKamar mandi : 4\\nCarport : 2\\nBalcony\\nSmartdoor\\n-----\\n\\nDeskripsi tambahan:\\nDijual Rumah Full Renov\\nDi Vila Mutiara Bogor 2 Blok C2 No. 43 Cilebut Bogor\\n- Type 40/60 \\n- Bisa KPR Cicilan mulai 3 jutaan \\nSpesifikasi:\\n- Pondasi Batu Kali\\n- Struktur beton bertulang \\n- Lantai keramik \\n- Meja dapur full granit\\n- WC Kloset duduk dan shower\\n- Dinding Hebel plester aci finishing cat eksterior luar dalam\\n- Kusen jendela aluminium \\n- Pintu kayu\\n- Plafon Gypsum\\n- Rangka Atap Baja Ringan\\n- Genteng Keramik Berglazur lapis aluminium sheet \\n- Carport untuk 1 mobil dan 1 motor\\n- Sumur bor bonus mesin air dan toren\\n- Listrik 1300 W \\n- Pagar\\n- Desain minimalis \\n \\nAkses:\\n- 3,7 Km ke Stasiun Cilebut (10 menit)\\n- 4,6 Km ke Tol BORR (17 menit)\\n- 8 Km ke RS Hermina Bogor (25 menit)\\n- 16 Km ke AEON Mall Sentul via Tol BORR (30 menit)\\n- Jalan row 5 m (2 mobil)\\n-----\\n\\n-----\\nKode rumah: hos15952986\\nDijual rumah dengan harga Rp1.950.000.000 yang beralamat di Parung, Bogor, Indonesia.\\nLuas tanah 200.0 meter persegi dengan luas bangunan 170.0 meter persegi .\\nRumah terdiri atas 2 lantai dengan 4 kamar tidur, 3 kamar mandi, dan 1 kamar pembantu.\\nFasilitas yang tersedia adalah 2 carport, jalan muat 3 mobil, 1 dapur, listrik 2200 VA.\\n\\nFasilitas: AC, keamanan/satpam, laundry, ruang makan, ruang tamu\\n\\nBahan bangunan: tidak disebutkan\\n\\nTag: complex, housing estate\\n\\nDeskripsi tambahan:\\nDi jual murah\\nRumah dua lantai siap huni\\nDi Telaga Kahuripan\\nParung Bogor\\nLokasi sangat strategis\\nView Lapangan Golf\\nRumah rapih dan terawat\\nLuas tanah 200 m2\\nLuas bangunan 170 m2\\nKamar tidur 4+1\\nKamar mandi 3+1\\nRuang keluarga lantai 1 dan 2 luas\\nHarga 1.950 M Nego\\n-----\"\n",
      "}\n",
      "\u001b[36;1m\u001b[1;3m[chain/end]\u001b[0m \u001b[1m[1:chain:RunnableSequence > 5:chain:RunnableAssign<answer> > 6:chain:RunnableParallel<answer> > 7:chain:RunnableSequence > 8:chain:RunnableAssign<context>] [4ms] Exiting Chain run with output:\n",
      "\u001b[0m{\n",
      "  \"context\": \"-----\\nKode rumah: hos16044965\\nDijual rumah dengan harga Rp3.550.000.000 yang beralamat di Bogor Selatan, Bogor, Indonesia.\\nLuas tanah 270.0 meter persegi dengan luas bangunan 208.0 meter persegi dan dibangun pada tahun 2020 .\\nRumah terdiri atas 2 lantai dengan 3 kamar tidur, 3 kamar mandi, dan 1 kamar pembantu.\\nFasilitas yang tersedia adalah 2 carport, jalan muat 4 mobil, 2 dapur, listrik 5500 VA.\\n\\nFasilitas: AC, keamanan/satpam, laundry, masjid, ruang makan, ruang tamu\\n\\nBahan bangunan: bata hebel, bata merah\\n\\nTag: installments, complex, mortgage, housing estate\\n\\n-----\\nKode rumah: hos12335745\\nDijual rumah dengan harga Rp2.900.000.000 yang beralamat di Bojongsari, Bogor, Indonesia.\\nLuas tanah 144.0 meter persegi dengan luas bangunan 180.0 meter persegi .\\nRumah terdiri atas 1 lantai dengan 4 kamar tidur, 4 kamar mandi.\\nFasilitas yang tersedia adalah 2 carport, jalan muat 2 mobil, 1 dapur, listrik 3300 VA.\\n\\nFasilitas: AC, keamanan/satpam\\n\\nBahan bangunan: bata merah\\n\\nTag: installments, mortgage\\n\\nDeskripsi tambahan:\\nExclusive house \\nRumah mewah 3 lantai seperti di resort dengan view anak danau dan memiliki 30 fasilitas dalam cluster.\\nLuas tanah : 144 sqm\\nLuas banguna : 180,4sqm\\nKamar tidur : 4\\nKamar mandi : 4\\nCarport : 2\\nBalcony\\nSmartdoor\\n-----\\n\\nDeskripsi tambahan:\\nDijual Rumah Full Renov\\nDi Vila Mutiara Bogor 2 Blok C2 No. 43 Cilebut Bogor\\n- Type 40/60 \\n- Bisa KPR Cicilan mulai 3 jutaan \\nSpesifikasi:\\n- Pondasi Batu Kali\\n- Struktur beton bertulang \\n- Lantai keramik \\n- Meja dapur full granit\\n- WC Kloset duduk dan shower\\n- Dinding Hebel plester aci finishing cat eksterior luar dalam\\n- Kusen jendela aluminium \\n- Pintu kayu\\n- Plafon Gypsum\\n- Rangka Atap Baja Ringan\\n- Genteng Keramik Berglazur lapis aluminium sheet \\n- Carport untuk 1 mobil dan 1 motor\\n- Sumur bor bonus mesin air dan toren\\n- Listrik 1300 W \\n- Pagar\\n- Desain minimalis \\n \\nAkses:\\n- 3,7 Km ke Stasiun Cilebut (10 menit)\\n- 4,6 Km ke Tol BORR (17 menit)\\n- 8 Km ke RS Hermina Bogor (25 menit)\\n- 16 Km ke AEON Mall Sentul via Tol BORR (30 menit)\\n- Jalan row 5 m (2 mobil)\\n-----\\n\\n-----\\nKode rumah: hos15952986\\nDijual rumah dengan harga Rp1.950.000.000 yang beralamat di Parung, Bogor, Indonesia.\\nLuas tanah 200.0 meter persegi dengan luas bangunan 170.0 meter persegi .\\nRumah terdiri atas 2 lantai dengan 4 kamar tidur, 3 kamar mandi, dan 1 kamar pembantu.\\nFasilitas yang tersedia adalah 2 carport, jalan muat 3 mobil, 1 dapur, listrik 2200 VA.\\n\\nFasilitas: AC, keamanan/satpam, laundry, ruang makan, ruang tamu\\n\\nBahan bangunan: tidak disebutkan\\n\\nTag: complex, housing estate\\n\\nDeskripsi tambahan:\\nDi jual murah\\nRumah dua lantai siap huni\\nDi Telaga Kahuripan\\nParung Bogor\\nLokasi sangat strategis\\nView Lapangan Golf\\nRumah rapih dan terawat\\nLuas tanah 200 m2\\nLuas bangunan 170 m2\\nKamar tidur 4+1\\nKamar mandi 3+1\\nRuang keluarga lantai 1 dan 2 luas\\nHarga 1.950 M Nego\\n-----\",\n",
      "  \"question\": \"Rumah dengan setidaknya 2 kamar tidur\"\n",
      "}\n",
      "\u001b[32;1m\u001b[1;3m[chain/start]\u001b[0m \u001b[1m[1:chain:RunnableSequence > 5:chain:RunnableAssign<answer> > 6:chain:RunnableParallel<answer> > 7:chain:RunnableSequence > 11:prompt:PromptTemplate] Entering Prompt run with input:\n",
      "\u001b[0m{\n",
      "  \"context\": \"-----\\nKode rumah: hos16044965\\nDijual rumah dengan harga Rp3.550.000.000 yang beralamat di Bogor Selatan, Bogor, Indonesia.\\nLuas tanah 270.0 meter persegi dengan luas bangunan 208.0 meter persegi dan dibangun pada tahun 2020 .\\nRumah terdiri atas 2 lantai dengan 3 kamar tidur, 3 kamar mandi, dan 1 kamar pembantu.\\nFasilitas yang tersedia adalah 2 carport, jalan muat 4 mobil, 2 dapur, listrik 5500 VA.\\n\\nFasilitas: AC, keamanan/satpam, laundry, masjid, ruang makan, ruang tamu\\n\\nBahan bangunan: bata hebel, bata merah\\n\\nTag: installments, complex, mortgage, housing estate\\n\\n-----\\nKode rumah: hos12335745\\nDijual rumah dengan harga Rp2.900.000.000 yang beralamat di Bojongsari, Bogor, Indonesia.\\nLuas tanah 144.0 meter persegi dengan luas bangunan 180.0 meter persegi .\\nRumah terdiri atas 1 lantai dengan 4 kamar tidur, 4 kamar mandi.\\nFasilitas yang tersedia adalah 2 carport, jalan muat 2 mobil, 1 dapur, listrik 3300 VA.\\n\\nFasilitas: AC, keamanan/satpam\\n\\nBahan bangunan: bata merah\\n\\nTag: installments, mortgage\\n\\nDeskripsi tambahan:\\nExclusive house \\nRumah mewah 3 lantai seperti di resort dengan view anak danau dan memiliki 30 fasilitas dalam cluster.\\nLuas tanah : 144 sqm\\nLuas banguna : 180,4sqm\\nKamar tidur : 4\\nKamar mandi : 4\\nCarport : 2\\nBalcony\\nSmartdoor\\n-----\\n\\nDeskripsi tambahan:\\nDijual Rumah Full Renov\\nDi Vila Mutiara Bogor 2 Blok C2 No. 43 Cilebut Bogor\\n- Type 40/60 \\n- Bisa KPR Cicilan mulai 3 jutaan \\nSpesifikasi:\\n- Pondasi Batu Kali\\n- Struktur beton bertulang \\n- Lantai keramik \\n- Meja dapur full granit\\n- WC Kloset duduk dan shower\\n- Dinding Hebel plester aci finishing cat eksterior luar dalam\\n- Kusen jendela aluminium \\n- Pintu kayu\\n- Plafon Gypsum\\n- Rangka Atap Baja Ringan\\n- Genteng Keramik Berglazur lapis aluminium sheet \\n- Carport untuk 1 mobil dan 1 motor\\n- Sumur bor bonus mesin air dan toren\\n- Listrik 1300 W \\n- Pagar\\n- Desain minimalis \\n \\nAkses:\\n- 3,7 Km ke Stasiun Cilebut (10 menit)\\n- 4,6 Km ke Tol BORR (17 menit)\\n- 8 Km ke RS Hermina Bogor (25 menit)\\n- 16 Km ke AEON Mall Sentul via Tol BORR (30 menit)\\n- Jalan row 5 m (2 mobil)\\n-----\\n\\n-----\\nKode rumah: hos15952986\\nDijual rumah dengan harga Rp1.950.000.000 yang beralamat di Parung, Bogor, Indonesia.\\nLuas tanah 200.0 meter persegi dengan luas bangunan 170.0 meter persegi .\\nRumah terdiri atas 2 lantai dengan 4 kamar tidur, 3 kamar mandi, dan 1 kamar pembantu.\\nFasilitas yang tersedia adalah 2 carport, jalan muat 3 mobil, 1 dapur, listrik 2200 VA.\\n\\nFasilitas: AC, keamanan/satpam, laundry, ruang makan, ruang tamu\\n\\nBahan bangunan: tidak disebutkan\\n\\nTag: complex, housing estate\\n\\nDeskripsi tambahan:\\nDi jual murah\\nRumah dua lantai siap huni\\nDi Telaga Kahuripan\\nParung Bogor\\nLokasi sangat strategis\\nView Lapangan Golf\\nRumah rapih dan terawat\\nLuas tanah 200 m2\\nLuas bangunan 170 m2\\nKamar tidur 4+1\\nKamar mandi 3+1\\nRuang keluarga lantai 1 dan 2 luas\\nHarga 1.950 M Nego\\n-----\",\n",
      "  \"question\": \"Rumah dengan setidaknya 2 kamar tidur\"\n",
      "}\n",
      "\u001b[36;1m\u001b[1;3m[chain/end]\u001b[0m \u001b[1m[1:chain:RunnableSequence > 5:chain:RunnableAssign<answer> > 6:chain:RunnableParallel<answer> > 7:chain:RunnableSequence > 11:prompt:PromptTemplate] [1ms] Exiting Prompt run with output:\n",
      "\u001b[0m{\n",
      "  \"lc\": 1,\n",
      "  \"type\": \"constructor\",\n",
      "  \"id\": [\n",
      "    \"langchain\",\n",
      "    \"prompts\",\n",
      "    \"base\",\n",
      "    \"StringPromptValue\"\n",
      "  ],\n",
      "  \"kwargs\": {\n",
      "    \"text\": \"You are an assistant for house recommendation/suggestion tasks. You will be given a few documents about property listing along with it's price, address, and specifications. Give a summary about the house specs and address if you have a match. Do not return the result as lists, but as a paragraph. You can suggest more than one house based on the context. If you don't know the answer, just say that you don't know. Use five sentences maximum and keep the answer concise.\\n\\nContext:\\n###\\n-----\\nKode rumah: hos16044965\\nDijual rumah dengan harga Rp3.550.000.000 yang beralamat di Bogor Selatan, Bogor, Indonesia.\\nLuas tanah 270.0 meter persegi dengan luas bangunan 208.0 meter persegi dan dibangun pada tahun 2020 .\\nRumah terdiri atas 2 lantai dengan 3 kamar tidur, 3 kamar mandi, dan 1 kamar pembantu.\\nFasilitas yang tersedia adalah 2 carport, jalan muat 4 mobil, 2 dapur, listrik 5500 VA.\\n\\nFasilitas: AC, keamanan/satpam, laundry, masjid, ruang makan, ruang tamu\\n\\nBahan bangunan: bata hebel, bata merah\\n\\nTag: installments, complex, mortgage, housing estate\\n\\n-----\\nKode rumah: hos12335745\\nDijual rumah dengan harga Rp2.900.000.000 yang beralamat di Bojongsari, Bogor, Indonesia.\\nLuas tanah 144.0 meter persegi dengan luas bangunan 180.0 meter persegi .\\nRumah terdiri atas 1 lantai dengan 4 kamar tidur, 4 kamar mandi.\\nFasilitas yang tersedia adalah 2 carport, jalan muat 2 mobil, 1 dapur, listrik 3300 VA.\\n\\nFasilitas: AC, keamanan/satpam\\n\\nBahan bangunan: bata merah\\n\\nTag: installments, mortgage\\n\\nDeskripsi tambahan:\\nExclusive house \\nRumah mewah 3 lantai seperti di resort dengan view anak danau dan memiliki 30 fasilitas dalam cluster.\\nLuas tanah : 144 sqm\\nLuas banguna : 180,4sqm\\nKamar tidur : 4\\nKamar mandi : 4\\nCarport : 2\\nBalcony\\nSmartdoor\\n-----\\n\\nDeskripsi tambahan:\\nDijual Rumah Full Renov\\nDi Vila Mutiara Bogor 2 Blok C2 No. 43 Cilebut Bogor\\n- Type 40/60 \\n- Bisa KPR Cicilan mulai 3 jutaan \\nSpesifikasi:\\n- Pondasi Batu Kali\\n- Struktur beton bertulang \\n- Lantai keramik \\n- Meja dapur full granit\\n- WC Kloset duduk dan shower\\n- Dinding Hebel plester aci finishing cat eksterior luar dalam\\n- Kusen jendela aluminium \\n- Pintu kayu\\n- Plafon Gypsum\\n- Rangka Atap Baja Ringan\\n- Genteng Keramik Berglazur lapis aluminium sheet \\n- Carport untuk 1 mobil dan 1 motor\\n- Sumur bor bonus mesin air dan toren\\n- Listrik 1300 W \\n- Pagar\\n- Desain minimalis \\n \\nAkses:\\n- 3,7 Km ke Stasiun Cilebut (10 menit)\\n- 4,6 Km ke Tol BORR (17 menit)\\n- 8 Km ke RS Hermina Bogor (25 menit)\\n- 16 Km ke AEON Mall Sentul via Tol BORR (30 menit)\\n- Jalan row 5 m (2 mobil)\\n-----\\n\\n-----\\nKode rumah: hos15952986\\nDijual rumah dengan harga Rp1.950.000.000 yang beralamat di Parung, Bogor, Indonesia.\\nLuas tanah 200.0 meter persegi dengan luas bangunan 170.0 meter persegi .\\nRumah terdiri atas 2 lantai dengan 4 kamar tidur, 3 kamar mandi, dan 1 kamar pembantu.\\nFasilitas yang tersedia adalah 2 carport, jalan muat 3 mobil, 1 dapur, listrik 2200 VA.\\n\\nFasilitas: AC, keamanan/satpam, laundry, ruang makan, ruang tamu\\n\\nBahan bangunan: tidak disebutkan\\n\\nTag: complex, housing estate\\n\\nDeskripsi tambahan:\\nDi jual murah\\nRumah dua lantai siap huni\\nDi Telaga Kahuripan\\nParung Bogor\\nLokasi sangat strategis\\nView Lapangan Golf\\nRumah rapih dan terawat\\nLuas tanah 200 m2\\nLuas bangunan 170 m2\\nKamar tidur 4+1\\nKamar mandi 3+1\\nRuang keluarga lantai 1 dan 2 luas\\nHarga 1.950 M Nego\\n-----###\\n\\nQuestion: Rumah dengan setidaknya 2 kamar tidur\\nAnswer:\"\n",
      "  }\n",
      "}\n",
      "\u001b[32;1m\u001b[1;3m[llm/start]\u001b[0m \u001b[1m[1:chain:RunnableSequence > 5:chain:RunnableAssign<answer> > 6:chain:RunnableParallel<answer> > 7:chain:RunnableSequence > 12:llm:ChatOpenAI] Entering LLM run with input:\n",
      "\u001b[0m{\n",
      "  \"prompts\": [\n",
      "    \"Human: You are an assistant for house recommendation/suggestion tasks. You will be given a few documents about property listing along with it's price, address, and specifications. Give a summary about the house specs and address if you have a match. Do not return the result as lists, but as a paragraph. You can suggest more than one house based on the context. If you don't know the answer, just say that you don't know. Use five sentences maximum and keep the answer concise.\\n\\nContext:\\n###\\n-----\\nKode rumah: hos16044965\\nDijual rumah dengan harga Rp3.550.000.000 yang beralamat di Bogor Selatan, Bogor, Indonesia.\\nLuas tanah 270.0 meter persegi dengan luas bangunan 208.0 meter persegi dan dibangun pada tahun 2020 .\\nRumah terdiri atas 2 lantai dengan 3 kamar tidur, 3 kamar mandi, dan 1 kamar pembantu.\\nFasilitas yang tersedia adalah 2 carport, jalan muat 4 mobil, 2 dapur, listrik 5500 VA.\\n\\nFasilitas: AC, keamanan/satpam, laundry, masjid, ruang makan, ruang tamu\\n\\nBahan bangunan: bata hebel, bata merah\\n\\nTag: installments, complex, mortgage, housing estate\\n\\n-----\\nKode rumah: hos12335745\\nDijual rumah dengan harga Rp2.900.000.000 yang beralamat di Bojongsari, Bogor, Indonesia.\\nLuas tanah 144.0 meter persegi dengan luas bangunan 180.0 meter persegi .\\nRumah terdiri atas 1 lantai dengan 4 kamar tidur, 4 kamar mandi.\\nFasilitas yang tersedia adalah 2 carport, jalan muat 2 mobil, 1 dapur, listrik 3300 VA.\\n\\nFasilitas: AC, keamanan/satpam\\n\\nBahan bangunan: bata merah\\n\\nTag: installments, mortgage\\n\\nDeskripsi tambahan:\\nExclusive house \\nRumah mewah 3 lantai seperti di resort dengan view anak danau dan memiliki 30 fasilitas dalam cluster.\\nLuas tanah : 144 sqm\\nLuas banguna : 180,4sqm\\nKamar tidur : 4\\nKamar mandi : 4\\nCarport : 2\\nBalcony\\nSmartdoor\\n-----\\n\\nDeskripsi tambahan:\\nDijual Rumah Full Renov\\nDi Vila Mutiara Bogor 2 Blok C2 No. 43 Cilebut Bogor\\n- Type 40/60 \\n- Bisa KPR Cicilan mulai 3 jutaan \\nSpesifikasi:\\n- Pondasi Batu Kali\\n- Struktur beton bertulang \\n- Lantai keramik \\n- Meja dapur full granit\\n- WC Kloset duduk dan shower\\n- Dinding Hebel plester aci finishing cat eksterior luar dalam\\n- Kusen jendela aluminium \\n- Pintu kayu\\n- Plafon Gypsum\\n- Rangka Atap Baja Ringan\\n- Genteng Keramik Berglazur lapis aluminium sheet \\n- Carport untuk 1 mobil dan 1 motor\\n- Sumur bor bonus mesin air dan toren\\n- Listrik 1300 W \\n- Pagar\\n- Desain minimalis \\n \\nAkses:\\n- 3,7 Km ke Stasiun Cilebut (10 menit)\\n- 4,6 Km ke Tol BORR (17 menit)\\n- 8 Km ke RS Hermina Bogor (25 menit)\\n- 16 Km ke AEON Mall Sentul via Tol BORR (30 menit)\\n- Jalan row 5 m (2 mobil)\\n-----\\n\\n-----\\nKode rumah: hos15952986\\nDijual rumah dengan harga Rp1.950.000.000 yang beralamat di Parung, Bogor, Indonesia.\\nLuas tanah 200.0 meter persegi dengan luas bangunan 170.0 meter persegi .\\nRumah terdiri atas 2 lantai dengan 4 kamar tidur, 3 kamar mandi, dan 1 kamar pembantu.\\nFasilitas yang tersedia adalah 2 carport, jalan muat 3 mobil, 1 dapur, listrik 2200 VA.\\n\\nFasilitas: AC, keamanan/satpam, laundry, ruang makan, ruang tamu\\n\\nBahan bangunan: tidak disebutkan\\n\\nTag: complex, housing estate\\n\\nDeskripsi tambahan:\\nDi jual murah\\nRumah dua lantai siap huni\\nDi Telaga Kahuripan\\nParung Bogor\\nLokasi sangat strategis\\nView Lapangan Golf\\nRumah rapih dan terawat\\nLuas tanah 200 m2\\nLuas bangunan 170 m2\\nKamar tidur 4+1\\nKamar mandi 3+1\\nRuang keluarga lantai 1 dan 2 luas\\nHarga 1.950 M Nego\\n-----###\\n\\nQuestion: Rumah dengan setidaknya 2 kamar tidur\\nAnswer:\"\n",
      "  ]\n",
      "}\n",
      "\u001b[36;1m\u001b[1;3m[llm/end]\u001b[0m \u001b[1m[1:chain:RunnableSequence > 5:chain:RunnableAssign<answer> > 6:chain:RunnableParallel<answer> > 7:chain:RunnableSequence > 12:llm:ChatOpenAI] [3.69s] Exiting LLM run with output:\n",
      "\u001b[0m{\n",
      "  \"generations\": [\n",
      "    [\n",
      "      {\n",
      "        \"text\": \"Dua rumah yang dapat direkomendasikan adalah rumah di Bogor Selatan dan rumah di Parung, Bogor. Rumah di Bogor Selatan memiliki luas tanah 270.0 meter persegi dengan 3 kamar tidur, 3 kamar mandi, dan 1 kamar pembantu. Sedangkan rumah di Parung memiliki luas tanah 200.0 meter persegi dengan 4 kamar tidur, 3 kamar mandi, dan 1 kamar pembantu. Kedua rumah dilengkapi dengan fasilitas seperti carport, listrik, AC, keamanan/satpam, dapur, ruang makan, dan ruang tamu.\",\n",
      "        \"generation_info\": {\n",
      "          \"finish_reason\": \"stop\",\n",
      "          \"logprobs\": null\n",
      "        },\n",
      "        \"type\": \"ChatGeneration\",\n",
      "        \"message\": {\n",
      "          \"lc\": 1,\n",
      "          \"type\": \"constructor\",\n",
      "          \"id\": [\n",
      "            \"langchain\",\n",
      "            \"schema\",\n",
      "            \"messages\",\n",
      "            \"AIMessage\"\n",
      "          ],\n",
      "          \"kwargs\": {\n",
      "            \"content\": \"Dua rumah yang dapat direkomendasikan adalah rumah di Bogor Selatan dan rumah di Parung, Bogor. Rumah di Bogor Selatan memiliki luas tanah 270.0 meter persegi dengan 3 kamar tidur, 3 kamar mandi, dan 1 kamar pembantu. Sedangkan rumah di Parung memiliki luas tanah 200.0 meter persegi dengan 4 kamar tidur, 3 kamar mandi, dan 1 kamar pembantu. Kedua rumah dilengkapi dengan fasilitas seperti carport, listrik, AC, keamanan/satpam, dapur, ruang makan, dan ruang tamu.\",\n",
      "            \"additional_kwargs\": {}\n",
      "          }\n",
      "        }\n",
      "      }\n",
      "    ]\n",
      "  ],\n",
      "  \"llm_output\": {\n",
      "    \"token_usage\": {\n",
      "      \"completion_tokens\": 156,\n",
      "      \"prompt_tokens\": 1170,\n",
      "      \"total_tokens\": 1326\n",
      "    },\n",
      "    \"model_name\": \"gpt-3.5-turbo\",\n",
      "    \"system_fingerprint\": \"fp_69829325d0\"\n",
      "  },\n",
      "  \"run\": null\n",
      "}\n",
      "\u001b[32;1m\u001b[1;3m[chain/start]\u001b[0m \u001b[1m[1:chain:RunnableSequence > 5:chain:RunnableAssign<answer> > 6:chain:RunnableParallel<answer> > 7:chain:RunnableSequence > 13:parser:StrOutputParser] Entering Parser run with input:\n",
      "\u001b[0m[inputs]\n",
      "\u001b[36;1m\u001b[1;3m[chain/end]\u001b[0m \u001b[1m[1:chain:RunnableSequence > 5:chain:RunnableAssign<answer> > 6:chain:RunnableParallel<answer> > 7:chain:RunnableSequence > 13:parser:StrOutputParser] [1ms] Exiting Parser run with output:\n",
      "\u001b[0m{\n",
      "  \"output\": \"Dua rumah yang dapat direkomendasikan adalah rumah di Bogor Selatan dan rumah di Parung, Bogor. Rumah di Bogor Selatan memiliki luas tanah 270.0 meter persegi dengan 3 kamar tidur, 3 kamar mandi, dan 1 kamar pembantu. Sedangkan rumah di Parung memiliki luas tanah 200.0 meter persegi dengan 4 kamar tidur, 3 kamar mandi, dan 1 kamar pembantu. Kedua rumah dilengkapi dengan fasilitas seperti carport, listrik, AC, keamanan/satpam, dapur, ruang makan, dan ruang tamu.\"\n",
      "}\n",
      "\u001b[36;1m\u001b[1;3m[chain/end]\u001b[0m \u001b[1m[1:chain:RunnableSequence > 5:chain:RunnableAssign<answer> > 6:chain:RunnableParallel<answer> > 7:chain:RunnableSequence] [3.70s] Exiting Chain run with output:\n",
      "\u001b[0m{\n",
      "  \"output\": \"Dua rumah yang dapat direkomendasikan adalah rumah di Bogor Selatan dan rumah di Parung, Bogor. Rumah di Bogor Selatan memiliki luas tanah 270.0 meter persegi dengan 3 kamar tidur, 3 kamar mandi, dan 1 kamar pembantu. Sedangkan rumah di Parung memiliki luas tanah 200.0 meter persegi dengan 4 kamar tidur, 3 kamar mandi, dan 1 kamar pembantu. Kedua rumah dilengkapi dengan fasilitas seperti carport, listrik, AC, keamanan/satpam, dapur, ruang makan, dan ruang tamu.\"\n",
      "}\n",
      "\u001b[36;1m\u001b[1;3m[chain/end]\u001b[0m \u001b[1m[1:chain:RunnableSequence > 5:chain:RunnableAssign<answer> > 6:chain:RunnableParallel<answer>] [3.70s] Exiting Chain run with output:\n",
      "\u001b[0m{\n",
      "  \"answer\": \"Dua rumah yang dapat direkomendasikan adalah rumah di Bogor Selatan dan rumah di Parung, Bogor. Rumah di Bogor Selatan memiliki luas tanah 270.0 meter persegi dengan 3 kamar tidur, 3 kamar mandi, dan 1 kamar pembantu. Sedangkan rumah di Parung memiliki luas tanah 200.0 meter persegi dengan 4 kamar tidur, 3 kamar mandi, dan 1 kamar pembantu. Kedua rumah dilengkapi dengan fasilitas seperti carport, listrik, AC, keamanan/satpam, dapur, ruang makan, dan ruang tamu.\"\n",
      "}\n",
      "\u001b[36;1m\u001b[1;3m[chain/end]\u001b[0m \u001b[1m[1:chain:RunnableSequence > 5:chain:RunnableAssign<answer>] [3.70s] Exiting Chain run with output:\n",
      "\u001b[0m{\n",
      "  \"context\": [\n",
      "    {\n",
      "      \"lc\": 1,\n",
      "      \"type\": \"constructor\",\n",
      "      \"id\": [\n",
      "        \"langchain\",\n",
      "        \"schema\",\n",
      "        \"document\",\n",
      "        \"Document\"\n",
      "      ],\n",
      "      \"kwargs\": {\n",
      "        \"page_content\": \"-----\\nKode rumah: hos16044965\\nDijual rumah dengan harga Rp3.550.000.000 yang beralamat di Bogor Selatan, Bogor, Indonesia.\\nLuas tanah 270.0 meter persegi dengan luas bangunan 208.0 meter persegi dan dibangun pada tahun 2020 .\\nRumah terdiri atas 2 lantai dengan 3 kamar tidur, 3 kamar mandi, dan 1 kamar pembantu.\\nFasilitas yang tersedia adalah 2 carport, jalan muat 4 mobil, 2 dapur, listrik 5500 VA.\\n\\nFasilitas: AC, keamanan/satpam, laundry, masjid, ruang makan, ruang tamu\\n\\nBahan bangunan: bata hebel, bata merah\\n\\nTag: installments, complex, mortgage, housing estate\",\n",
      "        \"metadata\": {\n",
      "          \"city\": \"Bogor\",\n",
      "          \"id\": \"hos16044965\",\n",
      "          \"district\": \"Bogor Selatan\",\n",
      "          \"url\": \"https://www.rumah123.com/properti/bogor/hos16044965/\",\n",
      "          \"price\": 3550.0,\n",
      "          \"_id\": \"38eca91c-519d-4964-8ef6-fa44ef2409dc\",\n",
      "          \"_collection_name\": \"houses\"\n",
      "        }\n",
      "      }\n",
      "    },\n",
      "    {\n",
      "      \"lc\": 1,\n",
      "      \"type\": \"constructor\",\n",
      "      \"id\": [\n",
      "        \"langchain\",\n",
      "        \"schema\",\n",
      "        \"document\",\n",
      "        \"Document\"\n",
      "      ],\n",
      "      \"kwargs\": {\n",
      "        \"page_content\": \"-----\\nKode rumah: hos12335745\\nDijual rumah dengan harga Rp2.900.000.000 yang beralamat di Bojongsari, Bogor, Indonesia.\\nLuas tanah 144.0 meter persegi dengan luas bangunan 180.0 meter persegi .\\nRumah terdiri atas 1 lantai dengan 4 kamar tidur, 4 kamar mandi.\\nFasilitas yang tersedia adalah 2 carport, jalan muat 2 mobil, 1 dapur, listrik 3300 VA.\\n\\nFasilitas: AC, keamanan/satpam\\n\\nBahan bangunan: bata merah\\n\\nTag: installments, mortgage\\n\\nDeskripsi tambahan:\\nExclusive house \\nRumah mewah 3 lantai seperti di resort dengan view anak danau dan memiliki 30 fasilitas dalam cluster.\\nLuas tanah : 144 sqm\\nLuas banguna : 180,4sqm\\nKamar tidur : 4\\nKamar mandi : 4\\nCarport : 2\\nBalcony\\nSmartdoor\\n-----\",\n",
      "        \"metadata\": {\n",
      "          \"price\": 2900.0,\n",
      "          \"district\": \"Bojongsari\",\n",
      "          \"id\": \"hos12335745\",\n",
      "          \"city\": \"Bogor\",\n",
      "          \"url\": \"https://www.rumah123.com/properti/bogor/hos12335745/\",\n",
      "          \"_id\": \"7c538ea3-bce0-4916-892f-0edb5eeb4260\",\n",
      "          \"_collection_name\": \"houses\"\n",
      "        }\n",
      "      }\n",
      "    },\n",
      "    {\n",
      "      \"lc\": 1,\n",
      "      \"type\": \"constructor\",\n",
      "      \"id\": [\n",
      "        \"langchain\",\n",
      "        \"schema\",\n",
      "        \"document\",\n",
      "        \"Document\"\n",
      "      ],\n",
      "      \"kwargs\": {\n",
      "        \"page_content\": \"Deskripsi tambahan:\\nDijual Rumah Full Renov\\nDi Vila Mutiara Bogor 2 Blok C2 No. 43 Cilebut Bogor\\n- Type 40/60 \\n- Bisa KPR Cicilan mulai 3 jutaan \\nSpesifikasi:\\n- Pondasi Batu Kali\\n- Struktur beton bertulang \\n- Lantai keramik \\n- Meja dapur full granit\\n- WC Kloset duduk dan shower\\n- Dinding Hebel plester aci finishing cat eksterior luar dalam\\n- Kusen jendela aluminium \\n- Pintu kayu\\n- Plafon Gypsum\\n- Rangka Atap Baja Ringan\\n- Genteng Keramik Berglazur lapis aluminium sheet \\n- Carport untuk 1 mobil dan 1 motor\\n- Sumur bor bonus mesin air dan toren\\n- Listrik 1300 W \\n- Pagar\\n- Desain minimalis \\n \\nAkses:\\n- 3,7 Km ke Stasiun Cilebut (10 menit)\\n- 4,6 Km ke Tol BORR (17 menit)\\n- 8 Km ke RS Hermina Bogor (25 menit)\\n- 16 Km ke AEON Mall Sentul via Tol BORR (30 menit)\\n- Jalan row 5 m (2 mobil)\\n-----\",\n",
      "        \"metadata\": {\n",
      "          \"id\": \"hos16032315\",\n",
      "          \"url\": \"https://www.rumah123.com/properti/bogor/hos16032315/\",\n",
      "          \"price\": 326.0,\n",
      "          \"city\": \"Bogor\",\n",
      "          \"district\": \"Cilebut\",\n",
      "          \"_id\": \"3f4ad4a5-d42d-4860-804e-ae65eb5c2764\",\n",
      "          \"_collection_name\": \"houses\"\n",
      "        }\n",
      "      }\n",
      "    },\n",
      "    {\n",
      "      \"lc\": 1,\n",
      "      \"type\": \"constructor\",\n",
      "      \"id\": [\n",
      "        \"langchain\",\n",
      "        \"schema\",\n",
      "        \"document\",\n",
      "        \"Document\"\n",
      "      ],\n",
      "      \"kwargs\": {\n",
      "        \"page_content\": \"-----\\nKode rumah: hos15952986\\nDijual rumah dengan harga Rp1.950.000.000 yang beralamat di Parung, Bogor, Indonesia.\\nLuas tanah 200.0 meter persegi dengan luas bangunan 170.0 meter persegi .\\nRumah terdiri atas 2 lantai dengan 4 kamar tidur, 3 kamar mandi, dan 1 kamar pembantu.\\nFasilitas yang tersedia adalah 2 carport, jalan muat 3 mobil, 1 dapur, listrik 2200 VA.\\n\\nFasilitas: AC, keamanan/satpam, laundry, ruang makan, ruang tamu\\n\\nBahan bangunan: tidak disebutkan\\n\\nTag: complex, housing estate\\n\\nDeskripsi tambahan:\\nDi jual murah\\nRumah dua lantai siap huni\\nDi Telaga Kahuripan\\nParung Bogor\\nLokasi sangat strategis\\nView Lapangan Golf\\nRumah rapih dan terawat\\nLuas tanah 200 m2\\nLuas bangunan 170 m2\\nKamar tidur 4+1\\nKamar mandi 3+1\\nRuang keluarga lantai 1 dan 2 luas\\nHarga 1.950 M Nego\\n-----\",\n",
      "        \"metadata\": {\n",
      "          \"url\": \"https://www.rumah123.com/properti/bogor/hos15952986/\",\n",
      "          \"id\": \"hos15952986\",\n",
      "          \"price\": 1950.0,\n",
      "          \"city\": \"Bogor\",\n",
      "          \"district\": \"Parung\",\n",
      "          \"_id\": \"10980efa-0c93-4746-99a6-d0f3469e5e5b\",\n",
      "          \"_collection_name\": \"houses\"\n",
      "        }\n",
      "      }\n",
      "    }\n",
      "  ],\n",
      "  \"question\": \"Rumah dengan setidaknya 2 kamar tidur\",\n",
      "  \"answer\": \"Dua rumah yang dapat direkomendasikan adalah rumah di Bogor Selatan dan rumah di Parung, Bogor. Rumah di Bogor Selatan memiliki luas tanah 270.0 meter persegi dengan 3 kamar tidur, 3 kamar mandi, dan 1 kamar pembantu. Sedangkan rumah di Parung memiliki luas tanah 200.0 meter persegi dengan 4 kamar tidur, 3 kamar mandi, dan 1 kamar pembantu. Kedua rumah dilengkapi dengan fasilitas seperti carport, listrik, AC, keamanan/satpam, dapur, ruang makan, dan ruang tamu.\"\n",
      "}\n",
      "\u001b[36;1m\u001b[1;3m[chain/end]\u001b[0m \u001b[1m[1:chain:RunnableSequence] [4.12s] Exiting Chain run with output:\n",
      "\u001b[0m[outputs]\n",
      "{'context': [Document(page_content='-----\\nKode rumah: hos16044965\\nDijual rumah dengan harga Rp3.550.000.000 yang beralamat di Bogor Selatan, Bogor, Indonesia.\\nLuas tanah 270.0 meter persegi dengan luas bangunan 208.0 meter persegi dan dibangun pada tahun 2020 .\\nRumah terdiri atas 2 lantai dengan 3 kamar tidur, 3 kamar mandi, dan 1 kamar pembantu.\\nFasilitas yang tersedia adalah 2 carport, jalan muat 4 mobil, 2 dapur, listrik 5500 VA.\\n\\nFasilitas: AC, keamanan/satpam, laundry, masjid, ruang makan, ruang tamu\\n\\nBahan bangunan: bata hebel, bata merah\\n\\nTag: installments, complex, mortgage, housing estate', metadata={'city': 'Bogor', 'id': 'hos16044965', 'district': 'Bogor Selatan', 'url': 'https://www.rumah123.com/properti/bogor/hos16044965/', 'price': 3550.0, '_id': '38eca91c-519d-4964-8ef6-fa44ef2409dc', '_collection_name': 'houses'}), Document(page_content='-----\\nKode rumah: hos12335745\\nDijual rumah dengan harga Rp2.900.000.000 yang beralamat di Bojongsari, Bogor, Indonesia.\\nLuas tanah 144.0 meter persegi dengan luas bangunan 180.0 meter persegi .\\nRumah terdiri atas 1 lantai dengan 4 kamar tidur, 4 kamar mandi.\\nFasilitas yang tersedia adalah 2 carport, jalan muat 2 mobil, 1 dapur, listrik 3300 VA.\\n\\nFasilitas: AC, keamanan/satpam\\n\\nBahan bangunan: bata merah\\n\\nTag: installments, mortgage\\n\\nDeskripsi tambahan:\\nExclusive house \\nRumah mewah 3 lantai seperti di resort dengan view anak danau dan memiliki 30 fasilitas dalam cluster.\\nLuas tanah : 144 sqm\\nLuas banguna : 180,4sqm\\nKamar tidur : 4\\nKamar mandi : 4\\nCarport : 2\\nBalcony\\nSmartdoor\\n-----', metadata={'price': 2900.0, 'district': 'Bojongsari', 'id': 'hos12335745', 'city': 'Bogor', 'url': 'https://www.rumah123.com/properti/bogor/hos12335745/', '_id': '7c538ea3-bce0-4916-892f-0edb5eeb4260', '_collection_name': 'houses'}), Document(page_content='Deskripsi tambahan:\\nDijual Rumah Full Renov\\nDi Vila Mutiara Bogor 2 Blok C2 No. 43 Cilebut Bogor\\n- Type 40/60 \\n- Bisa KPR Cicilan mulai 3 jutaan \\nSpesifikasi:\\n- Pondasi Batu Kali\\n- Struktur beton bertulang \\n- Lantai keramik \\n- Meja dapur full granit\\n- WC Kloset duduk dan shower\\n- Dinding Hebel plester aci finishing cat eksterior luar dalam\\n- Kusen jendela aluminium \\n- Pintu kayu\\n- Plafon Gypsum\\n- Rangka Atap Baja Ringan\\n- Genteng Keramik Berglazur lapis aluminium sheet \\n- Carport untuk 1 mobil dan 1 motor\\n- Sumur bor bonus mesin air dan toren\\n- Listrik 1300 W \\n- Pagar\\n- Desain minimalis \\n \\nAkses:\\n- 3,7 Km ke Stasiun Cilebut (10 menit)\\n- 4,6 Km ke Tol BORR (17 menit)\\n- 8 Km ke RS Hermina Bogor (25 menit)\\n- 16 Km ke AEON Mall Sentul via Tol BORR (30 menit)\\n- Jalan row 5 m (2 mobil)\\n-----', metadata={'id': 'hos16032315', 'url': 'https://www.rumah123.com/properti/bogor/hos16032315/', 'price': 326.0, 'city': 'Bogor', 'district': 'Cilebut', '_id': '3f4ad4a5-d42d-4860-804e-ae65eb5c2764', '_collection_name': 'houses'}), Document(page_content='-----\\nKode rumah: hos15952986\\nDijual rumah dengan harga Rp1.950.000.000 yang beralamat di Parung, Bogor, Indonesia.\\nLuas tanah 200.0 meter persegi dengan luas bangunan 170.0 meter persegi .\\nRumah terdiri atas 2 lantai dengan 4 kamar tidur, 3 kamar mandi, dan 1 kamar pembantu.\\nFasilitas yang tersedia adalah 2 carport, jalan muat 3 mobil, 1 dapur, listrik 2200 VA.\\n\\nFasilitas: AC, keamanan/satpam, laundry, ruang makan, ruang tamu\\n\\nBahan bangunan: tidak disebutkan\\n\\nTag: complex, housing estate\\n\\nDeskripsi tambahan:\\nDi jual murah\\nRumah dua lantai siap huni\\nDi Telaga Kahuripan\\nParung Bogor\\nLokasi sangat strategis\\nView Lapangan Golf\\nRumah rapih dan terawat\\nLuas tanah 200 m2\\nLuas bangunan 170 m2\\nKamar tidur 4+1\\nKamar mandi 3+1\\nRuang keluarga lantai 1 dan 2 luas\\nHarga 1.950 M Nego\\n-----', metadata={'url': 'https://www.rumah123.com/properti/bogor/hos15952986/', 'id': 'hos15952986', 'price': 1950.0, 'city': 'Bogor', 'district': 'Parung', '_id': '10980efa-0c93-4746-99a6-d0f3469e5e5b', '_collection_name': 'houses'})], 'question': 'Rumah dengan setidaknya 2 kamar tidur', 'answer': 'Dua rumah yang dapat direkomendasikan adalah rumah di Bogor Selatan dan rumah di Parung, Bogor. Rumah di Bogor Selatan memiliki luas tanah 270.0 meter persegi dengan 3 kamar tidur, 3 kamar mandi, dan 1 kamar pembantu. Sedangkan rumah di Parung memiliki luas tanah 200.0 meter persegi dengan 4 kamar tidur, 3 kamar mandi, dan 1 kamar pembantu. Kedua rumah dilengkapi dengan fasilitas seperti carport, listrik, AC, keamanan/satpam, dapur, ruang makan, dan ruang tamu.'}\n",
      "Tokens Used: 1326\n",
      "\tPrompt Tokens: 1170\n",
      "\tCompletion Tokens: 156\n",
      "Successful Requests: 1\n",
      "Total Cost (USD): $0.002067\n"
     ]
    }
   ],
   "source": [
    "with get_openai_callback() as cb:\n",
    "  result = rag_chain_with_source.invoke(\"Rumah dengan setidaknya 2 kamar tidur\")\n",
    "  print(result)\n",
    "\n",
    "  print(cb)"
   ]
  },
  {
   "cell_type": "markdown",
   "metadata": {},
   "source": [
    "## RAG with Agent"
   ]
  },
  {
   "cell_type": "code",
   "execution_count": 109,
   "metadata": {},
   "outputs": [],
   "source": [
    "from langchain_core.tools import tool\n",
    "from langchain.agents import AgentExecutor, create_openai_tools_agent\n",
    "from langchain.prompts import SystemMessagePromptTemplate, MessagesPlaceholder, HumanMessagePromptTemplate, MessagesPlaceholder, PromptTemplate"
   ]
  },
  {
   "cell_type": "code",
   "execution_count": 107,
   "metadata": {},
   "outputs": [],
   "source": [
    "@tool\n",
    "def multiply(first_int: int, second_int: int) -> int:\n",
    "    \"\"\"Multiply two integers together.\"\"\"\n",
    "    return first_int * second_int"
   ]
  },
  {
   "cell_type": "code",
   "execution_count": 108,
   "metadata": {},
   "outputs": [
    {
     "ename": "ImportError",
     "evalue": "Could not import langchainhub, please install with `pip install langchainhub`.",
     "output_type": "error",
     "traceback": [
      "\u001b[0;31m---------------------------------------------------------------------------\u001b[0m",
      "\u001b[0;31mModuleNotFoundError\u001b[0m                       Traceback (most recent call last)",
      "File \u001b[0;32m~/.mambaforge/envs/rumah/lib/python3.11/site-packages/langchain/hub.py:15\u001b[0m, in \u001b[0;36m_get_client\u001b[0;34m(api_url, api_key)\u001b[0m\n\u001b[1;32m     14\u001b[0m \u001b[38;5;28;01mtry\u001b[39;00m:\n\u001b[0;32m---> 15\u001b[0m     \u001b[38;5;28;01mfrom\u001b[39;00m \u001b[38;5;21;01mlangchainhub\u001b[39;00m \u001b[38;5;28;01mimport\u001b[39;00m Client\n\u001b[1;32m     16\u001b[0m \u001b[38;5;28;01mexcept\u001b[39;00m \u001b[38;5;167;01mImportError\u001b[39;00m \u001b[38;5;28;01mas\u001b[39;00m e:\n",
      "\u001b[0;31mModuleNotFoundError\u001b[0m: No module named 'langchainhub'",
      "\nThe above exception was the direct cause of the following exception:\n",
      "\u001b[0;31mImportError\u001b[0m                               Traceback (most recent call last)",
      "Cell \u001b[0;32mIn[108], line 1\u001b[0m\n\u001b[0;32m----> 1\u001b[0m prompt \u001b[38;5;241m=\u001b[39m \u001b[43mhub\u001b[49m\u001b[38;5;241;43m.\u001b[39;49m\u001b[43mpull\u001b[49m\u001b[43m(\u001b[49m\u001b[38;5;124;43m\"\u001b[39;49m\u001b[38;5;124;43mhwchase17/openai-tools-agent\u001b[39;49m\u001b[38;5;124;43m\"\u001b[39;49m\u001b[43m)\u001b[49m\n\u001b[1;32m      2\u001b[0m prompt\u001b[38;5;241m.\u001b[39mpretty_print()\n",
      "File \u001b[0;32m~/.mambaforge/envs/rumah/lib/python3.11/site-packages/langchain/hub.py:79\u001b[0m, in \u001b[0;36mpull\u001b[0;34m(owner_repo_commit, api_url, api_key)\u001b[0m\n\u001b[1;32m     64\u001b[0m \u001b[38;5;28;01mdef\u001b[39;00m \u001b[38;5;21mpull\u001b[39m(\n\u001b[1;32m     65\u001b[0m     owner_repo_commit: \u001b[38;5;28mstr\u001b[39m,\n\u001b[1;32m     66\u001b[0m     \u001b[38;5;241m*\u001b[39m,\n\u001b[1;32m     67\u001b[0m     api_url: Optional[\u001b[38;5;28mstr\u001b[39m] \u001b[38;5;241m=\u001b[39m \u001b[38;5;28;01mNone\u001b[39;00m,\n\u001b[1;32m     68\u001b[0m     api_key: Optional[\u001b[38;5;28mstr\u001b[39m] \u001b[38;5;241m=\u001b[39m \u001b[38;5;28;01mNone\u001b[39;00m,\n\u001b[1;32m     69\u001b[0m ) \u001b[38;5;241m-\u001b[39m\u001b[38;5;241m>\u001b[39m Any:\n\u001b[1;32m     70\u001b[0m \u001b[38;5;250m    \u001b[39m\u001b[38;5;124;03m\"\"\"\u001b[39;00m\n\u001b[1;32m     71\u001b[0m \u001b[38;5;124;03m    Pulls an object from the hub and returns it as a LangChain object.\u001b[39;00m\n\u001b[1;32m     72\u001b[0m \n\u001b[0;32m   (...)\u001b[0m\n\u001b[1;32m     77\u001b[0m \u001b[38;5;124;03m    :param api_key: The API key to use to authenticate with the LangChain Hub API.\u001b[39;00m\n\u001b[1;32m     78\u001b[0m \u001b[38;5;124;03m    \"\"\"\u001b[39;00m\n\u001b[0;32m---> 79\u001b[0m     client \u001b[38;5;241m=\u001b[39m \u001b[43m_get_client\u001b[49m\u001b[43m(\u001b[49m\u001b[43mapi_url\u001b[49m\u001b[38;5;241;43m=\u001b[39;49m\u001b[43mapi_url\u001b[49m\u001b[43m,\u001b[49m\u001b[43m \u001b[49m\u001b[43mapi_key\u001b[49m\u001b[38;5;241;43m=\u001b[39;49m\u001b[43mapi_key\u001b[49m\u001b[43m)\u001b[49m\n\u001b[1;32m     80\u001b[0m     resp: \u001b[38;5;28mstr\u001b[39m \u001b[38;5;241m=\u001b[39m client\u001b[38;5;241m.\u001b[39mpull(owner_repo_commit)\n\u001b[1;32m     81\u001b[0m     \u001b[38;5;28;01mreturn\u001b[39;00m loads(resp)\n",
      "File \u001b[0;32m~/.mambaforge/envs/rumah/lib/python3.11/site-packages/langchain/hub.py:17\u001b[0m, in \u001b[0;36m_get_client\u001b[0;34m(api_url, api_key)\u001b[0m\n\u001b[1;32m     15\u001b[0m     \u001b[38;5;28;01mfrom\u001b[39;00m \u001b[38;5;21;01mlangchainhub\u001b[39;00m \u001b[38;5;28;01mimport\u001b[39;00m Client\n\u001b[1;32m     16\u001b[0m \u001b[38;5;28;01mexcept\u001b[39;00m \u001b[38;5;167;01mImportError\u001b[39;00m \u001b[38;5;28;01mas\u001b[39;00m e:\n\u001b[0;32m---> 17\u001b[0m     \u001b[38;5;28;01mraise\u001b[39;00m \u001b[38;5;167;01mImportError\u001b[39;00m(\n\u001b[1;32m     18\u001b[0m         \u001b[38;5;124m\"\u001b[39m\u001b[38;5;124mCould not import langchainhub, please install with `pip install \u001b[39m\u001b[38;5;124m\"\u001b[39m\n\u001b[1;32m     19\u001b[0m         \u001b[38;5;124m\"\u001b[39m\u001b[38;5;124mlangchainhub`.\u001b[39m\u001b[38;5;124m\"\u001b[39m\n\u001b[1;32m     20\u001b[0m     ) \u001b[38;5;28;01mfrom\u001b[39;00m \u001b[38;5;21;01me\u001b[39;00m\n\u001b[1;32m     22\u001b[0m \u001b[38;5;66;03m# Client logic will also attempt to load URL/key from environment variables\u001b[39;00m\n\u001b[1;32m     23\u001b[0m \u001b[38;5;28;01mreturn\u001b[39;00m Client(api_url, api_key\u001b[38;5;241m=\u001b[39mapi_key)\n",
      "\u001b[0;31mImportError\u001b[0m: Could not import langchainhub, please install with `pip install langchainhub`."
     ]
    }
   ],
   "source": [
    "agent_prompt = PromptTemplate.from"
   ]
  },
  {
   "cell_type": "code",
   "execution_count": 105,
   "metadata": {},
   "outputs": [
    {
     "name": "stdout",
     "output_type": "stream",
     "text": [
      "\u001b[32;1m\u001b[1;3m[tool/start]\u001b[0m \u001b[1m[1:tool:multiply] Entering Tool run with input:\n",
      "\u001b[0m\"{'first_int': 4, 'second_int': 5}\"\n",
      "\u001b[36;1m\u001b[1;3m[tool/end]\u001b[0m \u001b[1m[1:tool:multiply] [6ms] Exiting Tool run with output:\n",
      "\u001b[0m\"20\"\n"
     ]
    },
    {
     "data": {
      "text/plain": [
       "20"
      ]
     },
     "execution_count": 105,
     "metadata": {},
     "output_type": "execute_result"
    }
   ],
   "source": [
    "multiply.invoke({\"first_int\": 4, \"second_int\": 5})"
   ]
  },
  {
   "cell_type": "code",
   "execution_count": null,
   "metadata": {},
   "outputs": [],
   "source": []
  }
 ],
 "metadata": {
  "kernelspec": {
   "display_name": "rumah",
   "language": "python",
   "name": "python3"
  },
  "language_info": {
   "codemirror_mode": {
    "name": "ipython",
    "version": 3
   },
   "file_extension": ".py",
   "mimetype": "text/x-python",
   "name": "python",
   "nbconvert_exporter": "python",
   "pygments_lexer": "ipython3",
   "version": "3.11.7"
  }
 },
 "nbformat": 4,
 "nbformat_minor": 2
}
