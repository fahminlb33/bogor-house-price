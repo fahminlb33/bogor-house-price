{
 "cells": [
  {
   "cell_type": "code",
   "execution_count": 1,
   "metadata": {},
   "outputs": [],
   "source": [
    "import duckdb\n",
    "import pandas as pd"
   ]
  },
  {
   "cell_type": "code",
   "execution_count": 2,
   "metadata": {},
   "outputs": [
    {
     "name": "stdout",
     "output_type": "stream",
     "text": [
      "\u001b[33mThere's a new jupysql version available (0.10.9), you're running 0.10.3. To upgrade: pip install jupysql --upgrade\u001b[0m\n",
      "\u001b[32mDeploy AI and data apps for free on Ploomber Cloud! Learn more: https://docs.cloud.ploomber.io/en/latest/quickstart/signup.html\u001b[0m\n"
     ]
    }
   ],
   "source": [
    "%load_ext sql\n",
    "conn = duckdb.connect()\n",
    "%sql conn --alias duckdb"
   ]
  },
  {
   "cell_type": "markdown",
   "metadata": {},
   "source": [
    "## EXTRACT"
   ]
  },
  {
   "cell_type": "code",
   "execution_count": 3,
   "metadata": {},
   "outputs": [
    {
     "data": {
      "text/html": [
       "<span style=\"None\">Running query in &#x27;duckdb&#x27;</span>"
      ],
      "text/plain": [
       "Running query in 'duckdb'"
      ]
     },
     "metadata": {},
     "output_type": "display_data"
    },
    {
     "data": {
      "text/html": [
       "<table>\n",
       "    <thead>\n",
       "        <tr>\n",
       "            <th>Count</th>\n",
       "        </tr>\n",
       "    </thead>\n",
       "    <tbody>\n",
       "        <tr>\n",
       "            <td>20146</td>\n",
       "        </tr>\n",
       "    </tbody>\n",
       "</table>"
      ],
      "text/plain": [
       "+-------+\n",
       "| Count |\n",
       "+-------+\n",
       "| 20146 |\n",
       "+-------+"
      ]
     },
     "execution_count": 3,
     "metadata": {},
     "output_type": "execute_result"
    }
   ],
   "source": [
    "# EXTRACT\n",
    "%sql CREATE TABLE raw AS SELECT * FROM read_json_auto('../dataset/parts/house*', format='newline_delimited')"
   ]
  },
  {
   "cell_type": "code",
   "execution_count": 4,
   "metadata": {},
   "outputs": [
    {
     "data": {
      "text/html": [
       "<span style=\"None\">Running query in &#x27;duckdb&#x27;</span>"
      ],
      "text/plain": [
       "Running query in 'duckdb'"
      ]
     },
     "metadata": {},
     "output_type": "display_data"
    },
    {
     "data": {
      "text/html": [
       "<table>\n",
       "    <thead>\n",
       "        <tr>\n",
       "            <th>id</th>\n",
       "            <th>price</th>\n",
       "            <th>installment</th>\n",
       "            <th>address</th>\n",
       "            <th>tags</th>\n",
       "            <th>description</th>\n",
       "            <th>specs</th>\n",
       "            <th>facilities</th>\n",
       "            <th>agent</th>\n",
       "            <th>images</th>\n",
       "            <th>url</th>\n",
       "            <th>last_modified</th>\n",
       "            <th>scraped_at</th>\n",
       "        </tr>\n",
       "    </thead>\n",
       "    <tbody>\n",
       "        <tr>\n",
       "            <td>hos7134669</td>\n",
       "            <td>3300.0</td>\n",
       "            <td>14.0</td>\n",
       "            <td>Puncak, Bogor</td>\n",
       "            <td>[]</td>\n",
       "            <td>Di jual rumah dengan suasana aman dan nyaman jalan lebar bagus, berada di vimala hills puncak dengan udara yang sejuk dan bersih. kondisi rumah baru, bagus dan rapi siap huni, harga masih bisa nego fasilitas lengkap sehingga memudahkan anda untuk beraktifitas sehari-hari. kamar tidur utama 1, kamar tidur tamu 2, kamar pembantu, gudang, toilet utama, toilet tamu, toilet ART, gazeboo diatas garasi/carport. untuk info selanjutnya silahkan hubungi Senior Marketing kami<br>DESSY : 0818 0792 1xxx (wa)</td>\n",
       "            <td>{'Kamar Tidur': 3, 'Kamar Mandi': 3, 'Luas Tanah': '300 m²', 'Luas Bangunan': '180 m²', 'Tipe Properti': 'Rumah', 'Sertifikat': 'SHM - Sertifikat Hak Milik', 'Daya Listrik': '2200 Watt', 'Kamar Pembantu': 1, 'Kamar Mandi Pembantu': 1, 'Jumlah Lantai': 1, 'Tahun Dibangun': 1000, 'Kondisi Properti': 'Bagus Sekali', 'ID Iklan': 'hos7134669', 'Dapur': None, 'Ruang Makan': None, 'Ruang Tamu': None, 'Kondisi Perabotan': None, 'Material Bangunan': None, 'Material Lantai': None, 'Garasi': None, 'Pemandangan': None, 'Terjangkau Internet': None, 'Lebar Jalan': None, 'Hook': None, 'Carport': None, 'Hadap': None, 'Sumber Air': None, 'Tahun Di Renovasi': None, 'Konsep dan Gaya Rumah': None}</td>\n",
       "            <td>[]</td>\n",
       "            <td>{'name': 'Dessy Nine', 'url': 'https://www.rumah123.com/agen-properti/nine-property/dessy-nine-9597/', 'phone': '+6281807921550', 'company': {'name': 'Nine Property', 'url': 'https://www.rumah123.com/agen-properti/nine-property-1589/'}}</td>\n",
       "            <td>[]</td>\n",
       "            <td><a href=https://www.rumah123.com/properti/bogor/hos7134669/>https://www.rumah123.com/properti/bogor/hos7134669/</a></td>\n",
       "            <td>2024-01-18T00:00:00</td>\n",
       "            <td>2024-01-21T03:10:51.029727</td>\n",
       "        </tr>\n",
       "    </tbody>\n",
       "</table>"
      ],
      "text/plain": [
       "+------------+--------+-------------+---------------+------+---------------------------------------------------------------------------------------------------------------------------------------------------------------------------------------------------------------------------------------------------------------------------------------------------------------------------------------------------------------------------------------------------------------------------------------------------------------------------------------+----------------------------------------------------------------------------------------------------------------------------------------------------------------------------------------------------------------------------------------------------------------------------------------------------------------------------------------------------------------------------------------------------------------------------------------------------------------------------------------------------------------------------------------------------------------------------------------------------------------------------------------------------------------------------------------------------------------+------------+----------------------------------------------------------------------------------------------------------------------------------------------------------------------------------------------------------------------------------------------+--------+---------------------------------------------------------------------------------------------------------------------+---------------------+----------------------------+\n",
       "|     id     | price  | installment |    address    | tags |                                                                                                                                                                                                                                      description                                                                                                                                                                                                                                      |                                                                                                                                                                                                                                                                                                                                                     specs                                                                                                                                                                                                                                                                                                                                                      | facilities |                                                                                                                    agent                                                                                                                     | images |                                                         url                                                         |    last_modified    |         scraped_at         |\n",
       "+------------+--------+-------------+---------------+------+---------------------------------------------------------------------------------------------------------------------------------------------------------------------------------------------------------------------------------------------------------------------------------------------------------------------------------------------------------------------------------------------------------------------------------------------------------------------------------------+----------------------------------------------------------------------------------------------------------------------------------------------------------------------------------------------------------------------------------------------------------------------------------------------------------------------------------------------------------------------------------------------------------------------------------------------------------------------------------------------------------------------------------------------------------------------------------------------------------------------------------------------------------------------------------------------------------------+------------+----------------------------------------------------------------------------------------------------------------------------------------------------------------------------------------------------------------------------------------------+--------+---------------------------------------------------------------------------------------------------------------------+---------------------+----------------------------+\n",
       "| hos7134669 | 3300.0 |     14.0    | Puncak, Bogor |  []  | Di jual rumah dengan suasana aman dan nyaman jalan lebar bagus, berada di vimala hills puncak dengan udara yang sejuk dan bersih. kondisi rumah baru, bagus dan rapi siap huni, harga masih bisa nego fasilitas lengkap sehingga memudahkan anda untuk beraktifitas sehari-hari. kamar tidur utama 1, kamar tidur tamu 2, kamar pembantu, gudang, toilet utama, toilet tamu, toilet ART, gazeboo diatas garasi/carport. untuk info selanjutnya silahkan hubungi Senior Marketing kami | {'Kamar Tidur': 3, 'Kamar Mandi': 3, 'Luas Tanah': '300 m²', 'Luas Bangunan': '180 m²', 'Tipe Properti': 'Rumah', 'Sertifikat': 'SHM - Sertifikat Hak Milik', 'Daya Listrik': '2200 Watt', 'Kamar Pembantu': 1, 'Kamar Mandi Pembantu': 1, 'Jumlah Lantai': 1, 'Tahun Dibangun': 1000, 'Kondisi Properti': 'Bagus Sekali', 'ID Iklan': 'hos7134669', 'Dapur': None, 'Ruang Makan': None, 'Ruang Tamu': None, 'Kondisi Perabotan': None, 'Material Bangunan': None, 'Material Lantai': None, 'Garasi': None, 'Pemandangan': None, 'Terjangkau Internet': None, 'Lebar Jalan': None, 'Hook': None, 'Carport': None, 'Hadap': None, 'Sumber Air': None, 'Tahun Di Renovasi': None, 'Konsep dan Gaya Rumah': None} |     []     | {'name': 'Dessy Nine', 'url': 'https://www.rumah123.com/agen-properti/nine-property/dessy-nine-9597/', 'phone': '+6281807921550', 'company': {'name': 'Nine Property', 'url': 'https://www.rumah123.com/agen-properti/nine-property-1589/'}} |   []   | <a href=https://www.rumah123.com/properti/bogor/hos7134669/>https://www.rumah123.com/properti/bogor/hos7134669/</a> | 2024-01-18T00:00:00 | 2024-01-21T03:10:51.029727 |\n",
       "|            |        |             |               |      |                                                                                                                                                                                                                              DESSY : 0818 0792 1xxx (wa)                                                                                                                                                                                                                              |                                                                                                                                                                                                                                                                                                                                                                                                                                                                                                                                                                                                                                                                                                                |            |                                                                                                                                                                                                                                              |        |                                                                                                                     |                     |                            |\n",
       "+------------+--------+-------------+---------------+------+---------------------------------------------------------------------------------------------------------------------------------------------------------------------------------------------------------------------------------------------------------------------------------------------------------------------------------------------------------------------------------------------------------------------------------------------------------------------------------------+----------------------------------------------------------------------------------------------------------------------------------------------------------------------------------------------------------------------------------------------------------------------------------------------------------------------------------------------------------------------------------------------------------------------------------------------------------------------------------------------------------------------------------------------------------------------------------------------------------------------------------------------------------------------------------------------------------------+------------+----------------------------------------------------------------------------------------------------------------------------------------------------------------------------------------------------------------------------------------------+--------+---------------------------------------------------------------------------------------------------------------------+---------------------+----------------------------+"
      ]
     },
     "execution_count": 4,
     "metadata": {},
     "output_type": "execute_result"
    }
   ],
   "source": [
    "%sql SELECT * FROM raw LIMIT 1"
   ]
  },
  {
   "cell_type": "code",
   "execution_count": 5,
   "metadata": {},
   "outputs": [
    {
     "data": {
      "text/plain": [
       "┌───────────────┬────────────────────────────────────────────────────────────────┬─────────┬─────────┬─────────┬───────┐\n",
       "│  column_name  │                          column_type                           │  null   │   key   │ default │ extra │\n",
       "│    varchar    │                            varchar                             │ varchar │ varchar │ varchar │ int32 │\n",
       "├───────────────┼────────────────────────────────────────────────────────────────┼─────────┼─────────┼─────────┼───────┤\n",
       "│ id            │ VARCHAR                                                        │ YES     │ NULL    │ NULL    │  NULL │\n",
       "│ price         │ DOUBLE                                                         │ YES     │ NULL    │ NULL    │  NULL │\n",
       "│ installment   │ DOUBLE                                                         │ YES     │ NULL    │ NULL    │  NULL │\n",
       "│ address       │ VARCHAR                                                        │ YES     │ NULL    │ NULL    │  NULL │\n",
       "│ tags          │ VARCHAR[]                                                      │ YES     │ NULL    │ NULL    │  NULL │\n",
       "│ description   │ VARCHAR                                                        │ YES     │ NULL    │ NULL    │  NULL │\n",
       "│ specs         │ STRUCT(\"Kamar Tidur\" BIGINT, \"Kamar Mandi\" BIGINT, \"Luas Tan…  │ YES     │ NULL    │ NULL    │  NULL │\n",
       "│ facilities    │ VARCHAR[]                                                      │ YES     │ NULL    │ NULL    │  NULL │\n",
       "│ agent         │ STRUCT(\"name\" VARCHAR, url VARCHAR, phone VARCHAR, company S…  │ YES     │ NULL    │ NULL    │  NULL │\n",
       "│ images        │ VARCHAR[]                                                      │ YES     │ NULL    │ NULL    │  NULL │\n",
       "│ url           │ VARCHAR                                                        │ YES     │ NULL    │ NULL    │  NULL │\n",
       "│ last_modified │ VARCHAR                                                        │ YES     │ NULL    │ NULL    │  NULL │\n",
       "│ scraped_at    │ VARCHAR                                                        │ YES     │ NULL    │ NULL    │  NULL │\n",
       "├───────────────┴────────────────────────────────────────────────────────────────┴─────────┴─────────┴─────────┴───────┤\n",
       "│ 13 rows                                                                                                    6 columns │\n",
       "└──────────────────────────────────────────────────────────────────────────────────────────────────────────────────────┘"
      ]
     },
     "execution_count": 5,
     "metadata": {},
     "output_type": "execute_result"
    }
   ],
   "source": [
    "conn.sql(\"DESCRIBE raw\")"
   ]
  },
  {
   "cell_type": "markdown",
   "metadata": {},
   "source": [
    "## TRANSFORM"
   ]
  },
  {
   "cell_type": "markdown",
   "metadata": {},
   "source": [
    "### Transform 1 - Specs"
   ]
  },
  {
   "cell_type": "code",
   "execution_count": 6,
   "metadata": {},
   "outputs": [
    {
     "data": {
      "text/html": [
       "<span style=\"None\">Running query in &#x27;duckdb&#x27;</span>"
      ],
      "text/plain": [
       "Running query in 'duckdb'"
      ]
     },
     "metadata": {},
     "output_type": "display_data"
    },
    {
     "data": {
      "text/html": [
       "<table>\n",
       "    <thead>\n",
       "        <tr>\n",
       "            <th>Count</th>\n",
       "        </tr>\n",
       "    </thead>\n",
       "    <tbody>\n",
       "        <tr>\n",
       "            <td>20146</td>\n",
       "        </tr>\n",
       "    </tbody>\n",
       "</table>"
      ],
      "text/plain": [
       "+-------+\n",
       "| Count |\n",
       "+-------+\n",
       "| 20146 |\n",
       "+-------+"
      ]
     },
     "execution_count": 6,
     "metadata": {},
     "output_type": "execute_result"
    }
   ],
   "source": [
    "# TRANSFORM 1 - Splitting the specs column into multiple columns\n",
    "%sql CREATE OR REPLACE TABLE house_specs_raw AS SELECT specs.*, id AS reference_id FROM raw"
   ]
  },
  {
   "cell_type": "code",
   "execution_count": 7,
   "metadata": {},
   "outputs": [],
   "source": [
    "cols = conn.sql(\"DESCRIBE house_specs_raw\").df()[\"column_name\"].values\n",
    "cols = [f\"\\\"{col}\\\" AS {col.lower().replace(' ', '_')}\" for col in cols if col != \"reference_id\"] + [\"reference_id\"]\n",
    "conn.sql(f\"CREATE OR REPLACE TABLE house_specs AS SELECT {', '.join(cols)} FROM house_specs_raw\")"
   ]
  },
  {
   "cell_type": "code",
   "execution_count": 8,
   "metadata": {},
   "outputs": [
    {
     "data": {
      "text/html": [
       "<span style=\"None\">Running query in &#x27;duckdb&#x27;</span>"
      ],
      "text/plain": [
       "Running query in 'duckdb'"
      ]
     },
     "metadata": {},
     "output_type": "display_data"
    },
    {
     "data": {
      "text/html": [
       "<table>\n",
       "    <thead>\n",
       "        <tr>\n",
       "            <th>kamar_tidur</th>\n",
       "            <th>kamar_mandi</th>\n",
       "            <th>luas_tanah</th>\n",
       "            <th>luas_bangunan</th>\n",
       "            <th>tipe_properti</th>\n",
       "            <th>sertifikat</th>\n",
       "            <th>daya_listrik</th>\n",
       "            <th>kamar_pembantu</th>\n",
       "            <th>kamar_mandi_pembantu</th>\n",
       "            <th>jumlah_lantai</th>\n",
       "            <th>tahun_dibangun</th>\n",
       "            <th>kondisi_properti</th>\n",
       "            <th>id_iklan</th>\n",
       "            <th>dapur</th>\n",
       "            <th>ruang_makan</th>\n",
       "            <th>ruang_tamu</th>\n",
       "            <th>kondisi_perabotan</th>\n",
       "            <th>material_bangunan</th>\n",
       "            <th>material_lantai</th>\n",
       "            <th>garasi</th>\n",
       "            <th>pemandangan</th>\n",
       "            <th>terjangkau_internet</th>\n",
       "            <th>lebar_jalan</th>\n",
       "            <th>hook</th>\n",
       "            <th>carport</th>\n",
       "            <th>hadap</th>\n",
       "            <th>sumber_air</th>\n",
       "            <th>tahun_di_renovasi</th>\n",
       "            <th>konsep_dan_gaya_rumah</th>\n",
       "            <th>reference_id</th>\n",
       "        </tr>\n",
       "    </thead>\n",
       "    <tbody>\n",
       "        <tr>\n",
       "            <td>3</td>\n",
       "            <td>3</td>\n",
       "            <td>300 m²</td>\n",
       "            <td>180 m²</td>\n",
       "            <td>Rumah</td>\n",
       "            <td>SHM - Sertifikat Hak Milik</td>\n",
       "            <td>2200 Watt</td>\n",
       "            <td>1</td>\n",
       "            <td>1</td>\n",
       "            <td>1</td>\n",
       "            <td>1000</td>\n",
       "            <td>Bagus Sekali</td>\n",
       "            <td>hos7134669</td>\n",
       "            <td>None</td>\n",
       "            <td>None</td>\n",
       "            <td>None</td>\n",
       "            <td>None</td>\n",
       "            <td>None</td>\n",
       "            <td>None</td>\n",
       "            <td>None</td>\n",
       "            <td>None</td>\n",
       "            <td>None</td>\n",
       "            <td>None</td>\n",
       "            <td>None</td>\n",
       "            <td>None</td>\n",
       "            <td>None</td>\n",
       "            <td>None</td>\n",
       "            <td>None</td>\n",
       "            <td>None</td>\n",
       "            <td>hos7134669</td>\n",
       "        </tr>\n",
       "        <tr>\n",
       "            <td>4</td>\n",
       "            <td>3</td>\n",
       "            <td>385 m²</td>\n",
       "            <td>270 m²</td>\n",
       "            <td>Rumah</td>\n",
       "            <td>SHM - Sertifikat Hak Milik</td>\n",
       "            <td>2200 Watt</td>\n",
       "            <td>4</td>\n",
       "            <td>1</td>\n",
       "            <td>1</td>\n",
       "            <td>2016</td>\n",
       "            <td>Bagus</td>\n",
       "            <td>hos7134732</td>\n",
       "            <td>1</td>\n",
       "            <td>Tidak</td>\n",
       "            <td>Tidak</td>\n",
       "            <td>Semi Furnished</td>\n",
       "            <td>Bata Merah</td>\n",
       "            <td>Keramik</td>\n",
       "            <td>4</td>\n",
       "            <td>Pegunungan</td>\n",
       "            <td>Ya</td>\n",
       "            <td>2 Mobil</td>\n",
       "            <td>Tidak</td>\n",
       "            <td>None</td>\n",
       "            <td>None</td>\n",
       "            <td>None</td>\n",
       "            <td>None</td>\n",
       "            <td>None</td>\n",
       "            <td>hos7134732</td>\n",
       "        </tr>\n",
       "    </tbody>\n",
       "</table>"
      ],
      "text/plain": [
       "+-------------+-------------+------------+---------------+---------------+----------------------------+--------------+----------------+----------------------+---------------+----------------+------------------+------------+-------+-------------+------------+-------------------+-------------------+-----------------+--------+-------------+---------------------+-------------+-------+---------+-------+------------+-------------------+-----------------------+--------------+\n",
       "| kamar_tidur | kamar_mandi | luas_tanah | luas_bangunan | tipe_properti |         sertifikat         | daya_listrik | kamar_pembantu | kamar_mandi_pembantu | jumlah_lantai | tahun_dibangun | kondisi_properti |  id_iklan  | dapur | ruang_makan | ruang_tamu | kondisi_perabotan | material_bangunan | material_lantai | garasi | pemandangan | terjangkau_internet | lebar_jalan |  hook | carport | hadap | sumber_air | tahun_di_renovasi | konsep_dan_gaya_rumah | reference_id |\n",
       "+-------------+-------------+------------+---------------+---------------+----------------------------+--------------+----------------+----------------------+---------------+----------------+------------------+------------+-------+-------------+------------+-------------------+-------------------+-----------------+--------+-------------+---------------------+-------------+-------+---------+-------+------------+-------------------+-----------------------+--------------+\n",
       "|      3      |      3      |   300 m²   |     180 m²    |     Rumah     | SHM - Sertifikat Hak Milik |  2200 Watt   |       1        |          1           |       1       |      1000      |   Bagus Sekali   | hos7134669 |  None |     None    |    None    |        None       |        None       |       None      |  None  |     None    |         None        |     None    |  None |   None  |  None |    None    |        None       |          None         |  hos7134669  |\n",
       "|      4      |      3      |   385 m²   |     270 m²    |     Rumah     | SHM - Sertifikat Hak Milik |  2200 Watt   |       4        |          1           |       1       |      2016      |      Bagus       | hos7134732 |   1   |    Tidak    |   Tidak    |   Semi Furnished  |     Bata Merah    |     Keramik     |   4    |  Pegunungan |          Ya         |   2 Mobil   | Tidak |   None  |  None |    None    |        None       |          None         |  hos7134732  |\n",
       "+-------------+-------------+------------+---------------+---------------+----------------------------+--------------+----------------+----------------------+---------------+----------------+------------------+------------+-------+-------------+------------+-------------------+-------------------+-----------------+--------+-------------+---------------------+-------------+-------+---------+-------+------------+-------------------+-----------------------+--------------+"
      ]
     },
     "execution_count": 8,
     "metadata": {},
     "output_type": "execute_result"
    }
   ],
   "source": [
    "%sql SELECT * FROM house_specs LIMIT 2"
   ]
  },
  {
   "cell_type": "code",
   "execution_count": 9,
   "metadata": {},
   "outputs": [
    {
     "data": {
      "text/html": [
       "<span style=\"None\">Running query in &#x27;duckdb&#x27;</span>"
      ],
      "text/plain": [
       "Running query in 'duckdb'"
      ]
     },
     "metadata": {},
     "output_type": "display_data"
    },
    {
     "data": {
      "text/html": [
       "<table>\n",
       "    <thead>\n",
       "        <tr>\n",
       "            <th>count_star()</th>\n",
       "            <th>lebar_jalan</th>\n",
       "        </tr>\n",
       "    </thead>\n",
       "    <tbody>\n",
       "        <tr>\n",
       "            <td>409</td>\n",
       "            <td>4 Mobil</td>\n",
       "        </tr>\n",
       "        <tr>\n",
       "            <td>7721</td>\n",
       "            <td>None</td>\n",
       "        </tr>\n",
       "        <tr>\n",
       "            <td>1336</td>\n",
       "            <td>1 Mobil</td>\n",
       "        </tr>\n",
       "        <tr>\n",
       "            <td>9212</td>\n",
       "            <td>2 Mobil</td>\n",
       "        </tr>\n",
       "        <tr>\n",
       "            <td>1468</td>\n",
       "            <td>3 Mobil</td>\n",
       "        </tr>\n",
       "    </tbody>\n",
       "</table>"
      ],
      "text/plain": [
       "+--------------+-------------+\n",
       "| count_star() | lebar_jalan |\n",
       "+--------------+-------------+\n",
       "|     409      |   4 Mobil   |\n",
       "|     7721     |     None    |\n",
       "|     1336     |   1 Mobil   |\n",
       "|     9212     |   2 Mobil   |\n",
       "|     1468     |   3 Mobil   |\n",
       "+--------------+-------------+"
      ]
     },
     "execution_count": 9,
     "metadata": {},
     "output_type": "execute_result"
    }
   ],
   "source": [
    "%sql SELECT COUNT(*), lebar_jalan FROM house_specs GROUP BY lebar_jalan"
   ]
  },
  {
   "cell_type": "code",
   "execution_count": 10,
   "metadata": {},
   "outputs": [
    {
     "data": {
      "text/html": [
       "<span style=\"None\">Running query in &#x27;duckdb&#x27;</span>"
      ],
      "text/plain": [
       "Running query in 'duckdb'"
      ]
     },
     "metadata": {},
     "output_type": "display_data"
    },
    {
     "data": {
      "text/html": [
       "<table>\n",
       "    <thead>\n",
       "        <tr>\n",
       "            <th>Count</th>\n",
       "        </tr>\n",
       "    </thead>\n",
       "    <tbody>\n",
       "        <tr>\n",
       "            <td>20146</td>\n",
       "        </tr>\n",
       "    </tbody>\n",
       "</table>"
      ],
      "text/plain": [
       "+-------+\n",
       "| Count |\n",
       "+-------+\n",
       "| 20146 |\n",
       "+-------+"
      ]
     },
     "execution_count": 10,
     "metadata": {},
     "output_type": "execute_result"
    }
   ],
   "source": [
    "%sql CREATE OR REPLACE TABLE lebar_jalan AS SELECT split_part(lebar_jalan, ' ', 1) AS lebar_jalan_num FROM house_specs"
   ]
  },
  {
   "cell_type": "code",
   "execution_count": 11,
   "metadata": {},
   "outputs": [
    {
     "data": {
      "text/html": [
       "<span style=\"None\">Running query in &#x27;duckdb&#x27;</span>"
      ],
      "text/plain": [
       "Running query in 'duckdb'"
      ]
     },
     "metadata": {},
     "output_type": "display_data"
    },
    {
     "data": {
      "text/html": [
       "<table>\n",
       "    <thead>\n",
       "        <tr>\n",
       "            <th>count_star()</th>\n",
       "            <th>lebar_jalan_num</th>\n",
       "        </tr>\n",
       "    </thead>\n",
       "    <tbody>\n",
       "        <tr>\n",
       "            <td>7721</td>\n",
       "            <td></td>\n",
       "        </tr>\n",
       "        <tr>\n",
       "            <td>1336</td>\n",
       "            <td>1</td>\n",
       "        </tr>\n",
       "        <tr>\n",
       "            <td>9212</td>\n",
       "            <td>2</td>\n",
       "        </tr>\n",
       "        <tr>\n",
       "            <td>1468</td>\n",
       "            <td>3</td>\n",
       "        </tr>\n",
       "        <tr>\n",
       "            <td>409</td>\n",
       "            <td>4</td>\n",
       "        </tr>\n",
       "    </tbody>\n",
       "</table>"
      ],
      "text/plain": [
       "+--------------+-----------------+\n",
       "| count_star() | lebar_jalan_num |\n",
       "+--------------+-----------------+\n",
       "|     7721     |                 |\n",
       "|     1336     |        1        |\n",
       "|     9212     |        2        |\n",
       "|     1468     |        3        |\n",
       "|     409      |        4        |\n",
       "+--------------+-----------------+"
      ]
     },
     "execution_count": 11,
     "metadata": {},
     "output_type": "execute_result"
    }
   ],
   "source": [
    "%sql SELECT COUNT(*), lebar_jalan_num FROM lebar_jalan GROUP BY lebar_jalan_num"
   ]
  },
  {
   "cell_type": "code",
   "execution_count": 12,
   "metadata": {},
   "outputs": [
    {
     "data": {
      "text/html": [
       "<div>\n",
       "<style scoped>\n",
       "    .dataframe tbody tr th:only-of-type {\n",
       "        vertical-align: middle;\n",
       "    }\n",
       "\n",
       "    .dataframe tbody tr th {\n",
       "        vertical-align: top;\n",
       "    }\n",
       "\n",
       "    .dataframe thead th {\n",
       "        text-align: right;\n",
       "    }\n",
       "</style>\n",
       "<table border=\"1\" class=\"dataframe\">\n",
       "  <thead>\n",
       "    <tr style=\"text-align: right;\">\n",
       "      <th></th>\n",
       "      <th>column_name</th>\n",
       "      <th>column_type</th>\n",
       "      <th>null</th>\n",
       "      <th>key</th>\n",
       "      <th>default</th>\n",
       "      <th>extra</th>\n",
       "    </tr>\n",
       "  </thead>\n",
       "  <tbody>\n",
       "    <tr>\n",
       "      <th>0</th>\n",
       "      <td>kamar_tidur</td>\n",
       "      <td>BIGINT</td>\n",
       "      <td>YES</td>\n",
       "      <td>None</td>\n",
       "      <td>None</td>\n",
       "      <td>NaN</td>\n",
       "    </tr>\n",
       "    <tr>\n",
       "      <th>1</th>\n",
       "      <td>kamar_mandi</td>\n",
       "      <td>BIGINT</td>\n",
       "      <td>YES</td>\n",
       "      <td>None</td>\n",
       "      <td>None</td>\n",
       "      <td>NaN</td>\n",
       "    </tr>\n",
       "    <tr>\n",
       "      <th>2</th>\n",
       "      <td>luas_tanah</td>\n",
       "      <td>VARCHAR</td>\n",
       "      <td>YES</td>\n",
       "      <td>None</td>\n",
       "      <td>None</td>\n",
       "      <td>NaN</td>\n",
       "    </tr>\n",
       "    <tr>\n",
       "      <th>3</th>\n",
       "      <td>luas_bangunan</td>\n",
       "      <td>VARCHAR</td>\n",
       "      <td>YES</td>\n",
       "      <td>None</td>\n",
       "      <td>None</td>\n",
       "      <td>NaN</td>\n",
       "    </tr>\n",
       "    <tr>\n",
       "      <th>4</th>\n",
       "      <td>tipe_properti</td>\n",
       "      <td>VARCHAR</td>\n",
       "      <td>YES</td>\n",
       "      <td>None</td>\n",
       "      <td>None</td>\n",
       "      <td>NaN</td>\n",
       "    </tr>\n",
       "    <tr>\n",
       "      <th>5</th>\n",
       "      <td>sertifikat</td>\n",
       "      <td>VARCHAR</td>\n",
       "      <td>YES</td>\n",
       "      <td>None</td>\n",
       "      <td>None</td>\n",
       "      <td>NaN</td>\n",
       "    </tr>\n",
       "    <tr>\n",
       "      <th>6</th>\n",
       "      <td>daya_listrik</td>\n",
       "      <td>VARCHAR</td>\n",
       "      <td>YES</td>\n",
       "      <td>None</td>\n",
       "      <td>None</td>\n",
       "      <td>NaN</td>\n",
       "    </tr>\n",
       "    <tr>\n",
       "      <th>7</th>\n",
       "      <td>kamar_pembantu</td>\n",
       "      <td>BIGINT</td>\n",
       "      <td>YES</td>\n",
       "      <td>None</td>\n",
       "      <td>None</td>\n",
       "      <td>NaN</td>\n",
       "    </tr>\n",
       "    <tr>\n",
       "      <th>8</th>\n",
       "      <td>kamar_mandi_pembantu</td>\n",
       "      <td>BIGINT</td>\n",
       "      <td>YES</td>\n",
       "      <td>None</td>\n",
       "      <td>None</td>\n",
       "      <td>NaN</td>\n",
       "    </tr>\n",
       "    <tr>\n",
       "      <th>9</th>\n",
       "      <td>jumlah_lantai</td>\n",
       "      <td>BIGINT</td>\n",
       "      <td>YES</td>\n",
       "      <td>None</td>\n",
       "      <td>None</td>\n",
       "      <td>NaN</td>\n",
       "    </tr>\n",
       "    <tr>\n",
       "      <th>10</th>\n",
       "      <td>tahun_dibangun</td>\n",
       "      <td>BIGINT</td>\n",
       "      <td>YES</td>\n",
       "      <td>None</td>\n",
       "      <td>None</td>\n",
       "      <td>NaN</td>\n",
       "    </tr>\n",
       "    <tr>\n",
       "      <th>11</th>\n",
       "      <td>kondisi_properti</td>\n",
       "      <td>VARCHAR</td>\n",
       "      <td>YES</td>\n",
       "      <td>None</td>\n",
       "      <td>None</td>\n",
       "      <td>NaN</td>\n",
       "    </tr>\n",
       "    <tr>\n",
       "      <th>12</th>\n",
       "      <td>id_iklan</td>\n",
       "      <td>VARCHAR</td>\n",
       "      <td>YES</td>\n",
       "      <td>None</td>\n",
       "      <td>None</td>\n",
       "      <td>NaN</td>\n",
       "    </tr>\n",
       "    <tr>\n",
       "      <th>13</th>\n",
       "      <td>dapur</td>\n",
       "      <td>BIGINT</td>\n",
       "      <td>YES</td>\n",
       "      <td>None</td>\n",
       "      <td>None</td>\n",
       "      <td>NaN</td>\n",
       "    </tr>\n",
       "    <tr>\n",
       "      <th>14</th>\n",
       "      <td>ruang_makan</td>\n",
       "      <td>VARCHAR</td>\n",
       "      <td>YES</td>\n",
       "      <td>None</td>\n",
       "      <td>None</td>\n",
       "      <td>NaN</td>\n",
       "    </tr>\n",
       "    <tr>\n",
       "      <th>15</th>\n",
       "      <td>ruang_tamu</td>\n",
       "      <td>VARCHAR</td>\n",
       "      <td>YES</td>\n",
       "      <td>None</td>\n",
       "      <td>None</td>\n",
       "      <td>NaN</td>\n",
       "    </tr>\n",
       "    <tr>\n",
       "      <th>16</th>\n",
       "      <td>kondisi_perabotan</td>\n",
       "      <td>VARCHAR</td>\n",
       "      <td>YES</td>\n",
       "      <td>None</td>\n",
       "      <td>None</td>\n",
       "      <td>NaN</td>\n",
       "    </tr>\n",
       "    <tr>\n",
       "      <th>17</th>\n",
       "      <td>material_bangunan</td>\n",
       "      <td>VARCHAR</td>\n",
       "      <td>YES</td>\n",
       "      <td>None</td>\n",
       "      <td>None</td>\n",
       "      <td>NaN</td>\n",
       "    </tr>\n",
       "    <tr>\n",
       "      <th>18</th>\n",
       "      <td>material_lantai</td>\n",
       "      <td>VARCHAR</td>\n",
       "      <td>YES</td>\n",
       "      <td>None</td>\n",
       "      <td>None</td>\n",
       "      <td>NaN</td>\n",
       "    </tr>\n",
       "    <tr>\n",
       "      <th>19</th>\n",
       "      <td>garasi</td>\n",
       "      <td>BIGINT</td>\n",
       "      <td>YES</td>\n",
       "      <td>None</td>\n",
       "      <td>None</td>\n",
       "      <td>NaN</td>\n",
       "    </tr>\n",
       "    <tr>\n",
       "      <th>20</th>\n",
       "      <td>pemandangan</td>\n",
       "      <td>VARCHAR</td>\n",
       "      <td>YES</td>\n",
       "      <td>None</td>\n",
       "      <td>None</td>\n",
       "      <td>NaN</td>\n",
       "    </tr>\n",
       "    <tr>\n",
       "      <th>21</th>\n",
       "      <td>terjangkau_internet</td>\n",
       "      <td>VARCHAR</td>\n",
       "      <td>YES</td>\n",
       "      <td>None</td>\n",
       "      <td>None</td>\n",
       "      <td>NaN</td>\n",
       "    </tr>\n",
       "    <tr>\n",
       "      <th>22</th>\n",
       "      <td>lebar_jalan</td>\n",
       "      <td>VARCHAR</td>\n",
       "      <td>YES</td>\n",
       "      <td>None</td>\n",
       "      <td>None</td>\n",
       "      <td>NaN</td>\n",
       "    </tr>\n",
       "    <tr>\n",
       "      <th>23</th>\n",
       "      <td>hook</td>\n",
       "      <td>VARCHAR</td>\n",
       "      <td>YES</td>\n",
       "      <td>None</td>\n",
       "      <td>None</td>\n",
       "      <td>NaN</td>\n",
       "    </tr>\n",
       "    <tr>\n",
       "      <th>24</th>\n",
       "      <td>carport</td>\n",
       "      <td>BIGINT</td>\n",
       "      <td>YES</td>\n",
       "      <td>None</td>\n",
       "      <td>None</td>\n",
       "      <td>NaN</td>\n",
       "    </tr>\n",
       "    <tr>\n",
       "      <th>25</th>\n",
       "      <td>hadap</td>\n",
       "      <td>VARCHAR</td>\n",
       "      <td>YES</td>\n",
       "      <td>None</td>\n",
       "      <td>None</td>\n",
       "      <td>NaN</td>\n",
       "    </tr>\n",
       "    <tr>\n",
       "      <th>26</th>\n",
       "      <td>sumber_air</td>\n",
       "      <td>VARCHAR</td>\n",
       "      <td>YES</td>\n",
       "      <td>None</td>\n",
       "      <td>None</td>\n",
       "      <td>NaN</td>\n",
       "    </tr>\n",
       "    <tr>\n",
       "      <th>27</th>\n",
       "      <td>tahun_di_renovasi</td>\n",
       "      <td>BIGINT</td>\n",
       "      <td>YES</td>\n",
       "      <td>None</td>\n",
       "      <td>None</td>\n",
       "      <td>NaN</td>\n",
       "    </tr>\n",
       "    <tr>\n",
       "      <th>28</th>\n",
       "      <td>konsep_dan_gaya_rumah</td>\n",
       "      <td>VARCHAR</td>\n",
       "      <td>YES</td>\n",
       "      <td>None</td>\n",
       "      <td>None</td>\n",
       "      <td>NaN</td>\n",
       "    </tr>\n",
       "    <tr>\n",
       "      <th>29</th>\n",
       "      <td>reference_id</td>\n",
       "      <td>VARCHAR</td>\n",
       "      <td>YES</td>\n",
       "      <td>None</td>\n",
       "      <td>None</td>\n",
       "      <td>NaN</td>\n",
       "    </tr>\n",
       "  </tbody>\n",
       "</table>\n",
       "</div>"
      ],
      "text/plain": [
       "              column_name column_type null   key default  extra\n",
       "0             kamar_tidur      BIGINT  YES  None    None    NaN\n",
       "1             kamar_mandi      BIGINT  YES  None    None    NaN\n",
       "2              luas_tanah     VARCHAR  YES  None    None    NaN\n",
       "3           luas_bangunan     VARCHAR  YES  None    None    NaN\n",
       "4           tipe_properti     VARCHAR  YES  None    None    NaN\n",
       "5              sertifikat     VARCHAR  YES  None    None    NaN\n",
       "6            daya_listrik     VARCHAR  YES  None    None    NaN\n",
       "7          kamar_pembantu      BIGINT  YES  None    None    NaN\n",
       "8    kamar_mandi_pembantu      BIGINT  YES  None    None    NaN\n",
       "9           jumlah_lantai      BIGINT  YES  None    None    NaN\n",
       "10         tahun_dibangun      BIGINT  YES  None    None    NaN\n",
       "11       kondisi_properti     VARCHAR  YES  None    None    NaN\n",
       "12               id_iklan     VARCHAR  YES  None    None    NaN\n",
       "13                  dapur      BIGINT  YES  None    None    NaN\n",
       "14            ruang_makan     VARCHAR  YES  None    None    NaN\n",
       "15             ruang_tamu     VARCHAR  YES  None    None    NaN\n",
       "16      kondisi_perabotan     VARCHAR  YES  None    None    NaN\n",
       "17      material_bangunan     VARCHAR  YES  None    None    NaN\n",
       "18        material_lantai     VARCHAR  YES  None    None    NaN\n",
       "19                 garasi      BIGINT  YES  None    None    NaN\n",
       "20            pemandangan     VARCHAR  YES  None    None    NaN\n",
       "21    terjangkau_internet     VARCHAR  YES  None    None    NaN\n",
       "22            lebar_jalan     VARCHAR  YES  None    None    NaN\n",
       "23                   hook     VARCHAR  YES  None    None    NaN\n",
       "24                carport      BIGINT  YES  None    None    NaN\n",
       "25                  hadap     VARCHAR  YES  None    None    NaN\n",
       "26             sumber_air     VARCHAR  YES  None    None    NaN\n",
       "27      tahun_di_renovasi      BIGINT  YES  None    None    NaN\n",
       "28  konsep_dan_gaya_rumah     VARCHAR  YES  None    None    NaN\n",
       "29           reference_id     VARCHAR  YES  None    None    NaN"
      ]
     },
     "execution_count": 12,
     "metadata": {},
     "output_type": "execute_result"
    }
   ],
   "source": [
    "conn.sql(\"DESCRIBE house_specs\").df()"
   ]
  },
  {
   "cell_type": "code",
   "execution_count": 13,
   "metadata": {},
   "outputs": [
    {
     "data": {
      "text/html": [
       "<span style=\"None\">Running query in &#x27;duckdb&#x27;</span>"
      ],
      "text/plain": [
       "Running query in 'duckdb'"
      ]
     },
     "metadata": {},
     "output_type": "display_data"
    },
    {
     "data": {
      "text/html": [
       "<span style=\"None\">Running query in &#x27;duckdb&#x27;</span>"
      ],
      "text/plain": [
       "Running query in 'duckdb'"
      ]
     },
     "metadata": {},
     "output_type": "display_data"
    },
    {
     "data": {
      "text/html": [
       "<span style=\"None\">Running query in &#x27;duckdb&#x27;</span>"
      ],
      "text/plain": [
       "Running query in 'duckdb'"
      ]
     },
     "metadata": {},
     "output_type": "display_data"
    },
    {
     "data": {
      "text/html": [
       "<span style=\"None\">Running query in &#x27;duckdb&#x27;</span>"
      ],
      "text/plain": [
       "Running query in 'duckdb'"
      ]
     },
     "metadata": {},
     "output_type": "display_data"
    },
    {
     "data": {
      "text/html": [
       "<span style=\"None\">Running query in &#x27;duckdb&#x27;</span>"
      ],
      "text/plain": [
       "Running query in 'duckdb'"
      ]
     },
     "metadata": {},
     "output_type": "display_data"
    },
    {
     "data": {
      "text/html": [
       "<table>\n",
       "    <thead>\n",
       "        <tr>\n",
       "            <th>Success</th>\n",
       "        </tr>\n",
       "    </thead>\n",
       "    <tbody>\n",
       "    </tbody>\n",
       "</table>"
      ],
      "text/plain": [
       "+---------+\n",
       "| Success |\n",
       "+---------+\n",
       "+---------+"
      ]
     },
     "execution_count": 13,
     "metadata": {},
     "output_type": "execute_result"
    }
   ],
   "source": [
    "# parse luas_tanah, luas_bangunan, daya_listrik, lebar_jalan as numeric\n",
    "%sql CREATE OR REPLACE TABLE house_specs AS SELECT *, TRY_CAST(RTRIM(luas_tanah, ' m²') AS FLOAT) AS luas_tanah_num, TRY_CAST(RTRIM(luas_bangunan, ' m²') AS FLOAT) AS luas_bangunan_num, TRY_CAST(REPLACE(RTRIM(LOWER(daya_listrik), 'watt'), 'lainnya', '0') AS FLOAT) AS daya_listrik_num, TRY_CAST(SPLIT_PART(lebar_jalan, ' ', 0) AS FLOAT) AS lebar_jalan_num FROM house_specs\n",
    "\n",
    "# drop luas_tanah, luas_bangunan, daya_listrik, lebar_jalan\n",
    "%sql ALTER TABLE house_specs DROP luas_tanah\n",
    "%sql ALTER TABLE house_specs DROP luas_bangunan\n",
    "%sql ALTER TABLE house_specs DROP daya_listrik\n",
    "%sql ALTER TABLE house_specs DROP lebar_jalan"
   ]
  },
  {
   "cell_type": "code",
   "execution_count": 14,
   "metadata": {},
   "outputs": [
    {
     "data": {
      "text/html": [
       "<span style=\"None\">Running query in &#x27;duckdb&#x27;</span>"
      ],
      "text/plain": [
       "Running query in 'duckdb'"
      ]
     },
     "metadata": {},
     "output_type": "display_data"
    },
    {
     "data": {
      "text/html": [
       "<span style=\"None\">Running query in &#x27;duckdb&#x27;</span>"
      ],
      "text/plain": [
       "Running query in 'duckdb'"
      ]
     },
     "metadata": {},
     "output_type": "display_data"
    },
    {
     "data": {
      "text/html": [
       "<span style=\"None\">Running query in &#x27;duckdb&#x27;</span>"
      ],
      "text/plain": [
       "Running query in 'duckdb'"
      ]
     },
     "metadata": {},
     "output_type": "display_data"
    },
    {
     "data": {
      "text/html": [
       "<span style=\"None\">Running query in &#x27;duckdb&#x27;</span>"
      ],
      "text/plain": [
       "Running query in 'duckdb'"
      ]
     },
     "metadata": {},
     "output_type": "display_data"
    },
    {
     "data": {
      "text/html": [
       "<span style=\"None\">Running query in &#x27;duckdb&#x27;</span>"
      ],
      "text/plain": [
       "Running query in 'duckdb'"
      ]
     },
     "metadata": {},
     "output_type": "display_data"
    },
    {
     "data": {
      "text/html": [
       "<table>\n",
       "    <thead>\n",
       "        <tr>\n",
       "            <th>Count</th>\n",
       "        </tr>\n",
       "    </thead>\n",
       "    <tbody>\n",
       "        <tr>\n",
       "            <td>20146</td>\n",
       "        </tr>\n",
       "    </tbody>\n",
       "</table>"
      ],
      "text/plain": [
       "+-------+\n",
       "| Count |\n",
       "+-------+\n",
       "| 20146 |\n",
       "+-------+"
      ]
     },
     "execution_count": 14,
     "metadata": {},
     "output_type": "execute_result"
    }
   ],
   "source": [
    "# normalize kondisi_properti\n",
    "%sql CREATE OR REPLACE TABLE house_specs AS SELECT *, UPPER(kondisi_properti) AS kondisi_properti_norm, UPPER(kondisi_perabotan) AS kondisi_perabotan_norm FROM house_specs\n",
    "\n",
    "# drop kondisi_properti, kondisi_perabotan\n",
    "%sql ALTER TABLE house_specs DROP kondisi_properti\n",
    "%sql ALTER TABLE house_specs DROP kondisi_perabotan\n",
    "\n",
    "# normalize kondisi_properti\n",
    "%sql UPDATE house_specs SET kondisi_properti_norm = CASE kondisi_properti_norm WHEN 'BAGUS SEKALI' THEN 'FURNISHED' WHEN 'SUDAH RENOVASI' THEN 'FURNISHED' WHEN 'BUTUH RENOVASI' THEN 'UNFURNISHED' WHEN 'BAGUS' THEN 'FURNISHED' WHEN 'BARU' THEN 'FURNISHED' ELSE kondisi_properti_norm END\n",
    "%sql UPDATE house_specs SET kondisi_perabotan_norm = CASE kondisi_perabotan_norm WHEN 'BAGUS SEKALI' THEN 'FURNISHED' WHEN 'SUDAH RENOVASI' THEN 'FURNISHED' WHEN 'BUTUH RENOVASI' THEN 'UNFURNISHED' WHEN 'BAGUS' THEN 'FURNISHED' WHEN 'BARU' THEN 'FURNISHED' ELSE kondisi_perabotan_norm END"
   ]
  },
  {
   "cell_type": "code",
   "execution_count": 15,
   "metadata": {},
   "outputs": [
    {
     "data": {
      "text/html": [
       "<span style=\"None\">Running query in &#x27;duckdb&#x27;</span>"
      ],
      "text/plain": [
       "Running query in 'duckdb'"
      ]
     },
     "metadata": {},
     "output_type": "display_data"
    },
    {
     "data": {
      "text/html": [
       "<span style=\"None\">Running query in &#x27;duckdb&#x27;</span>"
      ],
      "text/plain": [
       "Running query in 'duckdb'"
      ]
     },
     "metadata": {},
     "output_type": "display_data"
    },
    {
     "data": {
      "text/html": [
       "<span style=\"None\">Running query in &#x27;duckdb&#x27;</span>"
      ],
      "text/plain": [
       "Running query in 'duckdb'"
      ]
     },
     "metadata": {},
     "output_type": "display_data"
    },
    {
     "data": {
      "text/html": [
       "<span style=\"None\">Running query in &#x27;duckdb&#x27;</span>"
      ],
      "text/plain": [
       "Running query in 'duckdb'"
      ]
     },
     "metadata": {},
     "output_type": "display_data"
    },
    {
     "data": {
      "text/html": [
       "<span style=\"None\">Running query in &#x27;duckdb&#x27;</span>"
      ],
      "text/plain": [
       "Running query in 'duckdb'"
      ]
     },
     "metadata": {},
     "output_type": "display_data"
    },
    {
     "data": {
      "text/html": [
       "<table>\n",
       "    <thead>\n",
       "        <tr>\n",
       "            <th>Success</th>\n",
       "        </tr>\n",
       "    </thead>\n",
       "    <tbody>\n",
       "    </tbody>\n",
       "</table>"
      ],
      "text/plain": [
       "+---------+\n",
       "| Success |\n",
       "+---------+\n",
       "+---------+"
      ]
     },
     "execution_count": 15,
     "metadata": {},
     "output_type": "execute_result"
    }
   ],
   "source": [
    "# convert to boolean\n",
    "%sql CREATE OR REPLACE TABLE house_specs AS SELECT *, ruang_makan = 'Ya' AS ruang_makan_available, ruang_tamu = 'Ya' AS ruang_tamu_available, terjangkau_internet = 'Ya' AS terjangkau_internet_available, hook = 'Ya' AS hook_available FROM house_specs\n",
    "\n",
    "# drop ruang_makan, ruang_tamu, terjangkau_internet, hook\n",
    "%sql ALTER TABLE house_specs DROP ruang_makan\n",
    "%sql ALTER TABLE house_specs DROP ruang_tamu\n",
    "%sql ALTER TABLE house_specs DROP terjangkau_internet\n",
    "%sql ALTER TABLE house_specs DROP hook"
   ]
  },
  {
   "cell_type": "code",
   "execution_count": 16,
   "metadata": {},
   "outputs": [
    {
     "data": {
      "text/html": [
       "<span style=\"None\">Running query in &#x27;duckdb&#x27;</span>"
      ],
      "text/plain": [
       "Running query in 'duckdb'"
      ]
     },
     "metadata": {},
     "output_type": "display_data"
    },
    {
     "data": {
      "text/html": [
       "<span style=\"None\">Running query in &#x27;duckdb&#x27;</span>"
      ],
      "text/plain": [
       "Running query in 'duckdb'"
      ]
     },
     "metadata": {},
     "output_type": "display_data"
    },
    {
     "ename": "BinderException",
     "evalue": "Binder Error: Referenced column \"v\" not found in FROM clause!\nLINE 1: ...TABLE house_material AS SELECT replace(v)\n                                                  ^",
     "output_type": "error",
     "traceback": [
      "\u001b[0;31m---------------------------------------------------------------------------\u001b[0m",
      "\u001b[0;31mBinderException\u001b[0m                           Traceback (most recent call last)",
      "Cell \u001b[0;32mIn[16], line 3\u001b[0m\n\u001b[1;32m      1\u001b[0m \u001b[38;5;66;03m# split material_bangunan to new table\u001b[39;00m\n\u001b[1;32m      2\u001b[0m get_ipython()\u001b[38;5;241m.\u001b[39mrun_line_magic(\u001b[38;5;124m'\u001b[39m\u001b[38;5;124msql\u001b[39m\u001b[38;5;124m'\u001b[39m, \u001b[38;5;124m\"\u001b[39m\u001b[38;5;124mCREATE OR REPLACE TABLE house_material AS SELECT UNNEST(string_split(UPPER(material_bangunan), \u001b[39m\u001b[38;5;124m'\u001b[39m\u001b[38;5;124m, \u001b[39m\u001b[38;5;124m'\u001b[39m\u001b[38;5;124m)) AS value, reference_id FROM house_specs\u001b[39m\u001b[38;5;124m\"\u001b[39m)\n\u001b[0;32m----> 3\u001b[0m \u001b[43mget_ipython\u001b[49m\u001b[43m(\u001b[49m\u001b[43m)\u001b[49m\u001b[38;5;241;43m.\u001b[39;49m\u001b[43mrun_line_magic\u001b[49m\u001b[43m(\u001b[49m\u001b[38;5;124;43m'\u001b[39;49m\u001b[38;5;124;43msql\u001b[39;49m\u001b[38;5;124;43m'\u001b[39;49m\u001b[43m,\u001b[49m\u001b[43m \u001b[49m\u001b[38;5;124;43m'\u001b[39;49m\u001b[38;5;124;43mCREATE OR REPLACE TABLE house_material AS SELECT replace(v)\u001b[39;49m\u001b[38;5;124;43m'\u001b[39;49m\u001b[43m)\u001b[49m\n\u001b[1;32m      4\u001b[0m \u001b[38;5;66;03m# %sql ALTER TABLE house_specs DROP material_bangunan\u001b[39;00m\n",
      "File \u001b[0;32m~/.mambaforge/envs/scraping/lib/python3.11/site-packages/IPython/core/interactiveshell.py:2456\u001b[0m, in \u001b[0;36mInteractiveShell.run_line_magic\u001b[0;34m(self, magic_name, line, _stack_depth)\u001b[0m\n\u001b[1;32m   2454\u001b[0m     kwargs[\u001b[38;5;124m'\u001b[39m\u001b[38;5;124mlocal_ns\u001b[39m\u001b[38;5;124m'\u001b[39m] \u001b[38;5;241m=\u001b[39m \u001b[38;5;28mself\u001b[39m\u001b[38;5;241m.\u001b[39mget_local_scope(stack_depth)\n\u001b[1;32m   2455\u001b[0m \u001b[38;5;28;01mwith\u001b[39;00m \u001b[38;5;28mself\u001b[39m\u001b[38;5;241m.\u001b[39mbuiltin_trap:\n\u001b[0;32m-> 2456\u001b[0m     result \u001b[38;5;241m=\u001b[39m \u001b[43mfn\u001b[49m\u001b[43m(\u001b[49m\u001b[38;5;241;43m*\u001b[39;49m\u001b[43margs\u001b[49m\u001b[43m,\u001b[49m\u001b[43m \u001b[49m\u001b[38;5;241;43m*\u001b[39;49m\u001b[38;5;241;43m*\u001b[39;49m\u001b[43mkwargs\u001b[49m\u001b[43m)\u001b[49m\n\u001b[1;32m   2458\u001b[0m \u001b[38;5;66;03m# The code below prevents the output from being displayed\u001b[39;00m\n\u001b[1;32m   2459\u001b[0m \u001b[38;5;66;03m# when using magics with decorator @output_can_be_silenced\u001b[39;00m\n\u001b[1;32m   2460\u001b[0m \u001b[38;5;66;03m# when the last Python token in the expression is a ';'.\u001b[39;00m\n\u001b[1;32m   2461\u001b[0m \u001b[38;5;28;01mif\u001b[39;00m \u001b[38;5;28mgetattr\u001b[39m(fn, magic\u001b[38;5;241m.\u001b[39mMAGIC_OUTPUT_CAN_BE_SILENCED, \u001b[38;5;28;01mFalse\u001b[39;00m):\n",
      "File \u001b[0;32m~/.mambaforge/envs/scraping/lib/python3.11/site-packages/sql/magic.py:360\u001b[0m, in \u001b[0;36mSqlMagic.execute\u001b[0;34m(self, line, cell, local_ns)\u001b[0m\n\u001b[1;32m    252\u001b[0m \u001b[38;5;129m@no_var_expand\u001b[39m\n\u001b[1;32m    253\u001b[0m \u001b[38;5;129m@needs_local_scope\u001b[39m\n\u001b[1;32m    254\u001b[0m \u001b[38;5;129m@line_magic\u001b[39m(\u001b[38;5;124m\"\u001b[39m\u001b[38;5;124msql\u001b[39m\u001b[38;5;124m\"\u001b[39m)\n\u001b[0;32m   (...)\u001b[0m\n\u001b[1;32m    332\u001b[0m )\n\u001b[1;32m    333\u001b[0m \u001b[38;5;28;01mdef\u001b[39;00m \u001b[38;5;21mexecute\u001b[39m(\u001b[38;5;28mself\u001b[39m, line\u001b[38;5;241m=\u001b[39m\u001b[38;5;124m\"\u001b[39m\u001b[38;5;124m\"\u001b[39m, cell\u001b[38;5;241m=\u001b[39m\u001b[38;5;124m\"\u001b[39m\u001b[38;5;124m\"\u001b[39m, local_ns\u001b[38;5;241m=\u001b[39m\u001b[38;5;28;01mNone\u001b[39;00m):\n\u001b[1;32m    334\u001b[0m \u001b[38;5;250m    \u001b[39m\u001b[38;5;124;03m\"\"\"\u001b[39;00m\n\u001b[1;32m    335\u001b[0m \u001b[38;5;124;03m    Runs SQL statement against a database, specified by\u001b[39;00m\n\u001b[1;32m    336\u001b[0m \u001b[38;5;124;03m    SQLAlchemy connect string.\u001b[39;00m\n\u001b[0;32m   (...)\u001b[0m\n\u001b[1;32m    358\u001b[0m \n\u001b[1;32m    359\u001b[0m \u001b[38;5;124;03m    \"\"\"\u001b[39;00m\n\u001b[0;32m--> 360\u001b[0m     \u001b[38;5;28;01mreturn\u001b[39;00m \u001b[38;5;28;43mself\u001b[39;49m\u001b[38;5;241;43m.\u001b[39;49m\u001b[43m_execute\u001b[49m\u001b[43m(\u001b[49m\n\u001b[1;32m    361\u001b[0m \u001b[43m        \u001b[49m\u001b[43mline\u001b[49m\u001b[38;5;241;43m=\u001b[39;49m\u001b[43mline\u001b[49m\u001b[43m,\u001b[49m\u001b[43m \u001b[49m\u001b[43mcell\u001b[49m\u001b[38;5;241;43m=\u001b[39;49m\u001b[43mcell\u001b[49m\u001b[43m,\u001b[49m\u001b[43m \u001b[49m\u001b[43mlocal_ns\u001b[49m\u001b[38;5;241;43m=\u001b[39;49m\u001b[43mlocal_ns\u001b[49m\u001b[43m,\u001b[49m\u001b[43m \u001b[49m\u001b[43mis_interactive_mode\u001b[49m\u001b[38;5;241;43m=\u001b[39;49m\u001b[38;5;28;43;01mFalse\u001b[39;49;00m\n\u001b[1;32m    362\u001b[0m \u001b[43m    \u001b[49m\u001b[43m)\u001b[49m\n",
      "File \u001b[0;32m~/.mambaforge/envs/scraping/lib/python3.11/site-packages/ploomber_core/telemetry/telemetry.py:675\u001b[0m, in \u001b[0;36mTelemetry.log_call.<locals>._log_call.<locals>.wrapper\u001b[0;34m(*args, **kwargs)\u001b[0m\n\u001b[1;32m    673\u001b[0m     injected_args \u001b[38;5;241m=\u001b[39m \u001b[38;5;28mlist\u001b[39m(args)\n\u001b[1;32m    674\u001b[0m     injected_args\u001b[38;5;241m.\u001b[39minsert(\u001b[38;5;241m1\u001b[39m, _payload)\n\u001b[0;32m--> 675\u001b[0m     result \u001b[38;5;241m=\u001b[39m \u001b[43mfunc\u001b[49m\u001b[43m(\u001b[49m\u001b[38;5;241;43m*\u001b[39;49m\u001b[43minjected_args\u001b[49m\u001b[43m,\u001b[49m\u001b[43m \u001b[49m\u001b[38;5;241;43m*\u001b[39;49m\u001b[38;5;241;43m*\u001b[39;49m\u001b[43mkwargs\u001b[49m\u001b[43m)\u001b[49m\n\u001b[1;32m    676\u001b[0m \u001b[38;5;28;01melse\u001b[39;00m:\n\u001b[1;32m    677\u001b[0m     result \u001b[38;5;241m=\u001b[39m func(_payload, \u001b[38;5;241m*\u001b[39margs, \u001b[38;5;241m*\u001b[39m\u001b[38;5;241m*\u001b[39mkwargs)\n",
      "File \u001b[0;32m~/.mambaforge/envs/scraping/lib/python3.11/site-packages/ploomber_core/exceptions.py:116\u001b[0m, in \u001b[0;36mmodify_exceptions.<locals>.wrapper\u001b[0;34m(*args, **kwargs)\u001b[0m\n\u001b[1;32m    113\u001b[0m \u001b[38;5;129m@wraps\u001b[39m(fn)\n\u001b[1;32m    114\u001b[0m \u001b[38;5;28;01mdef\u001b[39;00m \u001b[38;5;21mwrapper\u001b[39m(\u001b[38;5;241m*\u001b[39margs, \u001b[38;5;241m*\u001b[39m\u001b[38;5;241m*\u001b[39mkwargs):\n\u001b[1;32m    115\u001b[0m     \u001b[38;5;28;01mtry\u001b[39;00m:\n\u001b[0;32m--> 116\u001b[0m         \u001b[38;5;28;01mreturn\u001b[39;00m \u001b[43mfn\u001b[49m\u001b[43m(\u001b[49m\u001b[38;5;241;43m*\u001b[39;49m\u001b[43margs\u001b[49m\u001b[43m,\u001b[49m\u001b[43m \u001b[49m\u001b[38;5;241;43m*\u001b[39;49m\u001b[38;5;241;43m*\u001b[39;49m\u001b[43mkwargs\u001b[49m\u001b[43m)\u001b[49m\n\u001b[1;32m    117\u001b[0m     \u001b[38;5;28;01mexcept\u001b[39;00m (\u001b[38;5;167;01mValueError\u001b[39;00m, \u001b[38;5;167;01mTypeError\u001b[39;00m) \u001b[38;5;28;01mas\u001b[39;00m e:\n\u001b[1;32m    118\u001b[0m         _add_community_link(e)\n",
      "File \u001b[0;32m~/.mambaforge/envs/scraping/lib/python3.11/site-packages/sql/magic.py:615\u001b[0m, in \u001b[0;36mSqlMagic._execute\u001b[0;34m(self, payload, line, cell, local_ns, is_interactive_mode)\u001b[0m\n\u001b[1;32m    612\u001b[0m     handle_exception(e, command\u001b[38;5;241m.\u001b[39msql, \u001b[38;5;28mself\u001b[39m\u001b[38;5;241m.\u001b[39mshort_errors)\n\u001b[1;32m    613\u001b[0m \u001b[38;5;28;01mexcept\u001b[39;00m \u001b[38;5;167;01mException\u001b[39;00m \u001b[38;5;28;01mas\u001b[39;00m e:\n\u001b[1;32m    614\u001b[0m     \u001b[38;5;66;03m# Handle non SQLAlchemy errors\u001b[39;00m\n\u001b[0;32m--> 615\u001b[0m     \u001b[43mhandle_exception\u001b[49m\u001b[43m(\u001b[49m\u001b[43me\u001b[49m\u001b[43m,\u001b[49m\u001b[43m \u001b[49m\u001b[43mcommand\u001b[49m\u001b[38;5;241;43m.\u001b[39;49m\u001b[43msql\u001b[49m\u001b[43m,\u001b[49m\u001b[43m \u001b[49m\u001b[38;5;28;43mself\u001b[39;49m\u001b[38;5;241;43m.\u001b[39;49m\u001b[43mshort_errors\u001b[49m\u001b[43m)\u001b[49m\n",
      "File \u001b[0;32m~/.mambaforge/envs/scraping/lib/python3.11/site-packages/sql/error_handler.py:109\u001b[0m, in \u001b[0;36mhandle_exception\u001b[0;34m(error, query, short_error)\u001b[0m\n\u001b[1;32m    107\u001b[0m         _display_error_msg_with_trace(error, detailed_message)\n\u001b[1;32m    108\u001b[0m \u001b[38;5;28;01melse\u001b[39;00m:\n\u001b[0;32m--> 109\u001b[0m     \u001b[38;5;28;01mraise\u001b[39;00m error\n",
      "File \u001b[0;32m~/.mambaforge/envs/scraping/lib/python3.11/site-packages/sql/magic.py:564\u001b[0m, in \u001b[0;36mSqlMagic._execute\u001b[0;34m(self, payload, line, cell, local_ns, is_interactive_mode)\u001b[0m\n\u001b[1;32m    561\u001b[0m     \u001b[38;5;28;01mreturn\u001b[39;00m\n\u001b[1;32m    563\u001b[0m \u001b[38;5;28;01mtry\u001b[39;00m:\n\u001b[0;32m--> 564\u001b[0m     result \u001b[38;5;241m=\u001b[39m \u001b[43mrun_statements\u001b[49m\u001b[43m(\u001b[49m\n\u001b[1;32m    565\u001b[0m \u001b[43m        \u001b[49m\u001b[43mconn\u001b[49m\u001b[43m,\u001b[49m\n\u001b[1;32m    566\u001b[0m \u001b[43m        \u001b[49m\u001b[43mcommand\u001b[49m\u001b[38;5;241;43m.\u001b[39;49m\u001b[43msql\u001b[49m\u001b[43m,\u001b[49m\n\u001b[1;32m    567\u001b[0m \u001b[43m        \u001b[49m\u001b[38;5;28;43mself\u001b[39;49m\u001b[43m,\u001b[49m\n\u001b[1;32m    568\u001b[0m \u001b[43m        \u001b[49m\u001b[43mparameters\u001b[49m\u001b[38;5;241;43m=\u001b[39;49m\u001b[43muser_ns\u001b[49m\u001b[43m \u001b[49m\u001b[38;5;28;43;01mif\u001b[39;49;00m\u001b[43m \u001b[49m\u001b[38;5;28;43mself\u001b[39;49m\u001b[38;5;241;43m.\u001b[39;49m\u001b[43mnamed_parameters\u001b[49m\u001b[43m \u001b[49m\u001b[38;5;28;43;01melse\u001b[39;49;00m\u001b[43m \u001b[49m\u001b[38;5;28;43;01mNone\u001b[39;49;00m\u001b[43m,\u001b[49m\n\u001b[1;32m    569\u001b[0m \u001b[43m    \u001b[49m\u001b[43m)\u001b[49m\n\u001b[1;32m    571\u001b[0m     \u001b[38;5;28;01mif\u001b[39;00m (\n\u001b[1;32m    572\u001b[0m         result \u001b[38;5;129;01mis\u001b[39;00m \u001b[38;5;129;01mnot\u001b[39;00m \u001b[38;5;28;01mNone\u001b[39;00m\n\u001b[1;32m    573\u001b[0m         \u001b[38;5;129;01mand\u001b[39;00m \u001b[38;5;129;01mnot\u001b[39;00m \u001b[38;5;28misinstance\u001b[39m(result, \u001b[38;5;28mstr\u001b[39m)\n\u001b[0;32m   (...)\u001b[0m\n\u001b[1;32m    576\u001b[0m         \u001b[38;5;66;03m# Instead of returning values, set variables directly in the\u001b[39;00m\n\u001b[1;32m    577\u001b[0m         \u001b[38;5;66;03m# users namespace. Variable names given by column names\u001b[39;00m\n\u001b[1;32m    579\u001b[0m         \u001b[38;5;28;01mif\u001b[39;00m \u001b[38;5;28mself\u001b[39m\u001b[38;5;241m.\u001b[39mautopandas \u001b[38;5;129;01mor\u001b[39;00m \u001b[38;5;28mself\u001b[39m\u001b[38;5;241m.\u001b[39mautopolars:\n",
      "File \u001b[0;32m~/.mambaforge/envs/scraping/lib/python3.11/site-packages/sql/run/run.py:47\u001b[0m, in \u001b[0;36mrun_statements\u001b[0;34m(conn, sql, config, parameters)\u001b[0m\n\u001b[1;32m     43\u001b[0m     result \u001b[38;5;241m=\u001b[39m handle_postgres_special(conn, statement)\n\u001b[1;32m     45\u001b[0m \u001b[38;5;66;03m# regular query\u001b[39;00m\n\u001b[1;32m     46\u001b[0m \u001b[38;5;28;01melse\u001b[39;00m:\n\u001b[0;32m---> 47\u001b[0m     result \u001b[38;5;241m=\u001b[39m \u001b[43mconn\u001b[49m\u001b[38;5;241;43m.\u001b[39;49m\u001b[43mraw_execute\u001b[49m\u001b[43m(\u001b[49m\u001b[43mstatement\u001b[49m\u001b[43m,\u001b[49m\u001b[43m \u001b[49m\u001b[43mparameters\u001b[49m\u001b[38;5;241;43m=\u001b[39;49m\u001b[43mparameters\u001b[49m\u001b[43m)\u001b[49m\n\u001b[1;32m     49\u001b[0m     \u001b[38;5;28;01mif\u001b[39;00m (\n\u001b[1;32m     50\u001b[0m         config\u001b[38;5;241m.\u001b[39mfeedback \u001b[38;5;241m>\u001b[39m\u001b[38;5;241m=\u001b[39m \u001b[38;5;241m1\u001b[39m\n\u001b[1;32m     51\u001b[0m         \u001b[38;5;129;01mand\u001b[39;00m \u001b[38;5;28mhasattr\u001b[39m(result, \u001b[38;5;124m\"\u001b[39m\u001b[38;5;124mrowcount\u001b[39m\u001b[38;5;124m\"\u001b[39m)\n\u001b[1;32m     52\u001b[0m         \u001b[38;5;129;01mand\u001b[39;00m result\u001b[38;5;241m.\u001b[39mrowcount \u001b[38;5;241m>\u001b[39m \u001b[38;5;241m0\u001b[39m\n\u001b[1;32m     53\u001b[0m     ):\n\u001b[1;32m     54\u001b[0m         display\u001b[38;5;241m.\u001b[39mmessage_success(\u001b[38;5;124mf\u001b[39m\u001b[38;5;124m\"\u001b[39m\u001b[38;5;132;01m{\u001b[39;00mresult\u001b[38;5;241m.\u001b[39mrowcount\u001b[38;5;132;01m}\u001b[39;00m\u001b[38;5;124m rows affected.\u001b[39m\u001b[38;5;124m\"\u001b[39m)\n",
      "File \u001b[0;32m~/.mambaforge/envs/scraping/lib/python3.11/site-packages/sql/connection/connection.py:1026\u001b[0m, in \u001b[0;36mDBAPIConnection.raw_execute\u001b[0;34m(self, query, parameters, with_)\u001b[0m\n\u001b[1;32m   1023\u001b[0m     query \u001b[38;5;241m=\u001b[39m \u001b[38;5;28mself\u001b[39m\u001b[38;5;241m.\u001b[39m_resolve_cte(query, with_)\n\u001b[1;32m   1025\u001b[0m cur \u001b[38;5;241m=\u001b[39m \u001b[38;5;28mself\u001b[39m\u001b[38;5;241m.\u001b[39m_connection\u001b[38;5;241m.\u001b[39mcursor()\n\u001b[0;32m-> 1026\u001b[0m \u001b[43mcur\u001b[49m\u001b[38;5;241;43m.\u001b[39;49m\u001b[43mexecute\u001b[49m\u001b[43m(\u001b[49m\u001b[43mquery\u001b[49m\u001b[43m)\u001b[49m\n\u001b[1;32m   1028\u001b[0m \u001b[38;5;28;01mif\u001b[39;00m \u001b[38;5;28mself\u001b[39m\u001b[38;5;241m.\u001b[39m_requires_manual_commit:\n\u001b[1;32m   1029\u001b[0m     \u001b[38;5;28mself\u001b[39m\u001b[38;5;241m.\u001b[39m_connection\u001b[38;5;241m.\u001b[39mcommit()\n",
      "\u001b[0;31mBinderException\u001b[0m: Binder Error: Referenced column \"v\" not found in FROM clause!\nLINE 1: ...TABLE house_material AS SELECT replace(v)\n                                                  ^"
     ]
    }
   ],
   "source": [
    "# split material_bangunan to new table\n",
    "%sql CREATE OR REPLACE TABLE house_material AS SELECT UNNEST(string_split(UPPER(material_bangunan), ', ')) AS value, reference_id FROM house_specs\n",
    "%sql CREATE OR REPLACE TABLE house_material AS SELECT replace(v)\n",
    "# %sql ALTER TABLE house_specs DROP material_bangunan"
   ]
  },
  {
   "cell_type": "code",
   "execution_count": 17,
   "metadata": {},
   "outputs": [
    {
     "data": {
      "text/html": [
       "<span style=\"None\">Running query in &#x27;duckdb&#x27;</span>"
      ],
      "text/plain": [
       "Running query in 'duckdb'"
      ]
     },
     "metadata": {},
     "output_type": "display_data"
    },
    {
     "data": {
      "text/html": [
       "<table>\n",
       "    <thead>\n",
       "        <tr>\n",
       "            <th>count_star()</th>\n",
       "            <th>value</th>\n",
       "        </tr>\n",
       "    </thead>\n",
       "    <tbody>\n",
       "        <tr>\n",
       "            <td>917</td>\n",
       "            <td>BATAKO</td>\n",
       "        </tr>\n",
       "        <tr>\n",
       "            <td>5112</td>\n",
       "            <td>BATA HEBEL</td>\n",
       "        </tr>\n",
       "        <tr>\n",
       "            <td>4708</td>\n",
       "            <td>BATA MERAH</td>\n",
       "        </tr>\n",
       "        <tr>\n",
       "            <td>1652</td>\n",
       "            <td>BETON</td>\n",
       "        </tr>\n",
       "    </tbody>\n",
       "</table>"
      ],
      "text/plain": [
       "+--------------+------------+\n",
       "| count_star() |   value    |\n",
       "+--------------+------------+\n",
       "|     917      |   BATAKO   |\n",
       "|     5112     | BATA HEBEL |\n",
       "|     4708     | BATA MERAH |\n",
       "|     1652     |   BETON    |\n",
       "+--------------+------------+"
      ]
     },
     "execution_count": 17,
     "metadata": {},
     "output_type": "execute_result"
    }
   ],
   "source": [
    "%sql SELECT COUNT(*), value FROM house_material GROUP BY value"
   ]
  },
  {
   "cell_type": "code",
   "execution_count": 18,
   "metadata": {},
   "outputs": [
    {
     "data": {
      "text/html": [
       "<span style=\"None\">Running query in &#x27;duckdb&#x27;</span>"
      ],
      "text/plain": [
       "Running query in 'duckdb'"
      ]
     },
     "metadata": {},
     "output_type": "display_data"
    },
    {
     "data": {
      "text/html": [
       "<span style=\"None\">Running query in &#x27;duckdb&#x27;</span>"
      ],
      "text/plain": [
       "Running query in 'duckdb'"
      ]
     },
     "metadata": {},
     "output_type": "display_data"
    },
    {
     "data": {
      "text/html": [
       "<table>\n",
       "    <thead>\n",
       "        <tr>\n",
       "            <th>Success</th>\n",
       "        </tr>\n",
       "    </thead>\n",
       "    <tbody>\n",
       "    </tbody>\n",
       "</table>"
      ],
      "text/plain": [
       "+---------+\n",
       "| Success |\n",
       "+---------+\n",
       "+---------+"
      ]
     },
     "execution_count": 18,
     "metadata": {},
     "output_type": "execute_result"
    }
   ],
   "source": [
    "# split material_lantai to new table\n",
    "%sql CREATE OR REPLACE TABLE house_floor_material AS SELECT UNNEST(string_split(UPPER(material_lantai), ', ')), reference_id FROM house_specs\n",
    "%sql ALTER TABLE house_specs DROP material_lantai"
   ]
  },
  {
   "cell_type": "code",
   "execution_count": 19,
   "metadata": {},
   "outputs": [
    {
     "data": {
      "text/html": [
       "<span style=\"None\">Running query in &#x27;duckdb&#x27;</span>"
      ],
      "text/plain": [
       "Running query in 'duckdb'"
      ]
     },
     "metadata": {},
     "output_type": "display_data"
    },
    {
     "data": {
      "text/html": [
       "<span style=\"None\">Running query in &#x27;duckdb&#x27;</span>"
      ],
      "text/plain": [
       "Running query in 'duckdb'"
      ]
     },
     "metadata": {},
     "output_type": "display_data"
    },
    {
     "data": {
      "text/html": [
       "<table>\n",
       "    <thead>\n",
       "        <tr>\n",
       "            <th>Success</th>\n",
       "        </tr>\n",
       "    </thead>\n",
       "    <tbody>\n",
       "    </tbody>\n",
       "</table>"
      ],
      "text/plain": [
       "+---------+\n",
       "| Success |\n",
       "+---------+\n",
       "+---------+"
      ]
     },
     "execution_count": 19,
     "metadata": {},
     "output_type": "execute_result"
    }
   ],
   "source": [
    "# drop id_iklan\n",
    "%sql ALTER TABLE house_specs DROP COLUMN id_iklan\n",
    "\n",
    "# drop tipe_properti because this column is constant\n",
    "%sql ALTER TABLE house_specs DROP tipe_properti"
   ]
  },
  {
   "cell_type": "markdown",
   "metadata": {},
   "source": [
    "### Transform 2 - Tags"
   ]
  },
  {
   "cell_type": "code",
   "execution_count": 20,
   "metadata": {},
   "outputs": [
    {
     "data": {
      "text/html": [
       "<span style=\"None\">Running query in &#x27;duckdb&#x27;</span>"
      ],
      "text/plain": [
       "Running query in 'duckdb'"
      ]
     },
     "metadata": {},
     "output_type": "display_data"
    },
    {
     "data": {
      "text/html": [
       "<span style=\"None\">Running query in &#x27;duckdb&#x27;</span>"
      ],
      "text/plain": [
       "Running query in 'duckdb'"
      ]
     },
     "metadata": {},
     "output_type": "display_data"
    },
    {
     "data": {
      "text/html": [
       "<table>\n",
       "    <thead>\n",
       "        <tr>\n",
       "            <th>Count</th>\n",
       "        </tr>\n",
       "    </thead>\n",
       "    <tbody>\n",
       "        <tr>\n",
       "            <td>69632</td>\n",
       "        </tr>\n",
       "    </tbody>\n",
       "</table>"
      ],
      "text/plain": [
       "+-------+\n",
       "| Count |\n",
       "+-------+\n",
       "| 69632 |\n",
       "+-------+"
      ]
     },
     "execution_count": 20,
     "metadata": {},
     "output_type": "execute_result"
    }
   ],
   "source": [
    "# TRANSFORM 2 - Splitting the tags column into multiple rows\n",
    "%sql CREATE OR REPLACE TABLE house_tags AS SELECT UNNEST(raw.tags) AS tag, id AS reference_id FROM raw\n",
    "%sql CREATE OR REPLACE TABLE house_tags AS SELECT UNNEST(string_split(tag, '/')) AS tag, reference_id FROM house_tags"
   ]
  },
  {
   "cell_type": "code",
   "execution_count": 21,
   "metadata": {},
   "outputs": [
    {
     "data": {
      "text/html": [
       "<span style=\"None\">Running query in &#x27;duckdb&#x27;</span>"
      ],
      "text/plain": [
       "Running query in 'duckdb'"
      ]
     },
     "metadata": {},
     "output_type": "display_data"
    },
    {
     "data": {
      "text/html": [
       "<table>\n",
       "    <thead>\n",
       "        <tr>\n",
       "            <th>tag</th>\n",
       "            <th>reference_id</th>\n",
       "        </tr>\n",
       "    </thead>\n",
       "    <tbody>\n",
       "        <tr>\n",
       "            <td>Bisa Nego</td>\n",
       "            <td>hos7134732</td>\n",
       "        </tr>\n",
       "        <tr>\n",
       "            <td>One Gate System</td>\n",
       "            <td>hos7134732</td>\n",
       "        </tr>\n",
       "        <tr>\n",
       "            <td>Bisa Nego</td>\n",
       "            <td>hos7253604</td>\n",
       "        </tr>\n",
       "        <tr>\n",
       "            <td>Bisa Nego</td>\n",
       "            <td>hos7062653</td>\n",
       "        </tr>\n",
       "        <tr>\n",
       "            <td>Cash Keras</td>\n",
       "            <td>hos7062653</td>\n",
       "        </tr>\n",
       "    </tbody>\n",
       "</table>"
      ],
      "text/plain": [
       "+-----------------+--------------+\n",
       "|       tag       | reference_id |\n",
       "+-----------------+--------------+\n",
       "|    Bisa Nego    |  hos7134732  |\n",
       "| One Gate System |  hos7134732  |\n",
       "|    Bisa Nego    |  hos7253604  |\n",
       "|    Bisa Nego    |  hos7062653  |\n",
       "|    Cash Keras   |  hos7062653  |\n",
       "+-----------------+--------------+"
      ]
     },
     "execution_count": 21,
     "metadata": {},
     "output_type": "execute_result"
    }
   ],
   "source": [
    "%sql SELECT * FROM house_tags LIMIT 5"
   ]
  },
  {
   "cell_type": "markdown",
   "metadata": {},
   "source": [
    "### Transform 3 - Facilities"
   ]
  },
  {
   "cell_type": "code",
   "execution_count": 22,
   "metadata": {},
   "outputs": [
    {
     "data": {
      "text/html": [
       "<span style=\"None\">Running query in &#x27;duckdb&#x27;</span>"
      ],
      "text/plain": [
       "Running query in 'duckdb'"
      ]
     },
     "metadata": {},
     "output_type": "display_data"
    },
    {
     "data": {
      "text/html": [
       "<table>\n",
       "    <thead>\n",
       "        <tr>\n",
       "            <th>Count</th>\n",
       "        </tr>\n",
       "    </thead>\n",
       "    <tbody>\n",
       "        <tr>\n",
       "            <td>137456</td>\n",
       "        </tr>\n",
       "    </tbody>\n",
       "</table>"
      ],
      "text/plain": [
       "+--------+\n",
       "| Count  |\n",
       "+--------+\n",
       "| 137456 |\n",
       "+--------+"
      ]
     },
     "execution_count": 22,
     "metadata": {},
     "output_type": "execute_result"
    }
   ],
   "source": [
    "# TRANSFORM 3 - Splitting the facilities column into multiple rows\n",
    "%sql CREATE OR REPLACE TABLE house_facilities AS SELECT UNNEST(raw.facilities) AS tag, id AS reference_id FROM raw"
   ]
  },
  {
   "cell_type": "code",
   "execution_count": 23,
   "metadata": {},
   "outputs": [
    {
     "data": {
      "text/html": [
       "<span style=\"None\">Running query in &#x27;duckdb&#x27;</span>"
      ],
      "text/plain": [
       "Running query in 'duckdb'"
      ]
     },
     "metadata": {},
     "output_type": "display_data"
    },
    {
     "data": {
      "text/html": [
       "<table>\n",
       "    <thead>\n",
       "        <tr>\n",
       "            <th>tag</th>\n",
       "            <th>reference_id</th>\n",
       "        </tr>\n",
       "    </thead>\n",
       "    <tbody>\n",
       "        <tr>\n",
       "            <td>Jalur Telepon</td>\n",
       "            <td>hos7134732</td>\n",
       "        </tr>\n",
       "        <tr>\n",
       "            <td>Kolam Ikan</td>\n",
       "            <td>hos7134732</td>\n",
       "        </tr>\n",
       "        <tr>\n",
       "            <td>Taman</td>\n",
       "            <td>hos7134732</td>\n",
       "        </tr>\n",
       "        <tr>\n",
       "            <td>Tempat Jemuran</td>\n",
       "            <td>hos7134732</td>\n",
       "        </tr>\n",
       "        <tr>\n",
       "            <td>Akses Parkir</td>\n",
       "            <td>hos7134732</td>\n",
       "        </tr>\n",
       "    </tbody>\n",
       "</table>"
      ],
      "text/plain": [
       "+----------------+--------------+\n",
       "|      tag       | reference_id |\n",
       "+----------------+--------------+\n",
       "| Jalur Telepon  |  hos7134732  |\n",
       "|   Kolam Ikan   |  hos7134732  |\n",
       "|     Taman      |  hos7134732  |\n",
       "| Tempat Jemuran |  hos7134732  |\n",
       "|  Akses Parkir  |  hos7134732  |\n",
       "+----------------+--------------+"
      ]
     },
     "execution_count": 23,
     "metadata": {},
     "output_type": "execute_result"
    }
   ],
   "source": [
    "%sql SELECT * FROM house_facilities LIMIT 5"
   ]
  },
  {
   "cell_type": "markdown",
   "metadata": {},
   "source": [
    "### Transform 4 - Images"
   ]
  },
  {
   "cell_type": "code",
   "execution_count": null,
   "metadata": {},
   "outputs": [],
   "source": [
    "# TRANSFORM 4 - Splitting the images column into multiple rows\n",
    "%sql CREATE TABLE house_images AS SELECT UNNEST(raw.images) AS url, id AS reference_id FROM raw"
   ]
  },
  {
   "cell_type": "markdown",
   "metadata": {},
   "source": [
    "### Transform 5 - Agent"
   ]
  },
  {
   "cell_type": "code",
   "execution_count": null,
   "metadata": {},
   "outputs": [],
   "source": [
    "# TRANSFORM 5 - Splitting the agent column into multiple columns\n",
    "%sql CREATE OR REPLACE TABLE house_agent_raw AS SELECT agent.*, id AS reference_id FROM raw"
   ]
  },
  {
   "cell_type": "code",
   "execution_count": null,
   "metadata": {},
   "outputs": [],
   "source": [
    "def mask_name(s: str) -> str:\n",
    "    if s is None or len(s) < 1:\n",
    "        return None\n",
    "    \n",
    "    combined = \"\"\n",
    "    parts = s.split()\n",
    "    for part in parts:\n",
    "        combined += part[:1] + \"x\" * (len(part) - 1) + \" \"\n",
    "\n",
    "    return combined.strip()\n",
    "\n",
    "def mask_phone(s: str) -> str:\n",
    "    if s is None or len(s) < 3:\n",
    "        return None\n",
    "    \n",
    "    return (\"x\" * (len(s) - 3)) + s[-3:]\n",
    "\n",
    "conn.create_function(\"MASK_NAME\", mask_name)\n",
    "conn.create_function(\"MASK_PHONE\", mask_phone)"
   ]
  },
  {
   "cell_type": "code",
   "execution_count": null,
   "metadata": {},
   "outputs": [],
   "source": [
    "# split agent company\n",
    "%sql CREATE OR REPLACE TABLE house_agent_company AS SELECT company.*, reference_id FROM house_agent_raw"
   ]
  },
  {
   "cell_type": "code",
   "execution_count": null,
   "metadata": {},
   "outputs": [],
   "source": [
    "# mask name and phone\n",
    "%sql CREATE OR REPLACE TABLE house_agent AS SELECT mask_name(name) AS name, mask_phone(phone) AS phone, sha256(CONCAT(name, phone)) AS agent_hash, reference_id FROM house_agent_raw"
   ]
  },
  {
   "cell_type": "markdown",
   "metadata": {},
   "source": [
    "### Transform 6 - Raw to Houses"
   ]
  },
  {
   "cell_type": "code",
   "execution_count": null,
   "metadata": {},
   "outputs": [],
   "source": [
    "# TRANSFORM 6 - Project new columns\n",
    "%sql CREATE OR REPLACE TABLE houses AS SELECT id, price, installment, address, description, url, last_modified AS last_modified_at, scraped_at FROM raw"
   ]
  },
  {
   "cell_type": "markdown",
   "metadata": {},
   "source": [
    "## LOAD"
   ]
  },
  {
   "cell_type": "code",
   "execution_count": null,
   "metadata": {},
   "outputs": [],
   "source": [
    "conn.sql(\"SHOW TABLES\")"
   ]
  },
  {
   "cell_type": "code",
   "execution_count": null,
   "metadata": {},
   "outputs": [],
   "source": [
    "# LOAD\n",
    "%sql COPY houses TO '../dataset/etl/L1.houses.parquet' (FORMAT 'parquet')\n",
    "%sql COPY house_specs TO '../dataset/etl/L1.house_specs.parquet' (FORMAT 'parquet')\n",
    "%sql COPY house_agent TO '../dataset/etl/L1.house_agent.parquet' (FORMAT 'parquet')\n",
    "%sql COPY house_images TO '../dataset/etl/L1.house_images.parquet' (FORMAT 'parquet')\n",
    "%sql COPY house_material TO '../dataset/etl/L1.house_material.parquet' (FORMAT 'parquet')\n",
    "%sql COPY house_specs TO '../dataset/etl/L1.house_specs.parquet' (FORMAT 'parquet')\n",
    "%sql COPY house_tags TO '../dataset/etl/L1.house_tags.parquet' (FORMAT 'parquet')"
   ]
  },
  {
   "cell_type": "code",
   "execution_count": null,
   "metadata": {},
   "outputs": [],
   "source": []
  }
 ],
 "metadata": {
  "kernelspec": {
   "display_name": "scraping",
   "language": "python",
   "name": "python3"
  },
  "language_info": {
   "codemirror_mode": {
    "name": "ipython",
    "version": 3
   },
   "file_extension": ".py",
   "mimetype": "text/x-python",
   "name": "python",
   "nbconvert_exporter": "python",
   "pygments_lexer": "ipython3",
   "version": "3.11.7"
  }
 },
 "nbformat": 4,
 "nbformat_minor": 2
}
