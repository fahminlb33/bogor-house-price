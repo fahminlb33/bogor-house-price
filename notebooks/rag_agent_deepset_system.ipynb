{
 "cells": [
  {
   "cell_type": "code",
   "execution_count": 1,
   "metadata": {},
   "outputs": [],
   "source": [
    "import os\n",
    "import json"
   ]
  },
  {
   "cell_type": "code",
   "execution_count": 2,
   "metadata": {},
   "outputs": [],
   "source": [
    "import logging\n",
    "\n",
    "logging.basicConfig(format=\"%(levelname)s - %(name)s -  %(message)s\", level=logging.INFO)\n",
    "logging.getLogger(\"haystack\").setLevel(logging.INFO)"
   ]
  },
  {
   "cell_type": "markdown",
   "metadata": {},
   "source": [
    "## RAG with Agent Pipeline"
   ]
  },
  {
   "cell_type": "code",
   "execution_count": 3,
   "metadata": {},
   "outputs": [],
   "source": [
    "from haystack import Document, Pipeline, component\n",
    "from haystack.components.others import Multiplexer\n",
    "from haystack.components.routers import ConditionalRouter\n",
    "from haystack.components.embedders import OpenAITextEmbedder\n",
    "from haystack.components.generators import OpenAIGenerator\n",
    "from haystack.components.builders.prompt_builder import PromptBuilder\n",
    "from haystack_integrations.document_stores.qdrant import QdrantDocumentStore\n",
    "from haystack_integrations.components.retrievers.qdrant import QdrantEmbeddingRetriever"
   ]
  },
  {
   "cell_type": "code",
   "execution_count": 4,
   "metadata": {},
   "outputs": [],
   "source": [
    "@component\n",
    "class ReturnDocumentsFromRetriever:\n",
    "    @component.output_types(documents=list[dict])\n",
    "    def run(self, docs: list[Document]):\n",
    "        return {\"documents\": [{\"id\": doc.id, **doc.meta} for doc in docs]}\n",
    "\n",
    "@component\n",
    "class PredictHousePrice:\n",
    "    @component.output_types(prediction=float, features=dict)\n",
    "    def run(self, replies: list[str]):\n",
    "        try:\n",
    "            features = json.loads(replies[0])\n",
    "            print(features)\n",
    "            return {\n",
    "                \"prediction\": 1000000,\n",
    "                \"features\": {\n",
    "                    \"land_area\": features.get(\"land_area\", 0),\n",
    "                    \"house_size\": features.get(\"house_size\", 0),\n",
    "                    \"bedrooms\": features.get(\"bedrooms\", 0),\n",
    "                    \"bathrooms\": features.get(\"bathrooms\", 0),\n",
    "                }\n",
    "            }\n",
    "        except:\n",
    "            return -1"
   ]
  },
  {
   "cell_type": "markdown",
   "metadata": {},
   "source": [
    "### Primer for Conditional Router"
   ]
  },
  {
   "cell_type": "code",
   "execution_count": 5,
   "metadata": {},
   "outputs": [],
   "source": [
    "prompt_for_router_system = \"\"\"\n",
    "You are a clever AI agent that can answer questions related to house/real estate price prediction and recommendation.\n",
    "You will be given a question about house/real estate price prediction and recommendation, and you need to pick the best answer from the following options.\n",
    "If the user wanted to predict house/real estate price (by using keywords such as predict, perkiraan, berapa, prediksi, or other relevant keywords) and also provides a number of house/real estate specifications such as land area, house area, number of bedrooms, and number of bathrooms, you must answer with 'PREDICTION'.\n",
    "If the user did not intend to predict house/real estate price or did not provide at least one information above, you should answer with 'DATABASE_SEARCH'.\n",
    "All other questions should be answered with 'DATABASE_SEARCH' too.\n",
    "Never answer other than 'PREDICTION' or 'DATABASE_SEARCH'.\n",
    "\n",
    "Example:\n",
    "Question: What is the price of a house with 3 bedrooms, 2 bathrooms, 1000 sqft land, and 800 sqft house?\n",
    "Answer: PREDICTION\n",
    "\n",
    "Question: Predict the price of a house with 3 bedrooms and a lawn.\n",
    "Answer: PREDICTION\n",
    "\n",
    "Question: Recommend me a house with 3 bedrooms, 2 bathrooms, and a swimming pool.\n",
    "Answer: DATABASE_SEARCH\n",
    "\n",
    "Question: Show me a house with 2 bedrooms and a garage.\n",
    "Answer: DATABASE_SEARCH\n",
    "\"\"\"\n",
    "\n",
    "prompt_for_router = \"\"\"\n",
    "Question: {{ query }}\n",
    "Answer:\n",
    "\"\"\"\n",
    "\n",
    "prompt_for_prediction_system = \"\"\"\n",
    "You are a clever AI agent that can answer questions related to house/real estate price prediction.\n",
    "You will be given a number of house/real estate specifications such as land area, house area, number of bedrooms, and number of bathrooms, then you must extract those information as JSON.\n",
    "The user may provide the information in Bahasa Indonesia.\n",
    "\n",
    "The output schema is:\n",
    "{\n",
    "  \"land_area\": float,   // area of the land in meter squared/luas tanah\n",
    "  \"house_area\": float,  // area of the house in meter squared/luas bangunan\n",
    "  \"bedrooms\": int,      // number of bedrooms/kamar tidur\n",
    "  \"bathrooms\": int      // number of bathrooms/kamar mandi\n",
    "}\n",
    "\n",
    "If the user did not provide at least one information above, you should answer with empty JSON such as '{}'.\n",
    "All other questions should be answered with '{}' too.\n",
    "Never answer other than the JSON schema or '{}'.\n",
    "\"\"\"\n",
    "\n",
    "prompt_for_prediction = \"\"\"\n",
    "Question: {{ question }}\n",
    "Answer:\n",
    "\"\"\"\n",
    "\n",
    "prompt_for_prediction_result = \"\"\"\n",
    "You just predicted the price of a house with the following specifications:\n",
    "Land area: {{ features.land_area }} meter squared\n",
    "House area: {{ features.house_area }} meter squared\n",
    "Bedrooms: {{ features.bedrooms }}\n",
    "Bathrooms: {{ features.bathrooms }}\n",
    "\n",
    "The predicted price is: IDR {{ prediction }}.\n",
    "\n",
    "Paraphrase the information above in a complete sentence. Include the specificationa and predicted price in the sentence.\n",
    "Format the price in Indonesian Rupiah (IDR) with period as the thousand separator and two decimal places.\n",
    "Always answer in Bahasa Indonesia.\n",
    "\"\"\"\n",
    "\n",
    "prompt_for_rag = \"\"\"\n",
    "You are an assistant for house recommendation/suggestion tasks. You will be given a few documents about property listing along with it's price, address, and specifications.\n",
    "Give a summary about the house specs and address if you have a match. Do not return the result as lists, but as a paragraph. \n",
    "You can suggest more than one house based on the context. If you don't know the answer, just say that you don't know. \n",
    "Answer using the same language as the question. Use five sentences maximum and keep the answer concise.\n",
    "\n",
    "Context:\n",
    "###\n",
    "{% for doc in documents %}\n",
    "{{ doc.content }}\n",
    "{% endfor %}\n",
    "###\n",
    "\n",
    "Question: {{ question }}\n",
    "\n",
    "Answer:\n",
    "\"\"\""
   ]
  },
  {
   "cell_type": "markdown",
   "metadata": {},
   "source": [
    "### Build Pipeline"
   ]
  },
  {
   "cell_type": "code",
   "execution_count": 6,
   "metadata": {},
   "outputs": [],
   "source": [
    "routes = [\n",
    "    {\n",
    "        \"condition\": \"{{'PREDICTION' in replies[0]}}\",\n",
    "        \"output\": \"{{query}}\",\n",
    "        \"output_name\": \"features\",\n",
    "        \"output_type\": str,\n",
    "    },\n",
    "    {\n",
    "        \"condition\": \"{{'PREDICTION' not in replies[0]}}\",\n",
    "        \"output\": \"{{query}}\",\n",
    "        \"output_name\": \"question\",\n",
    "        \"output_type\": str,\n",
    "    }\n",
    "]"
   ]
  },
  {
   "cell_type": "code",
   "execution_count": 7,
   "metadata": {},
   "outputs": [
    {
     "name": "stderr",
     "output_type": "stream",
     "text": [
      "INFO - httpx -  HTTP Request: GET http://localhost:6333/collections/houses_haystack \"HTTP/1.1 200 OK\"\n"
     ]
    },
    {
     "data": {
      "text/plain": [
       "<haystack.pipeline.Pipeline at 0x7f081f738f50>"
      ]
     },
     "execution_count": 7,
     "metadata": {},
     "output_type": "execute_result"
    }
   ],
   "source": [
    "# router\n",
    "router = ConditionalRouter(routes)\n",
    "router_prompt = PromptBuilder(prompt_for_router)\n",
    "router_llm = OpenAIGenerator(model=\"gpt-3.5-turbo\", system_prompt=prompt_for_router_system)\n",
    "\n",
    "# extraction of input features\n",
    "prediction_prompt = PromptBuilder(prompt_for_prediction)\n",
    "prediction_llm = OpenAIGenerator(model=\"gpt-3.5-turbo\", system_prompt=prompt_for_prediction_system, generation_kwargs={\"response_format\": { \"type\": \"json_object\" }})\n",
    "prediction_component = PredictHousePrice()\n",
    "\n",
    "# prediction result\n",
    "prediction_result_prompt = PromptBuilder(prompt_for_prediction_result)\n",
    "prediction_result_llm = OpenAIGenerator(model=\"gpt-3.5-turbo\")\n",
    "\n",
    "# RAG\n",
    "document_store = QdrantDocumentStore(url=\"localhost:6333\", index=\"houses_haystack\", embedding_dim=1536, hnsw_config={\"m\": 16, \"ef_construct\": 100}, return_embedding=True, wait_result_from_api=True)\n",
    "rag_embedder = OpenAITextEmbedder()\n",
    "rag_retriever = QdrantEmbeddingRetriever(document_store=document_store)\n",
    "rag_prompt = PromptBuilder(template=prompt_for_rag)\n",
    "rag_llm = OpenAIGenerator(model=\"gpt-3.5-turbo\")\n",
    "rag_doc_returner = ReturnDocumentsFromRetriever()\n",
    "\n",
    "# create pipeline\n",
    "pipeline = Pipeline()\n",
    "\n",
    "# router phase\n",
    "pipeline.add_component(\"router_prompt\", router_prompt)\n",
    "pipeline.add_component(\"router_llm\", router_llm)\n",
    "pipeline.add_component(\"router\", router)\n",
    "\n",
    "\n",
    "# if the route is PREDICTION\n",
    "pipeline.add_component(\"prediction_prompt\", prediction_prompt)\n",
    "pipeline.add_component(\"prediction_llm\", prediction_llm)\n",
    "pipeline.add_component(\"prediction_component\", prediction_component)\n",
    "pipeline.add_component(\"prediction_prompt_for_result\", prediction_result_prompt)\n",
    "pipeline.add_component(\"prediction_result_llm\", prediction_result_llm)\n",
    "\n",
    "# if the route is DATABASE_SEARCH\n",
    "pipeline.add_component(\"rag_embedder\", rag_embedder)\n",
    "pipeline.add_component(\"rag_retriever\", rag_retriever)\n",
    "pipeline.add_component(\"rag_prompt\", rag_prompt)\n",
    "pipeline.add_component(\"rag_llm\", rag_llm)\n",
    "pipeline.add_component(\"rag_doc_returner\", rag_doc_returner)\n",
    "\n",
    "\n",
    "# connect the components\n",
    "pipeline.connect(\"router_prompt\", \"router_llm\")\n",
    "pipeline.connect(\"router_llm.replies\", \"router.replies\")\n",
    "\n",
    "pipeline.connect(\"router.features\", \"prediction_prompt\")\n",
    "pipeline.connect(\"prediction_prompt\", \"prediction_llm\")\n",
    "pipeline.connect(\"prediction_llm\", \"prediction_component\")\n",
    "pipeline.connect(\"prediction_component.prediction\", \"prediction_prompt_for_result.prediction\")\n",
    "pipeline.connect(\"prediction_component.features\", \"prediction_prompt_for_result.features\")\n",
    "pipeline.connect(\"prediction_prompt_for_result\", \"prediction_result_llm\")\n",
    "\n",
    "pipeline.connect(\"router.question\", \"rag_embedder.text\")\n",
    "pipeline.connect(\"router.question\", \"rag_prompt.question\")\n",
    "pipeline.connect(\"rag_embedder.embedding\", \"rag_retriever.query_embedding\")\n",
    "pipeline.connect(\"rag_retriever\", \"rag_prompt.documents\")\n",
    "pipeline.connect(\"rag_retriever\", \"rag_doc_returner\")\n",
    "pipeline.connect(\"rag_prompt\", \"rag_llm\")"
   ]
  },
  {
   "cell_type": "code",
   "execution_count": 8,
   "metadata": {},
   "outputs": [],
   "source": [
    "pipeline.draw(\"pipeline.png\")\n",
    "pipeline.draw(\"pipeline.txt\", engine=\"mermaid-text\")"
   ]
  },
  {
   "cell_type": "markdown",
   "metadata": {},
   "source": [
    "### Execute Pipeline"
   ]
  },
  {
   "cell_type": "code",
   "execution_count": 9,
   "metadata": {},
   "outputs": [
    {
     "name": "stderr",
     "output_type": "stream",
     "text": [
      "INFO - httpx -  HTTP Request: POST https://api.openai.com/v1/chat/completions \"HTTP/1.1 200 OK\"\n",
      "INFO - httpx -  HTTP Request: POST https://api.openai.com/v1/chat/completions \"HTTP/1.1 200 OK\"\n"
     ]
    },
    {
     "name": "stdout",
     "output_type": "stream",
     "text": [
      "{'land_area': 1000.0, 'house_area': 800.0, 'bedrooms': 10, 'bathrooms': 5}\n"
     ]
    },
    {
     "name": "stderr",
     "output_type": "stream",
     "text": [
      "INFO - httpx -  HTTP Request: POST https://api.openai.com/v1/chat/completions \"HTTP/1.1 200 OK\"\n"
     ]
    },
    {
     "name": "stdout",
     "output_type": "stream",
     "text": [
      "{\n",
      "  \"router_llm\": {\n",
      "    \"meta\": [\n",
      "      {\n",
      "        \"model\": \"gpt-3.5-turbo-0125\",\n",
      "        \"index\": 0,\n",
      "        \"finish_reason\": \"stop\",\n",
      "        \"usage\": {\n",
      "          \"completion_tokens\": 4,\n",
      "          \"prompt_tokens\": 345,\n",
      "          \"total_tokens\": 349\n",
      "        }\n",
      "      }\n",
      "    ]\n",
      "  },\n",
      "  \"prediction_llm\": {\n",
      "    \"meta\": [\n",
      "      {\n",
      "        \"model\": \"gpt-3.5-turbo-0125\",\n",
      "        \"index\": 0,\n",
      "        \"finish_reason\": \"stop\",\n",
      "        \"usage\": {\n",
      "          \"completion_tokens\": 40,\n",
      "          \"prompt_tokens\": 250,\n",
      "          \"total_tokens\": 290\n",
      "        }\n",
      "      }\n",
      "    ]\n",
      "  },\n",
      "  \"prediction_result_llm\": {\n",
      "    \"replies\": [\n",
      "      \"Anda baru saja memprediksi harga sebuah rumah dengan spesifikasi berikut: Luas tanah 1000,0 meter persegi, luas rumah belum diketahui, 10 kamar tidur, dan 5 kamar mandi. Harga yang diprediksi adalah Rp 1.000.000,00.\"\n",
      "    ],\n",
      "    \"meta\": [\n",
      "      {\n",
      "        \"model\": \"gpt-3.5-turbo-0125\",\n",
      "        \"index\": 0,\n",
      "        \"finish_reason\": \"stop\",\n",
      "        \"usage\": {\n",
      "          \"completion_tokens\": 75,\n",
      "          \"prompt_tokens\": 115,\n",
      "          \"total_tokens\": 190\n",
      "        }\n",
      "      }\n",
      "    ]\n",
      "  }\n",
      "}\n"
     ]
    }
   ],
   "source": [
    "# query = \"What is the price of a house with 3 bedrooms, 2 bathrooms, 1000 sqft land, and 800 sqft house?\"\n",
    "# query = \"berapa harga rumah dengan 10 kamar tidur, 5 kamar mandi, 1000 meter persegi tanah, dan 800 meter persegi bangunan?\"\n",
    "query = \"rekomendasi rumah dengan 3 kamar tidur, 2 kamar mandi, dan kolam renang\"\n",
    "\n",
    "results = pipeline.run(\n",
    "    {\n",
    "        \"router\": {\"query\": query},\n",
    "        \"router_prompt\": {\"query\": query},\n",
    "    },\n",
    "    debug=True\n",
    ")\n",
    "\n",
    "print(json.dumps(results, indent=2))\n",
    "# results"
   ]
  },
  {
   "cell_type": "code",
   "execution_count": null,
   "metadata": {},
   "outputs": [],
   "source": []
  }
 ],
 "metadata": {
  "kernelspec": {
   "display_name": "rumah",
   "language": "python",
   "name": "python3"
  },
  "language_info": {
   "codemirror_mode": {
    "name": "ipython",
    "version": 3
   },
   "file_extension": ".py",
   "mimetype": "text/x-python",
   "name": "python",
   "nbconvert_exporter": "python",
   "pygments_lexer": "ipython3",
   "version": "3.11.7"
  }
 },
 "nbformat": 4,
 "nbformat_minor": 2
}
