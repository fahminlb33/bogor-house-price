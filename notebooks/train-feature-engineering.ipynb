{
 "cells": [
  {
   "cell_type": "code",
   "execution_count": 1,
   "metadata": {},
   "outputs": [],
   "source": [
    "import time\n",
    "\n",
    "import numpy as np\n",
    "import scipy as sp\n",
    "import pandas as pd\n",
    "import seaborn as sns\n",
    "import matplotlib.pyplot as plt\n",
    "\n",
    "import tqdm\n",
    "import lightgbm as lgb\n",
    "\n",
    "from sklearn.model_selection import KFold, train_test_split\n",
    "from sklearn.metrics import mean_absolute_error, mean_squared_error, mean_absolute_percentage_error, r2_score"
   ]
  },
  {
   "cell_type": "code",
   "execution_count": 2,
   "metadata": {},
   "outputs": [],
   "source": [
    "def smape(y_true, y_pred):\n",
    "    return np.mean(np.abs(y_true - y_pred) / ((np.abs(y_true) + np.abs(y_pred)) / 2))"
   ]
  },
  {
   "cell_type": "markdown",
   "metadata": {},
   "source": [
    "## Data Loading"
   ]
  },
  {
   "cell_type": "code",
   "execution_count": 3,
   "metadata": {},
   "outputs": [
    {
     "data": {
      "application/vnd.microsoft.datawrangler.viewer.v0+json": {
       "columns": [
        {
         "name": "index",
         "rawType": "int64",
         "type": "integer"
        },
        {
         "name": "id",
         "rawType": "object",
         "type": "string"
        },
        {
         "name": "price",
         "rawType": "float64",
         "type": "float"
        },
        {
         "name": "installment",
         "rawType": "float64",
         "type": "float"
        },
        {
         "name": "subdistrict",
         "rawType": "object",
         "type": "string"
        },
        {
         "name": "city",
         "rawType": "object",
         "type": "string"
        },
        {
         "name": "description",
         "rawType": "object",
         "type": "string"
        },
        {
         "name": "url",
         "rawType": "object",
         "type": "string"
        },
        {
         "name": "kamar_tidur",
         "rawType": "int32",
         "type": "integer"
        },
        {
         "name": "kamar_mandi",
         "rawType": "int32",
         "type": "integer"
        },
        {
         "name": "kamar_pembantu",
         "rawType": "int32",
         "type": "integer"
        },
        {
         "name": "kamar_mandi_pembantu",
         "rawType": "int32",
         "type": "integer"
        },
        {
         "name": "dapur",
         "rawType": "int32",
         "type": "integer"
        },
        {
         "name": "luas_tanah",
         "rawType": "float32",
         "type": "float"
        },
        {
         "name": "luas_bangunan",
         "rawType": "float32",
         "type": "float"
        },
        {
         "name": "jumlah_lantai",
         "rawType": "int32",
         "type": "integer"
        },
        {
         "name": "garasi",
         "rawType": "int32",
         "type": "integer"
        },
        {
         "name": "carport",
         "rawType": "int32",
         "type": "integer"
        },
        {
         "name": "lebar_jalan",
         "rawType": "float32",
         "type": "float"
        },
        {
         "name": "tahun_dibangun",
         "rawType": "int32",
         "type": "integer"
        },
        {
         "name": "tahun_di_renovasi",
         "rawType": "int32",
         "type": "integer"
        },
        {
         "name": "daya_listrik",
         "rawType": "float32",
         "type": "float"
        },
        {
         "name": "hadap",
         "rawType": "object",
         "type": "unknown"
        },
        {
         "name": "sertifikat",
         "rawType": "object",
         "type": "string"
        },
        {
         "name": "sumber_air",
         "rawType": "object",
         "type": "string"
        },
        {
         "name": "pemandangan",
         "rawType": "object",
         "type": "string"
        },
        {
         "name": "tipe_properti",
         "rawType": "object",
         "type": "string"
        },
        {
         "name": "konsep_dan_gaya_rumah",
         "rawType": "object",
         "type": "string"
        },
        {
         "name": "kondisi_properti",
         "rawType": "object",
         "type": "string"
        },
        {
         "name": "kondisi_perabotan",
         "rawType": "object",
         "type": "unknown"
        },
        {
         "name": "hook",
         "rawType": "int32",
         "type": "integer"
        },
        {
         "name": "ruang_tamu",
         "rawType": "int32",
         "type": "integer"
        },
        {
         "name": "ruang_makan",
         "rawType": "int32",
         "type": "integer"
        },
        {
         "name": "terjangkau_internet",
         "rawType": "int32",
         "type": "integer"
        },
        {
         "name": "tags",
         "rawType": "object",
         "type": "unknown"
        },
        {
         "name": "facilities",
         "rawType": "object",
         "type": "unknown"
        },
        {
         "name": "house_materials",
         "rawType": "object",
         "type": "unknown"
        },
        {
         "name": "floor_materials",
         "rawType": "object",
         "type": "unknown"
        },
        {
         "name": "image_urls",
         "rawType": "object",
         "type": "unknown"
        },
        {
         "name": "amenities",
         "rawType": "object",
         "type": "unknown"
        }
       ],
       "conversionMethod": "pd.DataFrame",
       "ref": "24914904-0e56-4aeb-9f32-1a5639cc5811",
       "rows": [
        [
         "0",
         "hos14264153",
         "3190000000.0",
         "14000000.0",
         "Babakanmadang",
         "Bogor",
         "Welcome investor \nDepan Taman Yang Luas dan Berada Di Klaster Paling Exclusive di Sentul City Serta Paling Dekat Dengan Pintu Tol Membuat Rumah Ini Menjadi Pilihan Tepat Untuk Di Beli",
         "https://www.rumah123.com/properti/bogor/hos14264153/",
         "4",
         "4",
         "1",
         "1",
         "2",
         "499.0",
         "300.0",
         "2",
         "0",
         "2",
         "3.0",
         "0",
         "0",
         "2200.0",
         null,
         "SHM - Sertifikat Hak Milik",
         "PAM atau PDAM",
         "Pegunungan",
         "Rumah",
         "Modern",
         "unfurnished",
         "unfurnished",
         "0",
         "1",
         "1",
         "1",
         "['bisa_nego' 'cash_keras' 'kpr' 'perumahan' 'komplek']",
         "['ac' 'keamanan' 'taman' 'laundry' 'wastafel' 'ac']",
         "['beton' 'bata_merah']",
         "['keramik' 'ubin']",
         "['https://picture.rumah123.com/r123-images/720x420-crop/customer/674643/2023-07-18-15-16-00-a2e0279c-9e6f-425c-86cf-a60304935d5a.jpg'\n 'https://picture.rumah123.com/r123-images/360x401-inside/customer/674643/2023-07-18-15-15-59-503087fb-26c3-4dc4-bff8-c555ad4a2198.jpg'\n 'https://picture.rumah123.com/r123-images/360x401-inside/customer/674643/2023-07-18-15-16-01-b0e91048-edd7-49d9-9d92-31d14930778f.jpg'\n 'https://picture.rumah123.com/r123-images/360x401-inside/customer/674643/2023-07-18-15-16-01-b1b5dcb4-1260-4e2c-a02b-2dc573f88f2a.jpg'\n 'https://picture.rumah123.com/r123-images/360x401-inside/customer/674643/2023-07-18-15-18-22-60f2a7d0-6136-4f93-894e-d415c302ce3b.jpg']",
         "{'sustenance': 2.0, 'facilities': 1.0, 'education': 5.0, 'financial': 0.0, 'transportation': 1.0, 'commercial': 5.0, 'healthcare': 0.0, 'public_service': 1.0, 'entertainment': 1.0, 'waste_management': 0.0, 'other': 0.0}"
        ],
        [
         "1",
         "hos15848009",
         "1730000000.0",
         "7000000.0",
         "Babakanmadang",
         "Bogor",
         "Rumah Berada Di Klaster TerDepan , Dekat Dengan Pintu Tol dan Pusat Bisnis ",
         "https://www.rumah123.com/properti/bogor/hos15848009/",
         "2",
         "1",
         "1",
         "1",
         "1",
         "208.0",
         "90.0",
         "1",
         "0",
         "2",
         "3.0",
         "0",
         "0",
         "2200.0",
         null,
         "SHM - Sertifikat Hak Milik",
         "PAM atau PDAM",
         "Pegunungan",
         "Rumah",
         "American Classic",
         "furnished",
         null,
         "0",
         "1",
         "1",
         "1",
         "['bisa_nego' 'cash_keras' 'kpr' 'one_gate_system' 'perumahan' 'komplek']",
         "['jalur_telepon' 'taman' 'laundry' 'parkir' 'keamanan' 'one_gate_system'\n 'playground' 'laundry' 'wastafel' 'ac']",
         "['beton' 'bata_merah']",
         "['keramik']",
         "['https://picture.rumah123.com/r123-images/720x420-crop/customer/674643/2023-12-22-00-01-08-a86338a9-ccc2-4577-8c79-3b3410e10323.jpg'\n 'https://picture.rumah123.com/r123-images/360x401-inside/customer/674643/2023-12-22-00-01-01-15efb54a-1651-4b71-a030-171033aa614e.jpg'\n 'https://picture.rumah123.com/r123-images/360x401-inside/customer/674643/2023-12-22-00-01-01-daf63f15-6b17-4e3e-868b-6b45e0f95b85.jpg'\n 'https://picture.rumah123.com/r123-images/360x401-inside/customer/674643/2023-12-22-00-01-02-7830a291-6df9-4d19-94f6-7be8ab60505f.jpg'\n 'https://picture.rumah123.com/r123-images/360x401-inside/customer/674643/2023-12-22-00-01-02-452c67eb-6bb7-4396-8aaa-5fc4ca042a8c.jpg']",
         "{'sustenance': 2.0, 'facilities': 1.0, 'education': 5.0, 'financial': 0.0, 'transportation': 1.0, 'commercial': 5.0, 'healthcare': 0.0, 'public_service': 1.0, 'entertainment': 1.0, 'waste_management': 0.0, 'other': 0.0}"
        ],
        [
         "2",
         "hos15802277",
         "4200000000.0",
         "19000000.0",
         "Babakanmadang",
         "Bogor",
         "Beberapa alasan mengapa membeli property di kawasan Sentul City ini :\n- Investasi menjanjikan pertahun 20%-30%.\n- Sertifikat terjamin.\n- Exit tol Sentul City langsung menuju area kawasan perumahan.\n- Aman (one gate, one cluster security 24 jam).\n- Udara bersih, sejuk, segar.\n- Kontur tanah berbukit (upslope, level, downslope).\n- Bebas banjir areal luas 3100 hektar.\n- View indah (golf, danau, sungai pegunungan).\n- Dekat dengan Fasilitas Umum dan Sosial Seperti IKEA, AEON MALL, RS EMC Sentul, Wisata Jungle Land, Pasar Bersih, Pasar Ah poong Sentul, Eco Park, Sentul Highlands Golf Club, Taman Budaya Edutainment Centre, SICC Sentul, Hotel Harris, Wattana Hotel, Savana Hotel, Sampoerna Academy, Sekolah Pelita Harapan, BPK Penabur Fajar Hidayah, Universitas Trisakti, Universitas Tazkia dll\nKita juga melayani jasa kontraktor untuk pembangunan, renovasi, perencanaan pembangunan, dan lain-lain di kawasan Sentul City dan sekitarnya.",
         "https://www.rumah123.com/properti/bogor/hos15802277/",
         "3",
         "4",
         "1",
         "1",
         "1",
         "216.0",
         "250.0",
         "2",
         "0",
         "2",
         "2.0",
         "0",
         "0",
         "3500.0",
         "Selatan",
         "SHM - Sertifikat Hak Milik",
         "PAM atau PDAM",
         "Pemukiman Warga",
         "Rumah",
         "Modern",
         "furnished",
         "unfurnished",
         "0",
         "1",
         "1",
         "1",
         "['bisa_nego' 'cash_keras' 'kpr' 'one_gate_system' 'perumahan' 'komplek']",
         "['jalur_telepon' 'kolam_renang' 'laundry' 'keamanan' 'one_gate_system'\n 'playground' 'taman' 'dapur' 'wastafel' 'lapangan' 'lapangan' 'lapangan'\n 'ac']",
         "['bata_merah']",
         "['granit']",
         "['https://picture.rumah123.com/r123-images/720x420-crop/customer/1656514/2023-12-16-05-03-52-429986ed-f678-49b0-82a9-84dba93cd4ff.jpg'\n 'https://picture.rumah123.com/r123-images/360x401-inside/customer/1656514/2023-12-16-05-03-58-6173ee75-9381-471b-90f0-deea39554925.jpg'\n 'https://picture.rumah123.com/r123-images/360x401-inside/customer/1656514/2023-12-16-05-03-59-6cc62975-2359-40ad-bb99-14b47e71951b.jpg'\n 'https://picture.rumah123.com/r123-images/360x401-inside/customer/1656514/2023-12-16-05-04-01-643b99e6-ce35-45cc-bc6a-37ae7948f898.jpg'\n 'https://picture.rumah123.com/r123-images/360x401-inside/customer/1656514/2023-12-16-05-04-02-f2a57d9e-3e37-48b8-8b39-b9d111c5ca76.jpg']",
         "{'sustenance': 2.0, 'facilities': 1.0, 'education': 5.0, 'financial': 0.0, 'transportation': 1.0, 'commercial': 5.0, 'healthcare': 0.0, 'public_service': 1.0, 'entertainment': 1.0, 'waste_management': 0.0, 'other': 0.0}"
        ],
        [
         "3",
         "hos15998766",
         "1100000000.0",
         "5000000.0",
         "Babakanmadang",
         "Bogor",
         "Rumah Dijual Tipe Scandinavian Siap Huni Full Furnish Tinggal Bawa Baju Aja..\nBeberapa alasan mengapa membeli property di kawasan Sentul City ini :\n- Investasi menjanjikan pertahun 20%-30%.\n- Sertifikat terjamin.\n- Exit tol Sentul City langsung menuju area kawasan perumahan.\n- Aman (one gate, one cluster security 24 jam).\n- Udara bersih, sejuk, segar.\n- Kontur tanah berbukit (upslope, level, downslope).\n- Bebas banjir areal luas 3100 hektar.\n- View indah (golf, danau, sungai pegunungan).\n- Dekat dengan Fasilitas Umum dan Sosial Seperti IKEA, AEON MALL, RS EMC Sentul, Wisata Jungle Land, Pasar Bersih, Pasar Ah poong Sentul, Eco Park, Sentul Highlands Golf Club, Taman Budaya Edutainment Centre, SICC Sentul, Hotel Harris, Wattana Hotel, Savana Hotel, Sampoerna Academy, Sekolah Pelita Harapan, BPK Penabur Fajar Hidayah, Universitas Trisakti, Universitas Tazkia dll\nKita juga melayani jasa kontraktor untuk pembangunan, renovasi, perencanaan pembangunan, dan lain-lain di kawasan Sentul City dan sekitarnya.",
         "https://www.rumah123.com/properti/bogor/hos15998766/",
         "3",
         "1",
         "0",
         "0",
         "1",
         "90.0",
         "70.0",
         "1",
         "0",
         "1",
         "2.0",
         "0",
         "2023",
         "3500.0",
         "Utara",
         "SHM - Sertifikat Hak Milik",
         "PAM atau PDAM",
         "Pemukiman Warga",
         "Rumah",
         "Scandinavian",
         "furnished",
         "furnished",
         "0",
         "1",
         "1",
         "1",
         "['bisa_nego' 'cash_keras' 'kpr' 'one_gate_system' 'perumahan' 'komplek']",
         "['jalur_telepon' 'laundry' 'keamanan' 'masjid' 'one_gate_system'\n 'playground' 'taman' 'ac' 'dapur' 'dapur' 'dapur' 'laundry'\n 'water_heater' 'wastafel' 'ac']",
         "['bata_merah']",
         "['granit']",
         "['https://picture.rumah123.com/r123-images/720x420-crop/customer/1656514/2024-01-10-01-42-14-700d51ba-07e9-4820-9647-dbff135a234b.jpg'\n 'https://picture.rumah123.com/r123-images/360x401-inside/customer/1656514/2024-01-10-01-42-15-bea844d6-1096-4d39-a399-2f5f9df0cb44.jpg'\n 'https://picture.rumah123.com/r123-images/360x401-inside/customer/1656514/2024-01-10-01-42-15-fb19c35e-dc5d-423c-96d1-9f55920ea6cb.jpg'\n 'https://picture.rumah123.com/r123-images/360x401-inside/customer/1656514/2024-01-10-01-42-16-61db1f5a-a906-46e5-bdec-b2bfd284ba6c.jpg'\n 'https://picture.rumah123.com/r123-images/360x401-inside/customer/1656514/2024-01-10-01-42-16-45c7eceb-afd4-4b3b-9344-79a1580ead72.jpg']",
         "{'sustenance': 2.0, 'facilities': 1.0, 'education': 5.0, 'financial': 0.0, 'transportation': 1.0, 'commercial': 5.0, 'healthcare': 0.0, 'public_service': 1.0, 'entertainment': 1.0, 'waste_management': 0.0, 'other': 0.0}"
        ],
        [
         "4",
         "hos16024616",
         "3250000000.0",
         "14000000.0",
         "Babakanmadang",
         "Bogor",
         "Dijual rumah dengan kolam renang dan 5 kamar tidur",
         "https://www.rumah123.com/properti/bogor/hos16024616/",
         "5",
         "5",
         "1",
         "1",
         "1",
         "208.0",
         "270.0",
         "1",
         "0",
         "3",
         "2.0",
         "2024",
         "0",
         "7600.0",
         "Barat",
         "SHM - Sertifikat Hak Milik",
         "PAM atau PDAM",
         "Pegunungan",
         "Rumah",
         "American Classic",
         "furnished",
         "unfurnished",
         "0",
         "1",
         "1",
         "1",
         "['bisa_nego' 'cash_keras' 'one_gate_system' 'perumahan' 'komplek']",
         "['jalur_telepon' 'kolam_renang' 'taman' 'laundry' 'parkir'\n 'one_gate_system' 'playground' 'dapur' 'wastafel' 'lapangan' 'ac']",
         "['bata_merah' 'bata_hebel']",
         "['granit']",
         "['https://picture.rumah123.com/r123-images/720x420-crop/customer/1613885/2024-01-12-03-58-10-27301648-946f-4891-83b2-039e7e901ad3.jpg'\n 'https://picture.rumah123.com/r123-images/360x401-inside/customer/1613885/2024-01-12-03-58-12-7a3c0aee-b98f-424e-9ac8-90d4afe7ef7d.jpg'\n 'https://picture.rumah123.com/r123-images/360x401-inside/customer/1613885/2024-01-12-03-58-17-dd580a7a-af35-4ae9-8403-45cf81b7ee85.jpg'\n 'https://picture.rumah123.com/r123-images/360x401-inside/customer/1613885/2024-01-12-03-58-19-0fbf7abc-a52c-49ac-991b-23d01ff8a2c7.jpg'\n 'https://picture.rumah123.com/r123-images/360x401-inside/customer/1613885/2024-01-12-03-58-22-72fab78f-b7dd-4686-9e04-9c2c41af177a.jpg']",
         "{'sustenance': 2.0, 'facilities': 1.0, 'education': 5.0, 'financial': 0.0, 'transportation': 1.0, 'commercial': 5.0, 'healthcare': 0.0, 'public_service': 1.0, 'entertainment': 1.0, 'waste_management': 0.0, 'other': 0.0}"
        ]
       ],
       "shape": {
        "columns": 39,
        "rows": 5
       }
      },
      "text/html": [
       "<div>\n",
       "<style scoped>\n",
       "    .dataframe tbody tr th:only-of-type {\n",
       "        vertical-align: middle;\n",
       "    }\n",
       "\n",
       "    .dataframe tbody tr th {\n",
       "        vertical-align: top;\n",
       "    }\n",
       "\n",
       "    .dataframe thead th {\n",
       "        text-align: right;\n",
       "    }\n",
       "</style>\n",
       "<table border=\"1\" class=\"dataframe\">\n",
       "  <thead>\n",
       "    <tr style=\"text-align: right;\">\n",
       "      <th></th>\n",
       "      <th>id</th>\n",
       "      <th>price</th>\n",
       "      <th>installment</th>\n",
       "      <th>subdistrict</th>\n",
       "      <th>city</th>\n",
       "      <th>description</th>\n",
       "      <th>url</th>\n",
       "      <th>kamar_tidur</th>\n",
       "      <th>kamar_mandi</th>\n",
       "      <th>kamar_pembantu</th>\n",
       "      <th>...</th>\n",
       "      <th>hook</th>\n",
       "      <th>ruang_tamu</th>\n",
       "      <th>ruang_makan</th>\n",
       "      <th>terjangkau_internet</th>\n",
       "      <th>tags</th>\n",
       "      <th>facilities</th>\n",
       "      <th>house_materials</th>\n",
       "      <th>floor_materials</th>\n",
       "      <th>image_urls</th>\n",
       "      <th>amenities</th>\n",
       "    </tr>\n",
       "  </thead>\n",
       "  <tbody>\n",
       "    <tr>\n",
       "      <th>0</th>\n",
       "      <td>hos14264153</td>\n",
       "      <td>3.190000e+09</td>\n",
       "      <td>14000000.0</td>\n",
       "      <td>Babakanmadang</td>\n",
       "      <td>Bogor</td>\n",
       "      <td>Welcome investor \\nDepan Taman Yang Luas dan B...</td>\n",
       "      <td>https://www.rumah123.com/properti/bogor/hos142...</td>\n",
       "      <td>4</td>\n",
       "      <td>4</td>\n",
       "      <td>1</td>\n",
       "      <td>...</td>\n",
       "      <td>0</td>\n",
       "      <td>1</td>\n",
       "      <td>1</td>\n",
       "      <td>1</td>\n",
       "      <td>[bisa_nego, cash_keras, kpr, perumahan, komplek]</td>\n",
       "      <td>[ac, keamanan, taman, laundry, wastafel, ac]</td>\n",
       "      <td>[beton, bata_merah]</td>\n",
       "      <td>[keramik, ubin]</td>\n",
       "      <td>[https://picture.rumah123.com/r123-images/720x...</td>\n",
       "      <td>{'sustenance': 2.0, 'facilities': 1.0, 'educat...</td>\n",
       "    </tr>\n",
       "    <tr>\n",
       "      <th>1</th>\n",
       "      <td>hos15848009</td>\n",
       "      <td>1.730000e+09</td>\n",
       "      <td>7000000.0</td>\n",
       "      <td>Babakanmadang</td>\n",
       "      <td>Bogor</td>\n",
       "      <td>Rumah Berada Di Klaster TerDepan , Dekat Denga...</td>\n",
       "      <td>https://www.rumah123.com/properti/bogor/hos158...</td>\n",
       "      <td>2</td>\n",
       "      <td>1</td>\n",
       "      <td>1</td>\n",
       "      <td>...</td>\n",
       "      <td>0</td>\n",
       "      <td>1</td>\n",
       "      <td>1</td>\n",
       "      <td>1</td>\n",
       "      <td>[bisa_nego, cash_keras, kpr, one_gate_system, ...</td>\n",
       "      <td>[jalur_telepon, taman, laundry, parkir, keaman...</td>\n",
       "      <td>[beton, bata_merah]</td>\n",
       "      <td>[keramik]</td>\n",
       "      <td>[https://picture.rumah123.com/r123-images/720x...</td>\n",
       "      <td>{'sustenance': 2.0, 'facilities': 1.0, 'educat...</td>\n",
       "    </tr>\n",
       "    <tr>\n",
       "      <th>2</th>\n",
       "      <td>hos15802277</td>\n",
       "      <td>4.200000e+09</td>\n",
       "      <td>19000000.0</td>\n",
       "      <td>Babakanmadang</td>\n",
       "      <td>Bogor</td>\n",
       "      <td>Beberapa alasan mengapa membeli property di ka...</td>\n",
       "      <td>https://www.rumah123.com/properti/bogor/hos158...</td>\n",
       "      <td>3</td>\n",
       "      <td>4</td>\n",
       "      <td>1</td>\n",
       "      <td>...</td>\n",
       "      <td>0</td>\n",
       "      <td>1</td>\n",
       "      <td>1</td>\n",
       "      <td>1</td>\n",
       "      <td>[bisa_nego, cash_keras, kpr, one_gate_system, ...</td>\n",
       "      <td>[jalur_telepon, kolam_renang, laundry, keamana...</td>\n",
       "      <td>[bata_merah]</td>\n",
       "      <td>[granit]</td>\n",
       "      <td>[https://picture.rumah123.com/r123-images/720x...</td>\n",
       "      <td>{'sustenance': 2.0, 'facilities': 1.0, 'educat...</td>\n",
       "    </tr>\n",
       "    <tr>\n",
       "      <th>3</th>\n",
       "      <td>hos15998766</td>\n",
       "      <td>1.100000e+09</td>\n",
       "      <td>5000000.0</td>\n",
       "      <td>Babakanmadang</td>\n",
       "      <td>Bogor</td>\n",
       "      <td>Rumah Dijual Tipe Scandinavian Siap Huni Full ...</td>\n",
       "      <td>https://www.rumah123.com/properti/bogor/hos159...</td>\n",
       "      <td>3</td>\n",
       "      <td>1</td>\n",
       "      <td>0</td>\n",
       "      <td>...</td>\n",
       "      <td>0</td>\n",
       "      <td>1</td>\n",
       "      <td>1</td>\n",
       "      <td>1</td>\n",
       "      <td>[bisa_nego, cash_keras, kpr, one_gate_system, ...</td>\n",
       "      <td>[jalur_telepon, laundry, keamanan, masjid, one...</td>\n",
       "      <td>[bata_merah]</td>\n",
       "      <td>[granit]</td>\n",
       "      <td>[https://picture.rumah123.com/r123-images/720x...</td>\n",
       "      <td>{'sustenance': 2.0, 'facilities': 1.0, 'educat...</td>\n",
       "    </tr>\n",
       "    <tr>\n",
       "      <th>4</th>\n",
       "      <td>hos16024616</td>\n",
       "      <td>3.250000e+09</td>\n",
       "      <td>14000000.0</td>\n",
       "      <td>Babakanmadang</td>\n",
       "      <td>Bogor</td>\n",
       "      <td>Dijual rumah dengan kolam renang dan 5 kamar t...</td>\n",
       "      <td>https://www.rumah123.com/properti/bogor/hos160...</td>\n",
       "      <td>5</td>\n",
       "      <td>5</td>\n",
       "      <td>1</td>\n",
       "      <td>...</td>\n",
       "      <td>0</td>\n",
       "      <td>1</td>\n",
       "      <td>1</td>\n",
       "      <td>1</td>\n",
       "      <td>[bisa_nego, cash_keras, one_gate_system, perum...</td>\n",
       "      <td>[jalur_telepon, kolam_renang, taman, laundry, ...</td>\n",
       "      <td>[bata_merah, bata_hebel]</td>\n",
       "      <td>[granit]</td>\n",
       "      <td>[https://picture.rumah123.com/r123-images/720x...</td>\n",
       "      <td>{'sustenance': 2.0, 'facilities': 1.0, 'educat...</td>\n",
       "    </tr>\n",
       "  </tbody>\n",
       "</table>\n",
       "<p>5 rows × 39 columns</p>\n",
       "</div>"
      ],
      "text/plain": [
       "            id         price  installment    subdistrict   city  \\\n",
       "0  hos14264153  3.190000e+09   14000000.0  Babakanmadang  Bogor   \n",
       "1  hos15848009  1.730000e+09    7000000.0  Babakanmadang  Bogor   \n",
       "2  hos15802277  4.200000e+09   19000000.0  Babakanmadang  Bogor   \n",
       "3  hos15998766  1.100000e+09    5000000.0  Babakanmadang  Bogor   \n",
       "4  hos16024616  3.250000e+09   14000000.0  Babakanmadang  Bogor   \n",
       "\n",
       "                                         description  \\\n",
       "0  Welcome investor \\nDepan Taman Yang Luas dan B...   \n",
       "1  Rumah Berada Di Klaster TerDepan , Dekat Denga...   \n",
       "2  Beberapa alasan mengapa membeli property di ka...   \n",
       "3  Rumah Dijual Tipe Scandinavian Siap Huni Full ...   \n",
       "4  Dijual rumah dengan kolam renang dan 5 kamar t...   \n",
       "\n",
       "                                                 url  kamar_tidur  \\\n",
       "0  https://www.rumah123.com/properti/bogor/hos142...            4   \n",
       "1  https://www.rumah123.com/properti/bogor/hos158...            2   \n",
       "2  https://www.rumah123.com/properti/bogor/hos158...            3   \n",
       "3  https://www.rumah123.com/properti/bogor/hos159...            3   \n",
       "4  https://www.rumah123.com/properti/bogor/hos160...            5   \n",
       "\n",
       "   kamar_mandi  kamar_pembantu  ...  hook  ruang_tamu  ruang_makan  \\\n",
       "0            4               1  ...     0           1            1   \n",
       "1            1               1  ...     0           1            1   \n",
       "2            4               1  ...     0           1            1   \n",
       "3            1               0  ...     0           1            1   \n",
       "4            5               1  ...     0           1            1   \n",
       "\n",
       "   terjangkau_internet                                               tags  \\\n",
       "0                    1   [bisa_nego, cash_keras, kpr, perumahan, komplek]   \n",
       "1                    1  [bisa_nego, cash_keras, kpr, one_gate_system, ...   \n",
       "2                    1  [bisa_nego, cash_keras, kpr, one_gate_system, ...   \n",
       "3                    1  [bisa_nego, cash_keras, kpr, one_gate_system, ...   \n",
       "4                    1  [bisa_nego, cash_keras, one_gate_system, perum...   \n",
       "\n",
       "                                          facilities  \\\n",
       "0       [ac, keamanan, taman, laundry, wastafel, ac]   \n",
       "1  [jalur_telepon, taman, laundry, parkir, keaman...   \n",
       "2  [jalur_telepon, kolam_renang, laundry, keamana...   \n",
       "3  [jalur_telepon, laundry, keamanan, masjid, one...   \n",
       "4  [jalur_telepon, kolam_renang, taman, laundry, ...   \n",
       "\n",
       "            house_materials  floor_materials  \\\n",
       "0       [beton, bata_merah]  [keramik, ubin]   \n",
       "1       [beton, bata_merah]        [keramik]   \n",
       "2              [bata_merah]         [granit]   \n",
       "3              [bata_merah]         [granit]   \n",
       "4  [bata_merah, bata_hebel]         [granit]   \n",
       "\n",
       "                                          image_urls  \\\n",
       "0  [https://picture.rumah123.com/r123-images/720x...   \n",
       "1  [https://picture.rumah123.com/r123-images/720x...   \n",
       "2  [https://picture.rumah123.com/r123-images/720x...   \n",
       "3  [https://picture.rumah123.com/r123-images/720x...   \n",
       "4  [https://picture.rumah123.com/r123-images/720x...   \n",
       "\n",
       "                                           amenities  \n",
       "0  {'sustenance': 2.0, 'facilities': 1.0, 'educat...  \n",
       "1  {'sustenance': 2.0, 'facilities': 1.0, 'educat...  \n",
       "2  {'sustenance': 2.0, 'facilities': 1.0, 'educat...  \n",
       "3  {'sustenance': 2.0, 'facilities': 1.0, 'educat...  \n",
       "4  {'sustenance': 2.0, 'facilities': 1.0, 'educat...  \n",
       "\n",
       "[5 rows x 39 columns]"
      ]
     },
     "execution_count": 3,
     "metadata": {},
     "output_type": "execute_result"
    }
   ],
   "source": [
    "df = pd.read_parquet(\"../data/curated/marts_downstream_houses.parquet\")\n",
    "df.head()"
   ]
  },
  {
   "cell_type": "markdown",
   "metadata": {},
   "source": [
    "## Preprocessing"
   ]
  },
  {
   "cell_type": "code",
   "execution_count": 4,
   "metadata": {},
   "outputs": [],
   "source": [
    "def preprocess_data(df_ori: pd.DataFrame) -> pd.DataFrame:\n",
    "    # select columns\n",
    "    multichoice_cols = [\"house_materials\", \"floor_materials\", \"tags\", \"facilities\", \"amenities\"]\n",
    "    drop_col = [\"id\", \"installment\", \"city\", \"description\", \"url\", \"tipe_properti\", \"image_urls\", \"hadap\"] + multichoice_cols\n",
    "\n",
    "    df_data = df_ori.drop(columns=drop_col).copy()\n",
    "\n",
    "    # IQR-based outlier removal\n",
    "    # q1 = df_data[\"price\"].quantile(0.25)\n",
    "    # q3 = df_data[\"price\"].quantile(0.75)\n",
    "    # iqr = q3 - q1\n",
    "\n",
    "    # df_data = df_data[(df_data[\"price\"] > (q1 - 1.5*iqr)) & (df_data[\"price\"] < (q3 + 1.5*iqr))]\n",
    "\n",
    "    # log-tranform price\n",
    "    df_data[\"price\"] = np.log(df_data[\"price\"])\n",
    "\n",
    "    # derive new features\n",
    "    df_data[\"land_building_ratio\"] = df_data[\"luas_tanah\"] / df_data[\"luas_bangunan\"]\n",
    "    df_data[\"total_beds\"] = df_data[\"kamar_tidur\"] + df_data[\"kamar_pembantu\"]\n",
    "    df_data[\"total_baths\"] = df_data[\"kamar_mandi\"] + df_data[\"kamar_mandi_pembantu\"]\n",
    "    df_data[\"bed_bath_ratio\"] = df_data[\"kamar_tidur\"] / df_data[\"kamar_mandi\"]\n",
    "    df_data[\"total_bed_bath_ratio\"] = df_data[\"total_beds\"] / df_data[\"total_baths\"]\n",
    "    df_data[\"rennovated_built_diff\"] = df_data[\"tahun_di_renovasi\"] - df_data[\"tahun_dibangun\"]\n",
    "    df_data[\"building_area_floor_ratio\"] = df_data[\"luas_bangunan\"] / df_data[\"jumlah_lantai\"]\n",
    "    df_data[\"vehicle_accessibility\"] = (df_data[\"garasi\"] + df_data[\"carport\"]) / df_data[\"lebar_jalan\"]\n",
    "\n",
    "    # convert categorical columns\n",
    "    cat_cols = df_data.select_dtypes(\"object\").columns.tolist() + [\"hook\", \"ruang_tamu\", \"ruang_makan\", \"terjangkau_internet\"]\n",
    "    df_data = df_data.fillna(value={k: \"\" for k in cat_cols})\n",
    "    df_data[cat_cols] = df_data[cat_cols].astype(\"category\")\n",
    "\n",
    "    return df_data"
   ]
  },
  {
   "cell_type": "code",
   "execution_count": 5,
   "metadata": {},
   "outputs": [],
   "source": [
    "df_train, df_test = train_test_split(df, test_size=0.33, random_state=22)"
   ]
  },
  {
   "cell_type": "code",
   "execution_count": 6,
   "metadata": {},
   "outputs": [],
   "source": [
    "df_train_proc = preprocess_data(df_train)\n",
    "df_test_proc = preprocess_data(df_test)\n",
    "\n",
    "X_train, y_train = df_train_proc.drop(columns=[\"price\"]), df_train_proc[\"price\"]\n",
    "X_test, y_test = df_test_proc.drop(columns=[\"price\"]), df_test_proc[\"price\"]\n",
    "\n",
    "cat_cols = X_train.select_dtypes(\"category\").columns.tolist()"
   ]
  },
  {
   "cell_type": "markdown",
   "metadata": {},
   "source": [
    "## Cross-Validation"
   ]
  },
  {
   "cell_type": "code",
   "execution_count": 7,
   "metadata": {},
   "outputs": [
    {
     "name": "stderr",
     "output_type": "stream",
     "text": [
      "100%|██████████| 5/5 [00:00<00:00,  7.46it/s]\n"
     ]
    },
    {
     "data": {
      "application/vnd.microsoft.datawrangler.viewer.v0+json": {
       "columns": [
        {
         "name": "index",
         "rawType": "int64",
         "type": "integer"
        },
        {
         "name": "fit_time",
         "rawType": "float64",
         "type": "float"
        },
        {
         "name": "score_time",
         "rawType": "float64",
         "type": "float"
        },
        {
         "name": "r2",
         "rawType": "float64",
         "type": "float"
        },
        {
         "name": "mse",
         "rawType": "float64",
         "type": "float"
        },
        {
         "name": "mae",
         "rawType": "float64",
         "type": "float"
        },
        {
         "name": "mape",
         "rawType": "float64",
         "type": "float"
        },
        {
         "name": "smape",
         "rawType": "float64",
         "type": "float"
        }
       ],
       "conversionMethod": "pd.DataFrame",
       "ref": "8128ade1-401d-470e-b5f5-a2bb735581a6",
       "rows": [
        [
         "0",
         "0.13633",
         "0.00663",
         "0.90093",
         "0.12205",
         "0.23747",
         "0.0113",
         "0.01128"
        ],
        [
         "1",
         "0.13389",
         "0.00783",
         "0.84095",
         "0.20411",
         "0.24987",
         "0.01208",
         "0.01193"
        ],
        [
         "2",
         "0.1102",
         "0.00707",
         "0.91035",
         "0.10925",
         "0.22398",
         "0.01071",
         "0.01068"
        ],
        [
         "3",
         "0.11206",
         "0.00706",
         "0.87004",
         "0.16721",
         "0.2435",
         "0.0116",
         "0.01158"
        ],
        [
         "4",
         "0.11329",
         "0.00683",
         "0.90032",
         "0.12559",
         "0.22806",
         "0.01083",
         "0.01083"
        ]
       ],
       "shape": {
        "columns": 7,
        "rows": 5
       }
      },
      "text/html": [
       "<div>\n",
       "<style scoped>\n",
       "    .dataframe tbody tr th:only-of-type {\n",
       "        vertical-align: middle;\n",
       "    }\n",
       "\n",
       "    .dataframe tbody tr th {\n",
       "        vertical-align: top;\n",
       "    }\n",
       "\n",
       "    .dataframe thead th {\n",
       "        text-align: right;\n",
       "    }\n",
       "</style>\n",
       "<table border=\"1\" class=\"dataframe\">\n",
       "  <thead>\n",
       "    <tr style=\"text-align: right;\">\n",
       "      <th></th>\n",
       "      <th>fit_time</th>\n",
       "      <th>score_time</th>\n",
       "      <th>r2</th>\n",
       "      <th>mse</th>\n",
       "      <th>mae</th>\n",
       "      <th>mape</th>\n",
       "      <th>smape</th>\n",
       "    </tr>\n",
       "  </thead>\n",
       "  <tbody>\n",
       "    <tr>\n",
       "      <th>0</th>\n",
       "      <td>0.13633</td>\n",
       "      <td>0.00663</td>\n",
       "      <td>0.90093</td>\n",
       "      <td>0.12205</td>\n",
       "      <td>0.23747</td>\n",
       "      <td>0.01130</td>\n",
       "      <td>0.01128</td>\n",
       "    </tr>\n",
       "    <tr>\n",
       "      <th>1</th>\n",
       "      <td>0.13389</td>\n",
       "      <td>0.00783</td>\n",
       "      <td>0.84095</td>\n",
       "      <td>0.20411</td>\n",
       "      <td>0.24987</td>\n",
       "      <td>0.01208</td>\n",
       "      <td>0.01193</td>\n",
       "    </tr>\n",
       "    <tr>\n",
       "      <th>2</th>\n",
       "      <td>0.11020</td>\n",
       "      <td>0.00707</td>\n",
       "      <td>0.91035</td>\n",
       "      <td>0.10925</td>\n",
       "      <td>0.22398</td>\n",
       "      <td>0.01071</td>\n",
       "      <td>0.01068</td>\n",
       "    </tr>\n",
       "    <tr>\n",
       "      <th>3</th>\n",
       "      <td>0.11206</td>\n",
       "      <td>0.00706</td>\n",
       "      <td>0.87004</td>\n",
       "      <td>0.16721</td>\n",
       "      <td>0.24350</td>\n",
       "      <td>0.01160</td>\n",
       "      <td>0.01158</td>\n",
       "    </tr>\n",
       "    <tr>\n",
       "      <th>4</th>\n",
       "      <td>0.11329</td>\n",
       "      <td>0.00683</td>\n",
       "      <td>0.90032</td>\n",
       "      <td>0.12559</td>\n",
       "      <td>0.22806</td>\n",
       "      <td>0.01083</td>\n",
       "      <td>0.01083</td>\n",
       "    </tr>\n",
       "  </tbody>\n",
       "</table>\n",
       "</div>"
      ],
      "text/plain": [
       "   fit_time  score_time       r2      mse      mae     mape    smape\n",
       "0   0.13633     0.00663  0.90093  0.12205  0.23747  0.01130  0.01128\n",
       "1   0.13389     0.00783  0.84095  0.20411  0.24987  0.01208  0.01193\n",
       "2   0.11020     0.00707  0.91035  0.10925  0.22398  0.01071  0.01068\n",
       "3   0.11206     0.00706  0.87004  0.16721  0.24350  0.01160  0.01158\n",
       "4   0.11329     0.00683  0.90032  0.12559  0.22806  0.01083  0.01083"
      ]
     },
     "execution_count": 7,
     "metadata": {},
     "output_type": "execute_result"
    }
   ],
   "source": [
    "n_splits = 5\n",
    "cv_results = []\n",
    "\n",
    "cv = KFold(n_splits=n_splits, shuffle=True, random_state=22)\n",
    "for (train_idx, val_idx) in tqdm.tqdm(cv.split(X_train), total=n_splits):\n",
    "    # split data\n",
    "    X_train_cv, y_train_cv = X_train.iloc[train_idx], y_train.iloc[train_idx]\n",
    "    \n",
    "    # train model\n",
    "    fit_time_start = time.time()\n",
    "    model = lgb.LGBMRegressor(seed=22, verbosity=-1)\n",
    "    model.fit(X_train_cv, y_train_cv, categorical_feature=cat_cols)\n",
    "    fit_time_end = time.time()\n",
    "\n",
    "    # run predictions\n",
    "    X_val, y_val = X_train.iloc[val_idx], y_train.iloc[val_idx]\n",
    "\n",
    "    score_time_start = time.time()\n",
    "    y_pred = model.predict(X_val)\n",
    "    score_time_end = time.time()\n",
    "\n",
    "    # store metrics\n",
    "    cv_results.append({\n",
    "        \"fit_time\": fit_time_end - fit_time_start,\n",
    "        \"score_time\": score_time_end - score_time_start,\n",
    "        \n",
    "        \"r2\": r2_score(y_val, y_pred),\n",
    "        \"mse\": mean_squared_error(y_val, y_pred),\n",
    "        \"mae\": mean_absolute_error(y_val, y_pred),\n",
    "        \"mape\": mean_absolute_percentage_error(y_val, y_pred),\n",
    "        \"smape\": smape(y_val, y_pred),\n",
    "    })\n",
    "\n",
    "df_cv = pd.DataFrame(cv_results)\n",
    "df_cv.round(5)"
   ]
  },
  {
   "cell_type": "code",
   "execution_count": 8,
   "metadata": {},
   "outputs": [
    {
     "data": {
      "application/vnd.microsoft.datawrangler.viewer.v0+json": {
       "columns": [
        {
         "name": "index",
         "rawType": "object",
         "type": "string"
        },
        {
         "name": "fit_time",
         "rawType": "float64",
         "type": "float"
        },
        {
         "name": "score_time",
         "rawType": "float64",
         "type": "float"
        },
        {
         "name": "r2",
         "rawType": "float64",
         "type": "float"
        },
        {
         "name": "mse",
         "rawType": "float64",
         "type": "float"
        },
        {
         "name": "mae",
         "rawType": "float64",
         "type": "float"
        },
        {
         "name": "mape",
         "rawType": "float64",
         "type": "float"
        },
        {
         "name": "smape",
         "rawType": "float64",
         "type": "float"
        }
       ],
       "conversionMethod": "pd.DataFrame",
       "ref": "b7421422-2245-4856-8b0c-38da51bcb88c",
       "rows": [
        [
         "count",
         "5.0",
         "5.0",
         "5.0",
         "5.0",
         "5.0",
         "5.0",
         "5.0"
        ],
        [
         "mean",
         "0.12115",
         "0.00708",
         "0.88452",
         "0.14564",
         "0.23658",
         "0.01131",
         "0.01126"
        ],
        [
         "std",
         "0.01282",
         "0.00045",
         "0.0287",
         "0.03926",
         "0.01068",
         "0.00056",
         "0.00052"
        ],
        [
         "min",
         "0.1102",
         "0.00663",
         "0.84095",
         "0.10925",
         "0.22398",
         "0.01071",
         "0.01068"
        ],
        [
         "25%",
         "0.11206",
         "0.00683",
         "0.87004",
         "0.12205",
         "0.22806",
         "0.01083",
         "0.01083"
        ],
        [
         "50%",
         "0.11329",
         "0.00706",
         "0.90032",
         "0.12559",
         "0.23747",
         "0.0113",
         "0.01128"
        ],
        [
         "75%",
         "0.13389",
         "0.00707",
         "0.90093",
         "0.16721",
         "0.2435",
         "0.0116",
         "0.01158"
        ],
        [
         "max",
         "0.13633",
         "0.00783",
         "0.91035",
         "0.20411",
         "0.24987",
         "0.01208",
         "0.01193"
        ]
       ],
       "shape": {
        "columns": 7,
        "rows": 8
       }
      },
      "text/html": [
       "<div>\n",
       "<style scoped>\n",
       "    .dataframe tbody tr th:only-of-type {\n",
       "        vertical-align: middle;\n",
       "    }\n",
       "\n",
       "    .dataframe tbody tr th {\n",
       "        vertical-align: top;\n",
       "    }\n",
       "\n",
       "    .dataframe thead th {\n",
       "        text-align: right;\n",
       "    }\n",
       "</style>\n",
       "<table border=\"1\" class=\"dataframe\">\n",
       "  <thead>\n",
       "    <tr style=\"text-align: right;\">\n",
       "      <th></th>\n",
       "      <th>fit_time</th>\n",
       "      <th>score_time</th>\n",
       "      <th>r2</th>\n",
       "      <th>mse</th>\n",
       "      <th>mae</th>\n",
       "      <th>mape</th>\n",
       "      <th>smape</th>\n",
       "    </tr>\n",
       "  </thead>\n",
       "  <tbody>\n",
       "    <tr>\n",
       "      <th>count</th>\n",
       "      <td>5.00000</td>\n",
       "      <td>5.00000</td>\n",
       "      <td>5.00000</td>\n",
       "      <td>5.00000</td>\n",
       "      <td>5.00000</td>\n",
       "      <td>5.00000</td>\n",
       "      <td>5.00000</td>\n",
       "    </tr>\n",
       "    <tr>\n",
       "      <th>mean</th>\n",
       "      <td>0.12115</td>\n",
       "      <td>0.00708</td>\n",
       "      <td>0.88452</td>\n",
       "      <td>0.14564</td>\n",
       "      <td>0.23658</td>\n",
       "      <td>0.01131</td>\n",
       "      <td>0.01126</td>\n",
       "    </tr>\n",
       "    <tr>\n",
       "      <th>std</th>\n",
       "      <td>0.01282</td>\n",
       "      <td>0.00045</td>\n",
       "      <td>0.02870</td>\n",
       "      <td>0.03926</td>\n",
       "      <td>0.01068</td>\n",
       "      <td>0.00056</td>\n",
       "      <td>0.00052</td>\n",
       "    </tr>\n",
       "    <tr>\n",
       "      <th>min</th>\n",
       "      <td>0.11020</td>\n",
       "      <td>0.00663</td>\n",
       "      <td>0.84095</td>\n",
       "      <td>0.10925</td>\n",
       "      <td>0.22398</td>\n",
       "      <td>0.01071</td>\n",
       "      <td>0.01068</td>\n",
       "    </tr>\n",
       "    <tr>\n",
       "      <th>25%</th>\n",
       "      <td>0.11206</td>\n",
       "      <td>0.00683</td>\n",
       "      <td>0.87004</td>\n",
       "      <td>0.12205</td>\n",
       "      <td>0.22806</td>\n",
       "      <td>0.01083</td>\n",
       "      <td>0.01083</td>\n",
       "    </tr>\n",
       "    <tr>\n",
       "      <th>50%</th>\n",
       "      <td>0.11329</td>\n",
       "      <td>0.00706</td>\n",
       "      <td>0.90032</td>\n",
       "      <td>0.12559</td>\n",
       "      <td>0.23747</td>\n",
       "      <td>0.01130</td>\n",
       "      <td>0.01128</td>\n",
       "    </tr>\n",
       "    <tr>\n",
       "      <th>75%</th>\n",
       "      <td>0.13389</td>\n",
       "      <td>0.00707</td>\n",
       "      <td>0.90093</td>\n",
       "      <td>0.16721</td>\n",
       "      <td>0.24350</td>\n",
       "      <td>0.01160</td>\n",
       "      <td>0.01158</td>\n",
       "    </tr>\n",
       "    <tr>\n",
       "      <th>max</th>\n",
       "      <td>0.13633</td>\n",
       "      <td>0.00783</td>\n",
       "      <td>0.91035</td>\n",
       "      <td>0.20411</td>\n",
       "      <td>0.24987</td>\n",
       "      <td>0.01208</td>\n",
       "      <td>0.01193</td>\n",
       "    </tr>\n",
       "  </tbody>\n",
       "</table>\n",
       "</div>"
      ],
      "text/plain": [
       "       fit_time  score_time       r2      mse      mae     mape    smape\n",
       "count   5.00000     5.00000  5.00000  5.00000  5.00000  5.00000  5.00000\n",
       "mean    0.12115     0.00708  0.88452  0.14564  0.23658  0.01131  0.01126\n",
       "std     0.01282     0.00045  0.02870  0.03926  0.01068  0.00056  0.00052\n",
       "min     0.11020     0.00663  0.84095  0.10925  0.22398  0.01071  0.01068\n",
       "25%     0.11206     0.00683  0.87004  0.12205  0.22806  0.01083  0.01083\n",
       "50%     0.11329     0.00706  0.90032  0.12559  0.23747  0.01130  0.01128\n",
       "75%     0.13389     0.00707  0.90093  0.16721  0.24350  0.01160  0.01158\n",
       "max     0.13633     0.00783  0.91035  0.20411  0.24987  0.01208  0.01193"
      ]
     },
     "execution_count": 8,
     "metadata": {},
     "output_type": "execute_result"
    }
   ],
   "source": [
    "df_cv.describe().round(5)"
   ]
  },
  {
   "cell_type": "markdown",
   "metadata": {},
   "source": [
    "## Hold-out Evaluation"
   ]
  },
  {
   "cell_type": "code",
   "execution_count": 9,
   "metadata": {},
   "outputs": [],
   "source": [
    "model = lgb.LGBMRegressor(seed=22)\n",
    "model.fit(X_train, y_train, categorical_feature=cat_cols)\n",
    "\n",
    "y_pred = model.predict(X_test)"
   ]
  },
  {
   "cell_type": "code",
   "execution_count": 10,
   "metadata": {},
   "outputs": [
    {
     "name": "stdout",
     "output_type": "stream",
     "text": [
      "R2 0.9051007993908762\n",
      "MAE 0.23159701645060027\n",
      "MSE 0.11886513721016245\n",
      "MAPE 0.01106385347464695\n",
      "sMAPE 0.011048323464296097\n"
     ]
    }
   ],
   "source": [
    "print(\"R2\", r2_score(y_test, y_pred))\n",
    "print(\"MAE\", mean_absolute_error(y_test, y_pred))\n",
    "print(\"MSE\", mean_squared_error(y_test, y_pred))\n",
    "print(\"MAPE\", mean_absolute_percentage_error(y_test, y_pred))\n",
    "print(\"sMAPE\", smape(y_test, y_pred))"
   ]
  },
  {
   "cell_type": "code",
   "execution_count": 11,
   "metadata": {},
   "outputs": [
    {
     "data": {
      "image/png": "[encoded data removed]",
      "text/plain": [
       "<Figure size 800x300 with 2 Axes>"
      ]
     },
     "metadata": {},
     "output_type": "display_data"
    }
   ],
   "source": [
    "fig, ax = plt.subplots(1, 2, figsize=(8, 3))\n",
    "\n",
    "ax[0].scatter(y_test, y_pred, color=\"blue\", alpha=0.5)\n",
    "ax[0].set_xlabel(\"Actual\")\n",
    "ax[0].set_ylabel(\"Predicted\")\n",
    "ax[0].set_title(\"Predictions\")\n",
    "\n",
    "ax[1].scatter(y_test, y_test - y_pred, color=\"blue\", alpha=0.5)\n",
    "ax[1].axhline(y=0, color=\"r\", linestyle=\"-\")\n",
    "ax[1].set_xlabel(\"Actual\")\n",
    "ax[1].set_ylabel(\"Residuals\")\n",
    "ax[1].set_title(\"Residuals\")\n",
    "\n",
    "fig.tight_layout()\n",
    "plt.show()"
   ]
  },
  {
   "cell_type": "code",
   "execution_count": 12,
   "metadata": {},
   "outputs": [
    {
     "data": {
      "image/png": "[encoded data removed]",
      "text/plain": [
       "<Figure size 800x1000 with 1 Axes>"
      ]
     },
     "metadata": {},
     "output_type": "display_data"
    }
   ],
   "source": [
    "fig, ax = plt.subplots(figsize=(8, 10))\n",
    "lgb.plot_importance(model, importance_type=\"gain\", ax=ax)\n",
    "plt.show()"
   ]
  },
  {
   "cell_type": "markdown",
   "metadata": {},
   "source": [
    "## Feature Selection - Boruta\n",
    "\n",
    "- https://medium.com/geekculture/boruta-feature-selection-explained-in-python-7ae8bf4aa1e7\n",
    "- https://towardsdatascience.com/feature-selection-with-boruta-in-python-676e3877e596/\n",
    "- https://github.com/scikit-learn-contrib/boruta_py/blob/master/boruta/boruta_py.py#L490\n",
    "- https://github.com/edikedik/eBoruta/blob/master/eBoruta/algorithm.py"
   ]
  },
  {
   "cell_type": "code",
   "execution_count": 13,
   "metadata": {},
   "outputs": [
    {
     "name": "stderr",
     "output_type": "stream",
     "text": [
      "100%|██████████| 50/50 [00:11<00:00,  4.51it/s]\n"
     ]
    }
   ],
   "source": [
    "alpha = 0.05\n",
    "n_trials = 50\n",
    "mzsa_perc = 100\n",
    "\n",
    "rng = np.random.default_rng(123456)\n",
    "feature_hits = {k: 0 for k in df_train_proc.columns}\n",
    "\n",
    "\n",
    "for run_num in tqdm.tqdm(range(n_trials)):\n",
    "    # copy dataframe\n",
    "    df_train_boruta = df_train_proc.copy()\n",
    "    X_boruta, y_boruta = df_train_boruta.drop(columns=[\"price\"]), df_train_boruta[\"price\"]\n",
    "\n",
    "    # create shadow features\n",
    "    for col in X_boruta.columns:\n",
    "        X_boruta[f\"shadow_{col}\"] = X_boruta[col].sample(frac=1.0, replace=False, random_state=rng).values\n",
    "\n",
    "    # train model\n",
    "    model = lgb.LGBMRegressor(seed=rng.integers(1, 99999), verbosity=-1)\n",
    "    model.fit(X_boruta, y_boruta, categorical_feature=cat_cols)\n",
    "\n",
    "    # get feature importances\n",
    "    importances = {k:v for k, v in zip(X_boruta.columns, model.booster_.feature_importance(importance_type=\"gain\"))}\n",
    "    mzsa_threshold = np.percentile([v for k, v in importances.items() if \"shadow_\" in k], mzsa_perc)\n",
    "\n",
    "    selected_features = [k for k, v in importances.items() if \"shadow_\" not in k and v > mzsa_threshold]\n",
    "    for k in selected_features:\n",
    "        feature_hits[k] += 1\n",
    "\n",
    "    # calculate significance with Bonferoni correction\n",
    "    hits = np.array(list(feature_hits.values()))\n",
    "    to_accept = sp.stats.binom.sf(hits - 1, run_num, .5) <= alpha / len(feature_hits)\n",
    "    to_reject = sp.stats.binom.cdf(hits, run_num, .5) <= alpha / len(feature_hits)\n",
    "\n",
    "    if np.all(np.bitwise_or(to_accept, to_reject)):\n",
    "        print(\"Early stopping!\")\n",
    "        break"
   ]
  },
  {
   "cell_type": "code",
   "execution_count": 14,
   "metadata": {},
   "outputs": [
    {
     "name": "stdout",
     "output_type": "stream",
     "text": [
      "Selected features: 13 of 33\n"
     ]
    },
    {
     "data": {
      "application/vnd.microsoft.datawrangler.viewer.v0+json": {
       "columns": [
        {
         "name": "index",
         "rawType": "int64",
         "type": "integer"
        },
        {
         "name": "feature",
         "rawType": "object",
         "type": "string"
        },
        {
         "name": "hits",
         "rawType": "int64",
         "type": "integer"
        },
        {
         "name": "status",
         "rawType": "object",
         "type": "string"
        }
       ],
       "conversionMethod": "pd.DataFrame",
       "ref": "780a3057-0d27-4afe-b199-ada2cb2349b3",
       "rows": [
        [
         "1",
         "subdistrict",
         "50",
         "accept"
        ],
        [
         "3",
         "kamar_mandi",
         "50",
         "accept"
        ],
        [
         "4",
         "kamar_pembantu",
         "50",
         "accept"
        ],
        [
         "7",
         "luas_tanah",
         "50",
         "accept"
        ],
        [
         "8",
         "luas_bangunan",
         "50",
         "accept"
        ],
        [
         "9",
         "jumlah_lantai",
         "50",
         "accept"
        ],
        [
         "13",
         "tahun_dibangun",
         "50",
         "accept"
        ],
        [
         "15",
         "daya_listrik",
         "50",
         "accept"
        ],
        [
         "26",
         "land_building_ratio",
         "50",
         "accept"
        ],
        [
         "27",
         "total_beds",
         "47",
         "accept"
        ],
        [
         "28",
         "total_baths",
         "50",
         "accept"
        ],
        [
         "32",
         "building_area_floor_ratio",
         "50",
         "accept"
        ],
        [
         "33",
         "vehicle_accessibility",
         "44",
         "accept"
        ]
       ],
       "shape": {
        "columns": 3,
        "rows": 13
       }
      },
      "text/html": [
       "<div>\n",
       "<style scoped>\n",
       "    .dataframe tbody tr th:only-of-type {\n",
       "        vertical-align: middle;\n",
       "    }\n",
       "\n",
       "    .dataframe tbody tr th {\n",
       "        vertical-align: top;\n",
       "    }\n",
       "\n",
       "    .dataframe thead th {\n",
       "        text-align: right;\n",
       "    }\n",
       "</style>\n",
       "<table border=\"1\" class=\"dataframe\">\n",
       "  <thead>\n",
       "    <tr style=\"text-align: right;\">\n",
       "      <th></th>\n",
       "      <th>feature</th>\n",
       "      <th>hits</th>\n",
       "      <th>status</th>\n",
       "    </tr>\n",
       "  </thead>\n",
       "  <tbody>\n",
       "    <tr>\n",
       "      <th>1</th>\n",
       "      <td>subdistrict</td>\n",
       "      <td>50</td>\n",
       "      <td>accept</td>\n",
       "    </tr>\n",
       "    <tr>\n",
       "      <th>3</th>\n",
       "      <td>kamar_mandi</td>\n",
       "      <td>50</td>\n",
       "      <td>accept</td>\n",
       "    </tr>\n",
       "    <tr>\n",
       "      <th>4</th>\n",
       "      <td>kamar_pembantu</td>\n",
       "      <td>50</td>\n",
       "      <td>accept</td>\n",
       "    </tr>\n",
       "    <tr>\n",
       "      <th>7</th>\n",
       "      <td>luas_tanah</td>\n",
       "      <td>50</td>\n",
       "      <td>accept</td>\n",
       "    </tr>\n",
       "    <tr>\n",
       "      <th>8</th>\n",
       "      <td>luas_bangunan</td>\n",
       "      <td>50</td>\n",
       "      <td>accept</td>\n",
       "    </tr>\n",
       "    <tr>\n",
       "      <th>9</th>\n",
       "      <td>jumlah_lantai</td>\n",
       "      <td>50</td>\n",
       "      <td>accept</td>\n",
       "    </tr>\n",
       "    <tr>\n",
       "      <th>13</th>\n",
       "      <td>tahun_dibangun</td>\n",
       "      <td>50</td>\n",
       "      <td>accept</td>\n",
       "    </tr>\n",
       "    <tr>\n",
       "      <th>15</th>\n",
       "      <td>daya_listrik</td>\n",
       "      <td>50</td>\n",
       "      <td>accept</td>\n",
       "    </tr>\n",
       "    <tr>\n",
       "      <th>26</th>\n",
       "      <td>land_building_ratio</td>\n",
       "      <td>50</td>\n",
       "      <td>accept</td>\n",
       "    </tr>\n",
       "    <tr>\n",
       "      <th>27</th>\n",
       "      <td>total_beds</td>\n",
       "      <td>47</td>\n",
       "      <td>accept</td>\n",
       "    </tr>\n",
       "    <tr>\n",
       "      <th>28</th>\n",
       "      <td>total_baths</td>\n",
       "      <td>50</td>\n",
       "      <td>accept</td>\n",
       "    </tr>\n",
       "    <tr>\n",
       "      <th>32</th>\n",
       "      <td>building_area_floor_ratio</td>\n",
       "      <td>50</td>\n",
       "      <td>accept</td>\n",
       "    </tr>\n",
       "    <tr>\n",
       "      <th>33</th>\n",
       "      <td>vehicle_accessibility</td>\n",
       "      <td>44</td>\n",
       "      <td>accept</td>\n",
       "    </tr>\n",
       "  </tbody>\n",
       "</table>\n",
       "</div>"
      ],
      "text/plain": [
       "                      feature  hits  status\n",
       "1                 subdistrict    50  accept\n",
       "3                 kamar_mandi    50  accept\n",
       "4              kamar_pembantu    50  accept\n",
       "7                  luas_tanah    50  accept\n",
       "8               luas_bangunan    50  accept\n",
       "9               jumlah_lantai    50  accept\n",
       "13             tahun_dibangun    50  accept\n",
       "15               daya_listrik    50  accept\n",
       "26        land_building_ratio    50  accept\n",
       "27                 total_beds    47  accept\n",
       "28                total_baths    50  accept\n",
       "32  building_area_floor_ratio    50  accept\n",
       "33      vehicle_accessibility    44  accept"
      ]
     },
     "execution_count": 14,
     "metadata": {},
     "output_type": "execute_result"
    }
   ],
   "source": [
    "feat_accept = np.array(list(feature_hits.keys()))[to_accept]\n",
    "feat_reject = np.array(list(feature_hits.keys()))[to_reject]\n",
    "\n",
    "def get_feat_status(name: str):\n",
    "    if name in feat_accept:\n",
    "        return \"accept\"\n",
    "    if name in feat_reject:\n",
    "        return \"reject\"\n",
    "    \n",
    "    return \"tentative\"\n",
    "\n",
    "df_boruta = pd.DataFrame({\n",
    "    \"feature\": feature_hits.keys(),\n",
    "    \"hits\": feature_hits.values(),\n",
    "    \"status\": [get_feat_status(x) for x in feature_hits.keys()],\n",
    "})\n",
    "\n",
    "df_boruta_acc = df_boruta[df_boruta[\"status\"] == \"accept\"]\n",
    "\n",
    "print(f\"Selected features: {df_boruta_acc.shape[0]} of {df_train_boruta.shape[1]-1}\")\n",
    "df_boruta_acc"
   ]
  },
  {
   "cell_type": "code",
   "execution_count": 15,
   "metadata": {},
   "outputs": [
    {
     "data": {
      "text/plain": [
       "['subdistrict',\n",
       " 'kamar_mandi',\n",
       " 'kamar_pembantu',\n",
       " 'luas_tanah',\n",
       " 'luas_bangunan',\n",
       " 'jumlah_lantai',\n",
       " 'tahun_dibangun',\n",
       " 'daya_listrik',\n",
       " 'land_building_ratio',\n",
       " 'total_beds',\n",
       " 'total_baths',\n",
       " 'building_area_floor_ratio',\n",
       " 'vehicle_accessibility']"
      ]
     },
     "execution_count": 15,
     "metadata": {},
     "output_type": "execute_result"
    }
   ],
   "source": [
    "df_boruta_acc[\"feature\"].tolist()"
   ]
  },
  {
   "cell_type": "code",
   "execution_count": null,
   "metadata": {},
   "outputs": [],
   "source": []
  }
 ],
 "metadata": {
  "kernelspec": {
   "display_name": ".venv",
   "language": "python",
   "name": "python3"
  },
  "language_info": {
   "codemirror_mode": {
    "name": "ipython",
    "version": 3
   },
   "file_extension": ".py",
   "mimetype": "text/x-python",
   "name": "python",
   "nbconvert_exporter": "python",
   "pygments_lexer": "ipython3",
   "version": "3.11.9"
  }
 },
 "nbformat": 4,
 "nbformat_minor": 2
}
