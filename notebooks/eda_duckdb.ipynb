{
 "cells": [
  {
   "cell_type": "code",
   "execution_count": 1,
   "metadata": {},
   "outputs": [],
   "source": [
    "import duckdb\n",
    "import pandas as pd"
   ]
  },
  {
   "cell_type": "code",
   "execution_count": 2,
   "metadata": {},
   "outputs": [],
   "source": [
    "%load_ext sql\n",
    "conn = duckdb.connect()\n",
    "%sql conn --alias duckdb"
   ]
  },
  {
   "cell_type": "code",
   "execution_count": 3,
   "metadata": {},
   "outputs": [
    {
     "data": {
      "text/html": [
       "<span style=\"None\">Running query in &#x27;duckdb&#x27;</span>"
      ],
      "text/plain": [
       "Running query in 'duckdb'"
      ]
     },
     "metadata": {},
     "output_type": "display_data"
    },
    {
     "data": {
      "text/html": [
       "<table>\n",
       "    <thead>\n",
       "        <tr>\n",
       "            <th>Count</th>\n",
       "        </tr>\n",
       "    </thead>\n",
       "    <tbody>\n",
       "        <tr>\n",
       "            <td>9047</td>\n",
       "        </tr>\n",
       "    </tbody>\n",
       "</table>"
      ],
      "text/plain": [
       "+-------+\n",
       "| Count |\n",
       "+-------+\n",
       "|  9047 |\n",
       "+-------+"
      ]
     },
     "execution_count": 3,
     "metadata": {},
     "output_type": "execute_result"
    }
   ],
   "source": [
    "%sql CREATE TABLE houses AS SELECT * FROM read_json_auto('../dataset/houses-9k.json')"
   ]
  },
  {
   "cell_type": "code",
   "execution_count": 4,
   "metadata": {},
   "outputs": [
    {
     "data": {
      "text/html": [
       "<span style=\"None\">Running query in &#x27;duckdb&#x27;</span>"
      ],
      "text/plain": [
       "Running query in 'duckdb'"
      ]
     },
     "metadata": {},
     "output_type": "display_data"
    },
    {
     "data": {
      "text/html": [
       "<table>\n",
       "    <thead>\n",
       "        <tr>\n",
       "            <th>id</th>\n",
       "            <th>price</th>\n",
       "            <th>installment</th>\n",
       "            <th>address</th>\n",
       "            <th>tags</th>\n",
       "            <th>description</th>\n",
       "            <th>specs</th>\n",
       "            <th>facilities</th>\n",
       "            <th>agent</th>\n",
       "            <th>images</th>\n",
       "            <th>url</th>\n",
       "        </tr>\n",
       "    </thead>\n",
       "    <tbody>\n",
       "        <tr>\n",
       "            <td>hos13819879</td>\n",
       "            <td>295000.0</td>\n",
       "            <td>21.0</td>\n",
       "            <td>Sentul City, Bogor</td>\n",
       "            <td>['Cash Keras', 'One Gate System']</td>\n",
       "            <td>Rumah siap masuk dengan style englang house,berada di dalam cluster di sentul city,lokasi sangat strategis dan cocok sekali untuk tinggal karena dekat dengan semua fasilitas di sentul city seperti;sekolah,tempat ibadah,mall,pasar tradisional dan pasar bersih dan hanya beberapa menit ke gerbang toll sentul city.</td>\n",
       "            <td>{'Kamar Tidur': 3, 'Kamar Mandi': 4, 'Luas Tanah': '400 m²', 'Luas Bangunan': '150 m²', 'Carport': 2, 'Tipe Properti': 'Rumah', 'Sertifikat': 'SHM - Sertifikat Hak Milik', 'Daya Listrik': '2200 Watt', 'Kamar Pembantu': 1, 'Kamar Mandi Pembantu': 1, 'Dapur': 1, 'Ruang Makan': 'Tidak', 'Ruang Tamu': 'Tidak', 'Kondisi Perabotan': 'Unfurnished', 'Material Bangunan': 'Bata Merah', 'Material Lantai': 'Granit', 'Garasi': 2, 'Jumlah Lantai': 2, 'Hadap': 'Timur', 'Konsep dan Gaya Rumah': 'Scandinavian', 'Pemandangan': 'Pemukiman Warga', 'Terjangkau Internet': 'Ya', 'Lebar Jalan': '2 Mobil', 'Tahun Dibangun': 2002, 'Sumber Air': 'PAM atau PDAM', 'Hook': 'Tidak', 'Kondisi Properti': 'Bagus', 'ID Iklan': 'hos13819879', 'Tahun Di Renovasi': None}</td>\n",
       "            <td>['Jalur Telepon', 'Taman', 'Tempat Jemuran', 'Akses Parkir', 'CCTV', 'Keamanan 24 jam', 'Kolam Renang', 'Masjid', 'One Gate System', 'Playground', 'Tempat Laundry', 'Kitchen Set', 'Lapangan Basket', 'Lapangan Bola', 'Lapangan Bulu Tangkis', 'Lapangan Tenis', 'Lapangan Voli', 'Tempat Gym', 'Track Lari']</td>\n",
       "            <td>{'name': 'Heri Andrian', 'url': 'https://www.rumah123.com/agen-properti/nas-global-property/heri-andrian-27716/', 'phone': '+628121859577', 'company': {'name': 'NAS Global Property', 'url': 'https://www.rumah123.com/agen-properti/nas-global-property-74334/'}}</td>\n",
       "            <td>['https://picture.rumah123.com/r123-images/720x420-crop/customer/27716/2023-05-25-03-11-04-e2b69471-1fde-4d0a-98d4-9b82fffbc3bb.jpg', 'https://picture.rumah123.com/r123-images/360x401-inside/customer/27716/2023-05-25-03-11-16-016f9d90-68f2-4bc0-9db9-8f4184978cbd.jpg', 'https://picture.rumah123.com/r123-images/360x401-inside/customer/27716/2023-05-25-03-11-17-3ef428f7-4ef1-4173-aee3-7e7ae23d4940.jpg', 'https://picture.rumah123.com/r123-images/360x401-inside/customer/27716/2023-05-25-03-11-19-4c2dba24-3136-460a-a57b-a1346ffb040b.jpg', 'https://picture.rumah123.com/r123-images/360x401-inside/customer/27716/2023-05-25-03-11-20-c9d0beca-a01c-4cc3-98cc-51c3ea4aec1d.jpg']</td>\n",
       "            <td><a href=https://www.rumah123.com/properti/bogor/hos13819879/>https://www.rumah123.com/properti/bogor/hos13819879/</a></td>\n",
       "        </tr>\n",
       "    </tbody>\n",
       "</table>"
      ],
      "text/plain": [
       "+-------------+----------+-------------+--------------------+-----------------------------------+--------------------------------------------------------------------------------------------------------------------------------------------------------------------------------------------------------------------------------------------------------------------------------------------------------------------------+-------------------------------------------------------------------------------------------------------------------------------------------------------------------------------------------------------------------------------------------------------------------------------------------------------------------------------------------------------------------------------------------------------------------------------------------------------------------------------------------------------------------------------------------------------------------------------------------------------------------------------------------------------------------------------------------------------------------------------------------------------------------------+-----------------------------------------------------------------------------------------------------------------------------------------------------------------------------------------------------------------------------------------------------------------------------------------------------------------+---------------------------------------------------------------------------------------------------------------------------------------------------------------------------------------------------------------------------------------------------------------------+---------------------------------------------------------------------------------------------------------------------------------------------------------------------------------------------------------------------------------------------------------------------------------------------------------------------------------------------------------------------------------------------------------------------------------------------------------------------------------------------------------------------------------------------------------------------------------------------------------------------------------------------------------------------------------------------------+-----------------------------------------------------------------------------------------------------------------------+\n",
       "|      id     |  price   | installment |      address       |                tags               |                                                                                                                                                       description                                                                                                                                                        |                                                                                                                                                                                                                                                                                                                                                                                  specs                                                                                                                                                                                                                                                                                                                                                                                  |                                                                                                                                                    facilities                                                                                                                                                   |                                                                                                                                agent                                                                                                                                |                                                                                                                                                                                                                                                                                                                                               images                                                                                                                                                                                                                                                                                                                                              |                                                          url                                                          |\n",
       "+-------------+----------+-------------+--------------------+-----------------------------------+--------------------------------------------------------------------------------------------------------------------------------------------------------------------------------------------------------------------------------------------------------------------------------------------------------------------------+-------------------------------------------------------------------------------------------------------------------------------------------------------------------------------------------------------------------------------------------------------------------------------------------------------------------------------------------------------------------------------------------------------------------------------------------------------------------------------------------------------------------------------------------------------------------------------------------------------------------------------------------------------------------------------------------------------------------------------------------------------------------------+-----------------------------------------------------------------------------------------------------------------------------------------------------------------------------------------------------------------------------------------------------------------------------------------------------------------+---------------------------------------------------------------------------------------------------------------------------------------------------------------------------------------------------------------------------------------------------------------------+---------------------------------------------------------------------------------------------------------------------------------------------------------------------------------------------------------------------------------------------------------------------------------------------------------------------------------------------------------------------------------------------------------------------------------------------------------------------------------------------------------------------------------------------------------------------------------------------------------------------------------------------------------------------------------------------------+-----------------------------------------------------------------------------------------------------------------------+\n",
       "| hos13819879 | 295000.0 |     21.0    | Sentul City, Bogor | ['Cash Keras', 'One Gate System'] | Rumah siap masuk dengan style englang house,berada di dalam cluster di sentul city,lokasi sangat strategis dan cocok sekali untuk tinggal karena dekat dengan semua fasilitas di sentul city seperti;sekolah,tempat ibadah,mall,pasar tradisional dan pasar bersih dan hanya beberapa menit ke gerbang toll sentul city. | {'Kamar Tidur': 3, 'Kamar Mandi': 4, 'Luas Tanah': '400 m²', 'Luas Bangunan': '150 m²', 'Carport': 2, 'Tipe Properti': 'Rumah', 'Sertifikat': 'SHM - Sertifikat Hak Milik', 'Daya Listrik': '2200 Watt', 'Kamar Pembantu': 1, 'Kamar Mandi Pembantu': 1, 'Dapur': 1, 'Ruang Makan': 'Tidak', 'Ruang Tamu': 'Tidak', 'Kondisi Perabotan': 'Unfurnished', 'Material Bangunan': 'Bata Merah', 'Material Lantai': 'Granit', 'Garasi': 2, 'Jumlah Lantai': 2, 'Hadap': 'Timur', 'Konsep dan Gaya Rumah': 'Scandinavian', 'Pemandangan': 'Pemukiman Warga', 'Terjangkau Internet': 'Ya', 'Lebar Jalan': '2 Mobil', 'Tahun Dibangun': 2002, 'Sumber Air': 'PAM atau PDAM', 'Hook': 'Tidak', 'Kondisi Properti': 'Bagus', 'ID Iklan': 'hos13819879', 'Tahun Di Renovasi': None} | ['Jalur Telepon', 'Taman', 'Tempat Jemuran', 'Akses Parkir', 'CCTV', 'Keamanan 24 jam', 'Kolam Renang', 'Masjid', 'One Gate System', 'Playground', 'Tempat Laundry', 'Kitchen Set', 'Lapangan Basket', 'Lapangan Bola', 'Lapangan Bulu Tangkis', 'Lapangan Tenis', 'Lapangan Voli', 'Tempat Gym', 'Track Lari'] | {'name': 'Heri Andrian', 'url': 'https://www.rumah123.com/agen-properti/nas-global-property/heri-andrian-27716/', 'phone': '+628121859577', 'company': {'name': 'NAS Global Property', 'url': 'https://www.rumah123.com/agen-properti/nas-global-property-74334/'}} | ['https://picture.rumah123.com/r123-images/720x420-crop/customer/27716/2023-05-25-03-11-04-e2b69471-1fde-4d0a-98d4-9b82fffbc3bb.jpg', 'https://picture.rumah123.com/r123-images/360x401-inside/customer/27716/2023-05-25-03-11-16-016f9d90-68f2-4bc0-9db9-8f4184978cbd.jpg', 'https://picture.rumah123.com/r123-images/360x401-inside/customer/27716/2023-05-25-03-11-17-3ef428f7-4ef1-4173-aee3-7e7ae23d4940.jpg', 'https://picture.rumah123.com/r123-images/360x401-inside/customer/27716/2023-05-25-03-11-19-4c2dba24-3136-460a-a57b-a1346ffb040b.jpg', 'https://picture.rumah123.com/r123-images/360x401-inside/customer/27716/2023-05-25-03-11-20-c9d0beca-a01c-4cc3-98cc-51c3ea4aec1d.jpg'] | <a href=https://www.rumah123.com/properti/bogor/hos13819879/>https://www.rumah123.com/properti/bogor/hos13819879/</a> |\n",
       "+-------------+----------+-------------+--------------------+-----------------------------------+--------------------------------------------------------------------------------------------------------------------------------------------------------------------------------------------------------------------------------------------------------------------------------------------------------------------------+-------------------------------------------------------------------------------------------------------------------------------------------------------------------------------------------------------------------------------------------------------------------------------------------------------------------------------------------------------------------------------------------------------------------------------------------------------------------------------------------------------------------------------------------------------------------------------------------------------------------------------------------------------------------------------------------------------------------------------------------------------------------------+-----------------------------------------------------------------------------------------------------------------------------------------------------------------------------------------------------------------------------------------------------------------------------------------------------------------+---------------------------------------------------------------------------------------------------------------------------------------------------------------------------------------------------------------------------------------------------------------------+---------------------------------------------------------------------------------------------------------------------------------------------------------------------------------------------------------------------------------------------------------------------------------------------------------------------------------------------------------------------------------------------------------------------------------------------------------------------------------------------------------------------------------------------------------------------------------------------------------------------------------------------------------------------------------------------------+-----------------------------------------------------------------------------------------------------------------------+"
      ]
     },
     "execution_count": 4,
     "metadata": {},
     "output_type": "execute_result"
    }
   ],
   "source": [
    "%sql SELECT * FROM houses LIMIT 1"
   ]
  },
  {
   "cell_type": "code",
   "execution_count": 5,
   "metadata": {},
   "outputs": [
    {
     "data": {
      "text/html": [
       "<span style=\"None\">Running query in &#x27;duckdb&#x27;</span>"
      ],
      "text/plain": [
       "Running query in 'duckdb'"
      ]
     },
     "metadata": {},
     "output_type": "display_data"
    },
    {
     "data": {
      "text/html": [
       "<table>\n",
       "    <thead>\n",
       "        <tr>\n",
       "            <th>column_name</th>\n",
       "            <th>column_type</th>\n",
       "            <th>null</th>\n",
       "            <th>key</th>\n",
       "            <th>default</th>\n",
       "            <th>extra</th>\n",
       "        </tr>\n",
       "    </thead>\n",
       "    <tbody>\n",
       "        <tr>\n",
       "            <td>id</td>\n",
       "            <td>VARCHAR</td>\n",
       "            <td>YES</td>\n",
       "            <td>None</td>\n",
       "            <td>None</td>\n",
       "            <td>None</td>\n",
       "        </tr>\n",
       "        <tr>\n",
       "            <td>price</td>\n",
       "            <td>DOUBLE</td>\n",
       "            <td>YES</td>\n",
       "            <td>None</td>\n",
       "            <td>None</td>\n",
       "            <td>None</td>\n",
       "        </tr>\n",
       "        <tr>\n",
       "            <td>installment</td>\n",
       "            <td>DOUBLE</td>\n",
       "            <td>YES</td>\n",
       "            <td>None</td>\n",
       "            <td>None</td>\n",
       "            <td>None</td>\n",
       "        </tr>\n",
       "        <tr>\n",
       "            <td>address</td>\n",
       "            <td>VARCHAR</td>\n",
       "            <td>YES</td>\n",
       "            <td>None</td>\n",
       "            <td>None</td>\n",
       "            <td>None</td>\n",
       "        </tr>\n",
       "        <tr>\n",
       "            <td>tags</td>\n",
       "            <td>VARCHAR[]</td>\n",
       "            <td>YES</td>\n",
       "            <td>None</td>\n",
       "            <td>None</td>\n",
       "            <td>None</td>\n",
       "        </tr>\n",
       "        <tr>\n",
       "            <td>description</td>\n",
       "            <td>VARCHAR</td>\n",
       "            <td>YES</td>\n",
       "            <td>None</td>\n",
       "            <td>None</td>\n",
       "            <td>None</td>\n",
       "        </tr>\n",
       "        <tr>\n",
       "            <td>specs</td>\n",
       "            <td>STRUCT(\"Kamar Tidur\" BIGINT, \"Kamar Mandi\" BIGINT, \"Luas Tanah\" VARCHAR, \"Luas Bangunan\" VARCHAR, Carport BIGINT, \"Tipe Properti\" VARCHAR, Sertifikat VARCHAR, \"Daya Listrik\" VARCHAR, \"Kamar Pembantu\" BIGINT, \"Kamar Mandi Pembantu\" BIGINT, Dapur BIGINT, \"Ruang Makan\" VARCHAR, \"Ruang Tamu\" VARCHAR, \"Kondisi Perabotan\" VARCHAR, \"Material Bangunan\" VARCHAR, \"Material Lantai\" VARCHAR, Garasi BIGINT, \"Jumlah Lantai\" BIGINT, Hadap VARCHAR, \"Konsep dan Gaya Rumah\" VARCHAR, Pemandangan VARCHAR, \"Terjangkau Internet\" VARCHAR, \"Lebar Jalan\" VARCHAR, \"Tahun Dibangun\" BIGINT, \"Sumber Air\" VARCHAR, Hook VARCHAR, \"Kondisi Properti\" VARCHAR, \"ID Iklan\" VARCHAR, \"Tahun Di Renovasi\" BIGINT)</td>\n",
       "            <td>YES</td>\n",
       "            <td>None</td>\n",
       "            <td>None</td>\n",
       "            <td>None</td>\n",
       "        </tr>\n",
       "        <tr>\n",
       "            <td>facilities</td>\n",
       "            <td>VARCHAR[]</td>\n",
       "            <td>YES</td>\n",
       "            <td>None</td>\n",
       "            <td>None</td>\n",
       "            <td>None</td>\n",
       "        </tr>\n",
       "        <tr>\n",
       "            <td>agent</td>\n",
       "            <td>STRUCT(\"name\" VARCHAR, url VARCHAR, phone VARCHAR, company STRUCT(\"name\" VARCHAR, url VARCHAR))</td>\n",
       "            <td>YES</td>\n",
       "            <td>None</td>\n",
       "            <td>None</td>\n",
       "            <td>None</td>\n",
       "        </tr>\n",
       "        <tr>\n",
       "            <td>images</td>\n",
       "            <td>VARCHAR[]</td>\n",
       "            <td>YES</td>\n",
       "            <td>None</td>\n",
       "            <td>None</td>\n",
       "            <td>None</td>\n",
       "        </tr>\n",
       "    </tbody>\n",
       "</table>\n",
       "<span style=\"font-style:italic;text-align:center;\">Truncated to <a href=\"https://jupysql.ploomber.io/en/latest/api/configuration.html#displaylimit\">displaylimit</a> of 10.</span>"
      ],
      "text/plain": [
       "+-------------+-----------------------------------------------------------------------------------------------------------------------------------------------------------------------------------------------------------------------------------------------------------------------------------------------------------------------------------------------------------------------------------------------------------------------------------------------------------------------------------------------------------------------------------------------------------------------------------------------------------------------------------------------------------------------------------------------------------+------+------+---------+-------+\n",
       "| column_name |                                                                                                                                                                                                                                                                                                                                                column_type                                                                                                                                                                                                                                                                                                                                                | null | key  | default | extra |\n",
       "+-------------+-----------------------------------------------------------------------------------------------------------------------------------------------------------------------------------------------------------------------------------------------------------------------------------------------------------------------------------------------------------------------------------------------------------------------------------------------------------------------------------------------------------------------------------------------------------------------------------------------------------------------------------------------------------------------------------------------------------+------+------+---------+-------+\n",
       "|      id     |                                                                                                                                                                                                                                                                                                                                                  VARCHAR                                                                                                                                                                                                                                                                                                                                                  | YES  | None |   None  |  None |\n",
       "|    price    |                                                                                                                                                                                                                                                                                                                                                   DOUBLE                                                                                                                                                                                                                                                                                                                                                  | YES  | None |   None  |  None |\n",
       "| installment |                                                                                                                                                                                                                                                                                                                                                   DOUBLE                                                                                                                                                                                                                                                                                                                                                  | YES  | None |   None  |  None |\n",
       "|   address   |                                                                                                                                                                                                                                                                                                                                                  VARCHAR                                                                                                                                                                                                                                                                                                                                                  | YES  | None |   None  |  None |\n",
       "|     tags    |                                                                                                                                                                                                                                                                                                                                                 VARCHAR[]                                                                                                                                                                                                                                                                                                                                                 | YES  | None |   None  |  None |\n",
       "| description |                                                                                                                                                                                                                                                                                                                                                  VARCHAR                                                                                                                                                                                                                                                                                                                                                  | YES  | None |   None  |  None |\n",
       "|    specs    | STRUCT(\"Kamar Tidur\" BIGINT, \"Kamar Mandi\" BIGINT, \"Luas Tanah\" VARCHAR, \"Luas Bangunan\" VARCHAR, Carport BIGINT, \"Tipe Properti\" VARCHAR, Sertifikat VARCHAR, \"Daya Listrik\" VARCHAR, \"Kamar Pembantu\" BIGINT, \"Kamar Mandi Pembantu\" BIGINT, Dapur BIGINT, \"Ruang Makan\" VARCHAR, \"Ruang Tamu\" VARCHAR, \"Kondisi Perabotan\" VARCHAR, \"Material Bangunan\" VARCHAR, \"Material Lantai\" VARCHAR, Garasi BIGINT, \"Jumlah Lantai\" BIGINT, Hadap VARCHAR, \"Konsep dan Gaya Rumah\" VARCHAR, Pemandangan VARCHAR, \"Terjangkau Internet\" VARCHAR, \"Lebar Jalan\" VARCHAR, \"Tahun Dibangun\" BIGINT, \"Sumber Air\" VARCHAR, Hook VARCHAR, \"Kondisi Properti\" VARCHAR, \"ID Iklan\" VARCHAR, \"Tahun Di Renovasi\" BIGINT) | YES  | None |   None  |  None |\n",
       "|  facilities |                                                                                                                                                                                                                                                                                                                                                 VARCHAR[]                                                                                                                                                                                                                                                                                                                                                 | YES  | None |   None  |  None |\n",
       "|    agent    |                                                                                                                                                                                                                                                                                                      STRUCT(\"name\" VARCHAR, url VARCHAR, phone VARCHAR, company STRUCT(\"name\" VARCHAR, url VARCHAR))                                                                                                                                                                                                                                                                                                      | YES  | None |   None  |  None |\n",
       "|    images   |                                                                                                                                                                                                                                                                                                                                                 VARCHAR[]                                                                                                                                                                                                                                                                                                                                                 | YES  | None |   None  |  None |\n",
       "+-------------+-----------------------------------------------------------------------------------------------------------------------------------------------------------------------------------------------------------------------------------------------------------------------------------------------------------------------------------------------------------------------------------------------------------------------------------------------------------------------------------------------------------------------------------------------------------------------------------------------------------------------------------------------------------------------------------------------------------+------+------+---------+-------+\n",
       "Truncated to displaylimit of 10."
      ]
     },
     "execution_count": 5,
     "metadata": {},
     "output_type": "execute_result"
    }
   ],
   "source": [
    "%sql DESCRIBE SELECT * FROM houses"
   ]
  },
  {
   "cell_type": "code",
   "execution_count": 13,
   "metadata": {},
   "outputs": [
    {
     "data": {
      "text/plain": [
       "┌──────────────────────┬─────────────┬──────────────────────┬───┬─────────┬───────┬─────────────────┐\n",
       "│     column_name      │ column_type │         min          │ … │   q75   │ count │ null_percentage │\n",
       "│       varchar        │   varchar   │       varchar        │   │ varchar │ int64 │     varchar     │\n",
       "├──────────────────────┼─────────────┼──────────────────────┼───┼─────────┼───────┼─────────────────┤\n",
       "│ Kamar Tidur          │ BIGINT      │ 1                    │ … │ 4       │  9047 │ 2.56%           │\n",
       "│ Kamar Mandi          │ BIGINT      │ 1                    │ … │ 3       │  9047 │ 2.39%           │\n",
       "│ Luas Tanah           │ VARCHAR     │ 1 m²                 │ … │ NULL    │  9047 │ 0.01%           │\n",
       "│ Luas Bangunan        │ VARCHAR     │ 1 m²                 │ … │ NULL    │  9047 │ 0.17%           │\n",
       "│ Carport              │ BIGINT      │ 1                    │ … │ 2       │  9047 │ 35.27%          │\n",
       "│ Tipe Properti        │ VARCHAR     │ Rumah                │ … │ NULL    │  9047 │ 0.0%            │\n",
       "│ Sertifikat           │ VARCHAR     │ HGB - Hak Guna Ban…  │ … │ NULL    │  9047 │ 0.28%           │\n",
       "│ Daya Listrik         │ VARCHAR     │ 1.300 Watt           │ … │ NULL    │  9047 │ 9.45%           │\n",
       "│ Kamar Pembantu       │ BIGINT      │ 1                    │ … │ 1       │  9047 │ 72.43%          │\n",
       "│ Kamar Mandi Pembantu │ BIGINT      │ 1                    │ … │ 1       │  9047 │ 76.05%          │\n",
       "│          ·           │   ·         │ ·                    │ · │ ·       │    ·  │   ·             │\n",
       "│          ·           │   ·         │ ·                    │ · │ ·       │    ·  │   ·             │\n",
       "│          ·           │   ·         │ ·                    │ · │ ·       │    ·  │   ·             │\n",
       "│ Konsep dan Gaya Ru…  │ VARCHAR     │ American Classic     │ … │ NULL    │  9047 │ 49.0%           │\n",
       "│ Pemandangan          │ VARCHAR     │ Pantai               │ … │ NULL    │  9047 │ 44.71%          │\n",
       "│ Terjangkau Internet  │ VARCHAR     │ Tidak                │ … │ NULL    │  9047 │ 13.84%          │\n",
       "│ Lebar Jalan          │ VARCHAR     │ 1 Mobil              │ … │ NULL    │  9047 │ 39.74%          │\n",
       "│ Tahun Dibangun       │ BIGINT      │ 47                   │ … │ 2023    │  9047 │ 58.58%          │\n",
       "│ Sumber Air           │ VARCHAR     │ PAM atau PDAM        │ … │ NULL    │  9047 │ 31.24%          │\n",
       "│ Hook                 │ VARCHAR     │ Tidak                │ … │ NULL    │  9047 │ 13.85%          │\n",
       "│ Kondisi Properti     │ VARCHAR     │ 5 tahun              │ … │ NULL    │  9047 │ 12.86%          │\n",
       "│ ID Iklan             │ VARCHAR     │ hos10007095          │ … │ NULL    │  9047 │ 0.0%            │\n",
       "│ Tahun Di Renovasi    │ BIGINT      │ -1                   │ … │ 2023    │  9047 │ 82.33%          │\n",
       "├──────────────────────┴─────────────┴──────────────────────┴───┴─────────┴───────┴─────────────────┤\n",
       "│ 29 rows (20 shown)                                                           12 columns (6 shown) │\n",
       "└───────────────────────────────────────────────────────────────────────────────────────────────────┘"
      ]
     },
     "execution_count": 13,
     "metadata": {},
     "output_type": "execute_result"
    }
   ],
   "source": [
    "conn.sql(\"SUMMARIZE SELECT specs.* FROM houses\")"
   ]
  },
  {
   "cell_type": "code",
   "execution_count": 7,
   "metadata": {},
   "outputs": [
    {
     "data": {
      "text/html": [
       "<span style=\"None\">Running query in &#x27;duckdb&#x27;</span>"
      ],
      "text/plain": [
       "Running query in 'duckdb'"
      ]
     },
     "metadata": {},
     "output_type": "display_data"
    },
    {
     "data": {
      "text/html": [
       "<table>\n",
       "    <thead>\n",
       "        <tr>\n",
       "            <th>Count</th>\n",
       "        </tr>\n",
       "    </thead>\n",
       "    <tbody>\n",
       "    </tbody>\n",
       "</table>"
      ],
      "text/plain": [
       "+-------+\n",
       "| Count |\n",
       "+-------+\n",
       "+-------+"
      ]
     },
     "execution_count": 7,
     "metadata": {},
     "output_type": "execute_result"
    }
   ],
   "source": [
    "%sql CREATE OR REPLACE VIEW houses_v1 AS SELECT id, COUNT(images), price, installment, split_part(address, ', ', 1) AS address_kecamatan, specs, facilities FROM houses GROUP BY id, price, installment, address_kecamatan, specs, facilities"
   ]
  },
  {
   "cell_type": "code",
   "execution_count": 8,
   "metadata": {},
   "outputs": [
    {
     "data": {
      "text/html": [
       "<span style=\"None\">Running query in &#x27;duckdb&#x27;</span>"
      ],
      "text/plain": [
       "Running query in 'duckdb'"
      ]
     },
     "metadata": {},
     "output_type": "display_data"
    },
    {
     "data": {
      "text/html": [
       "<table>\n",
       "    <thead>\n",
       "        <tr>\n",
       "            <th>id</th>\n",
       "            <th>count(images)</th>\n",
       "            <th>price</th>\n",
       "            <th>installment</th>\n",
       "            <th>address_kecamatan</th>\n",
       "            <th>specs</th>\n",
       "            <th>facilities</th>\n",
       "        </tr>\n",
       "    </thead>\n",
       "    <tbody>\n",
       "        <tr>\n",
       "            <td>hos15814995</td>\n",
       "            <td>1</td>\n",
       "            <td>970.0</td>\n",
       "            <td>6.0</td>\n",
       "            <td>Gunung Sindur</td>\n",
       "            <td>{'Kamar Tidur': 2, 'Kamar Mandi': 2, 'Luas Tanah': '167 m²', 'Luas Bangunan': '165 m²', 'Carport': 1, 'Tipe Properti': 'Rumah', 'Sertifikat': 'SHM - Sertifikat Hak Milik', 'Daya Listrik': '3500 Watt', 'Kamar Pembantu': None, 'Kamar Mandi Pembantu': None, 'Dapur': 1, 'Ruang Makan': 'Ya', 'Ruang Tamu': 'Ya', 'Kondisi Perabotan': 'Unfurnished', 'Material Bangunan': None, 'Material Lantai': None, 'Garasi': None, 'Jumlah Lantai': 1, 'Hadap': 'Timur', 'Konsep dan Gaya Rumah': None, 'Pemandangan': None, 'Terjangkau Internet': 'Tidak', 'Lebar Jalan': None, 'Tahun Dibangun': None, 'Sumber Air': None, 'Hook': 'Tidak', 'Kondisi Properti': 'Bagus', 'ID Iklan': 'hos15814995', 'Tahun Di Renovasi': None}</td>\n",
       "            <td>['Taman', 'Tempat Jemuran', 'Keamanan 24 jam']</td>\n",
       "        </tr>\n",
       "        <tr>\n",
       "            <td>hos15818801</td>\n",
       "            <td>1</td>\n",
       "            <td>999.0</td>\n",
       "            <td>7.0</td>\n",
       "            <td>Gunung Sindur</td>\n",
       "            <td>{'Kamar Tidur': 2, 'Kamar Mandi': 2, 'Luas Tanah': '72 m²', 'Luas Bangunan': '53 m²', 'Carport': 2, 'Tipe Properti': 'Rumah', 'Sertifikat': 'SHM - Sertifikat Hak Milik', 'Daya Listrik': '2200 Watt', 'Kamar Pembantu': None, 'Kamar Mandi Pembantu': None, 'Dapur': 1, 'Ruang Makan': 'Ya', 'Ruang Tamu': 'Ya', 'Kondisi Perabotan': 'Unfurnished', 'Material Bangunan': 'Bata Hebel', 'Material Lantai': 'Granit', 'Garasi': 2, 'Jumlah Lantai': 2, 'Hadap': 'Utara', 'Konsep dan Gaya Rumah': 'Minimalis Modern', 'Pemandangan': None, 'Terjangkau Internet': 'Ya', 'Lebar Jalan': '2 Mobil', 'Tahun Dibangun': 2023, 'Sumber Air': 'Sumur Bor', 'Hook': 'Tidak', 'Kondisi Properti': 'Baru', 'ID Iklan': 'hos15818801', 'Tahun Di Renovasi': None}</td>\n",
       "            <td>['Ac', 'Jalur Telepon', 'Jogging Track', 'Keamanan', 'Kolam Renang', 'Taman', 'Tempat Jemuran', 'Wastafel', 'Tempat Gym', 'Track Lari']</td>\n",
       "        </tr>\n",
       "    </tbody>\n",
       "</table>"
      ],
      "text/plain": [
       "+-------------+---------------+-------+-------------+-------------------+---------------------------------------------------------------------------------------------------------------------------------------------------------------------------------------------------------------------------------------------------------------------------------------------------------------------------------------------------------------------------------------------------------------------------------------------------------------------------------------------------------------------------------------------------------------------------------------------------------------------------------------------------------------------------------------------------------------------------------------------------------+-----------------------------------------------------------------------------------------------------------------------------------------+\n",
       "|      id     | count(images) | price | installment | address_kecamatan |                                                                                                                                                                                                                                                                                                                                                                          specs                                                                                                                                                                                                                                                                                                                                                                          |                                                                facilities                                                               |\n",
       "+-------------+---------------+-------+-------------+-------------------+---------------------------------------------------------------------------------------------------------------------------------------------------------------------------------------------------------------------------------------------------------------------------------------------------------------------------------------------------------------------------------------------------------------------------------------------------------------------------------------------------------------------------------------------------------------------------------------------------------------------------------------------------------------------------------------------------------------------------------------------------------+-----------------------------------------------------------------------------------------------------------------------------------------+\n",
       "| hos15814995 |       1       | 970.0 |     6.0     |   Gunung Sindur   |                {'Kamar Tidur': 2, 'Kamar Mandi': 2, 'Luas Tanah': '167 m²', 'Luas Bangunan': '165 m²', 'Carport': 1, 'Tipe Properti': 'Rumah', 'Sertifikat': 'SHM - Sertifikat Hak Milik', 'Daya Listrik': '3500 Watt', 'Kamar Pembantu': None, 'Kamar Mandi Pembantu': None, 'Dapur': 1, 'Ruang Makan': 'Ya', 'Ruang Tamu': 'Ya', 'Kondisi Perabotan': 'Unfurnished', 'Material Bangunan': None, 'Material Lantai': None, 'Garasi': None, 'Jumlah Lantai': 1, 'Hadap': 'Timur', 'Konsep dan Gaya Rumah': None, 'Pemandangan': None, 'Terjangkau Internet': 'Tidak', 'Lebar Jalan': None, 'Tahun Dibangun': None, 'Sumber Air': None, 'Hook': 'Tidak', 'Kondisi Properti': 'Bagus', 'ID Iklan': 'hos15814995', 'Tahun Di Renovasi': None}               |                                              ['Taman', 'Tempat Jemuran', 'Keamanan 24 jam']                                             |\n",
       "| hos15818801 |       1       | 999.0 |     7.0     |   Gunung Sindur   | {'Kamar Tidur': 2, 'Kamar Mandi': 2, 'Luas Tanah': '72 m²', 'Luas Bangunan': '53 m²', 'Carport': 2, 'Tipe Properti': 'Rumah', 'Sertifikat': 'SHM - Sertifikat Hak Milik', 'Daya Listrik': '2200 Watt', 'Kamar Pembantu': None, 'Kamar Mandi Pembantu': None, 'Dapur': 1, 'Ruang Makan': 'Ya', 'Ruang Tamu': 'Ya', 'Kondisi Perabotan': 'Unfurnished', 'Material Bangunan': 'Bata Hebel', 'Material Lantai': 'Granit', 'Garasi': 2, 'Jumlah Lantai': 2, 'Hadap': 'Utara', 'Konsep dan Gaya Rumah': 'Minimalis Modern', 'Pemandangan': None, 'Terjangkau Internet': 'Ya', 'Lebar Jalan': '2 Mobil', 'Tahun Dibangun': 2023, 'Sumber Air': 'Sumur Bor', 'Hook': 'Tidak', 'Kondisi Properti': 'Baru', 'ID Iklan': 'hos15818801', 'Tahun Di Renovasi': None} | ['Ac', 'Jalur Telepon', 'Jogging Track', 'Keamanan', 'Kolam Renang', 'Taman', 'Tempat Jemuran', 'Wastafel', 'Tempat Gym', 'Track Lari'] |\n",
       "+-------------+---------------+-------+-------------+-------------------+---------------------------------------------------------------------------------------------------------------------------------------------------------------------------------------------------------------------------------------------------------------------------------------------------------------------------------------------------------------------------------------------------------------------------------------------------------------------------------------------------------------------------------------------------------------------------------------------------------------------------------------------------------------------------------------------------------------------------------------------------------+-----------------------------------------------------------------------------------------------------------------------------------------+"
      ]
     },
     "execution_count": 8,
     "metadata": {},
     "output_type": "execute_result"
    }
   ],
   "source": [
    "%sql SELECT * FROM houses_v1 LIMIT 2"
   ]
  },
  {
   "cell_type": "code",
   "execution_count": 9,
   "metadata": {},
   "outputs": [
    {
     "data": {
      "text/html": [
       "<span style=\"None\">Running query in &#x27;duckdb&#x27;</span>"
      ],
      "text/plain": [
       "Running query in 'duckdb'"
      ]
     },
     "metadata": {},
     "output_type": "display_data"
    },
    {
     "data": {
      "text/html": [
       "<table>\n",
       "    <thead>\n",
       "        <tr>\n",
       "            <th>address_kecamatan</th>\n",
       "            <th>total</th>\n",
       "        </tr>\n",
       "    </thead>\n",
       "    <tbody>\n",
       "        <tr>\n",
       "            <td>Sentul City</td>\n",
       "            <td>1336</td>\n",
       "        </tr>\n",
       "        <tr>\n",
       "            <td>Cibinong</td>\n",
       "            <td>669</td>\n",
       "        </tr>\n",
       "        <tr>\n",
       "            <td>Cileungsi</td>\n",
       "            <td>583</td>\n",
       "        </tr>\n",
       "        <tr>\n",
       "            <td>Kota Wisata</td>\n",
       "            <td>572</td>\n",
       "        </tr>\n",
       "        <tr>\n",
       "            <td>Cibubur</td>\n",
       "            <td>362</td>\n",
       "        </tr>\n",
       "        <tr>\n",
       "            <td>Bojong Gede</td>\n",
       "            <td>315</td>\n",
       "        </tr>\n",
       "        <tr>\n",
       "            <td>Tanah Sareal</td>\n",
       "            <td>311</td>\n",
       "        </tr>\n",
       "        <tr>\n",
       "            <td>Gunung Sindur</td>\n",
       "            <td>273</td>\n",
       "        </tr>\n",
       "        <tr>\n",
       "            <td>Gunung Putri</td>\n",
       "            <td>266</td>\n",
       "        </tr>\n",
       "        <tr>\n",
       "            <td>Sentul</td>\n",
       "            <td>226</td>\n",
       "        </tr>\n",
       "    </tbody>\n",
       "</table>\n",
       "<span style=\"font-style:italic;text-align:center;\">Truncated to <a href=\"https://jupysql.ploomber.io/en/latest/api/configuration.html#displaylimit\">displaylimit</a> of 10.</span>"
      ],
      "text/plain": [
       "+-------------------+-------+\n",
       "| address_kecamatan | total |\n",
       "+-------------------+-------+\n",
       "|    Sentul City    |  1336 |\n",
       "|      Cibinong     |  669  |\n",
       "|     Cileungsi     |  583  |\n",
       "|    Kota Wisata    |  572  |\n",
       "|      Cibubur      |  362  |\n",
       "|    Bojong Gede    |  315  |\n",
       "|    Tanah Sareal   |  311  |\n",
       "|   Gunung Sindur   |  273  |\n",
       "|    Gunung Putri   |  266  |\n",
       "|       Sentul      |  226  |\n",
       "+-------------------+-------+\n",
       "Truncated to displaylimit of 10."
      ]
     },
     "execution_count": 9,
     "metadata": {},
     "output_type": "execute_result"
    }
   ],
   "source": [
    "%sql SELECT address_kecamatan, COUNT(*) AS total FROM houses_v1 GROUP BY address_kecamatan ORDER BY total DESC"
   ]
  },
  {
   "cell_type": "code",
   "execution_count": 10,
   "metadata": {},
   "outputs": [
    {
     "data": {
      "text/html": [
       "<span style=\"None\">Running query in &#x27;duckdb&#x27;</span>"
      ],
      "text/plain": [
       "Running query in 'duckdb'"
      ]
     },
     "metadata": {},
     "output_type": "display_data"
    },
    {
     "data": {
      "text/html": [
       "<table>\n",
       "    <thead>\n",
       "        <tr>\n",
       "            <th>column_name</th>\n",
       "            <th>column_type</th>\n",
       "            <th>min</th>\n",
       "            <th>max</th>\n",
       "            <th>approx_unique</th>\n",
       "            <th>avg</th>\n",
       "            <th>std</th>\n",
       "            <th>q25</th>\n",
       "            <th>q50</th>\n",
       "            <th>q75</th>\n",
       "            <th>count</th>\n",
       "            <th>null_percentage</th>\n",
       "        </tr>\n",
       "    </thead>\n",
       "    <tbody>\n",
       "        <tr>\n",
       "            <td>id</td>\n",
       "            <td>VARCHAR</td>\n",
       "            <td>hos10007095</td>\n",
       "            <td>hos9969539</td>\n",
       "            <td>9012</td>\n",
       "            <td>None</td>\n",
       "            <td>None</td>\n",
       "            <td>None</td>\n",
       "            <td>None</td>\n",
       "            <td>None</td>\n",
       "            <td>8981</td>\n",
       "            <td>0.0%</td>\n",
       "        </tr>\n",
       "        <tr>\n",
       "            <td>count(images)</td>\n",
       "            <td>BIGINT</td>\n",
       "            <td>1</td>\n",
       "            <td>2</td>\n",
       "            <td>2</td>\n",
       "            <td>1.007348847567086</td>\n",
       "            <td>0.08541460267266754</td>\n",
       "            <td>1</td>\n",
       "            <td>1</td>\n",
       "            <td>1</td>\n",
       "            <td>8981</td>\n",
       "            <td>0.0%</td>\n",
       "        </tr>\n",
       "        <tr>\n",
       "            <td>price</td>\n",
       "            <td>DOUBLE</td>\n",
       "            <td>20.0</td>\n",
       "            <td>995000.0</td>\n",
       "            <td>774</td>\n",
       "            <td>45853.76135857461</td>\n",
       "            <td>93606.45982715579</td>\n",
       "            <td>587.4553476397816</td>\n",
       "            <td>4871.297471374046</td>\n",
       "            <td>40269.8937087044</td>\n",
       "            <td>8981</td>\n",
       "            <td>0.01%</td>\n",
       "        </tr>\n",
       "        <tr>\n",
       "            <td>installment</td>\n",
       "            <td>DOUBLE</td>\n",
       "            <td>1.0</td>\n",
       "            <td>970.0</td>\n",
       "            <td>174</td>\n",
       "            <td>24.910366328916602</td>\n",
       "            <td>76.8605575420031</td>\n",
       "            <td>3.998546511627907</td>\n",
       "            <td>7.878017998244074</td>\n",
       "            <td>18.625651655046795</td>\n",
       "            <td>8981</td>\n",
       "            <td>0.0%</td>\n",
       "        </tr>\n",
       "        <tr>\n",
       "            <td>address_kecamatan</td>\n",
       "            <td>VARCHAR</td>\n",
       "            <td>Ahmadyani</td>\n",
       "            <td>Wanaherang</td>\n",
       "            <td>143</td>\n",
       "            <td>None</td>\n",
       "            <td>None</td>\n",
       "            <td>None</td>\n",
       "            <td>None</td>\n",
       "            <td>None</td>\n",
       "            <td>8981</td>\n",
       "            <td>0.0%</td>\n",
       "        </tr>\n",
       "        <tr>\n",
       "            <td>specs</td>\n",
       "            <td>STRUCT(\"Kamar Tidur\" BIGINT, \"Kamar Mandi\" BIGINT, \"Luas Tanah\" VARCHAR, \"Luas Bangunan\" VARCHAR, Carport BIGINT, \"Tipe Properti\" VARCHAR, Sertifikat VARCHAR, \"Daya Listrik\" VARCHAR, \"Kamar Pembantu\" BIGINT, \"Kamar Mandi Pembantu\" BIGINT, Dapur BIGINT, \"Ruang Makan\" VARCHAR, \"Ruang Tamu\" VARCHAR, \"Kondisi Perabotan\" VARCHAR, \"Material Bangunan\" VARCHAR, \"Material Lantai\" VARCHAR, Garasi BIGINT, \"Jumlah Lantai\" BIGINT, Hadap VARCHAR, \"Konsep dan Gaya Rumah\" VARCHAR, Pemandangan VARCHAR, \"Terjangkau Internet\" VARCHAR, \"Lebar Jalan\" VARCHAR, \"Tahun Dibangun\" BIGINT, \"Sumber Air\" VARCHAR, Hook VARCHAR, \"Kondisi Properti\" VARCHAR, \"ID Iklan\" VARCHAR, \"Tahun Di Renovasi\" BIGINT)</td>\n",
       "            <td>{'Kamar Tidur': 1, 'Kamar Mandi': 1, 'Luas Tanah': 102 m², 'Luas Bangunan': 27 m², 'Carport': 1, 'Tipe Properti': Rumah, 'Sertifikat': SHM - Sertifikat Hak Milik, 'Daya Listrik': 1300 Watt, 'Kamar Pembantu': NULL, 'Kamar Mandi Pembantu': NULL, 'Dapur': 1, 'Ruang Makan': Ya, 'Ruang Tamu': Ya, 'Kondisi Perabotan': Unfurnished, 'Material Bangunan': Bata Hebel, 'Material Lantai': Keramik, 'Garasi': NULL, 'Jumlah Lantai': 1, 'Hadap': Utara, 'Konsep dan Gaya Rumah': Minimalis Modern, 'Pemandangan': Perkotaan, 'Terjangkau Internet': Ya, 'Lebar Jalan': 3 Mobil, 'Tahun Dibangun': 2020, 'Sumber Air': PAM atau PDAM, 'Hook': Tidak, 'Kondisi Properti': Bagus, 'ID Iklan': hos14745483, 'Tahun Di Renovasi': 2022}</td>\n",
       "            <td>{'Kamar Tidur': NULL, 'Kamar Mandi': NULL, 'Luas Tanah': 98 m², 'Luas Bangunan': 89 m², 'Carport': NULL, 'Tipe Properti': Rumah, 'Sertifikat': SHM - Sertifikat Hak Milik, 'Daya Listrik': 2200 Watt, 'Kamar Pembantu': NULL, 'Kamar Mandi Pembantu': NULL, 'Dapur': NULL, 'Ruang Makan': NULL, 'Ruang Tamu': Tidak, 'Kondisi Perabotan': NULL, 'Material Bangunan': NULL, 'Material Lantai': NULL, 'Garasi': NULL, 'Jumlah Lantai': 1, 'Hadap': NULL, 'Konsep dan Gaya Rumah': NULL, 'Pemandangan': Pegunungan, 'Terjangkau Internet': Ya, 'Lebar Jalan': 4 Mobil, 'Tahun Dibangun': NULL, 'Sumber Air': PAM atau PDAM, 'Hook': Tidak, 'Kondisi Properti': Baru, 'ID Iklan': hos14191530, 'Tahun Di Renovasi': NULL}</td>\n",
       "            <td>8910</td>\n",
       "            <td>None</td>\n",
       "            <td>None</td>\n",
       "            <td>None</td>\n",
       "            <td>None</td>\n",
       "            <td>None</td>\n",
       "            <td>8981</td>\n",
       "            <td>0.0%</td>\n",
       "        </tr>\n",
       "        <tr>\n",
       "            <td>facilities</td>\n",
       "            <td>VARCHAR[]</td>\n",
       "            <td>[]</td>\n",
       "            <td>[bisa masuk parkir 12 mobil, Carport, Garden, Swimming Pool]</td>\n",
       "            <td>3532</td>\n",
       "            <td>None</td>\n",
       "            <td>None</td>\n",
       "            <td>None</td>\n",
       "            <td>None</td>\n",
       "            <td>None</td>\n",
       "            <td>8981</td>\n",
       "            <td>0.0%</td>\n",
       "        </tr>\n",
       "    </tbody>\n",
       "</table>"
      ],
      "text/plain": [
       "+-------------------+-----------------------------------------------------------------------------------------------------------------------------------------------------------------------------------------------------------------------------------------------------------------------------------------------------------------------------------------------------------------------------------------------------------------------------------------------------------------------------------------------------------------------------------------------------------------------------------------------------------------------------------------------------------------------------------------------------------+------------------------------------------------------------------------------------------------------------------------------------------------------------------------------------------------------------------------------------------------------------------------------------------------------------------------------------------------------------------------------------------------------------------------------------------------------------------------------------------------------------------------------------------------------------------------------------------------------------------------------------------------------------------------------------------------------------------------------------+-----------------------------------------------------------------------------------------------------------------------------------------------------------------------------------------------------------------------------------------------------------------------------------------------------------------------------------------------------------------------------------------------------------------------------------------------------------------------------------------------------------------------------------------------------------------------------------------------------------------------------------------------------------------------------------------------------------------------+---------------+--------------------+---------------------+-------------------+-------------------+--------------------+-------+-----------------+\n",
       "|    column_name    |                                                                                                                                                                                                                                                                                                                                                column_type                                                                                                                                                                                                                                                                                                                                                |                                                                                                                                                                                                                                                                                                                                                                min                                                                                                                                                                                                                                                                                                                                                                 |                                                                                                                                                                                                                                                                                                                                                          max                                                                                                                                                                                                                                                                                                                                                          | approx_unique |        avg         |         std         |        q25        |        q50        |        q75         | count | null_percentage |\n",
       "+-------------------+-----------------------------------------------------------------------------------------------------------------------------------------------------------------------------------------------------------------------------------------------------------------------------------------------------------------------------------------------------------------------------------------------------------------------------------------------------------------------------------------------------------------------------------------------------------------------------------------------------------------------------------------------------------------------------------------------------------+------------------------------------------------------------------------------------------------------------------------------------------------------------------------------------------------------------------------------------------------------------------------------------------------------------------------------------------------------------------------------------------------------------------------------------------------------------------------------------------------------------------------------------------------------------------------------------------------------------------------------------------------------------------------------------------------------------------------------------+-----------------------------------------------------------------------------------------------------------------------------------------------------------------------------------------------------------------------------------------------------------------------------------------------------------------------------------------------------------------------------------------------------------------------------------------------------------------------------------------------------------------------------------------------------------------------------------------------------------------------------------------------------------------------------------------------------------------------+---------------+--------------------+---------------------+-------------------+-------------------+--------------------+-------+-----------------+\n",
       "|         id        |                                                                                                                                                                                                                                                                                                                                                  VARCHAR                                                                                                                                                                                                                                                                                                                                                  |                                                                                                                                                                                                                                                                                                                                                            hos10007095                                                                                                                                                                                                                                                                                                                                                             |                                                                                                                                                                                                                                                                                                                                                       hos9969539                                                                                                                                                                                                                                                                                                                                                      |      9012     |        None        |         None        |        None       |        None       |        None        |  8981 |       0.0%      |\n",
       "|   count(images)   |                                                                                                                                                                                                                                                                                                                                                   BIGINT                                                                                                                                                                                                                                                                                                                                                  |                                                                                                                                                                                                                                                                                                                                                                 1                                                                                                                                                                                                                                                                                                                                                                  |                                                                                                                                                                                                                                                                                                                                                           2                                                                                                                                                                                                                                                                                                                                                           |       2       | 1.007348847567086  | 0.08541460267266754 |         1         |         1         |         1          |  8981 |       0.0%      |\n",
       "|       price       |                                                                                                                                                                                                                                                                                                                                                   DOUBLE                                                                                                                                                                                                                                                                                                                                                  |                                                                                                                                                                                                                                                                                                                                                                20.0                                                                                                                                                                                                                                                                                                                                                                |                                                                                                                                                                                                                                                                                                                                                        995000.0                                                                                                                                                                                                                                                                                                                                                       |      774      | 45853.76135857461  |  93606.45982715579  | 587.4553476397816 | 4871.297471374046 |  40269.8937087044  |  8981 |      0.01%      |\n",
       "|    installment    |                                                                                                                                                                                                                                                                                                                                                   DOUBLE                                                                                                                                                                                                                                                                                                                                                  |                                                                                                                                                                                                                                                                                                                                                                1.0                                                                                                                                                                                                                                                                                                                                                                 |                                                                                                                                                                                                                                                                                                                                                         970.0                                                                                                                                                                                                                                                                                                                                                         |      174      | 24.910366328916602 |   76.8605575420031  | 3.998546511627907 | 7.878017998244074 | 18.625651655046795 |  8981 |       0.0%      |\n",
       "| address_kecamatan |                                                                                                                                                                                                                                                                                                                                                  VARCHAR                                                                                                                                                                                                                                                                                                                                                  |                                                                                                                                                                                                                                                                                                                                                             Ahmadyani                                                                                                                                                                                                                                                                                                                                                              |                                                                                                                                                                                                                                                                                                                                                       Wanaherang                                                                                                                                                                                                                                                                                                                                                      |      143      |        None        |         None        |        None       |        None       |        None        |  8981 |       0.0%      |\n",
       "|       specs       | STRUCT(\"Kamar Tidur\" BIGINT, \"Kamar Mandi\" BIGINT, \"Luas Tanah\" VARCHAR, \"Luas Bangunan\" VARCHAR, Carport BIGINT, \"Tipe Properti\" VARCHAR, Sertifikat VARCHAR, \"Daya Listrik\" VARCHAR, \"Kamar Pembantu\" BIGINT, \"Kamar Mandi Pembantu\" BIGINT, Dapur BIGINT, \"Ruang Makan\" VARCHAR, \"Ruang Tamu\" VARCHAR, \"Kondisi Perabotan\" VARCHAR, \"Material Bangunan\" VARCHAR, \"Material Lantai\" VARCHAR, Garasi BIGINT, \"Jumlah Lantai\" BIGINT, Hadap VARCHAR, \"Konsep dan Gaya Rumah\" VARCHAR, Pemandangan VARCHAR, \"Terjangkau Internet\" VARCHAR, \"Lebar Jalan\" VARCHAR, \"Tahun Dibangun\" BIGINT, \"Sumber Air\" VARCHAR, Hook VARCHAR, \"Kondisi Properti\" VARCHAR, \"ID Iklan\" VARCHAR, \"Tahun Di Renovasi\" BIGINT) | {'Kamar Tidur': 1, 'Kamar Mandi': 1, 'Luas Tanah': 102 m², 'Luas Bangunan': 27 m², 'Carport': 1, 'Tipe Properti': Rumah, 'Sertifikat': SHM - Sertifikat Hak Milik, 'Daya Listrik': 1300 Watt, 'Kamar Pembantu': NULL, 'Kamar Mandi Pembantu': NULL, 'Dapur': 1, 'Ruang Makan': Ya, 'Ruang Tamu': Ya, 'Kondisi Perabotan': Unfurnished, 'Material Bangunan': Bata Hebel, 'Material Lantai': Keramik, 'Garasi': NULL, 'Jumlah Lantai': 1, 'Hadap': Utara, 'Konsep dan Gaya Rumah': Minimalis Modern, 'Pemandangan': Perkotaan, 'Terjangkau Internet': Ya, 'Lebar Jalan': 3 Mobil, 'Tahun Dibangun': 2020, 'Sumber Air': PAM atau PDAM, 'Hook': Tidak, 'Kondisi Properti': Bagus, 'ID Iklan': hos14745483, 'Tahun Di Renovasi': 2022} | {'Kamar Tidur': NULL, 'Kamar Mandi': NULL, 'Luas Tanah': 98 m², 'Luas Bangunan': 89 m², 'Carport': NULL, 'Tipe Properti': Rumah, 'Sertifikat': SHM - Sertifikat Hak Milik, 'Daya Listrik': 2200 Watt, 'Kamar Pembantu': NULL, 'Kamar Mandi Pembantu': NULL, 'Dapur': NULL, 'Ruang Makan': NULL, 'Ruang Tamu': Tidak, 'Kondisi Perabotan': NULL, 'Material Bangunan': NULL, 'Material Lantai': NULL, 'Garasi': NULL, 'Jumlah Lantai': 1, 'Hadap': NULL, 'Konsep dan Gaya Rumah': NULL, 'Pemandangan': Pegunungan, 'Terjangkau Internet': Ya, 'Lebar Jalan': 4 Mobil, 'Tahun Dibangun': NULL, 'Sumber Air': PAM atau PDAM, 'Hook': Tidak, 'Kondisi Properti': Baru, 'ID Iklan': hos14191530, 'Tahun Di Renovasi': NULL} |      8910     |        None        |         None        |        None       |        None       |        None        |  8981 |       0.0%      |\n",
       "|     facilities    |                                                                                                                                                                                                                                                                                                                                                 VARCHAR[]                                                                                                                                                                                                                                                                                                                                                 |                                                                                                                                                                                                                                                                                                                                                                 []                                                                                                                                                                                                                                                                                                                                                                 |                                                                                                                                                                                                                                                                                                                              [bisa masuk parkir 12 mobil, Carport, Garden, Swimming Pool]                                                                                                                                                                                                                                                                                                                             |      3532     |        None        |         None        |        None       |        None       |        None        |  8981 |       0.0%      |\n",
       "+-------------------+-----------------------------------------------------------------------------------------------------------------------------------------------------------------------------------------------------------------------------------------------------------------------------------------------------------------------------------------------------------------------------------------------------------------------------------------------------------------------------------------------------------------------------------------------------------------------------------------------------------------------------------------------------------------------------------------------------------+------------------------------------------------------------------------------------------------------------------------------------------------------------------------------------------------------------------------------------------------------------------------------------------------------------------------------------------------------------------------------------------------------------------------------------------------------------------------------------------------------------------------------------------------------------------------------------------------------------------------------------------------------------------------------------------------------------------------------------+-----------------------------------------------------------------------------------------------------------------------------------------------------------------------------------------------------------------------------------------------------------------------------------------------------------------------------------------------------------------------------------------------------------------------------------------------------------------------------------------------------------------------------------------------------------------------------------------------------------------------------------------------------------------------------------------------------------------------+---------------+--------------------+---------------------+-------------------+-------------------+--------------------+-------+-----------------+"
      ]
     },
     "execution_count": 10,
     "metadata": {},
     "output_type": "execute_result"
    }
   ],
   "source": [
    "%sql SUMMARIZE SELECT * FROM houses_v1"
   ]
  },
  {
   "cell_type": "code",
   "execution_count": null,
   "metadata": {},
   "outputs": [],
   "source": []
  }
 ],
 "metadata": {
  "kernelspec": {
   "display_name": "scraping",
   "language": "python",
   "name": "python3"
  },
  "language_info": {
   "codemirror_mode": {
    "name": "ipython",
    "version": 3
   },
   "file_extension": ".py",
   "mimetype": "text/x-python",
   "name": "python",
   "nbconvert_exporter": "python",
   "pygments_lexer": "ipython3",
   "version": "3.11.7"
  }
 },
 "nbformat": 4,
 "nbformat_minor": 2
}
