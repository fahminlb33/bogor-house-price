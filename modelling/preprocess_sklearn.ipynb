{
 "cells": [
  {
   "cell_type": "code",
   "execution_count": 1,
   "metadata": {},
   "outputs": [
    {
     "name": "stderr",
     "output_type": "stream",
     "text": [
      "2023-12-27 08:18:38.405300: I tensorflow/core/platform/cpu_feature_guard.cc:182] This TensorFlow binary is optimized to use available CPU instructions in performance-critical operations.\n",
      "To enable the following instructions: SSE4.1 SSE4.2 AVX AVX2 FMA, in other operations, rebuild TensorFlow with the appropriate compiler flags.\n"
     ]
    }
   ],
   "source": [
    "import datetime\n",
    "\n",
    "import numpy as np\n",
    "import pandas as pd\n",
    "import matplotlib.pyplot as plt\n",
    "\n",
    "from preprocessing import PreprocessorBase\n",
    "from sklearn.linear_model import LinearRegression\n",
    "from sklearn.decomposition import PCA\n",
    "from sklearn.preprocessing import OneHotEncoder, StandardScaler\n",
    "from sklearn.compose import ColumnTransformer\n",
    "from sklearn.pipeline import Pipeline\n",
    "from sklearn.model_selection import train_test_split\n",
    "from sklearn.metrics import mean_squared_error, mean_absolute_percentage_error, mean_absolute_error, r2_score"
   ]
  },
  {
   "cell_type": "markdown",
   "metadata": {},
   "source": [
    "## Basic Preprocesing"
   ]
  },
  {
   "cell_type": "code",
   "execution_count": 2,
   "metadata": {},
   "outputs": [
    {
     "name": "stderr",
     "output_type": "stream",
     "text": [
      "[nltk_data] Downloading package punkt to /home/fahmi/nltk_data...\n",
      "[nltk_data]   Package punkt is already up-to-date!\n"
     ]
    }
   ],
   "source": [
    "cleaner = PreprocessorBase()"
   ]
  },
  {
   "cell_type": "code",
   "execution_count": 26,
   "metadata": {},
   "outputs": [
    {
     "data": {
      "text/html": [
       "<div>\n",
       "<style scoped>\n",
       "    .dataframe tbody tr th:only-of-type {\n",
       "        vertical-align: middle;\n",
       "    }\n",
       "\n",
       "    .dataframe tbody tr th {\n",
       "        vertical-align: top;\n",
       "    }\n",
       "\n",
       "    .dataframe thead th {\n",
       "        text-align: right;\n",
       "    }\n",
       "</style>\n",
       "<table border=\"1\" class=\"dataframe\">\n",
       "  <thead>\n",
       "    <tr style=\"text-align: right;\">\n",
       "      <th></th>\n",
       "      <th>id</th>\n",
       "      <th>price</th>\n",
       "      <th>installment</th>\n",
       "      <th>address</th>\n",
       "      <th>tags</th>\n",
       "      <th>description</th>\n",
       "      <th>specs</th>\n",
       "      <th>facilities</th>\n",
       "      <th>agent</th>\n",
       "      <th>images</th>\n",
       "      <th>url</th>\n",
       "    </tr>\n",
       "  </thead>\n",
       "  <tbody>\n",
       "    <tr>\n",
       "      <th>0</th>\n",
       "      <td>hos13819879</td>\n",
       "      <td>295000.0</td>\n",
       "      <td>21</td>\n",
       "      <td>Sentul City, Bogor</td>\n",
       "      <td>[Cash Keras, One Gate System]</td>\n",
       "      <td>Rumah siap masuk dengan style englang house,be...</td>\n",
       "      <td>{'Kamar Tidur': '3', 'Kamar Mandi': '4', 'Luas...</td>\n",
       "      <td>[Jalur Telepon, Taman, Tempat Jemuran, Akses P...</td>\n",
       "      <td>{'name': 'Heri Andrian', 'url': 'https://www.r...</td>\n",
       "      <td>[https://picture.rumah123.com/r123-images/720x...</td>\n",
       "      <td>https://www.rumah123.com/properti/bogor/hos138...</td>\n",
       "    </tr>\n",
       "    <tr>\n",
       "      <th>1</th>\n",
       "      <td>hos13868613</td>\n",
       "      <td>11000.0</td>\n",
       "      <td>7</td>\n",
       "      <td>Bogor Barat, Bogor</td>\n",
       "      <td>[Bisa Nego, Cash Keras/KPR]</td>\n",
       "      <td>Dijual rumah seken terawat, bebas banjir, loka...</td>\n",
       "      <td>{'Kamar Tidur': '2', 'Kamar Mandi': '1', 'Luas...</td>\n",
       "      <td>[Keamanan, Taman, Tempat Jemuran, Keamanan 24 ...</td>\n",
       "      <td>{'name': 'PASHOUSES ID', 'url': 'https://www.r...</td>\n",
       "      <td>[https://picture.rumah123.com/r123-images/720x...</td>\n",
       "      <td>https://www.rumah123.com/properti/bogor/hos138...</td>\n",
       "    </tr>\n",
       "  </tbody>\n",
       "</table>\n",
       "</div>"
      ],
      "text/plain": [
       "            id     price  installment             address  \\\n",
       "0  hos13819879  295000.0           21  Sentul City, Bogor   \n",
       "1  hos13868613   11000.0            7  Bogor Barat, Bogor   \n",
       "\n",
       "                            tags  \\\n",
       "0  [Cash Keras, One Gate System]   \n",
       "1    [Bisa Nego, Cash Keras/KPR]   \n",
       "\n",
       "                                         description  \\\n",
       "0  Rumah siap masuk dengan style englang house,be...   \n",
       "1  Dijual rumah seken terawat, bebas banjir, loka...   \n",
       "\n",
       "                                               specs  \\\n",
       "0  {'Kamar Tidur': '3', 'Kamar Mandi': '4', 'Luas...   \n",
       "1  {'Kamar Tidur': '2', 'Kamar Mandi': '1', 'Luas...   \n",
       "\n",
       "                                          facilities  \\\n",
       "0  [Jalur Telepon, Taman, Tempat Jemuran, Akses P...   \n",
       "1  [Keamanan, Taman, Tempat Jemuran, Keamanan 24 ...   \n",
       "\n",
       "                                               agent  \\\n",
       "0  {'name': 'Heri Andrian', 'url': 'https://www.r...   \n",
       "1  {'name': 'PASHOUSES ID', 'url': 'https://www.r...   \n",
       "\n",
       "                                              images  \\\n",
       "0  [https://picture.rumah123.com/r123-images/720x...   \n",
       "1  [https://picture.rumah123.com/r123-images/720x...   \n",
       "\n",
       "                                                 url  \n",
       "0  https://www.rumah123.com/properti/bogor/hos138...  \n",
       "1  https://www.rumah123.com/properti/bogor/hos138...  "
      ]
     },
     "execution_count": 26,
     "metadata": {},
     "output_type": "execute_result"
    }
   ],
   "source": [
    "df = pd.read_json(\"../dataset/houses-9k.json\", lines=True)\n",
    "df.head(2)"
   ]
  },
  {
   "cell_type": "code",
   "execution_count": 27,
   "metadata": {},
   "outputs": [],
   "source": [
    "df[\"kecamatan\"] = cleaner.derive_kecamatan(df)\n",
    "df = cleaner.transform_dict_col(df, \"specs\", \"spec_\")\n",
    "df = cleaner.transform_list_col(df, \"tags\", return_embeddings=False, prefix=\"tag_\")\n",
    "df = cleaner.transform_list_col(df, \"facilities\", return_embeddings=False, prefix=\"fac_\", split_fun=cleaner.dedupe_facilities)\n",
    "df = cleaner.infer_spec_cols(df, prefix=\"spec_\")\n",
    "\n",
    "df = df.drop(columns=['id', \"tags\", \"facilities\", 'images', 'installment', 'address', 'description', 'specs', 'agent', 'url', 'spec_id_iklan'])"
   ]
  },
  {
   "cell_type": "code",
   "execution_count": 28,
   "metadata": {},
   "outputs": [
    {
     "name": "stderr",
     "output_type": "stream",
     "text": [
      "/tmp/ipykernel_23249/3220560326.py:1: FutureWarning: Allowing arbitrary scalar fill_value in SparseDtype is deprecated. In a future version, the fill_value must be a valid value for the SparseDtype.subtype.\n",
      "  (df.isna().sum() / len(df)).sort_values(ascending=False)\n"
     ]
    },
    {
     "data": {
      "text/plain": [
       "spec_tahun_di_renovasi       0.823256\n",
       "spec_kamar_mandi_pembantu    0.760473\n",
       "spec_kamar_pembantu          0.724329\n",
       "spec_garasi                  0.684094\n",
       "spec_hadap                   0.612910\n",
       "                               ...   \n",
       "fac_CCTV                     0.000000\n",
       "fac_DAPUR                    0.000000\n",
       "fac_GAS                      0.000000\n",
       "fac_GROUND_FLOOR             0.000000\n",
       "fac_WORKSHOP                 0.000000\n",
       "Length: 79, dtype: Sparse[float64, 0.0]"
      ]
     },
     "execution_count": 28,
     "metadata": {},
     "output_type": "execute_result"
    }
   ],
   "source": [
    "(df.isna().sum() / len(df)).sort_values(ascending=False)"
   ]
  },
  {
   "cell_type": "code",
   "execution_count": 29,
   "metadata": {},
   "outputs": [
    {
     "name": "stderr",
     "output_type": "stream",
     "text": [
      "/home/fahmi/projects/project-rumah-regresi/predictions/preprocessing.py:216: FutureWarning: Allowing arbitrary scalar fill_value in SparseDtype is deprecated. In a future version, the fill_value must be a valid value for the SparseDtype.subtype.\n",
      "  return df.dropna(axis=1, thresh=threshold * len(df))\n"
     ]
    },
    {
     "data": {
      "text/plain": [
       "spec_garasi                   0.684094\n",
       "spec_hadap                    0.612910\n",
       "spec_tahun_dibangun           0.585830\n",
       "spec_material_bangunan        0.525810\n",
       "spec_material_lantai          0.501382\n",
       "spec_konsep_dan_gaya_rumah    0.489997\n",
       "spec_pemandangan              0.447110\n",
       "spec_lebar_jalan              0.397369\n",
       "spec_dapur                    0.394938\n",
       "spec_carport                  0.352714\n",
       "spec_sumber_air               0.312369\n",
       "spec_kondisi_perabotan        0.287056\n",
       "spec_ruang_makan              0.199072\n",
       "spec_hook                     0.138499\n",
       "spec_terjangkau_internet      0.138388\n",
       "spec_ruang_tamu               0.137725\n",
       "spec_kondisi_properti         0.128551\n",
       "spec_jumlah_lantai            0.116724\n",
       "spec_daya_listrik             0.094506\n",
       "spec_kamar_tidur              0.025644\n",
       "spec_kamar_mandi              0.023875\n",
       "spec_sertifikat               0.002763\n",
       "spec_luas_bangunan            0.001658\n",
       "spec_luas_tanah               0.000111\n",
       "price                         0.000111\n",
       "kecamatan                     0.000000\n",
       "spec_tipe_properti            0.000000\n",
       "dtype: float64"
      ]
     },
     "execution_count": 29,
     "metadata": {},
     "output_type": "execute_result"
    }
   ],
   "source": [
    "df = cleaner.drop_features_by_nan(df, threshold=0.3)\n",
    "(df.isna().sum() / len(df)).sort_values(ascending=False)"
   ]
  },
  {
   "cell_type": "code",
   "execution_count": 18,
   "metadata": {},
   "outputs": [
    {
     "name": "stderr",
     "output_type": "stream",
     "text": [
      "/tmp/ipykernel_23249/2537761141.py:1: FutureWarning: Allowing arbitrary scalar fill_value in SparseDtype is deprecated. In a future version, the fill_value must be a valid value for the SparseDtype.subtype.\n",
      "  df.isna().sum() / len(df)\n"
     ]
    },
    {
     "data": {
      "text/plain": [
       "price               0.0\n",
       "kecamatan           0.0\n",
       "spec_kamar_tidur    0.0\n",
       "spec_kamar_mandi    0.0\n",
       "spec_luas_tanah     0.0\n",
       "                   ... \n",
       "fac_TRACK_LARI      0.0\n",
       "fac_WASTAFEL        0.0\n",
       "fac_WATER_HEATER    0.0\n",
       "fac_WATER_TANK      0.0\n",
       "fac_WORKSHOP        0.0\n",
       "Length: 79, dtype: Sparse[float64, 0.0]"
      ]
     },
     "execution_count": 18,
     "metadata": {},
     "output_type": "execute_result"
    }
   ],
   "source": [
    "FILLNA_CAT_COLS = df.select_dtypes(include=['object']).columns.tolist()\n",
    "df = df.fillna({k: \"[UNK]\" for k in FILLNA_CAT_COLS})\n",
    "\n",
    "FILLNA_NUM_COLS = df.select_dtypes(exclude=['object']).columns.tolist()\n",
    "df = df.fillna({k: df[k].mean() for k in FILLNA_NUM_COLS})\n",
    "\n",
    "df[\"price\"] = np.log(df[\"price\"])\n",
    "\n",
    "df.head(2)"
   ]
  },
  {
   "cell_type": "markdown",
   "metadata": {},
   "source": [
    "## Dataset Building"
   ]
  },
  {
   "cell_type": "code",
   "execution_count": null,
   "metadata": {},
   "outputs": [],
   "source": [
    "df_clean = df[\n",
    "  [\n",
    "  'price', \n",
    "  'tags', \n",
    "  'facilities', \n",
    "  'kecamatan', \n",
    "  'spec_kamar_tidur', \n",
    "  'spec_kamar_mandi', \n",
    "  'spec_luas_tanah', \n",
    "  'spec_luas_bangunan', \n",
    "#   'spec_tipe_properti', \n",
    "#   'spec_sertifikat', \n",
    "  'spec_daya_listrik', \n",
    "  'spec_ruang_makan', \n",
    "  'spec_ruang_tamu', \n",
    "#   'spec_kondisi_perabotan',\n",
    "  'spec_jumlah_lantai', \n",
    "  'spec_terjangkau_internet', \n",
    "#   'spec_hook', \n",
    "#   'spec_kondisi_properti'\n",
    "  ]\n",
    "]\n",
    "\n",
    "df_clean.sample(1)"
   ]
  },
  {
   "cell_type": "code",
   "execution_count": null,
   "metadata": {},
   "outputs": [],
   "source": [
    "X = df.drop(columns=[\"price\"])\n",
    "y = df[\"price\"]\n",
    "\n",
    "X[\"tags\"] = np.array([np.array(x) for x in df[\"tags\"].values])\n",
    "X[\"facilities\"] = np.array([np.array(x) for x in df[\"facilities\"].values])\n",
    "\n",
    "# split train and test\n",
    "X_train, X_test, y_train, y_test = train_test_split(X, y, train_size=0.75, random_state=42)"
   ]
  },
  {
   "cell_type": "code",
   "execution_count": null,
   "metadata": {},
   "outputs": [],
   "source": [
    "X.head(2)"
   ]
  },
  {
   "cell_type": "code",
   "execution_count": null,
   "metadata": {},
   "outputs": [],
   "source": [
    "# encode numerical features\n",
    "num_cols = set(df_clean.select_dtypes(include=['float64']).columns.tolist()) - set([\"price\"])\n",
    "num_transformer = Pipeline(\n",
    "   steps=[(\"scaler\", StandardScaler())]\n",
    ")\n",
    "\n",
    "# encode categorical features\n",
    "cat_cols = set(df_clean.select_dtypes(include=['object']).columns.tolist()) - set([\"tags\", \"facilities\"])\n",
    "cat_transformer = Pipeline(\n",
    "    steps=[(\"onehot\", OneHotEncoder(handle_unknown=\"ignore\"))]\n",
    ")\n",
    "\n",
    "# input for multi-hot encoded features\n",
    "mul_cols = [\"tags\", \"facilities\"]\n",
    "mul_transformer = Pipeline(\n",
    "    steps=[(\"pca\", PCA(n_components=2))]\n",
    ")\n",
    "\n",
    "# combine all features\n",
    "preprocessor = ColumnTransformer(\n",
    "    transformers=[\n",
    "        (\"num\", num_transformer, list(num_cols)),\n",
    "        (\"cat\", cat_transformer, list(cat_cols)),\n",
    "        (\"mul\", mul_transformer, list(mul_cols)),\n",
    "    ],\n",
    "    remainder=\"passthrough\",\n",
    ")"
   ]
  },
  {
   "cell_type": "code",
   "execution_count": null,
   "metadata": {},
   "outputs": [],
   "source": [
    "preprocessor.fit_transform(X_test)"
   ]
  },
  {
   "cell_type": "markdown",
   "metadata": {},
   "source": [
    "## Modelling"
   ]
  },
  {
   "cell_type": "code",
   "execution_count": null,
   "metadata": {},
   "outputs": [],
   "source": [
    "# hidden layer for embedding\n",
    "categorical_layer = tf.keras.layers.concatenate(cat_features)\n",
    "categorical_layer = tf.keras.layers.Dense(128, activation=\"relu\")(categorical_layer)\n",
    "categorical_layer = tf.keras.layers.Dense(64, activation=\"relu\")(categorical_layer)\n",
    "\n",
    "# hidden layer for multi-hot encoded features\n",
    "multi_hot_layer = tf.keras.layers.concatenate(mul_features)\n",
    "multi_hot_layer = tf.keras.layers.Dense(128, activation=\"relu\")(multi_hot_layer)\n",
    "multi_hot_layer = tf.keras.layers.Dense(64, activation=\"relu\")(multi_hot_layer)\n",
    "\n",
    "# hidden layer for all features\n",
    "all_features = tf.keras.layers.concatenate([categorical_layer, multi_hot_layer] + num_features)\n",
    "x = tf.keras.layers.Dense(256, activation=\"relu\")(all_features)\n",
    "x = tf.keras.layers.Dense(256, activation=\"relu\")(x)\n",
    "x = tf.keras.layers.Dense(128, activation=\"relu\")(x)\n",
    "x = tf.keras.layers.Dropout(0.2)(x)\n",
    "output = tf.keras.layers.Dense(1)(x)\n",
    "\n",
    "# create model\n",
    "model = tf.keras.Model(all_inputs, output)\n",
    "model.summary()"
   ]
  },
  {
   "cell_type": "code",
   "execution_count": null,
   "metadata": {},
   "outputs": [],
   "source": [
    "model.compile(optimizer=tf.keras.optimizers.Adam(0.001), loss=tf.keras.losses.MeanSquaredError(), metrics=[tf.keras.metrics.MeanAbsoluteError(), tf.keras.metrics.R2Score()])"
   ]
  },
  {
   "cell_type": "code",
   "execution_count": null,
   "metadata": {},
   "outputs": [],
   "source": [
    "tf.keras.utils.plot_model(model, rankdir=\"LR\")"
   ]
  },
  {
   "cell_type": "code",
   "execution_count": null,
   "metadata": {},
   "outputs": [],
   "source": [
    "log_dir = \"logs/fit/\" + datetime.datetime.now().strftime(\"%Y%m%d-%H%M%S\")\n",
    "tensorboard_callback = tf.keras.callbacks.TensorBoard(log_dir=log_dir, histogram_freq=0)\n",
    "\n",
    "H = model.fit(ds_train, epochs=100, validation_data=ds_test, callbacks=[tensorboard_callback])"
   ]
  },
  {
   "cell_type": "code",
   "execution_count": null,
   "metadata": {},
   "outputs": [],
   "source": [
    "epochs = range(1, len(H.history[\"loss\"]) + 1)\n",
    "\n",
    "fig, (ax1, ax2) = plt.subplots(1, 2, figsize=(10, 4))\n",
    "ax1.plot(epochs, H.history[\"mean_absolute_error\"], label='Training MAE')\n",
    "ax1.plot(epochs, H.history[\"val_mean_absolute_error\"], label='Validation MAE')\n",
    "ax1.set_title('Training and validation MAE')\n",
    "ax1.legend()\n",
    "\n",
    "ax2.plot(epochs, H.history[\"loss\"], label='Training loss')\n",
    "ax2.plot(epochs, H.history[\"val_loss\"], label='Validation loss')\n",
    "ax2.set_title('Training and validation loss')\n",
    "ax2.legend()\n",
    "\n",
    "fig.tight_layout()\n",
    "plt.show()"
   ]
  },
  {
   "cell_type": "code",
   "execution_count": null,
   "metadata": {},
   "outputs": [],
   "source": [
    "y_pred = model.predict(ds_test)\n",
    "y_test = df_test[\"price\"].values.reshape(-1, 1)\n",
    "\n",
    "print(\"R2\", r2_score(y_test, y_pred))\n",
    "print(\"MSE\", mean_squared_error(y_test, y_pred))\n",
    "print(\"RMSE\", np.sqrt(mean_squared_error(y_test, y_pred)))\n",
    "print(\"MAE\", mean_absolute_error(y_test, y_pred))\n",
    "print(\"MAPE\", mean_absolute_percentage_error(y_test, y_pred))\n",
    "\n",
    "pd.DataFrame({\n",
    "  \"Data\": [\"Actual\", \"Prediction\", \"Train\"],\n",
    "  \"Means\": [y_test.mean(), y_pred.mean(), df_train[\"price\"].mean()],\n",
    "  \"Stddev\": [y_test.std(), y_pred.std(), df_train[\"price\"].std()],\n",
    "  \"Var\": [y_test.var(), y_pred.var(), df_train[\"price\"].var()]\n",
    "})"
   ]
  },
  {
   "cell_type": "code",
   "execution_count": null,
   "metadata": {},
   "outputs": [],
   "source": [
    "fig, (ax1, ax2, ax3) = plt.subplots(1, 3, figsize=(10, 4))\n",
    "\n",
    "ax1.hist(y_test, bins=50)\n",
    "ax1.set_title(\"Actual\")\n",
    "\n",
    "ax2.hist(y_pred, bins=50)\n",
    "ax2.set_title(\"Predicted\")\n",
    "\n",
    "y_train = df_train[\"price\"].values.reshape(-1, 1)\n",
    "ax3.hist(y_train, bins=50)\n",
    "ax3.set_title(\"Train\")\n",
    "\n",
    "plt.show()"
   ]
  },
  {
   "cell_type": "code",
   "execution_count": null,
   "metadata": {},
   "outputs": [],
   "source": [
    "plt.figure(figsize=(10, 5))\n",
    "plt.scatter(y_test, y_pred)\n",
    "plt.xlabel(\"Actual\")\n",
    "plt.ylabel(\"Predicted\")\n",
    "plt.axis(\"tight\")"
   ]
  },
  {
   "cell_type": "code",
   "execution_count": null,
   "metadata": {},
   "outputs": [],
   "source": []
  },
  {
   "cell_type": "code",
   "execution_count": null,
   "metadata": {},
   "outputs": [],
   "source": []
  },
  {
   "cell_type": "code",
   "execution_count": null,
   "metadata": {},
   "outputs": [],
   "source": []
  }
 ],
 "metadata": {
  "kernelspec": {
   "display_name": "scraping",
   "language": "python",
   "name": "python3"
  },
  "language_info": {
   "codemirror_mode": {
    "name": "ipython",
    "version": 3
   },
   "file_extension": ".py",
   "mimetype": "text/x-python",
   "name": "python",
   "nbconvert_exporter": "python",
   "pygments_lexer": "ipython3",
   "version": "3.11.7"
  }
 },
 "nbformat": 4,
 "nbformat_minor": 2
}
